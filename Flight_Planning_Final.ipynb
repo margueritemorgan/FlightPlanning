{
  "cells": [
    {
      "cell_type": "markdown",
      "source": [
        "# Predicting Flight Delays\n",
        "\n",
        "### Section 5 Team 3\n",
        "\n",
        "Marguerite Morgan, margueritemorgan@berkeley.edu \\\n",
        "Saniya Lakka, saniyalakka@berkeley.edu \\\n",
        "Rohit Bakshi, rohitbakshi@berkeley.edu \\\n",
        "Sitao Chen, chensitao@berkeley.edu"
      ],
      "metadata": {
        "application/vnd.databricks.v1+cell": {
          "showTitle": false,
          "cellMetadata": {},
          "nuid": "b2d773fe-6fbd-4493-ad1b-ab73ca187bf8",
          "inputWidgets": {},
          "title": ""
        },
        "id": "d9SZgarnP22C"
      }
    },
    {
      "cell_type": "markdown",
      "source": [
        "## Abstract\n",
        "A quarter of flights were delayed between January and June of 2022, causing disruption to many passenger’s schedules and trips. This inconvenience begs the question: Can we classify flights as delayed or not delayed to ensure passengers can make adjustments to their schedules? Utilizing flight, weather and airport datasets, we developed various classification models that provide a predictive status update of whether a flight will be delayed or not given its arrival status. The steps to achieving this outcome required 1) pre-processing of the three joined datasets and feature engineering of new flight, weather and station characteristics  2) Using logistic regression to create the baseline model with AUC of .54, 3) Developing classification models, such as, Decision Tree (test AUC score of ~0.83), Random Forest (test AUC score of ~0.74), Neural Network (test AUC score of 0.61) and Ensembling (test AUC score of 0.64). We will be using AUC score, precision and recall as evaluation metrics. We use 2021 data as a test set initially, but find that volatility regimes cause the model to perform worse for 2021 compared to other years. The end result is a model that presents passengers with a predicted flight status 2 hours before their flight so that they can plan accordingly. Our best model was an ensemble model containing our best models from decision trees, random forests and a multi-layer-perceptron neural network that had the best evaluation metrics in AUC, precision and recall for both training and test data sets.\n",
        "\n",
        "\n",
        "https://www.businessinsider.com/us-airlines-canceled-delayed-most-flights-list-travel-chaos-republic-2022-8"
      ],
      "metadata": {
        "application/vnd.databricks.v1+cell": {
          "showTitle": false,
          "cellMetadata": {},
          "nuid": "f2485d8a-be22-4fe8-bcc1-54c78123dbd6",
          "inputWidgets": {},
          "title": ""
        },
        "id": "fiU9NQKeP22E"
      }
    },
    {
      "cell_type": "markdown",
      "source": [
        "# Introduction\n",
        "\n",
        "### Problem\n",
        "Flight delays are very common and became exasperated by the pandemic in recent years. For passengers, flight delays often mean scheduling problems such as missing connecting flights or missing a ride from the destination airport to a passenger's hotel or home. Airlines are required to notify passengers of a delay within 30 minutes of learning of a status change. However, there is still a lot of variability in when airlines announce these delays and often times it happens less than an hour before the flight's scheduled departure time. Our model will allow passengers to consistently have awareness of any potential delay 2 hours prior to their estimated departure time, allowing passengers time to make alternate plans as needed such as finding another connecting flight or giving their ride notice that they will likely be delayed. But what is a flight delay exactly? The FAA defines a flight as delayed if it takes off or lands more than 15 minutes later than scheduled. However, flights that take off 15 minutes late can often still arrive on time as pilots are frequently able to make up for a 15 minute delay in the air. Additionally, even if a pilot is unable to make up for the 15 minute delay in the air, arriving 15 minutes late often has minimal impact on passengers. Often times, passengers give themselves at least a 15 minute buffer when making transportation plans or scheduling connecting flights given how common it is to experience this type of delay. A 30 minute arrival delay is more likely to have meaningful, negative impact on a passenger's schedule. The shortest layover between connecting domestic flights that passeneger's will schedule is ~30 minutes. This means if their first flight arrives 30 minutes late, they will not have any chance of making their connection. Airlines also recognize the impact of a 30 minute delay is this the minimum threshold that requires airlines to update all flight status displays with the delay. Thus, our model will predict ~2 hours prior to a flight's estimated departure whether or not the flight will arrive more than 30 minutes late. This will allow passengers to consistently have awareness of an impactful delay and adjust their flight connections or other scheduled transportation accordingly.\n",
        "\n",
        "### Dataset\n",
        "There are 3 primary datasets we are working with: flight data, weather data, and station data. The flight data generally contains information about flights\n",
        "throughout the US from 2015 - 2021 such as flight time, origin location, destination location, airline, and whether the flight was delayed. The shape of the flight data is ~74M rows and 109 columns. The weather data contains information collected throughout the day from 2015-2021 from various weather stations all over the world. These weather readings are taken from multiple different devices, represented as report types in the data. The weather data contains information such as wind speed and amount of preciptation. The shape of the weather data is ~899M rows and 124 columns. The station data contains the latitude and longitude of each weather station, its corresponding airport ID, and the distance to other weather stations. The station data is ~5M rows and has 12 columns.\n",
        "\n",
        "**Target Variable:** Our target variable will be the arrival delay. Given we are focusing on the perspective of a passenger, an arrival delay is more important than a departure delay. As a passenger, you care less about whether you're taking off on time as long as you arrive at your destination at the expected time. Thus, \"ARR_DELAY_NEW\" is our key target variable - this version of the variable sets any early arrivals to 0. Arrival delay has a right skewed distribution with a max arrival delay of ~33 minutes and a mean of ~13 minutes. About 20% of flights are more than 15 minutes delayed, ~18% are more than 20 minutes delayed and ~13% are more than 30 minutes delayed. From a passenger perspective, it's likely that a delay of 30 minutes or more would have potential meaningful negative impact on that passenger's schedule (as opposed to 15-20 minutes). Thus, we will proceed with the indicator variable \"ARR_DEL30\" as our target variable.\n",
        "\n",
        "### Metrics\n",
        "We will measure performance across 3 key metrics: recall, precision and AUC. The dataset is imbalanced; only ~15% of flights in the dataset have an arrival delay of >30 minutes. Thus, we want to look beyond accuracy to understand not just how often our model predicts the appropriate outcome but how often it correctly predicts a delayed flight out of all the flights actually delayed as well as how often this prediction is correct out of all instances where our model makes this prediction. We also want to understand how our model balances these two dyanimcs, which will be reflected in the AUC score. Area under the ROC Curve. An ROC curve (receiver operating characteristic curve) is a graph showing the performance of a classification model at all classification thresholds. This curve plots two parameters: True Positive Rate and False Positive Rate. AUC provides an aggregate measure of performance across all possible classification thresholds. AUC ranges in value from 0 to 1. A model whose predictions are 100% wrong has an AUC of 0.0; one whose predictions are 100% correct has an AUC of 1.0.\n",
        "We will aim for an AUC metric that is greater than 0.6 which means our model ranks a random delayed flight example higher than a random non delayed flight example >60% of the time; this is 10% higher than random chance. We will also aim for recall and precision to be roughly balanced i.e. within 10% of each other so that we're appropriately optimizing for catching all delayed flights in our model without overflagging them.\n",
        "\n",
        "**Recall** = True Positive / (True Positive + False Negative)\n",
        "\n",
        "**Precision** = True Positive / (True Positive + False Positive)"
      ],
      "metadata": {
        "application/vnd.databricks.v1+cell": {
          "showTitle": false,
          "cellMetadata": {},
          "nuid": "8cc1e491-8738-4580-a5b1-7a2ec2f59285",
          "inputWidgets": {},
          "title": ""
        },
        "id": "nic1nHblP22E"
      }
    },
    {
      "cell_type": "markdown",
      "source": [
        "d\n",
        "### Modeling Pipeline\n",
        "\n",
        "Throughout our modeling pipeling, we were careful to avoid data leakage. Data leakage refers to using data for training and validating a model that would not be available at the time of prediction. For example, if we leveraged the average precipitation on a given day across the years 2015 - 2021 and used that to train a model that was predicting flight delays in 2021, we would be potentially leveraging weather from 2021 that wasn't available yet at the time we'd be theoretically running our model; this means our model would have leakage.\n",
        "\n",
        "The first step of our overall modeling pipeline involved reading in our 3 datasets as parquet files and joining them together 1 year at a time; we then concatenated all the years together to get one final joined dataset. We avoided leakage in our join approach by ensuring we only brought in weather datapoints that happened prior to a flight's estimated departure time and therefore prior to the time at which the model would be run in practice. The second step of our pipeline included cleaning the data and engineering features. When filling null values in our data cleaning steps, we again avoided leakage by filling them with the average feature for that day on years prior. Similarly, we avoided leakage when engineering features such as the tail number delay by only looking at the delay of a flight's tail number for the prior flight as opposed to subsequent flights. Once we had our cleaned data set with features of interest, we split our data into a train and test set ensuring that our train set time period always came prior to our test set time period. This ensured we were building models on historical data that would then be leveraged to predict future flights. Finally, we built logistic regression, random forest, decision tree, and ensemble models in order to identify the most predictive model for passengers. Throughout our modeling pipeline we ensured that at each step we avoided data leakage so that our model is effective and generalizable for predicting flights in the future.\n",
        "\n",
        "\n",
        "<img src=\"https://github.com/saniyalakka19/flight_delay_final_project/blob/main/model_pipeline_final.png?raw=true\" width=70%>"
      ],
      "metadata": {
        "application/vnd.databricks.v1+cell": {
          "showTitle": false,
          "cellMetadata": {},
          "nuid": "23c6dcda-1ec5-456a-9c70-50bf02cda509",
          "inputWidgets": {},
          "title": ""
        },
        "id": "ugBTxqnuP22F"
      }
    },
    {
      "cell_type": "code",
      "source": [
        "# Imports\n",
        "\n",
        "from pyspark.sql.functions import concat, lit, col, unix_timestamp, expr, broadcast, when, lpad, explode, array, row_number\n",
        "from pyspark.ml.stat import Correlation\n",
        "\n",
        "import pandas as pd\n",
        "import numpy as np\n",
        "import pyspark.sql.functions as F\n",
        "from pyspark.sql.functions import *\n",
        "from pyspark.sql.functions import max as max_\n",
        "spark.sql(\"set spark.sql.legacy.timeParserPolicy=LEGACY\")\n",
        "from pyspark.sql.types import *\n",
        "from pyspark.sql.window import Window\n",
        "from pyspark.sql.functions import round\n",
        "from pandas.tseries.holiday import USFederalHolidayCalendar\n",
        "\n",
        "\n",
        "import seaborn as sns\n",
        "import matplotlib.pyplot as plt\n",
        "\n",
        "from datetime import datetime\n",
        "\n",
        "from pyspark.ml.linalg import DenseVector, SparseVector, Vectors\n",
        "from pyspark.ml.feature import VectorAssembler, StandardScaler, PCA, StringIndexer, OneHotEncoder\n",
        "from pyspark.ml.functions import vector_to_array\n",
        "\n",
        "\n",
        "\n",
        "from pyspark.ml import Pipeline\n",
        "from pyspark.ml.tuning import CrossValidator, ParamGridBuilder\n",
        "\n",
        "from pyspark.ml.classification import RandomForestClassifier, DecisionTreeClassifier, MultilayerPerceptronClassifier\n",
        "from pyspark.ml.evaluation import MulticlassClassificationEvaluator, BinaryClassificationEvaluator\n",
        "from pyspark.mllib.evaluation import BinaryClassificationMetrics\n",
        "from pyspark.sql.functions import col, explode, array, lit\n",
        "\n",
        "\n",
        "from timezonefinder import TimezoneFinder"
      ],
      "metadata": {
        "application/vnd.databricks.v1+cell": {
          "showTitle": false,
          "cellMetadata": {},
          "nuid": "fa4974f7-0899-4815-bf5e-492ce90b6507",
          "inputWidgets": {},
          "title": ""
        },
        "id": "bY2LpsCgP22F"
      },
      "outputs": [],
      "execution_count": null
    },
    {
      "cell_type": "markdown",
      "source": [
        "# Pre-Processing"
      ],
      "metadata": {
        "application/vnd.databricks.v1+cell": {
          "showTitle": false,
          "cellMetadata": {},
          "nuid": "db7330f5-8ae0-4580-9b24-8a6532e11974",
          "inputWidgets": {},
          "title": ""
        },
        "id": "VX1Ukc-tP22F"
      }
    },
    {
      "cell_type": "markdown",
      "source": [
        "Pre-processing invovles the following steps: <br><br>\n",
        "1. The join\n",
        "2. Cleaning the data: converting to correct data types and filling nulls\n",
        "3. Feature Engineering\n",
        "4. Exploratory Analysis of the data"
      ],
      "metadata": {
        "application/vnd.databricks.v1+cell": {
          "showTitle": false,
          "cellMetadata": {},
          "nuid": "eeb6b9cd-9b7e-4a3c-982c-b467fe568567",
          "inputWidgets": {},
          "title": ""
        },
        "id": "T7F-enwIP22G"
      }
    },
    {
      "cell_type": "markdown",
      "source": [
        "### The Join\n",
        "The overall join approach included bringing in the latest weather reading that occurred prior to 2 hours before a flight's estimated departure time near both the flight origin and destination. In order to do this, we needed to identify the relevant weather station for each airport, standardize flight departure times and weather reading times from local times to UTC, and identify the latest weather reading at both the origin and destination that occurred prior to 2 hours before a flight's departure time. We completed these tasks 1 year at a time and then combined all of the years together at the end.\n",
        "\n",
        "#### Join Stats for a given year (2015)\n",
        "**Cleaned Flight Data:** 5,714,008 rows, 19 columns \\\n",
        "**Cleaned Weather Data:** 62,154,801 rows, 20 columns \\\n",
        "**Cleaned Station Data:** 2,261 rows, 6 columns\n",
        "\n",
        "| Join | Data Set 1 | Data Set 2 | Join Type | Join Key | Run Time | Cluster Size\n",
        "| ----------- | ----------- | ----------- | ----------- | ----------- | ----------- | ----------- |\n",
        "| #1: Station & Flight Data to get station, lat and lon per flight  | Flight data | Station data | Left join | Origin & Dest Airport, Origin & Dest State| ~1.5 minutes | Standard 16GB 4 cores|\n",
        "| #2: Weather & Flight Data to get latest weather timestamp at origin and dest  | Flight data | Weather data | Left join | Origin & Dest Airport| ~15 minutes | Standard 16GB 4 cores|\n",
        "| #3: Weather & Flight Data to bring in weather columsn to flight data  | Flight data | Weather data | Left join | Origin & Dest Airport, latest weather timestamp | ~2 minutes | Standard 16GB 4 cores|"
      ],
      "metadata": {
        "application/vnd.databricks.v1+cell": {
          "showTitle": false,
          "cellMetadata": {},
          "nuid": "87db3b08-c492-41a9-ba68-a7a9039b50c8",
          "inputWidgets": {},
          "title": ""
        },
        "id": "3fEAgMAeP22G"
      }
    },
    {
      "cell_type": "code",
      "source": [
        "#pip install timezonefinder"
      ],
      "metadata": {
        "application/vnd.databricks.v1+cell": {
          "showTitle": false,
          "cellMetadata": {},
          "nuid": "4303ae8a-b21f-47c0-9831-6fc4123486fa",
          "inputWidgets": {},
          "title": ""
        },
        "id": "aVQAY1W-P22G"
      },
      "outputs": [],
      "execution_count": null
    },
    {
      "cell_type": "markdown",
      "source": [
        "#### The Steps:\n",
        "\n",
        "Step 1: Load each full dataset as a parquet file, select year, clean and select relevant columns <br>\n",
        "Repeat 2-6: <br>\n",
        "Step 2: Join relevant weather station and corresponding latitude / longitude to each flight <br>\n",
        "Step 3: Convert local timezones to UTC in flight data and weather data <br>\n",
        "Step 4: Identify latest weather timestamp for that happens at least 2 hours prior to estimated departure time at origin and destination <br>\n",
        "Step 5: Join weather data and flight data based on station and latest weather timestamp <br>\n",
        "Step 6: Write Data\n",
        "Step 7: Combine all data\n",
        "Step 8: Write combined data"
      ],
      "metadata": {
        "application/vnd.databricks.v1+cell": {
          "showTitle": false,
          "cellMetadata": {},
          "nuid": "da829068-70f9-4b10-8dff-2a0b781cfc62",
          "inputWidgets": {},
          "title": ""
        },
        "id": "w6TtlBXGP22G"
      }
    },
    {
      "cell_type": "code",
      "source": [
        "def write_loc():\n",
        "\n",
        "    blob_container = \"blobcontainer1\" # The name of your container created in https://portal.azure.com\n",
        "    storage_account = \"w261section5team3\" # The name of your Storage account created in https://portal.azure.com\n",
        "    secret_scope = \"scope1\" # The name of the scope created in your local computer using the Databricks CLI\n",
        "    secret_key = \"key1\" # The name of the secret key created in your local computer using the Databricks CLI\n",
        "    blob_url = f\"wasbs://{blob_container}@{storage_account}.blob.core.windows.net\"\n",
        "    mount_path = \"/mnt/mids-w261\"\n",
        "\n",
        "    spark.conf.set(\n",
        "      f\"fs.azure.sas.{blob_container}.{storage_account}.blob.core.windows.net\",\n",
        "      dbutils.secrets.get(scope = secret_scope, key = secret_key)\n",
        "    )\n",
        "\n",
        "    return blob_url"
      ],
      "metadata": {
        "application/vnd.databricks.v1+cell": {
          "showTitle": false,
          "cellMetadata": {},
          "nuid": "a68e948d-6df5-46a7-98ca-6fbe5fcb9ae0",
          "inputWidgets": {},
          "title": ""
        },
        "id": "PB06g04QP22G"
      },
      "outputs": [],
      "execution_count": null
    },
    {
      "cell_type": "code",
      "source": [
        "def read_data(data_BASE_DIR):\n",
        "\n",
        "    # Load full data for Flights\n",
        "    df_airlines = spark.read.parquet(f\"{data_BASE_DIR}parquet_airlines_data/\")\n",
        "\n",
        "    # Load full data for Weather\n",
        "    df_weather = spark.read.parquet(f\"{data_BASE_DIR}parquet_weather_data/\")\n",
        "\n",
        "    # Load the stations data\n",
        "    df_stations = spark.read.parquet(f\"{data_BASE_DIR}stations_data/*\")\n",
        "\n",
        "    return df_airlines, df_weather, df_stations"
      ],
      "metadata": {
        "application/vnd.databricks.v1+cell": {
          "showTitle": false,
          "cellMetadata": {},
          "nuid": "1b3da44e-c67a-44a3-a473-467ebdb2ca49",
          "inputWidgets": {},
          "title": ""
        },
        "id": "CP4dRDojP22G"
      },
      "outputs": [],
      "execution_count": null
    },
    {
      "cell_type": "code",
      "source": [
        "def run_join_on_year(year: str):\n",
        "    # Split by year -- INPUT CHOSEN YEAR\n",
        "    df_airlines = df_airlines.filter(df_airlines.YEAR == year)\n",
        "    df_weather = df_weather.filter(df_weather.YEAR == year)\n",
        "    return df_airlines, df_weather"
      ],
      "metadata": {
        "application/vnd.databricks.v1+cell": {
          "showTitle": false,
          "cellMetadata": {},
          "nuid": "56d3a9cc-9b32-4e2d-8b3c-375abc70971e",
          "inputWidgets": {},
          "title": ""
        },
        "id": "GsXNF0lMP22H"
      },
      "outputs": [],
      "execution_count": null
    },
    {
      "cell_type": "code",
      "source": [
        "def prepare_weather_data(df_weather):\n",
        "\n",
        "    # Select the report type that is most common in the data in order to only have 1 weather reading per station per datetime\n",
        "    df_weather_v2 = df_weather.filter(df_weather.REPORT_TYPE == 'FM-15')\n",
        "\n",
        "    # Subset for only key columns\n",
        "    weather_cols = ['STATION', 'DATE', 'LATITUDE', 'LONGITUDE', 'ELEVATION', 'HourlyDewPointTemperature', 'HourlyDryBulbTemperature', 'HourlyPrecipitation',\n",
        "                   'HourlyPressureChange', 'HourlyPressureTendency', 'HourlyRelativeHumidity', 'HourlySkyConditions', 'HourlySeaLevelPressure', 'HourlyStationPressure', 'HourlyVisibility', 'HourlyWetBulbTemperature', 'HourlyWindDirection', 'HourlyWindGustSpeed', 'HourlyWindSpeed']\n",
        "    df_weather_v2 = df_weather_v2.select([col for col in weather_cols])\n",
        "\n",
        "    # Create unique ID\n",
        "    df_weather_v2 = df_weather_v2.select(\"*\", concat(col(\"STATION\"),lit(\" \"),col(\"DATE\")).alias(\"WEATHER_UNIQUE_ID\"))\n",
        "\n",
        "    return df_weather_v2"
      ],
      "metadata": {
        "application/vnd.databricks.v1+cell": {
          "showTitle": false,
          "cellMetadata": {},
          "nuid": "35fed848-83b9-4f59-84d2-831f06b5b71c",
          "inputWidgets": {},
          "title": ""
        },
        "id": "D3BE94y4P22H"
      },
      "outputs": [],
      "execution_count": null
    },
    {
      "cell_type": "code",
      "source": [
        "def prepare_flight_data(df_airlines):\n",
        "\n",
        "    # Subset for only key columns\n",
        "    flight_cols = ['FL_DATE', 'OP_UNIQUE_CARRIER', 'OP_CARRIER_FL_NUM', 'TAIL_NUM', 'ORIGIN_AIRPORT_ID', 'ORIGIN', 'ORIGIN_CITY_NAME', 'ORIGIN_STATE_ABR', 'DEST_AIRPORT_ID', 'DEST', 'DEST_CITY_NAME', 'DEST_STATE_ABR', 'CRS_DEP_TIME', 'DEP_TIME', 'ARR_TIME', 'ARR_DELAY_NEW', 'DISTANCE', 'AIR_TIME']\n",
        "\n",
        "    # Remove cancelled & diverted flights\n",
        "    df_airlines_v2 = df_airlines.filter((df_airlines.CANCELLED == 0) & (df_airlines.DIVERTED == 0))\n",
        "    df_airlines_v2 = df_airlines_v2.select([col for col in flight_cols])\n",
        "\n",
        "    # Drop all duplicate flights\n",
        "    df_airlines_v2 = df_airlines_v2.distinct()\n",
        "\n",
        "    # Create unique flight ID\n",
        "    df_airlines_v2 = df_airlines_v2.select(\"*\", concat(col(\"FL_DATE\"),lit(\" \"),col(\"OP_UNIQUE_CARRIER\"),lit(\" \"), col(\"OP_CARRIER_FL_NUM\"), lit(\" \"), col(\"ORIGIN\"), lit(\" \"), col(\"DEST\")).alias(\"FLIGHT_UNIQUE_ID\"))\n",
        "    df_airlines_v2 = df_airlines_v2.dropDuplicates([\"FLIGHT_UNIQUE_ID\"])\n",
        "\n",
        "    return df_airlines_v2"
      ],
      "metadata": {
        "application/vnd.databricks.v1+cell": {
          "showTitle": false,
          "cellMetadata": {},
          "nuid": "496a6f82-bba1-4db7-b48f-06eaf9ac73d7",
          "inputWidgets": {},
          "title": ""
        },
        "id": "FGgk-rA_P22H"
      },
      "outputs": [],
      "execution_count": null
    },
    {
      "cell_type": "code",
      "source": [
        "def prepare_station_data(df_stations):\n",
        "\n",
        "    # subset for only stations themselves (as opposed to neighboring stations)\n",
        "    df_stations_v2 = df_stations.filter(df_stations.distance_to_neighbor == 0)\n",
        "\n",
        "    # Subset for only key columns\n",
        "    station_cols = ['station_id', 'lat', 'lon', 'neighbor_call', 'neighbor_state']\n",
        "    df_stations_v2 = df_stations_v2.select([col for col in station_cols])\n",
        "\n",
        "    # Create unique station ID\n",
        "    df_stations_v2 = df_stations_v2.select(\"*\", concat(col(\"station_id\"),lit(\" \"),col(\"neighbor_state\"),lit(\" \"),col(\"neighbor_call\")).alias(\"STATION_UNIQUE_ID\"))\n",
        "\n",
        "    return df_stations_v2"
      ],
      "metadata": {
        "application/vnd.databricks.v1+cell": {
          "showTitle": false,
          "cellMetadata": {},
          "nuid": "773d01c6-d6ec-4010-8f2c-4bc0c688eed5",
          "inputWidgets": {},
          "title": ""
        },
        "id": "K-G5IH85P22H"
      },
      "outputs": [],
      "execution_count": null
    },
    {
      "cell_type": "code",
      "source": [
        "def join_airline_station(df_airlines_v2, df_stations_v2):\n",
        "\n",
        "    # Remove first character of neighbor_call in order to match with origin and destination in flight data\n",
        "    df_stations_v2 = df_stations_v2.withColumn(\"neighbor_call_v2\", expr(\"substring(neighbor_call, 2, length(neighbor_call))\"))\n",
        "\n",
        "    # Get distinct origin and destination airpors and states\n",
        "    origins = df_airlines_v2.select([\"ORIGIN\", \"ORIGIN_STATE_ABR\"]).distinct()\n",
        "    dests = df_airlines_v2.select(\"DEST\", \"DEST_STATE_ABR\").distinct()\n",
        "\n",
        "    # Join relevant station and corresponding lat / lon to each flight for origin\n",
        "    airlines_stations_origin = origins.join(df_stations_v2, (origins.ORIGIN == df_stations_v2.neighbor_call_v2) & (origins.ORIGIN_STATE_ABR == df_stations_v2.neighbor_state), \"left\")\n",
        "    airlines_stations_origin = airlines_stations_origin.withColumnRenamed(\"lat\",\"ORIGIN_LAT\").withColumnRenamed(\"lon\", \"ORIGIN_LON\").withColumnRenamed(\"station_id\", \"ORIGIN_STATION_ID\").withColumnRenamed(\"neighbor_call_v2\", \"ORIGIN_NEIGHBOR_CALL\")\n",
        "    airlines_stations_origin = airlines_stations_origin.drop(\"neighbor_call\", \"neighbor_state\", \"STATION_UNIQUE_ID\")\n",
        "\n",
        "    # Join relevant station and corresponding lat / lon to each flight for destination\n",
        "    airlines_stations_dest = dests.join(df_stations_v2, (dests.DEST == df_stations_v2.neighbor_call_v2) & (dests.DEST_STATE_ABR == df_stations_v2.neighbor_state), \"left\")\n",
        "    airlines_stations_dest = airlines_stations_dest.withColumnRenamed(\"lat\",\"DEST_LAT\").withColumnRenamed(\"lon\", \"DEST_LON\").withColumnRenamed(\"station_id\", \"DEST_STATION_ID\").withColumnRenamed(\"neighbor_call_v2\", \"DEST_NEIGHBOR_CALL\")\n",
        "    airlines_stations_dest = airlines_stations_dest.drop(\"neighbor_call\", \"neighbor_state\", \"STATION_UNIQUE_ID\")\n",
        "\n",
        "    # Join back to flight dataframe\n",
        "    df_airlines_stations = df_airlines_v2.join(airlines_stations_origin, [\"ORIGIN\"], \"left\").join(airlines_stations_dest, [\"DEST\"], \"left\").distinct()\n",
        "\n",
        "    return df_airlines_stations\n"
      ],
      "metadata": {
        "application/vnd.databricks.v1+cell": {
          "showTitle": false,
          "cellMetadata": {},
          "nuid": "b00afeca-5730-4fc0-bc20-ede243811074",
          "inputWidgets": {},
          "title": ""
        },
        "id": "qi1em-zXP22H"
      },
      "outputs": [],
      "execution_count": null
    },
    {
      "cell_type": "code",
      "source": [
        "def timzone_conversion(df_airlines_stations):\n",
        "\n",
        "    # Pull out unique latitudes and longitudes from airports\n",
        "    origin_lat_lons = df_airlines_stations.select(['ORIGIN_LAT', 'ORIGIN_LON']).distinct()\n",
        "    origin_lat_lons = origin_lat_lons.toPandas().dropna()\n",
        "\n",
        "    dest_lat_lons = df_airlines_stations.select(['DEST_LAT', 'DEST_LON']).distinct()\n",
        "    dest_lat_lons = dest_lat_lons.toPandas().dropna()\n",
        "\n",
        "    # Identify time zone based on lat and lon\n",
        "    timezone_func = TimezoneFinder().timezone_at\n",
        "    origin_lat_lons['ORIGIN_TIMEZONE'] = origin_lat_lons.apply(lambda x: timezone_func(lng=x['ORIGIN_LON'], lat=x['ORIGIN_LAT']), axis=1)\n",
        "    dest_lat_lons['DEST_TIMEZONE'] = dest_lat_lons.apply(lambda x: timezone_func(lng=x['DEST_LON'], lat=x['DEST_LAT']), axis=1)\n",
        "\n",
        "    origin_lat_lons = origin_lat_lons.drop_duplicates()\n",
        "    dest_lat_lons = dest_lat_lons.drop_duplicates()\n",
        "\n",
        "    origin_lat_lons_spark = spark.createDataFrame(origin_lat_lons)\n",
        "    dest_lat_lons_spark = spark.createDataFrame(dest_lat_lons)\n",
        "\n",
        "    # Join back to airlines dataframe\n",
        "    df_airlines_stations_v2 = df_airlines_stations.join(origin_lat_lons_spark,[\"ORIGIN_LAT\", \"ORIGIN_LON\"], \"left\") \\\n",
        "         .join(dest_lat_lons_spark,[\"DEST_LAT\", \"DEST_LON\"], \"left\")\n",
        "\n",
        "    # Calculate standardized timestamp of estimated departure time in flight data\n",
        "    df_airlines_stations_v2 = df_airlines_stations_v2.withColumn(\"CRS_DEP_TIME\", df_airlines_stations_v2.CRS_DEP_TIME.cast(StringType()))\n",
        "    df_airlines_stations_v2 = df_airlines_stations_v2.withColumn(\"CRS_DEP_TIME_UPD\", when(F.length(\"CRS_DEP_TIME\")<4, lpad(df_airlines_stations_v2.CRS_DEP_TIME, 4, '0')).otherwise(df_airlines_stations_v2.CRS_DEP_TIME))\n",
        "\n",
        "    df_airlines_stations_v3 = df_airlines_stations_v2\\\n",
        "      .withColumn(\"DEP_TIMESTAMP\", unix_timestamp(concat(df_airlines_stations_v2.FL_DATE, df_airlines_stations_v2.CRS_DEP_TIME_UPD), \"yyyy-MM-ddHHmm\")\\\n",
        "      .cast(\"timestamp\"))\n",
        "\n",
        "    df_airlines_stations_v3 = df_airlines_stations_v3.withColumn(\"DEP_TIMESTAMP_UTC\", to_utc_timestamp(df_airlines_stations_v3.DEP_TIMESTAMP, df_airlines_stations_v3.ORIGIN_TIMEZONE))\n",
        "\n",
        "    # Calculate 2 hours prior to estimated flight departure time and cache dataframe\n",
        "    df_airlines_stations_cached = df_airlines_stations_v3.withColumn(\"2_HRS_BEFORE_DEP_TIMESTAMP_UTC\",col(\"DEP_TIMESTAMP_UTC\") - expr(\"INTERVAL 2 HOURS\")).cache()\n",
        "\n",
        "    # Subset for only rows in the weather data that exist in the flight data\n",
        "    df_airlines_stations_origin = df_airlines_stations_cached.select(\"ORIGIN_STATION_ID\").withColumnRenamed(\"ORIGIN_STATION_ID\", \"FLIGHT_STATION\").distinct()\n",
        "    df_airlines_stations_dest = df_airlines_stations_cached.select(\"DEST_STATION_ID\").withColumnRenamed(\"DEST_STATION_ID\", \"FLIGHT_STATION\").distinct()\n",
        "    df_flight_stations = df_airlines_stations_origin.union(df_airlines_stations_dest).distinct()\n",
        "\n",
        "    # Cache updated weather dataframe\n",
        "    df_weather_cached = df_weather_v2.join(broadcast(df_flight_stations), df_weather_v2.STATION == df_airlines_stations_origin.FLIGHT_STATION).cache()\n",
        "\n",
        "\n",
        "    # Convert weather timestamp to UTC\n",
        "    df_weather_v3 = df_weather_cached.withColumn(\"DATE\", to_timestamp(\"DATE\"))\n",
        "    df_weather_v3 = df_weather_v3.withColumn(\"WEATHER_TIMESTAMP\", unix_timestamp(df_weather_v3.DATE, \"yyyy-MM-ddHHmm\").cast(\"timestamp\"))\n",
        "    df_weather_v3 = df_weather_v3.withColumn(\"LATITUDE\", df_weather_v3.LATITUDE.cast(\"double\")).withColumn(\"LONGITUDE\", df_weather_v3.LONGITUDE.cast(\"double\"))\n",
        "    weather_lat_lon = df_weather_v3.select([\"LATITUDE\", \"LONGITUDE\"]).distinct()\n",
        "    weather_lat_lon = weather_lat_lon.toPandas().dropna()\n",
        "\n",
        "    timezone_func = TimezoneFinder().timezone_at\n",
        "    weather_lat_lon['WEATHER_TIMEZONE'] = weather_lat_lon.apply(lambda x: timezone_func(lng=x['LONGITUDE'], lat=x['LATITUDE']), axis=1)\n",
        "\n",
        "    weather_lat_lon_spark = spark.createDataFrame(weather_lat_lon)\n",
        "    df_weather_v4 = df_weather_v3.join(weather_lat_lon_spark,[\"LONGITUDE\", \"LATITUDE\"], \"left\")\n",
        "    df_weather_v4 = df_weather_v4.withColumn(\"WEATHER_TIMESTAMP_UTC\", to_utc_timestamp(df_weather_v4.WEATHER_TIMESTAMP, df_weather_v4.WEATHER_TIMEZONE))\n",
        "    df_weather_v4 = df_weather_v4.filter(df_weather_v4.WEATHER_TIMEZONE != 'Europe/Kyiv')\n",
        "    df_weather_v4 = df_weather_v4.dropDuplicates([\"STATION\", \"WEATHER_TIMESTAMP_UTC\"])\n",
        "\n",
        "    return df_weather_v4, df_airlines_stations_cached"
      ],
      "metadata": {
        "application/vnd.databricks.v1+cell": {
          "showTitle": false,
          "cellMetadata": {},
          "nuid": "ed98e536-efed-49d5-a84f-c9b3a80dd5d3",
          "inputWidgets": {},
          "title": ""
        },
        "id": "UByqIzImP22H"
      },
      "outputs": [],
      "execution_count": null
    },
    {
      "cell_type": "code",
      "source": [
        "def time_2_hours_prior(df_weather_v4, df_airlines_stations_cached):\n",
        "\n",
        "    origin_latest_weather_mapping_df = df_airlines_stations_cached.join(\n",
        "        df_weather_v4, (df_airlines_stations_cached.ORIGIN_STATION_ID == df_weather_v4.STATION),\n",
        "        \"left\"\n",
        "    ).groupBy(\"ORIGIN_STATION_ID\", \"2_HRS_BEFORE_DEP_TIMESTAMP_UTC\").agg(\n",
        "        F.max(\n",
        "            F.when(F.col(\"WEATHER_TIMESTAMP_UTC\") <= F.col(\"2_HRS_BEFORE_DEP_TIMESTAMP_UTC\"), F.col(\"WEATHER_TIMESTAMP_UTC\"))\n",
        "        ).alias(\"ORIGIN_LATEST_WEATHER_TIMESTAMP_UTC\")\n",
        "    )\n",
        "\n",
        "    dest_latest_weather_mapping_df = df_airlines_stations_cached.join(\n",
        "        df_weather_v4, df_airlines_stations_cached.DEST_STATION_ID == df_weather_v4.STATION,\n",
        "        \"left\"\n",
        "    ).groupBy(\"DEST_STATION_ID\", \"2_HRS_BEFORE_DEP_TIMESTAMP_UTC\").agg(\n",
        "        F.max(\n",
        "            F.when(F.col(\"WEATHER_TIMESTAMP_UTC\") <= F.col(\"2_HRS_BEFORE_DEP_TIMESTAMP_UTC\"), F.col(\"WEATHER_TIMESTAMP_UTC\"))\n",
        "        ).alias(\"DEST_LATEST_WEATHER_TIMESTAMP_UTC\")\n",
        "    )\n",
        "\n",
        "    df_airlines_stations_v3 = df_airlines_stations_cached.join(origin_latest_weather_mapping_df, [\"ORIGIN_STATION_ID\", \"2_HRS_BEFORE_DEP_TIMESTAMP_UTC\"], \"left\").join(dest_latest_weather_mapping_df, [\"DEST_STATION_ID\", \"2_HRS_BEFORE_DEP_TIMESTAMP_UTC\"], \"left\")\n",
        "\n",
        "    return df_weather_v4, df_airlines_stations_v3\n",
        "\n"
      ],
      "metadata": {
        "application/vnd.databricks.v1+cell": {
          "showTitle": false,
          "cellMetadata": {},
          "nuid": "8d9c1467-d281-4c7b-9a1b-c53d08e91986",
          "inputWidgets": {},
          "title": ""
        },
        "id": "fKGjmoylP22I"
      },
      "outputs": [],
      "execution_count": null
    },
    {
      "cell_type": "code",
      "source": [
        "def join_weather_flight(df_weather_v4, df_airlines_stations_v3):\n",
        "\n",
        "    weather_cols = ['ELEVATION', 'HourlyDewPointTemperature', 'HourlyDryBulbTemperature', 'HourlyPrecipitation', 'HourlyPressureChange', 'HourlyPressureTendency', 'HourlyRelativeHumidity', 'HourlySkyConditions', 'HourlySeaLevelPressure', 'HourlyStationPressure', 'HourlyVisibility', 'HourlyWetBulbTemperature', 'HourlyWindDirection', 'HourlyWindGustSpeed', 'HourlyWindSpeed']\n",
        "\n",
        "    df_weather_origin = df_weather_v4.alias('df_weather_origin')\n",
        "    origin_prefix = \"ORIGIN_\"\n",
        "    for column in df_weather_origin.columns:\n",
        "        if column in weather_cols:\n",
        "            df_weather_origin = df_weather_origin.withColumnRenamed(column, origin_prefix + column)\n",
        "\n",
        "    df_weather_dest = df_weather_v4.alias('df_weather_dest')\n",
        "    dest_prefix = \"DEST_\"\n",
        "    for column in df_weather_dest.columns:\n",
        "        if column in weather_cols:\n",
        "            df_weather_dest = df_weather_dest.withColumnRenamed(column, dest_prefix + column)\n",
        "\n",
        "\n",
        "    df_airlines_stations_weather = df_airlines_stations_v3.join(df_weather_origin, (df_airlines_stations_v3.ORIGIN_LATEST_WEATHER_TIMESTAMP_UTC == df_weather_origin.WEATHER_TIMESTAMP_UTC) & (df_airlines_stations_v3.ORIGIN_STATION_ID == df_weather_origin.STATION), \"left\")\n",
        "\n",
        "    df_airlines_stations_weather = df_airlines_stations_weather.drop(\"LONGITUDE\", \"LATITUDE\", \"STATION\", \"DATE\", \"WEATHER_UNIQUE_ID\", \"WEATHER_TIMESTAMP\", \"WEATHER_TIMEZONE\", \"WEATHER_TIMESTAMP_UTC\")\n",
        "\n",
        "    df_airlines_stations_weather = df_airlines_stations_weather.join(df_weather_dest, (df_airlines_stations_v3.DEST_LATEST_WEATHER_TIMESTAMP_UTC == df_weather_dest.WEATHER_TIMESTAMP_UTC) & (df_airlines_stations_v3.DEST_STATION_ID == df_weather_dest.STATION), \"left\")\n",
        "\n",
        "    df_airlines_stations_weather = df_airlines_stations_weather.drop(\"DEST_STATE_ABR\", \"ORIGIN_STATE_ABR\", \"flight_station\")\n",
        "\n",
        "    return df_airlines_stations_weather"
      ],
      "metadata": {
        "application/vnd.databricks.v1+cell": {
          "showTitle": false,
          "cellMetadata": {},
          "nuid": "f6328aba-ac23-4278-b848-6f3677c2fdf8",
          "inputWidgets": {},
          "title": ""
        },
        "id": "I_jE0Ri-P22I"
      },
      "outputs": [],
      "execution_count": null
    },
    {
      "cell_type": "code",
      "source": [
        "def join():\n",
        "\n",
        "    data_BASE_DIR = \"dbfs:/mnt/mids-w261/datasets_final_project_2022/\"\n",
        "    years = [\"2015\",\"2016\",\"2017\",\"2018\",\"2019\", \"2020\", \"2021\"]\n",
        "    df_airlines, df_weather, df_stations = read_data(data_BASE_DIR)\n",
        "\n",
        "    for year in years:\n",
        "\n",
        "        #### Step 1: Load each full dataset as a parquet file, select year, clean and select relevant columns\n",
        "\n",
        "        df_airlines, df_weather = run_join_on_year(year)\n",
        "        df_weather_v2 = prepare_weather_data(df_weather)\n",
        "        df_airlines_v2 = prepare_flight_data(df_airlines)\n",
        "        df_stations_v2 = prepare_station_data(df_stations)\n",
        "\n",
        "        #### Step 2: Join relevant weather station and corresponding latitude / longitude to each flight\n",
        "\n",
        "        df_airlines_stations = join_airline_station(df_airlines_v2, df_stations_v2)\n",
        "\n",
        "        #### Step 3: Convert local timezones to UTC in flight data and weather data\n",
        "\n",
        "        df_weather_v4, df_airlines_stations_cached = timzone_conversion(df_airlines_stations)\n",
        "\n",
        "        #### Step 4: Identify latest weather timestamp for that happens at least 2 hours prior to estimated departure time at origin and destination\n",
        "\n",
        "        df_weather_v4, df_airlines_stations_v3 = time_2_hours_prior(df_weather_v4, df_airlines_stations_cached)\n",
        "\n",
        "        #### Step 5: Join weather data and flight data based on station and latest weather timestamp\n",
        "\n",
        "        df_airlines_stations_weather = join_weather_flight(df_weather_v4, df_airlines_stations_v3)\n",
        "\n",
        "        #### Write Data\n",
        "\n",
        "        blob_url = write_loc()\n",
        "        file_name = f\"joined_1y_{year}\"\n",
        "\n",
        "        if year == \"2019\":\n",
        "            file_name = \"joined_1y_v2\"\n",
        "        df_airlines_stations_weather.write.parquet(f\"{blob_url}/{file_name}\")\n",
        "\n",
        "\n",
        "    #### Combine all years\n",
        "\n",
        "    joined_2015 = spark.read.parquet(f\"{blob_url}/joined_1y_2015\")\n",
        "    joined_2016 = spark.read.parquet(f\"{blob_url}/joined_1y_2016\")\n",
        "    joined_2017 = spark.read.parquet(f\"{blob_url}/joined_1y_2017\")\n",
        "    joined_2018 = spark.read.parquet(f\"{blob_url}/joined_1y_2018\")\n",
        "    joined_2019 = spark.read.parquet(f\"{blob_url}/joined_1y_v2\")\n",
        "    joined_2020 = spark.read.parquet(f\"{blob_url}/joined_1y_2020\")\n",
        "    joined_2021 = spark.read.parquet(f\"{blob_url}/joined_1y_2021\")\n",
        "\n",
        "    joined_data = joined_2015.union(joined_2016).union(joined_2017).union(joined_2018).union(joined_2019).union(joined_2020).union(joined_2021)\n",
        "\n",
        "    joined_data.write.parquet(f\"{blob_url}/joined_data_final\")\n",
        "\n",
        "# join()"
      ],
      "metadata": {
        "application/vnd.databricks.v1+cell": {
          "showTitle": false,
          "cellMetadata": {},
          "nuid": "658203d0-a2d7-4486-bf88-5065d67e8604",
          "inputWidgets": {},
          "title": ""
        },
        "id": "7adS3OJqP22I"
      },
      "outputs": [],
      "execution_count": null
    },
    {
      "cell_type": "markdown",
      "source": [
        "### Clean Data\n",
        "\n",
        "**Missing Value Analysis** \\\n",
        "From the below plot we can see that a majority of the columns with null values are from the weather dataset as well as missing time values. The \"UTC\" columns have nulls because we were not able to identify a timezone to standardize their time to UTC. We decided the most accurate way to fill the missing values for the weather columns was to fill with the average from that day and the previous days before that. There were 8 weather variables that had >60% missing values which we decided to discard given it was unlikley we would be able to appropriately fill the missing values or draw meaning from them even if we could. We decided to fill the categorical variables with empty because it is difficult to come up with a replacement for time.\n",
        "\n",
        "**Convert Data Types** \\\n",
        "All of the numeric weather variables needed to be converted from strings to floats in order to be able to appropriately leverage them."
      ],
      "metadata": {
        "application/vnd.databricks.v1+cell": {
          "showTitle": false,
          "cellMetadata": {},
          "nuid": "c105ac87-c320-4285-a5dc-c1182c0d93a5",
          "inputWidgets": {},
          "title": ""
        },
        "id": "PHFBzCGOP22I"
      }
    },
    {
      "cell_type": "code",
      "source": [
        "joined_df = read_joined_data()\n",
        "missing = check_missing(joined_df)\n",
        "missing = missing.loc[:, (missing != 0).any(axis=0)]\n",
        "missing_transposed = missing.T.reset_index()\n",
        "fig, ax = plt.subplots(figsize=(10, 6))\n",
        "\n",
        "g = sns.barplot(data=missing_transposed, x='index', y=0, log=True)\n",
        "plt.xlabel(\"Columns With Null Values\")\n",
        "plt.ylabel(\"Count of Null Values\")\n",
        "plt.title( \"Columns With Nulls Values by Counts\" , size = 24 )\n",
        "g.tick_params(axis='x', rotation=90)"
      ],
      "metadata": {
        "application/vnd.databricks.v1+cell": {
          "showTitle": false,
          "cellMetadata": {},
          "nuid": "ea9571d2-cfcb-4dad-b6fb-14fa888d4321",
          "inputWidgets": {},
          "title": ""
        },
        "id": "Lm3hJslHP22I",
        "outputId": "a4a39ee8-b030-4f11-d5a3-265bfd4e7337"
      },
      "outputs": [
        {
          "output_type": "display_data",
          "metadata": {
            "application/vnd.databricks.v1+output": {
              "datasetInfos": [],
              "data": "data:image/png;base64,iVBORw0KGgoAAAANSUhEUgAAAmQAAAJbCAYAAABKPYjEAAAAOXRFWHRTb2Z0d2FyZQBNYXRwbG90bGliIHZlcnNpb24zLjQuMywgaHR0cHM6Ly9tYXRwbG90bGliLm9yZy/MnkTPAAAACXBIWXMAAAsTAAALEwEAmpwYAADjJElEQVR4nOydd5gkVfW/388uwhIXEEQkwxJEFIEFCQZQURBXUEGCCUQwi19MGMEc+UkwogQTIEGSIqBIkhyWHAQJCiJBZUFQceH8/ji3dmp6u6tuVffs7PSe93n6manqOnVvVzz33BNkZgRBEARBEATjx6Tx7kAQBEEQBMGCTihkQRAEQRAE40woZEEQBEEQBONMKGRBEARBEATjTChkQRAEQRAE40woZEEQBEEQBONMKGRBTyRtLckk3T3efQnmRtL56fzsOR7y8zu9fp+k1dP6ocz5M+y/D0DSMek3HjTefQmCQREK2QRC0mKS3iPpDEl/lvSEpMcl3SXpJElvkbToePczAEm7pBfGU5KWrtjulrTd05KeWbHdDWm7b2e0vbSkg8bzZVVShkzSL2u2/cOwvVxLgxmTtFmmzDKS/ptk3j3WfQzGFkkvl/QDSTdL+qekJyU9KOkCSQdKWmO8+zgIJO2Unjdbj3dfJjqhkE0QJM0A/gR8F3gtsArwNPAUsDrwRuCnwB2SXj5O3QxGuDD9nQS8pNsGkpYH1isWK7ZbFnheWryg9NWfgduAWR0iSwMHps/8wOslbTLenZjHXADck/5/W6bMbsDCwH+BX4xFp4KxR9KzJf0OOBfYF3gusATwL+CZwEuBg4DbJX1jvPo5QHbCnzVbj283Jj6hkE0A0pTLqcCz8RfwW4HlzGwJM1sKfwHvDJwPPAe/4YNxxMwewM8V9D4fhQL2QMZ2Sv8Xih5m9jYzW8/MTumnr/OIL453B+Yl5iVQfpIWd5P0jAyxQnE73cz+OTY9C8YSSSsDlwOvAP4NfAXYAFjYzJbFFe7NgUOB/wG7jFNXg/mQUMjmcyRtCHwfP1dnAhuZ2c/M7O/FNmY2y8xONrNt8FH2Y+PT26CDQnnqpWgV67+Vud1tSdGbSJwFGLCdpBePd2fmMYVC9kzgNVUbSlobf1ED/HgsOxWMDZIm4ZbNVYG/A1uZ2SfN7KakoGNmT5nZ5Wb2Idw6fsW4dTiY7wiFbP7ni8AiwH3AHmb276qNzewXwP/rXC9pEUn7S7pc0ixJ/5Z0m6T/J+nZTTsl6e7k67J1xTaFD83qHevnOORKWljSp5Mv1RPJN+4wScuUtt9E0i8l/S31+0pJO/Voc8+07/PT8gxJ50l6RNK/JF0mafeKPq8h6XuS/pjaekLSPckn6hOSlmtwmIrpxY0lLd7l+8JCdgI+Hf1CSUtWbFeeruzqtJ5+912lZev4HNSto5IWTefjtvS7H5R0fFIU+uE64MT0fyMrmTKc0zUGgSeSdpR0pqQHJP1P0j/ScTlO0q65+zGzO4CL02LdtGXx/QPA2akfK0v6iKSzJN2ersVHJc2U9DlV+CZW/LbaQI66e1vSEpI+me7DWZL+k/p3mKRVeshMSvfmeZL+no7rQ5JuknSUpO2a/pbSvqek43Fr6do9TtI6XbY9Kv22k2r2+bm03SUNuvJ6YMv0/7vMbGbVxmZ2D9D1epK0TemZ92T6e4p6uKP0e6+Uz7mkZeXvhbvkPo33SfqhpBW77Q94e1p1YOfzpmP7QT5bhxMzi898+gFWwv3EDPhYH/tZHrgm7ceA/wCPlpb/AWzeRW7r9P3dXb67O323dUW7xf5X71h/TFr/ZdyKZLh5/98lmSuBKcCOqb9PA4+Uvn8aeFOXNvdM358PfCb9/1SHrAEf6iK7ccdxeRL4Z4fcdg2O+yoluW07vlsKmA3cm5aPTtu9umO7JfCpDQPe3PHd+Wn9nqV1vwQeKrX7t47PR7rIf7B0ffwHeKIk/3dgrRbXXLHvr+KWgNndjkPa9g/pu4M61q9e9KOinaprdK7jU7df4Esd5/vRjuvybw2Pwz5J7r/AMj22Ea5EG3Bwaf1JpXb/m87FU6V1dwArd9lf1e/rekxy723cH+ruUh/+h/tGlZ8lW3WR+3nHcX0k/aZi+bKGx/WYJPcV4NLSMZpV2ufjwEs75LYsbfvMHvueVPqN72zQp3OSzE1N75eO/Xyx9Buexp9BT5fWfaXJOc+8V4rf+5bS/4/jz4Oi3bvK13A6ln8r3R//ouN5U9p2oM/WYf2EhWz+ZmtGfIdO72M/PwE2wm+ANwGLm/uebQrcACwDnDoOI5T3AmvjQQqL48rHTviU63Tc8fXH+MP8OWa2NPAs4DT8uBwiaaEe+34h7mj6GfzBuzTug1eMjL8id5Yv801gSdwHZGMzW9jMlkl92xQ4hLkd6HtiZn9hxFrVOR25JTAZuCgt/6Fiu+I3XkANZvaG1Ndi+dkdn292Efscfg1sx8h5eClwL7As/tJrjZndCvwsLc63vmRyS+4BafErwPJmtpSZLYpfdzsDv2642xPwl9rC9LCG4Md69fR/ebryFlxZXgdY1MyeiQ9StsYHLGsBP2jYn9ZImoq7TayGWz03BKaY2RKpL8fi19HJZeudpJcCe+DK5P8BS6X7cQru87onI9d/U94DvAC3MC5hZlPxZ901wGLACSpZ283sEuBm/Hy8ucc+X55+4+NkBlfIfQS3SotnNP8Zc/azG/CptPht4FnpGbQ8cHhaf4Ckt7Rto4bD8ffElmZWPAt2xBXo1YFPFBua2SVm9mxGjtE3O583pf0O9Nk6tIy3Rhif3h9GRkr/AdRyHy9hZATy6i7fr4CPag34fMd3WzO2FjIDXtZF7jOl73/f5fvFGRltdY6A9yzJfqqL7KLAg+n7t3V8V1iGXjTAc1j81gs61n85rX9vWl43LV/U4xr4U5d9n09DC1AP+SeAaV2+f2Pp+lu44e8u9v3VtLwGPio2YMeObecLCxk+WDHglkGd/7Tf49J+L+nx/ZHp+5kN9rlsuo6f7nJ/9TxuvY5JxzZ30+XeLl2Lx1bI/iZtU7bEfiyt+80Aj2lxXxkdluP0/XLAw+n7T3d8939VxxtXLA04pkF/ppX6s3vL3yTg9rSP42r6dhcwKeecl7apuleKc/43ulgOgQ+n7++sOBcHVbQ98GfrMH7CQjZ/U+Sl+qelq7oFO6e/V5nZ2Z1fmjuJfz8tvqllG2251My6WX1+V/p/LuuMmT0OXJYWN+ix7//go65O2X+TfHS6yD6a/q7I4Ch+32aSFimtL/zCLkz9ug1/wW5atd0YcZK5v1Mnp+MP0UXwF05rzOwuXPEA+IIkVW0/ThTnf6qkxQa438LqtYWkUcdRnjewuEd/QiZm9g/gEvwlvmXN5oPi7envwRXbHJv+bltaVxzXZ8kd3wfJPaU252BmDzNiPdy54+uf4IODF0raqPxFsuy9Pi0e1aAf5RyC/2ggV+aFjNxnvSzJn0t/Vwey8ts15AgrBYyVODX9XUPd/WHrGItn69ARCtnws3H6e17FNr9Pf9dpebO15YYe6x8s/X9jj22KaMNlenx/c1LcunFfD9kz09+fSPqqpM2Vl66gikKRmkJ6gEqagpvp/wHcVNr2Ylz5eVHabhFGHrq105V9cGW3lWb2P0bORa/j3IQv4ory8/Fo4PmNy/FzsiJwqaR9NZjknb8F/pr+f2vHdzsx4k/4805BSZslR/Rb5UEpZYfpHdNmzxlAHytJzvorp8Uzk5P5XB88nQO4/2TBubgCtDFwvjyB9aD6fEHFYLW4ZzaQtHCxMikcp6bFvTpkdsfv1dvNbCwHQd0ontUPmdlN3TZIA7f7OrYfJF2fBaU2wdMsNWUsnq1DRyhk8zfFSGWZPiwKy6e/91Vsc2/6K9zUP6+4v8f6p4p/zKxum143dVXqj//0kP0obnVYEvg47iz8qKTfyyskNK6CYGZ/YuTYF/5hm+GK18UdL5OLumw3Jf0/lgpZm2PVGDO7D/heWjxI0uR+9zlIzHN/vRX3oXkBbmG5U9L9kn4s6WUt9/sUIz50b+m4l4voyrPMrDwQQdJHcEvwXviU9pTUtwfSpzg382IQVbZsPAt3dej2KRT3ORZGM7sd9/X6N27x/SlwX4ri+16nlaohVc+14rvJzD2g+FH6u0dZWQPekf4e3bAfZatSp29qLjnPahh5Xi9fuVU7uj4LzOw/pcU2z4KBP1uHkVDI5m9uSX8XwR/I/TClfpMFmzRyfjE+3XIYMBN3/t0Gr5BwozzxY1M685EVfy/q2K7Tsb/4e2+a8hsGvoI7S6/DyBTYfIOZnYn7u+2LO+T/FQ8GeRtu3Tmi5a6Lacs18WsMebqZbTu+J333POBr+CDp23ilhkXMbFkbcZguAlTmxfRv+V2xjJmp5rN6WdjMjsKP64fwoJy/49Nu7waulvTJefAbyvwO98N6JvA6AEkb4MFET9E8F9w9uJ8UeLBDPwzds3oMn61DRShk8zcX4D48kB4aLXgo/V21YpviRjDcETaH2elv14dHisiacJjzOzPbz8w2xi2G78KnstZkJIlrEwqFbMtkFSr8wjoVspm4srJFx3ZjaR2bp5jZQ4xMa322wzrRSXGNFdO83Rj4dWaeaPmHZrarma2EK0M/TF/vI2mHFvu8GbgqLRbTlm/GrTf/ZO7IvDfiz+ezzewDZnZzsrSVWaFpP6i5bxPdjmk5IXHVs6QnZvaAmR1qZjvh1p3NgFNwhfILkl7QYrdVU5/Fd0/hx7jcF2PER6yYtiysY2eb2V9pQJreL3LOzWgiW6J4VnfN5VaieF4/VFo3LvdKE8bo2TpUhEI2H2Nm9zIy9/4BSUvlyHVMiVyT/r6sYtqzSDb4xwq/q04eSX97jWo27bF+QmFm/zSzI4BiBN9m2qpQqJbAj8uW+Gj66o62ZuNTVOXtyvK5PF38M586z38TD3FfDbdE9eKR0v/jdp0lZWhfRgJJWk1dMmJ12SW9NIvpyuPN7L8d2xa/d2a3HSVfz827fVfDIx3779zvNLr4CCULbaGUbd+i3c79mZldiZcOuhd/F7Wp5FB1LorvbjSzJ7t8fzSurL1a0mp4Di5o5sxfprCeri/pDTkCPZ7Vi6tHQXp5stuVOraH8b1XiudNo2fNgJ6tQ0UoZPM/n8aTGK4MHFsx+gFA0puA/UurimmN5zHiBFzefgV82gB8iiaXwiG/2z6F+wlMGOSZxHvlNAP3fwGfPm6Emd3CyGh2P1zhuiyNqjv5Q2m7Imt/U+fiR0v/L91QdsxJvlpFPrRP4qlIum33LzwcH7pfZ88E3jmoftVY66CPayBxHO7cvjSe2qWwCHWbHityMj2/x74+xcj10YTivu1lcT+gx3rw9AYAH5G0Uq+N5CxdWu55XJPVr7gP2hzX1dWl8kbKMVgo+yd2fp/avg9P0zEZD6hYHr9P2+Z8/CUjSvsRdb5xSQks5zm7Fk/2CyNKSicHpb93Uyq7NK/vlQ6K583S3b4cy2frsBEK2XyOmV0LvA+fTtwBmJmilOY4jkqaKukNks7Db/AlS/IX4fUEAY6StHPhTC1pEzy79DL46LeYSsqhUN52kPTxIjpTnlzzOGCTpr91nFkKuEPSpyQ9v3SMJkl6BZ7BHUZSZjSlUKqK1CKd05V0rC+2eyBFVmVjZo8wEtXXGUU2v3AIPj2+ItXRYsV19mlJryse7JI2x/2A6pSoJrxH0tmS9lCpTIykpZOP09ZpVatrIPnRFIllC8XnNjO7vMvmv01/d5CXlVks9WV5Sd/AE3R2S09QR5H9//mSDi0UJ0nPknQYPp36RA/ZrwJ34lNNl0h6U9kZW9KqkvbFLTc7leS+LOkkSTt1PLdWSG2ukfr0W5ozC/ihpDeXro0X4OdoeTxK+LsV8oVzf5HU9Wc9Bkq1mNnT+H17L+6b9gdJX5L03GIbSZPlkbPfAm6llLoiTaN+Oi3uKOnwpEgh6ZnpWBXK56dTe2Xm5b1SpogI3U4d5ZUSY/1sHR5yE5bFZ3w/+APuAUaXmniM0eUoDB8ldSZLXR6f+ii2+Tdzl07aokubWxf77NGnk0v7KPw0DH+gv6r03eodcsdQkUiQvCSHXfdBqXRShexBdCR+xEd35eP4JP7Cm11a9ye6lKrJPH8f7Nj/K3pstzgjpZIM+EXFPs+nR5JPPF9RsY9i9Hw3pZJRVfKlbe6mS5LQjN9b7PurFdt8mNHHZK7rAR8s/Km0zX8YKdVzDz7N1PUa7fX7el1fuMN5uT//Yu7yLj/o8z7esWN/n6jYtnx/PY3fp0UJnR9V3ANdf1/p+//X0Yd/pv3Oxu+fnuccz5N1c0l2Nq5YP9Gxz7eXZA7p+G4Wcz+3PtnwOBa//Su4Vaq4NipLJ3XZz0L44KWQ2aCf85v2uSKeZqjb8+SpjnVf7CJfLp30VDrvZbm5SicN4F7pec5L2/R6ni+XflvR3/vT/u5O3y/d41gM5Nk6TJ+wkE0QzOxU3PHxfbhf2b34w2Qh/OI/CS9Psq515M8xd6TeAvgI7lj8P3y0dDv+sHyemV3aolu741Mnt+E31//wl8jmZnZOi/2NJ4/iJZwOwacCHsItjY/juXk+BbzQ3K+vDWU/sMJXbC7Mffhmlla1zYX0eXza+Hrct2O19Fm65f7Ggu8yYsnrivn05pa4f85fcav+3/ESLxszkgJgEByL1578BR7h/D98evl+fBrrdWb2rj7bOJOR6eunGUmH0Y1dcUta0RfhjuNvN7N+pp8+jJctu46RWoVnAy83s2OqBM0TCG+U5M/Dlbmp+DV9PX6edmD07/oWPiA5Dfhj+h2LAH/Bj/VLzezLLX/Lf/GB4+dxpWNh/Pgej5foqbx/zP02i4CKK82sV97DbMzsfjPbBo8o/BFuCXsCtxT9HX8WfAavEfvpLvKfBl6BH6+H8Wvw7/g1+Eoz+0SnTJKbl/dKud2H8WjJoo7u8ow8b2Dsn61Dg5IGGwRBEAQLHJL+iNfUfY+Zfb9u+yAYK0IhC4IgCBZIkg/T73BrzXPM7NEakSAYM2LKMgiCIFjgkLQc8I20eFQoY8F4ExayIAiCYIFB0jfxaMhn42WAHsb9aB+sFAyCMSYsZEEQBMGCxHJ4Nvx/42l/Xh7KWDA/MKEtZMstt5ytvvrq492NIAiCIAiCWq6++uqHzaxrYfiq7LnzLZJmADOmTZvGVVddVbt9EARBEATBeCPpnl7fTcgpSzM7w8z2nTp16nh3JQiCIAiCoG8mpEIWBEEQBEEwTExIhUzSDElHzJo1q37jIAiCIAiC+ZwJqZDFlGUQBEEQBMPEhFTIwkIWBEEQBMEwMSEVsrCQBUEQBEEwTExIhSwIgiAIgmCYCIUsCIIgCIJgnJmQCln4kAVBEARBMExMSIUsfMiCIAiCIBgmJqRCFgRBEARBMEyEQhYEQRAEQTDOTEiFLHzIgiAIgiAYJhYa7w60wczOAM6YPn36PuPdlyAIgqbMOOnURtufsfNOY9KPIFiQefDw3zba/lkf2HaMeuJMSAtZEARBEATBMBEKWRAEQRAEwTgTClkQBEEQBME4MyEVsnDqD4IgCIJgmJiQClkkhg2CIAiCYJiYkApZEARBEATBMDEh014EwfzO53/x6sYyn9317Dn/v/+X2zWS/fYbzmrcXhAsCHzvlw802v49b1hhzv8nnfxwI9md37hco+2DoExYyIIgCIIgCMaZUMiCIAiCIAjGmVDIgiAIgiAIxpkJqZBF2osgCIIgCIaJCamQRdqLIAiCIAiGiQmpkAVBEARBEAwToZAFQRAEQRCMM6GQBUEQBEEQjDOhkAVBEARBEIwzoZAFQRAEQRCMM6GQBUEQBEEQjDOhkAVBEARBEIwzoZAFQRAEQRCMMwuNdwcKJL0EeDPep/XNbMtx7lIQBEEQBME8YUwtZJKOkvSgpBs71m8n6TZJd0g6AMDMLjKzdwO/An48lv0KgiAIgiCYnxjrKctjgO3KKyRNBr4DbA+sD+wuaf3SJnsAx45xv4IgCIIgCOYbxlQhM7MLgX90rN4MuMPM7jSzJ4HjgR0BJK0KzDKzx3rtU9K+kq6SdNVDDz00Vl0PgiAIgiCYZ4yHU/9KwF9Ky/emdQB7A0dXCZvZEWY23cymL7/88mPUxSAIgiAIgnnHfOPUD2BmB+ZsJ2kGMGPatGlj3KMgCIIgCIKxZzwsZPcBq5SWV07rsjGzM8xs36lTpw60Y0EQBEEQBOPBeChkVwJrS1pD0sLAbsDpTXYgaYakI2bNmjUmHQyCIAiCIJiXjHXai+OAS4F1Jd0raW8zmw28HzgbuAU4wcxuarLfsJAFQRAEQTBMjKkPmZnt3mP9mcCZbfcbPmRBEARBEAwTE7J0UljIgiAIgiAYJiakQhYEQRAEQTBMTEiFLJz6gyAIgiAYJiakQhZTlkEQBEEQDBMTUiELgiAIgiAYJkIhC4IgCIIgGGcmpEIWPmRBEARBEAwTE1IhCx+yIAiCIAiGiQmpkAVBEARBEAwToZAFQRAEQRCMMxNSIQsfsiAIgiAIhokJqZCFD1kQBEEQBMPEhFTIgiAIgiAIholQyIIgCIIgCMaZUMiCIAiCIAjGmQmpkIVTfxAEQRAEw8SEVMjCqT8IgiAIgmFiQipkQRAEQRAEw0QoZEEQBEEQBONMKGRBEARBEATjTChkQRAEQRAE40woZEEQBEEQBOPMQuPdgTZImgHMmDZt2nh3JQiCIBhjPnXKfY22/9LrVxqjngTB2DEhLWSR9iIIgiAIgmFiQlrIgiAIgiCYmxt/8ECj7Td41wpj1JOgKaGQBUEQBMF8xKU/fqjR9lu8ffmBtPvn//e3Rtuvuv+zB9LuA9+6rtH2K/zfhgNpd35jQk5ZBkEQBEEQDBNhIQuy+e2PXtNo+23feeYY9SQIgja8/uQLG21/yhtfOuf/nU++upHsSW/cZM7/u/7y9kayAL94w9qNZeYnzjnu4Ubbv2r35caoJ/OGv33zT422f/ZH1hpIuw8cekmj7VfYb8uBtPvgd05rLPOs9+1Y+X1YyIIgCIIgCMaZsJAFQQ8OOfbVjbb/0B5nj1FPgiAIgmEnLGRBEARBEATjzHxjIZM0CfgCsBRwlZn9eJy7FARBEARBME8YUwuZpKMkPSjpxo7120m6TdIdkg5Iq3cEVgb+B9w7lv0KgiAIgiCYnxhrC9kxwLeBnxQrJE0GvgNsiyteV0o6HVgXuMTMfiDpJODcMe5bEAQD5DWnfLnR9me+/pNj1JMgCIKJx5gqZGZ2oaTVO1ZvBtxhZncCSDoet479BXgybfPUWPYrCIIA4LUn/6R+oxK/euPbxqgnQRAs6IyHD9lKuPJVcC/wIuBQ4HBJLwF6JsuRtC+wL8Cqq646ht0MggWP15z6sUbbn7nT1wfS7g6/PKzR9r9+wwcH0m4QBMH8wnzj1G9mTwB7Z2x3BHAEwPTp022s+xUEQRAEQTDWjIdCdh+wSml55bQuG0kzgBnTpk0bZL+C+ZRjj2mWD2yPPRfsfGDbn/amRtv/ZscTxqgnw81rT/pFo+1/tfOuA2l3x5POarT9aTtvN5B2gyAYW8ZDIbsSWFvSGrgithuwR5MdmNkZwBnTp0/fZwz6N9RcesRrG22/xb6/Gki7px21faPtd3zHbwbS7g9/0kyZ2+dtC7YyNxHZ4eQjGm3/6zfuO0Y9CYIgaM+YKmSSjgO2BpaTdC9woJkdKen9wNnAZOAoM7up4X5HWcge+t7PGvVr+fe8pdH28xs3fvd1jbbf4L2nj1FPgiAIgiAYBGMdZbl7j/VnAq0rT4eFLAiCIAiCYWJClk6SNEPSEbNmzRrvrgRBEARBEPTNhFTIzOwMM9t36tSp492VIAiCIAiCvpmQClkQBEEQBMEwMSEVspiyDIIgCIJgmJiQCllMWQZBEARBMExMSIUsCIIgCIJgmJiQCllMWQZBEARBMExMSIUspiyDIAiCIBgmJqRCFgRBEARBMEyEQhYEQRAEQTDOTEiFLHzIgiAIgiAYJiakQhY+ZEEQBEEQDBMTUiELgiAIgiAYJkIhC4IgCIIgGGdCIQuCIAiCIBhnQiELgiAIgiAYZyakQhZRlkEQBEEQDBMTUiGLKMsgCIIgCIaJCamQBUEQBEEQDBOhkAVBEARBEIwzoZAFQRAEQRCMM6GQBUEQBEEQjDOhkAVBEARBEIwzE1Ihi7QXQRAEQRAMExNSIYu0F0EQBEEQDBMTUiELgiAIgiAYJkIhC4IgCIIgGGdCIQuCIAiCIBhnahUySWtJWiT9v7WkD0paesx7FgRBEARBsICQYyE7GXhK0jTgCGAV4Ngx7VUQBEEQBMECRI5C9rSZzQZeDxxuZh8FVhzbbgVBEARBECw45Chk/5O0O/B24Fdp3TPGrktBEARBEAQLFjkK2V7AFsCXzOwuSWsAPx10R5J/2kWSvi9p60HvPwiCIAiCYH6lViEzs5uBjwPXpOW7zOxrOTuXdJSkByXd2LF+O0m3SbpD0gFFU8C/gCnAvU1+RBAEQRAEwUQmJ8pyBnAtcFZafqGk0zP3fwywXcf+JgPfAbYH1gd2l7Q+cJGZbY8rf5/L3H8QBEEQBMGEJ2fK8iBgM+ARADO7FlgzZ+dmdiHwj47VmwF3mNmdZvYkcDywo5k9nb7/J7BIzv6DIAiCIAiGgYUytvmfmc2SVF73dK+NM1gJ+Etp+V7gRZLeALwaWBr4di9hSfsC+wKsuuqqfXQjCIIgCIJg/iBHIbtJ0h7AZElrAx8ELhl0R8zsl8AvM7Y7QtL9wIyFF154k0H3IwiCIAiCYF6TM2X5AeB5wH+B44BHgQ/10eZ9eHLZgpXTumzM7Awz23fq1Kl9dCMIgiAIgmD+oNZCZmZPAJ9Kn0FwJbB2Sp9xH7AbsMeA9h0EQRAEQTDhqFXIJJ2Hp6QYhZm9PEP2OGBrYDlJ9wIHmtmRkt4PnA1MBo4ys5uadDpFfs6YNm1aE7EgCIIgCIL5khwfso+U/p8CvBGYnbNzM9u9x/ozgTNz9tFD/gzgjOnTp+/Tdh9BEARBEATzCzlTlld3rLpY0hVj1J8swkIWBEEQBMEwkZMYdtnSZzlJrwbG1Zs+nPqDIAiCIBgmcqYsr8Z9yIRPVd4F7D2WnQqCIAiCIFiQyJmyXGNedKQJMWUZBEEQBMEw0VMhS5nze5ISuY4L4dQfBEEQBMEwUWUhm1HxnZGRVT8IgiAIgiCop6dCZmZ7zcuONCGmLIMgCIIgGCZynPqRtANePmlKsc7MPj9WnaojpiyDIAiCIBgmctJefB/YFa9pKWAXYLUx7lcQBEEQBMECQ05x8S3N7G3AP83sc8AWwDpj260gCIIgCIIFhxyF7N/p7xOSngP8D1hx7LpUj6QZko6YNWvWeHYjCIIgCIJgIOQoZL+StDTwDeAa4G7g2DHsUy2RqT8IgiAIgmGiKg/Zmbji9S0z+xdwsqRfAVPMLExTQRAEQRAEA6LKQvYDYAfgTkknSHo9YKGMBUEQBEEQDJaeCpmZnWZmuwOrAycDbwP+LOloSdvOo/4FQRAEQRAMPbU+ZGb2hJn9wsxeD7wKeCFw1lh3rIpw6g+CIAiCYJjIyUO2gqQPSLoYOBU4G9h4rDtWRTj1B0EQBEEwTFQ59e8D7A6si09ZftTMLplXHQuCIAiCIFhQqCqdtAXwFeBcM3t6HvUnCIIgCIJggaOquPg75mVHgiAIgiAIFlRyEsMGQRAEQRAEY0goZEEQBEEQBONMlVP/slWCZvaPwXcnCIIgCIJgwaPKqf9qwAB1+c6ANcekRxlImgHMmDZt2nh1IQiCIAiCYGBUOfWvMS870gQzOwM4Y/r06fuMd1+CIAiCIAj6pWrKsjL5q5ldM/juBEEQBEEQLHhUTVkeXPGdAS8fcF+CIAiCIAgWSKqmLLeZlx0JgiAIgiBYUKmykAEg6W3d1pvZTwbfnSAIgiAIggWPWoUM2LT0/xTgFcA1QChkQRAEQRAEA6BWITOzD5SXJS0NHD9WHQqCIAiCIFjQaJOp/3Fgvk2JEQRBEARBMNHI8SE7A4+qBFfg1gdOGIvOSFocuAA4yMx+NRZtBEEQBEEQzG/k+JB9s/T/bOAeM7s3Z+eSjgJeCzxoZhuU1m8HHApMBn5kZl9NX32cMVL2giAIgiAI5ldyfMgu6GP/xwDfphQAIGky8B1gW+Be4EpJpwMrATfjgQNBEARBEAQLDFWZ+u9iZKqyEzOztep2bmYXSlq9Y/VmwB1mdmdq53hgR2AJYHF8SvTfks40s6e79GtfYF+AVVddta4LQRAEQRAE8z1VFrLpHcuTgDcBHwFm9tHmSsBfSsv3Ai8ys/cDSNoTeLibMgZgZkcARwBMnz69l8IYBEEQBEEwYajK1P93AEmTgLcCHwWuBXYws5vHqkNmdkzdNpJmADOmTZs2Vt0IgiAIgiCYZ/RMeyHpGZLehft1vQTYyczeMgBl7D5gldLyymldNmZ2hpntO3Xq1D67EgRBEARBMP5UTVnehUdVHgL8GXiBpBcUX5rZL1u2eSWwtqQ1cEVsN2CPJjsIC1kQBEEQBMNElUL2O9ypf8P0KWNArUIm6Thga2A5SfcCB5rZkZLeD5yNp704ysxuatJpMzsDOGP69On7NJELgiAIgiCYH6nyIduz352b2e491p8JnNnv/oMgCIIgCIaBNqWTxh1JMyQdMWvWrPHuShAEQRAEQd9MSIUsnPqDIAiCIBgmqqIsd0l/o5B4EARBEATBGFJlIftE+nvyvOhIE2LKMgiCIAiCYaIqyvLvks4B1ki1JkdhZq8bu25VE1GWQRAEQRAME1UK2Q7AxsBPgYPnTXeCIAiCIAgWPKrSXjwJXCZpSzN7SNISaf2/5lnvehCJYYMgCIIgGCZyoixXkDQTuAm4WdLVkjYY435VElGWQRAEQRAMEzkK2RHA/ma2mpmtCnw4rQuCIAiCIAgGQI5CtriZnVcsmNn5wOJj1qMgCIIgCIIFjByF7E5Jn5G0evp8GrhzrDtWRaS9CIIgCIJgmMhRyN4BLI8XEz8ZWC6tGzfChywIgiAIgmGiKu0FAGb2T+CD86AvQRAEQRAECyQTspZlEARBEATBMBEKWRAEQRAEwThTq5BJ2ipn3bwknPqDIAiCIBgmcixkh2eum2eEU38QBEEQBMNET6d+SVsAWwLLS9q/9NVSwOSx7lgQBEEQBMGCQlWU5cLAEmmbJUvrHwV2HstOTRT+9r2DGm3/7Pc02z4IgiAIggWDquLiFwAXSDrGzO6Zh30KgiAIgiBYoKjNQwYsIukIYPXy9mb28rHqVBAEQRAEwYJEjkJ2IvB94EfAU2PbnSAIgiAIggWPHIVstpl9b8x7EgRBEARBsICSk/biDEnvlbSipGWLz5j3rILIQxYEQRAEwTCRo5C9HfgocAlwdfpcNZadqiPykAVBEARBMEzkFBdfY150JAiCIAiCYEGlViGT9LZu683sJ4PvThAEQRAEwYJHjlP/pqX/pwCvAK4BQiELgiAIgiAYADlTlh8oL0taGjh+rDoUBEEQBEGwoJHj1N/J40D4lQVBEARBEAyIHB+yMwBLi5OB5wInjGWngiAIgiAIFiRyfMi+Wfp/NnCPmd07Rv0JgiAIgiBY4KidskxFxm8FlgSWAZ4ci45Ieq6k70s6SdJ7xqKNIAiCIAiC+ZFahUzSm4ArgF2ANwGXS9o5Z+eSjpL0oKQbO9ZvJ+k2SXdIOgDAzG4xs3enNrZq+kOCIAiCIAgmKjlO/Z8CNjWzt5vZ24DNgM9k7v8YYLvyCkmTge8A2wPrA7tLWj999zrg18CZmfsPgiAIgiCY8OQoZJPM7MHS8t8z5TCzC4F/dKzeDLjDzO40syfxFBo7pu1PN7PtgTf32qekfSVdJemqhx56KKcbQRAEQRAE8zU5Tv1nSTobOC4t7wr8po82VwL+Ulq+F3iRpK2BNwCLUGEhM7MjgCMApk+fbr22C4IgCIIgmCjkJIb9qKQ3AC9Oq44ws1MG3REzOx84P2dbSTOAGdOmTRt0N4IgCIIgCOY5PaceJU2TtBWAmf3SzPY3s/2BhySt1Ueb9wGrlJZXTuuyMbMzzGzfqVOn9tGNIAiCIAiC+YMqX7BDgEe7rJ+VvmvLlcDaktaQtDCwG3B6kx1ImiHpiFmzZvXRjSAIgiAIgvmDKoVsBTO7oXNlWrd6zs4lHQdcCqwr6V5Je5vZbOD9wNnALcAJZnZTk06HhSwIgiAIgmGiyods6YrvFs3ZuZnt3mP9mURqiyAIgiAIAqDaQnaVpH06V0p6J3D12HWpnpiyDIIgCIJgmKiykH0IOEXSmxlRwKYDCwOvH+N+VWJmZwBnTJ8+fS6FMQiCIAiCYKLRUyEzsweALSVtA2yQVv/azH4/T3pWQaS9CIIgCIJgmMjJQ3YecN486Es2YSELgiAIgmCYyCqBFARBEARBEIwdoZAFQRAEQRCMMxNSIYsoyyAIgiAIhokJqZBFYtggCIIgCIaJCamQBUEQBEEQDBOhkAVBEARBEIwzE1IhCx+yIAiCIAiGiQmpkIUPWRAEQRAEw8SEVMiCIAiCIAiGiVDIgiAIgiAIxplQyIIgCIIgCMaZCamQhVN/EARBEATDxIRUyMKpPwiCIAiCYWJCKmRBEARBEATDRChkQRAEQRAE40woZEEQBEEQBONMKGRBEARBEATjTChkQRAEQRAE48yEVMgi7UUQBEEQBMPEhFTIIu1FEARBEATDxIRUyIIgCIIgCIaJUMiCIAiCIAjGmVDIgiAIgiAIxplQyIIgCIIgCMaZUMiCIAiCIAjGmVDIgiAIgiAIxplQyIIgCIIgCMaZUMiCIAiCIAjGmYXGuwNlJO0E7AAsBRxpZueMb4+CIAiCIAjGnjG3kEk6StKDkm7sWL+dpNsk3SHpAAAzO9XM9gHeDew61n0LgiAIgiCYH5gXU5bHANuVV0iaDHwH2B5YH9hd0vqlTT6dvg+CIAiCIBh6xlwhM7MLgX90rN4MuMPM7jSzJ4HjgR3lfA34jZld021/kvaVdJWkqx566KGx7XwQBEEQBME8YLyc+lcC/lJavjet+wDwSmBnSe/uJmhmR5jZdDObvvzyy499T4MgCIIgCMaY+cqp38wOAw6r207SDGDGtGnTxr5TQRAEQRAEY8x4WcjuA1YpLa+c1mVhZmeY2b5Tp04deMeCIAiCIAjmNeOlkF0JrC1pDUkLA7sBp+cKS5oh6YhZs2aNWQeDIAiCIAjmFfMi7cVxwKXAupLulbS3mc0G3g+cDdwCnGBmN+XuMyxkQRAEQRAME2PuQ2Zmu/dYfyZw5li3HwRBEARBML8zIUsnxZRlEARBEATDxIRUyGLKMgiCIAiCYWJCKmRhIQuCIAiCYJiYkApZWMiCIAiCIBgmJqRCFgRBEARBMEyEQhYEQRAEQTDOTEiFLHzIgiAIgiAYJiakQhY+ZEEQBEEQDBMTUiELgiAIgiAYJkIhC4IgCIIgGGcmpEIWPmRBEARBEAwTE1IhCx+yIAiCIAiGiQmpkAVBEARBEAwToZAFQRAEQRCMM6GQBUEQBEEQjDMTUiELp/4gCIIgCIaJCamQhVN/EARBEATDxIRUyIIgCIIgCIaJUMiCIAiCIAjGmVDIgiAIgiAIxplQyIIgCIIgCMaZUMiCIAiCIAjGmQmpkEXaiyAIgiAIhokJqZBF2osgCIIgCIaJCamQBUEQBEEQDBOhkAVBEARBEIwzoZAFQRAEQRCMM6GQBUEQBEEQjDOhkAVBEARBEIwzoZAFQRAEQRCMM6GQBUEQBEEQjDOhkAVBEARBEIwz841CJmlNSUdKOmm8+xIEQRAEQTAvGVOFTNJRkh6UdGPH+u0k3SbpDkkHAJjZnWa291j2JwiCIAiCYH5krC1kxwDblVdImgx8B9geWB/YXdL6Y9yPIAiCIAiC+ZYxVcjM7ELgHx2rNwPuSBaxJ4HjgR1z9ylpX0lXSbrqoYceGmBvgyAIgiAIxofx8CFbCfhLafleYCVJz5T0fWAjSZ/oJWxmR5jZdDObvvzyy491X4MgCIIgCMachca7AwVm9nfg3TnbSpoBzJg2bdrYdioIgiAIgmAeMB4WsvuAVUrLK6d12ZjZGWa279SpUwfasSAIgiAIgvFgPBSyK4G1Ja0haWFgN+D0JjuQNEPSEbNmzRqTDgZBEARBEMxLxjrtxXHApcC6ku6VtLeZzQbeD5wN3AKcYGY3NdlvWMiCIAiCIBgmxtSHzMx277H+TODMtvsNH7IgCIIgCIaJ+SZTfxPCQhYEQRAEwTAxIRWyIAiCIAiCYWJCKmTh1B8EQRAEwTAxIRWymLIMgiAIgmCYmJAKWRAEQRAEwTAxIRWymLIMgiAIgmCYmJAKWUxZBkEQBEEwTExIhSwIgiAIgmCYCIUsCIIgCIJgnBnTTP1jxTBk6v/z4V2LGPRk1Q8cN0Y9CYIgCIJgvJmQFrLwIQuCIAiCYJiYkApZEARBEATBMBEKWRAEQRAEwTgTClkQBEEQBME4EwpZEARBEATBOLPAR1k+9P3vNtp++Xe/t+82gyAIgiAIykxIC1lEWQZBEARBMExMSIUsCIIgCIJgmAiFLAiCIAiCYJwJhSwIgiAIgmCcCYUsCIIgCIJgnAmFLAiCIAiCYJyZkAqZpBmSjpg1a9Z4dyUIgiAIgqBvJqRCFmkvgiAIgiAYJiakQhYEQRAEQTBMhEIWBEEQBEEwzoRCFgRBEARBMM6EQhYEQRAEQTDOhEIWBEEQBEEwzoRCFgRBEARBMM7IzMa7D62R9BBwT8UmywEPt9x9yIbs/CY7nm2HbMiOhex4th2yITsWsnXyq5nZ8l2/MbOh/QBXhWzIDovsRO13yIbs/Nh2yIbsWMj2Ix9TlkEQBEEQBONMKGRBEARBEATjzLArZEeEbMgOkex4th2yITsWsuPZdsiG7FjItpaf0E79QRAEQRAEw8CwW8iCIAiCIAjme0IhC4IgCIIgGGdCIQuCIAiCIBhnhkYhk/RqSTt3Wb+zpG3HqM3TJH1M0laSFh6LNuZHJE2TtFWX9VtJWqtCbtWqT4P2Xyxpr/T/8pLWaPdLJgaSfilpB0mN71dJB0t63gD6sIykFzSUmefnSdLz+5RfTdIr0/+LSlpyMD3r2tayVZ+xanfQSFqspdy43Mdt25U0o809mGT7ui77pY9zJElvkfTZtLyqpM0G27ugYGic+iVdDOxkZg91rF8OOMPMtughd4iZfSj9v5+ZHVr67hgz27OizdcCW6bPhsAtwCXAxcAlZvZAhWzrdtM2+wOzzOzIjvV7A0ua2SEVsm/Bz/1PO9a/FXjKzI6taftXwCfM7IaO9c8HvmxmM3rI3QAYoNJqA5YHnmVmk6vaTfs4EJgOrGtm60h6DnCimc2lIHaRXQH4MvAcM9te0vrAFp3HsIfsG4CvAc9K/RdgZrbUWLab5F8J7AVsDpwIHG1mt2XKvjPJLgQcDRxnZrMyZc8HXpdkrwYeBC42s/0zZPs5T+sA3wNWMLMNkiL4OjP7YobsRcAiwDHAz3N/a5LdB9gXWNbM1pK0NvB9M3tFhmzj60PSXYzcD6sC/0z/Lw382cx6Kgqle6krZlapPEs6r0LeMn/zlsCPgCXMbFVJGwLvMrP3Zsj2c30sD+wDrI5fm0Wn3zHG7f4M2AI4GTjKzG6tkynJ9nNd7offu4/hx3sj4AAzOydDtvU5SvLfA54GXm5mz5W0DHCOmW2aIXs1cBRwrJn9M6e9kmw/z4DG14ekM6i+n15XIVv5PDSz/1f1fefGQ/GhIjMucH3Fd9d0+7/bck37k/Eb/SPAHbhiU7V9X+3iL8hndFm/cNXvTdtcjt+gnesXB67OaPvKiu9uaHDMVsdvutuBD2TKXIu/tGbmnN8O2d8AbwKuS8sL5fY3ndPnNrkmB9Fux36mAu8G/oIr/nt1uwZ6yK4LfBUvNXYssE2GzMz0953A5xoe637O0wXAZh2yNzY4TmsDX0nn7Fhg2wZ9Xrij3XlxffwQeE1peXvgBzUyq6XP19Pn+enzVeCrGW1u0uXzvnR99Ly/O/ZxObBKm/PU5/VxCa78vgl4Y/EZ63bTtksB7wIuAy7FFfglx/i6LJ4brwZ+CTyPzHdTP+cobXtN+juzsz8ZstOAL6Xfe3zqvzJlWz8D2lwfwMvS51DgF8CM9DkW+FaN7IHpcyz+Ljs4ff4I/Cz3WJvZiPY4BCwlaSEzm11eKekZwKIVcurxfxbJAldYyTYHpgC/w2/WStF+2gUWMrP/da40sycl1e3vGWb2ry6yj6fjVcfSFd9VHWsAkuXhU8CL8Av3g91+Sw+eNDOTZGlfi2fKASxnZidI+gSAmc2W9FSm7ANmdkuDtgbVLgCSngm8BXgrMBP4OfBi4O3A1jWyk4H10udh4Dpgf0nvMrPdKkQXkrQi/mD7VJP+0t95WszMrui4jGf32rgTM7td0qeBq4DDgI3SPfFJM/tlheh/0/1D6vNCVIyaO+jn+tjczPYpFszsN5K+XiVgZvekPm5rZhuVvjpA0jXAATXyVxf/S3oZ8Bn82fVuM/tNbsfN7C8d5yn3uu73+vh4g+0H1S5m9qikk/Dn3IeA1wMflXSYmR1eI9v2uiwO8GuAn5rZTRnP+HK7bc8RwP/S86M4XsvjFrOcdu8APiXpM8BrcWvZU5KOBg41s39UiPfzDGh8fZjZBeAuHmY2vfTVGZKuqpH9XJK9ENjYzB5LywcBv27Sj2FSyH4J/FDS+83scQBJS+Aab9XFPimZYSeV/i+ugsopNEm3A7NwE/bZwBe7KTqDbrckv4J1TIum6bE6FpW0eHGcSrJL4haCOq6StI+Z/bBD/p245a4rkjbAX+zPw0f1e5tZI8UEOEHSD4Cl0xTTO3ALQw6PJ8WmeLhsjp+/HK6S9AvgVOC/xcqaB+kg2kXSKbiF66fADDO7P331i7qHhaRv4Q/D3+PTyVekr74mqW7a8/P4df0HM7tS0pr4CDCHfs7Tw3JfxOJ47QzcXy3ipKmNvYAdgN/ix+uaNDV1KdXPggskfRK/P7YF3guckdnnfq6Pv6YX9c/S8puBv2a2K0lbmdnFaWFLMn2DJb0a+HTq75fM7LzMNgv+ktqzNJDbD3fbyKGf6+NXkl5jZmc27G9f7Up6HX5tTQN+AmxmZg/K/bNuBnoqZH1el1dLOgdYA/hEek5nKUX0d47AFcdTgGdJ+hKwM37NZFH63a/B35PFQPL3wAsrRFs/A+jv+lhc0ppmdmdqdw185iiHFYAnS8tPpnXZDJMP2ULAF/HplXvS6lWBI4HP9LLASLobv7i7jTjMzNasaPMTuFVsJdw8eWn6zKxTNPppN8m/Dfgg8GHgmrR6E+AbwLfN7McVsh8BXoGPhouR9urAd4DzzewbNW2vgN+kTzKigE3HlbnXm9nfesg9hU+3/ZouozQz+2BNuwJWxi09r8KP3dlm9tsquZL8xvhDcwPgRtx3bWczuz5D9uguq83y/FZat5vkt2nxsixk9wJO6FS+03dTrYEvS4M2+z1Pa+KZrrfE/aruAt5cXKs1shfgPjMnmdm/O757q3X4TXbp9zvLfQZ+ZBkPyT6vj2XxKY+X4i+gC4HP11gQCtlNcMvD1LTqEeAdZnZNTyGXuxK/Dr9BF2t+nXzax3L4gPeV+PE6B9jPzP5eI9fv9fEY/pJ8Eiie62YZ/pxJftuW7f4YONLMLuzy3SvM7NwK2X6uy0m48nKnmT2SBncrZT63Wp2jUrubA//A3xcCzs21BMt9yB7B38Enm9l/S9/90szeUCHbzzOg9fUhabvU7p34710N97k7O0P2U/hswilp1U74s/fLdbJz9jFECtk5ZvYqSYviIxiAOzov/jFsfx384tkCHwE8bGYvG8P2VgXWBz6Bv+gNuAn3H6mcckjK6zuT7BJp9b+S7Pcy2v6ymX1S0japbYCbzOz3NXJvr/q+Soks7eMGM2scsZTM7h/EFaN18ZvttgZTpX2RjnmrdiW9D3cEfiQtLwPsbmbfzZA91zoctLut6yHbj/N0P+fpa2b2Efl00qRiCiBT/kPWEdCijqCZinZvMrP1mvZ5UHSzWjeQnQqQq2DLAzaqnPpfXiM/GfiJmb25ST9L8q2uj/EkWUvuN7P/pOVFcafzuzNkW12XpW1XwpWD8n04l2LYIdPXOUr7mGmjp8SbyM6xNJXWrWFmd9XI9fUM6BdJi+CDBYBby4pkhuzGwEvS4oVmNrNR20OkkLW6cNIB7EnmSHFNXBnbKv19DnC5mb12rNqVdI2ZVe4jRzaZv2n40mvddmkfS6R2c6d4C7kf4xbAK1u0eYWZtQrZlrQyrswV0VgX4SPNezNku40EZ+EO4w9myF9rZi/sWFd5vUuaAiwGnIf7mBWW2KWAs3IUD0mX4L/zakoWTTM7OUO2n/N0mZlt3lQuyc51beY+GySdhgeX/LlFu/1cH/1EK/YVwdsPkv6AR989Wbvx3LKtr48k/zrcoghu1f9VptxjzK2IzsL9uj7cqUB0yF4FbFn8Xnmqo4stL+Kwn+vya8Cu+LRocR+aVUT+lWRbn6Mk/03SlGqOpbhDtttvvtrMNsmQbf0MSPJtr4/FgP2B1cxsH7m/87oN5F8MrG1mR6cB7RJ1CmiZYfIhm9rjxQdU+nJchU8jPZyWO1My9Bwpyn17XgQ8ikd2XAIclmnSbd1ul+2bMke25chjskb7vI3CKqZaJL0Ht8wtnpb/hY+Gaq09iRcBb5Z0D/B46oNZTZh/4mJJ38ajaOZYInKUbjzs/Fhgl7T8lrQuJ8fd3rjltJh23BpXctaQ9Pmq6YrEZEkqHohpBFnn6/cu3On4OYxMaYNfq9/O6DP05zzdz3maKel0PMVH+Tz19LORtDuwB35MTy99tSQ+5ZLDMsBNkq7oaLf2xUd/18e38Ai001N710l6abXIHI5J7RRBF3/Er++cVC7PwiMrizx1NwHfyRkkJO7E76nTGX28csL8W18fkr4KbIr7IwHsJ/ej+0RGu4cA9+LnSsBuwFr4PXIU1QEyC5UVG/MAkMr7cEDX5U64UpBtqSnRzzkCf47sD8yW9B9GzlNVOpf18Guq8528FB44kkPjZ0Cp/X6uj6PxZ3ORJuu+1IdahUyllCppP8/A/UJrU6oUDJVChjsvd/XJorfT5P64o+K/8dDcUxpYbY4G9jGzh2u3HGy7ACtJOqzXl1btj7W8KnKnZNys6+EXba9j3dX/Te64vCWwtY04Ta4JHCppWcvIMYO/uNrywvT386V1OcovwPJmVvYTOkbShzLbXQhPifAAzLFq/AR/KV2IO+tXcRbuwP+DtPyutK4naSrkUEkfsJrorwr6cY7t5zxNAf7O6PNSdQ+DD4buB5bDI3cLHgOyfPXwSMO29HN99BMJ1yqCV57Y+VhcoftJWr0JcIWkN1sKEqjhT+kzCVcwmtDP9fEa4IVm9jTMsbbNxAd6dbzOzDYsLR+RLNAflwd0VPGQpNeZ2emp3R0ZGVD3YhDX5Z34y72NQtbPOcLM2iRGXhd/Fy+Np44oeAx3gcihzTOgoJ/rYy0z2zUp0pjZE1J2ROvr8Rxx1yTZv6phYulhUsjusQzflk7SvP4hSTHYDTg3jdq+bGbX1oivV7o5dzGzE4svlPysxqhdcEWuZ0RjDZNx37G2Vrab20wP4ykbNrTkgwFgZndKehOeiiFHIWs9x25m27SVBf4uT6h7XFreHX9g5LCKjY6GfTCt+4ekHF+yj+NK2HvS8m/xKa6eSHq5uU/ffd0sxzkjTTwi65OS2jhP93Oe9mohcw8ezNM1AXTmPi5oK0t/10c/kXBtI3gPxhNpl31cTk9W/x/gg4VKLIX7t6RfX5mlGbEwTa3YrpMn0vPmpLS8M1A8j+r69G7g58nKLjxA6W1VAoO4LoEngGslncvoCN7KIKi0TT/niF6WWqvwXzOz04DTJG1hZnXpn3rto/EzoIOlaXd9PCn3DSzup7XIV4T7SqkCw6WQ9TOFVygGp+H5Zd4KrIMnEaxiNzx9A7j2fWLpu+2AuhFX23YB/m4ZTvA9uN/MPl+/2cCxsjJWWvlvSblh3L9mJLv5FDwU/DZGpl16olT+o0v7OcfiHbiP0LdS+0Vi1hzOl1c3KK6PN6Z1i+NRSJWkkd730ieXl+Gh5d2qJmSNNFuOjgv6OU9H0+XlWDXgkvQHM3txFx+h2imW0j7KsgvjVonHMxXQfq6Pd+ORcCvhUyTn4FOJOeyPT3WuJa9WsjyuZNSxlHVxODaza3NH9eqR7d9qAgISra8PPLnqzNS+cF+hyrxrJd6MH+vvpvYvA96SXsLvrxI0sz8Bm6uB/+sgrkv8/J5eu1X39vs5RwAfLf0/BU/WejXVrjwfM7OvA3sUlqaOtmsVyTbPgBL9XB8H4rMPq0j6OT7duGembD+pXIDhUsje0kaoZKHaER/xHI9bqXKiM9Xj/27Lg2wXRuc7aUpfyiv+QGvDfeoSHi7p5WTmmLGOyCx5cERWGRBKvgj4w+W1ZFoi0kg3x5eoG+/DlbDCl+AneBi4AbVWuzS9dBAjUVbFw7xnahQzOzD97WukqZbOsX2ep3IbU/CpgMq8XGb24vS3tRJZlk3TFDviYf85sq2vj+Ty0CoSzjyX1ctoHsErSctYR0kbeQqO3HqNHyn9PwW/xrOSd/ZzfZjZcfIo0cKZ/uPWI9VOF9k76T5IAfhDlaw8+u6NpKjjYiarakA3oOvyx8lXbZ20qkmUdutzlNoedawkrYL74VVRPFMrcyTW0PgZUNDn9fFbeWLlzfH7ab9clyQz+6Y8pcqj+P34WctMqVIwTFGWnSMQw+f3z8NPSNfpg2SZuR44DT+Qow5IlT+VRkcrjooo6VweZLtJfhO6/F4z+0uVXJJdntE+KgY8YpkXg+au+zXnWJvZz7pLgbzI9Wn4g6+cv2wrYEczuymn/S77bZtiYRE8D9HWFdt8zMy+Lulwuo/Yakd7/SLpVuD/mDvaseeUWJWPYJKtdert4hy7O16iLMcXo9v+2p6nSXhy2i0rtlm2ah+WkdOrx35nVk3PD+L6UH91+1pFhUnaF/fn+Qij8xh+Da/T+INesjX77SeSufL6kLSemd2qHhHqlhcR308ql7Pw6eDO+/DgCpm+r0tJWwM/Bu7GlYRVgLdXTRvW7K+fcyQ8Pcz6beTbkvkMGMT1IXxwtKaZfV6eXurZNpJQu05+NTzK8nfp3pxsDQLnhsZC1m0EIo8E3BP4PiPRT518npEH6RI9tunFhpIexW+SRdP/MGKGr6KfdgG+2WXdsmkktbtV+6Fdwch0QcESkq4D3mn1eXW6to2b/jcws67mYfOSHxvgUUfF1MSFeIj/XFOZ3ehQNCYBG5Of1byTxfAElVX0PdpTH4XJE7OsQTmbRHE/rIsrVcWUxwz8/OfQ2jm2y3nahPbnaW382FVxNXNf0wU9A03KdPjaTcIHC3XX5SCsAT/Ep4Z+AGBm10s6ljyfylZRYWZ2hKS/Al9gdJTlF80sqzpBh7JRnOMsf52W9/H+eO3IbgpQbnDOaXhKkt/RrIQQwMpmtl1DmfJ1uSodBeTxqdo6DgZeZWa3wRwF/jj8eFfSzzlK8uWBxiQ8MKouJVPrQt0V5DwDBnF9fJdUTB1/Rz+GVxjISW2yT2p/WTxydyVc96jN+VgwNApZN5I5/luS3lqxzUF97D+nxNHA203yXae6JE3Hy130DJs3s64PgfRC+j7u/1bVdlfnZ3mY8tVUzNcnxeuoqv3XUFa8Z+O+KLV5sVL/bmDkQTEZ97f5QpVM6eX0hJWCNtL+ein5nXwdL5XSttbheZK+gft9lZ16ez4YbXD11ZamnXNs53n6FfnnqdPa/Tc8sKEnva7phpSnZ2bjFokda9odxPXRT92+1lFhyYqWNQXdg7KyMRvPpr53pmzj+9jM9k3/bt85gJPn3cuhn1Qul0h6vpndkCtQXJeSfohH0p+ZlrfH01nk8IxCGUv7/KPyag5Df+cIRg80ZgPHWX0EbrcBeyNaPgMGcX28yMw2ljQz7fOfqkltUuJ9uI/d5Un2dnlqmWyGWiEDSBduz9/Za6qhYKympMaqXTO7SsnptIXsL+WpKVphZk9VvQu63GRzviLfYnRzjxffiT22L1NO1DsbLwid++LrDNrota4b/RSehpGIt3LR29wRXz/11Vo7x1opuitNNyyRawVt428ziOkKvEzSqJdN8t/LycvVz/XRT92+VlFhA3r+PLfLi2+RDDno7z6+BLeo1a3rRj+pXF4M7CnpLvwYN8mt17iAfImrJP2I0bVOsyyy/Q5UrBQ4lmacVsmQ6SdaudhHPwFF/VwfrYupA/81z01Hkl2IinusG0OjkKl7Uthl8AzHJ3X5rqCfqahCwehM6roQsLCZVR3ffqY4qvq0Ag0vgpLsEmQ49Pbwi1gGDwGv8gNb1vovVdTPi++LZjbKWirpp53rOr7fHp+668z7thT5Vox+Ck/3m67jJ3huqVPS8k547qmcdls7x6Ypt3fj00JXAktJOtRq6qQm2a2Aa83scXkqiY2BQ626jt0gpisOZ+6Hdrd15b4O4vp4H14/bz1J95Hq9mXKto0KG8Tzp9tL7tIu67rR+D6W9Gx8GmhRSRsx8txdCnc/yKFI5fJfPJVLk8Hg9pltdKOfAvLvwa+RQkm+CJ9aqyUpuWeZ2WOp/Y3x52DOAIV0/78Of6ddDTwo6RIz+78KmRPM7E0dMxLQQIFVi5JvA7o+DsNrUa6g5sXUL5DnsltU7tz/XiBr+r9gaBQy5o6cMTwP0KFmVjVFs65V5AurolOLTwrN+/CcUad0FRpAu6mtbiPcZfHEq/vVyHZz+F4Gv/Fysrh3+usUTv3nM5IrqxuXk/ewnosBvfhGhdSnEUydH8Zf8ZfX6xid9+0x3NE+h6XwXEKvKq3LTXJYKNmtyuOY2Zck/YaR+mp7WU19tS7WpqL8z3MkPSfzYb6+mT0q6c3Ab3DL2tV4Mes6vof7Z24IfBjPufYTPJVHV4rpijbKq6Qt8PumM2HyUvjUdhV9Xx/mkX+vVIu6fdY+Kqz186efF1+f9/GrcWVzZaAclPIYGSmGoO9ox3vUpTROpvjuuPJcvBcuTOty2v0v/ntzs+uX+YyZnZj6/Ur8/vseGXnmElPTffxOvC7mgZLqEtoW75+epQN7oZGSb8tpdDWYpfBrrory9XFwSfZR8q+Pn8uLoheK304NZjcOwKeDb8B1gDOpyRfZydAoZJYZ3i/pE2b2ldKqrHxhNftcGi9T8zY8+/WmVhEBN6B2O0e4hQK6v9WXPul8KBk+R/+WHP+IXDO4pG1tdNhvP+k2Wr/45FnMi5FLOfDiSdwy0RMzuw64TtKxba17uddmBcfQsDyOpKXSg3RZ3Bfq7tJ3y1p1dNcgrE3PSO4CO+E1C/+nlDAxg9lmZvJM6N82syMlZfm9pAf6e/HpJcOtCd+vmS5dGH+xLsToe+NRanJ6la6PU/CcZU+lfkwGsqbv5IldDyz6LK8/+PmMZ0jByxj5vc+gfjAI/T1/+lGMWt/Hafrsx5LeaBn1VHuRXvRrUwq8soyIRfVRGifdb5UD5S7t9bI0FfvMmSotAhd2AI4ws19LygkWKVhI0orAmxh5/lRiZvenv/ck5X0zvP9XZljYyyXfytVgHqXGWDCo6wNXCItpy0VzhczsaXng0+VJ9jazhvU/G24/4dHc6SmuY3Tx5VFUvbgkLYeP4HfFHdUPN7OcLNl9tdsESSeb2Rtbyh5uZh/oo+3OY30vFaM8y0vF8Iy2ipGkr1j7lA1r4z5V6zP6QZ4TvTcFHzk9r0M2J8khkq40s01VSsGgLgXHO2R+ZWavTf4uhTVzzt/cfnfxEZprXQ/ZD+JOuNfhL4NVgZ+Z2UsqBV32Anwabi/cb+1B4DrLSJkh6QT85V5MDe0BLG1mtQ72klarmRatkr0MeKWlZKHJWn6OVYTpl2R/i1tMytNZW5vZKzNkvwtMY6RCwK7An8ysMrHsIJ4//bz4+rmPk/wOzH0/9cwHVpJ7J64YrYwn4N4cuNQyEqVKupZUGqd0H15fpRhJOsTMPqQekYdWEXEoaUUzu1+eSmEucq5VeULq+/CaqhvjFV6usNHlo6rkd8FLiv3BzN4rz5/5jZx3SjrWn8UTVAsfOHzezGqDutRHyTdJXwa+bmaPpOVl8MLxtVOP8uThu+ABJsIHlCdaXgqaHfCguD8l2TXwDALZEfILokI256WWlv+LX7Bdw+WrXlySHgcewkdLc00zVCkY/bTbhM7f21C2Mpda07Yl3Y+by3u9BD7XbX3HPlsrRkm+7ej4D7gV41v49Phe+PRS1+z/HbInArfiysHn8RfuLWaWNWKW+3G8EfiteQTQ5nhB9p5TeIOg2/nv55qQtJBlBFGkUfUe+Ij6InkuoK3N7CcZsjdbR46kbut6yC4PfIy5X/RZL+tOBblOaS5td6OZbdCxLitnmzxH3XOLkbg8gOImM3tujdxAnj99KEb9DHC+j1sxtsGnhHbGlYxaK2qyNm0KXGZmL5QXwv6ymXXzQe6UvcLMNivuAfkU86U1CtkmZna1PHnvXFiGA7ykr1lHZGi3dT1kF8OtoTeYR/2tCDzfzM6pk+0XSbcBWxaW3mQJvsTM1s2U34C5r4+cZ8Bc77zc51bq84bFoFMeMHNtTp/TvfhaM7sjLa8F/NrM1quTLRiaKcsGdGqgbesygs/HF/tr6pvQT7tNGE+Nu7PtQZRsOpoRxWgbkmKUI9hrdEzeFNyiZnauJKWR6UFyX4NahQyYZma7SNrRPOv2sfhUWi770648DgDyRKOrMzoRZk//NQ3AOVbSfowMVH6EWxYOwMsC1fEY7vv5lDzn0nqMWIDquEbS5mZ2WerHi8h3YP85PhX8Wjwg4e34gCuHxyVtbMm/Tp64ObfqxjmSdgNOSMs7A2dnyt6BWx8La8kqaV0dfT9/eilGmeKt72P8Jf+CZJ36nKSDcT/FHP5jZv+RhKRFzH0lsxQEWpTGMbOr099+Ig+3Ze6UD9t3WdeNFXGl4L/yBLMvYKSYfC3ySNAv4tfyWUn+/6wiAXiJvzPaUPEYmfVd5dPDW+MK2Zn47/1DZt8np3P737SvRcl0H8Cn1Kcwkn9wEXzgksNjhTKWuJMuhpoqFkSFrB8/plFYZi4xze23tqDS9djLy3HsZhkRePSnGO3HyOh4m2J0nNn3/ybrw+2S3o/fpLkOvcXUzCNp1Pc36pMczsHal8dB0lH4Q/QmRsK36wIK+naeBt5hZodKejUeMPJW4KfkKWQXAi9J1sxz8CjNXamIPNSIn80z8HxRf07Lq+HWyRyeae6vtl96gV4g6cpM2Q8BJ8qTrQp4dupzDvsk+eIlNwlX8N5FfQTgksAtkgpFaFM8qvd0qJ4S64WkFczsgYxN+1GM+rmPC0X3CUnPwV/yK2a2e6/c5/dU4LeS/smIMluJ9VEaR9Jr8ZyHqzG6/FnPcyvpPbg/5Joa7Ui/JFCXC6zgZGC6pGm4v+xpuJ/zazLlX2VmH5P0etwP9Q2Mnl7v1u8iMOYO4HJ5rWbDc/rVBQQU7AxsCMw0s73kgU05SiD4wOpceT1McGX/xxXbl5kF3CR3IzBcGb5CKQDFqtPBXCXpTHxgZfjU55VKGSCqBsEFQ6eQSVrOqqOMOsOqD83cbz/+VLvg5vl53S70p4D2q7ze3bE8J2Q5TQ/tgkcaPYc8R2ToTzHqZ3S8H24N+CD+YN0GD+LI4YikXHwGt3QtQcaLR91TuQCsIyk3bcbmOdN1ZWwwzrHFtfMa4KfmVRpyryeZJzjdG/iueWmi62pkGkd0daFQcu9PU3F/xSOXazGzK5OCX1xP2Uqz9ZdzKUeB6cao509SUt6ITxU/F78n6yisCG0Uo37u41+l/n4DzxpvZEazmdnr078HyfPrTcUtP1kkBaxRfcLEIbgyc0MxvZzBsbiC+xVG5/97zPJ9jJ82s9npWXK4mR2ulPQ0k0JH2AH3pZqVcRsX1/Of0qfgtAbt/tvcSX62pKVwP9LaHGgAZva19LwofDC/YGa5FudTGP0uOj+3w7hl7QFGosEfwoMCZpAbVW9mQ/FJP/ohPKHivfjobZD7v6YP2Zlj0S5exmJn3Iek1zav6rF+eTxiaOkK2T17rF8bv7luxKeSVsr8LUvi00Bn47mWDgbubXg8NsUf3Cvj0x4n40pHjuwpeOb5g/BR3mnAmZmyu+SsG/A1d3T6/BovuXJy+vwD+FXmPo7EU1A0afct6e+H8enSUZ8GfT8HuB1XZJcErs6UnYmXAroMeF5ad0ONzFLp77LdPpntvhZ/QW+A18C9Gq8pmSO7GJ6v6IdpeW3cn6RKZjU8rUCxvA2uKP0fnsewyTl7Jl6AeZMGMosCu+GDhL8Aj+DTRJMy5T+T7qc34lbf+3Gn7RzZfu7jRcr/p3O2SI5skpmMK5yrFp+a7R/DrWJdP5ltnpd7XAd8TV+OD3pvBNZI625s0Iev4hbmmbj1eXng8ia/o80Hz7O2NO46cHtq/+gG8qvhQTbFvblkw/afgbtZPGusf+uodudlY2N8Aq8H1kv/vwi4YMD770chG7gsPjL+I64Q3Qns02Cf78RHHJemB2nWS6ckfxE+zbIuXoPvl5ly/wYuwHNiFQEldzZodzLwzQGdz5fhofdZL75u5yH3vKaXxh74dN9ni0+Dvp4DrFhaXhEvip77O2cBt6V75Abg+hqZd6W/B3b7ZLY7CY/qWjotPxN4QYM+n44nogWvQ3lYjcyv0t+70v1wV+lTe42la+v/+riefoEHBNyYlhfDnYGrZC7Hc8uBD64expXgH+NVAyp/L7BB6Xq4H09CeTPwoYz+HosrYUfi0zKTgbsa/N5JlAa96Rqfminb133c5734gXScb0r3Qu39UJL9Aj6FuCTuT/kemimgZ+HJb7MGN/1e00l2fTzZ6e5peY3ivmpwvJfFi2QDLI4X267a/pD094x0H4/6ZLQnYJXS8uq5z460/T64m8Of0vLawLk1Mt9nZPA3Nd1HN+CW290z2lu71Pej8Gfu9cBGjY51k43n50/nDZl7g7bdf0PZmYNuNz1QFkv/PxOPSMvd543A8un/NfFIoSZ9urbNscH9ZC5LF/on8QKs2QpZ2sdlLY/jZODWFnLb49naH0gPtuJzDB7ZlbOPsxh5YX+4+DTowy0dy5M611XI3oErnmvgo8bVgNXaXo8N+izgLSTFE7dEbNZwH4uNdT872ss6nz1kr0p/Z5bWXVcjc33p/2/iofrF+a1Tmm8q/f9JPGknuLJQq2DgQS3XAx/Bi2bT4l6c2WT7DtnG9zHul7cJXtB9I1zh3xi36mXd2+l+eGbLPs91PuvOcWm7c/Apq8/RcHDT7we3hK7bUraw/B6RlnMsv5ukvy/r9slst9IiXiN7LZ5bcGbu/jrupw8Bp5auuZk1sjfi9UbBB95X4+/kVwIXNen7MPmQPUujs2yPWraMHFc1zDVxXo7mqiGnrE92u4n/mtkTAGb29+SPkcuTZvZQkr1T+fXnCqZ0RN+NisazHpnczewQ4BB5LpvdcMfa50j6OF54948Zbc9MDssnAo+X9l05P28esXebpFXN7M8Z7RQMIlP/ymZWWbC9hnMlnc3oXFO/y5R9yMxOb9KYRmdQnwvLq3P4XTyI4OV4qo/H8GmpTauEUvtb4JabJYBV5Rn732Vm782Q7VZ26ZDMc36xpG/jynP52sqpTNCmpmT53n45bj3B3Hemrr2yf9orSNF+5iVyamvv2UjKh92B30l6GFiygUM/+HX5RtxCbpkyBW3u40EEm/wFt1604XF55Ynj8fO8O6W+1/Ac60htUod61GUtyLkuJc3Alf2FgTUkvRC36uUGexyNP/eKfHr34eesZ1F66xJZmnxoVzGzXKf+ayRtama5QTVl2tSULNf73Zb0zjazv2Xci7NtxF/0tfjg6O/4fZVbr9T72vw+mj9JYbI9sYwcV132OeflLWlPMzum4/trcNPoxy0loRsEde2m9Y/gflDgD/aXlJapuuEkPYg/VAp2Ky/XvXDlebF6XThmPfI2dbvBUtTh7sCuZjatqt20/dE92qxNsirpQnxkfQWjXwK1Dydl5tDqIXsE7lBbWwWhYh9vYKT80YVmdkqmXOGLcQaZdTQlvT39uxU+5fGLtLwLni7h3RntFrmaZtpIEs3rLCMhpaTLcd/I00uyc+Xq6iF7PR6d9QLcivkj4E2WkbMtOXl30vN67pDdFrckrI9bQ7bCfTDPr5A5lJHpxtcB65hXNFgROMPMplfInpHauRefIlnDzB5JSuFVZva8XrI99rcJfh++CffrzElo+xg+hfUU7o5QGzlYku3nPm4cbFIanD8Pd7X4NaPvh5yk1KvjPn5b4c+/i/Hp4bszZL8O/M4a5P8qXY9TcH/f6/Bj/AL8HG+RsY+rcWX//Kb3Utr2KjOb3vI+Pp+OOpjAxWa2f5Vckr0VT3h8D/6sLq6tnDqYX8f9Id+GT1G/F39u9aw0kI71wfgA/Pe4+9PfkjJ3o1XkEkt6wA64n+89wMvN7Kb03S1WkxNw1L6GRSHrhzQiXwl/0T0oz9t0APASM+sZ2ZGsUh/ET/gXzOyn86LdJFv5grGKvDelF24v2dwQ4Uak6J4lcOXvODO7eSzaqWi/6zGrOVaty5eUZBbCTf134i+B7IdLv/T54rsMeHGhiMpLIV1kZptnyF6Oj6qvTIrZ8njm+trcV5IuN7MXtXwJFIrgZ4H7zNNY9JXgOKPNSbgCeS4jNSUvs5qakvKh9674tMiJZnZfWl84E/eMDJP0LNzyuCLwneJFL2kbfMromzVt34z7kR1nZn8qrRf+/KlNljyvkfQWM/uZpA/T/V6sSsQ98AF7E0rKa+Oi5pJ+iU9v3pCWNwAOMrPaXISSLjOzzTvupcrqAh3yl+AW2IvTfbUWfs1sliE708w2kud/XMVSHcxMpWq1bustrzqBcD/pV+HH+WzcJ7OnsiPPd3gYfi8eUhhB5Gl7XmVmH66QfS3wA9wt5gwz2yetfxnwMTPboa7Pc/Y1LAqZWk6zSPoGbma8FtfIz8ZP5leAH1hemZj1cQf5SYwuT1OVY6bvdscL9U7HANRaX9bFLXK74g+m44Djc0aZSX4dPNv/Cma2QVJiX2cZpS2S/Gq4A+bv5FmsJ1tFMWf1Ub6kl0yObMd+3gB8Dc9dJho8zPtBnrV6C0sh9mna4TLLy1r9Zvwcb4w7qe8MfNrMaqfvJZ2ET0l9Gw/Q2Q+Ybma7ZcheQPuyS62LuBeWhLrtesi2zsTeFvk08G64Rezv+H34CzP7a4N9CM8Nt4aZfUGeT3BFM6tNDtvmPpb0LjP7QS/lqkqpSpbDJa2jzm9SbB/NfM4vjztwr87oJMu1g5t+kHRTp8Wz27oeskfiA4UD8GjYD+L+TrVW7iTf2PJbkr0BV4p+DHzKPDVME2VwrkLuZnZXjcxk3B8sOzt+Z5tm9oeOdVuZWWXet2RJW9LM/llatziuY/0ru/0hUsiexJ3rTsDNjqMmfntZfdJIcWPz/FTL4D4GGzRQEPbGL/ZD8ZFq1gEdQLuVc/E1lptKnyKrmcKT+6hcmz4w+lhnWV/Sfsovhb+ZWW2R3vTC/SiutDadztoHL5q9rJmtJS/f8n0ze0WNaCHfqFCupE2B5ayjlpmk7YEHLflaZLR7BzDDzG7J2b5D9mi6WxNyLGR74SlCzsPP8UvxkXmlBTVZjDbH03O8Ismem9t/eY3YQ3GnWOEvgv0so9i2+iu79BtSEXcz2zA9ZGdmKnNfxaP3Ov3PcmpCditRVVcjsWttxFK72Qlh5aW4dsVf2H8CjjWzygz0Se57JD9BM3tueo6dY2Y5foKt7+M2yN0GzuocLMoTnr7KzN6TsY9L8Ajzqxkp2o1lTJ9Kemm39TmWSEnH4ddUudbpEma2e4bsYnhR8FelVWcDX8xUQFtZfkvy/dTBPJBUyN3M1pHnuTsx8x1xGvABa+YrXMg2LhfXj4Firn0NkUL2TNzHZVdgNv5gPMlqfLs6D7Ya1H5MN+jdePjy3zq+qyye20+7aftr8Qfysbh/0KgyLTWWm4dwBfA4PPS+U3ntOYWX5HfCFalpeC6v42x0yYic/k/CX9a748lDL7WRpI1Vco0LbZdkr8UVqstLsrk1AxsXypX0e2CvznORLGdHW4ZvUtr+4pwHUQ/Z8sNvCp6r6q+W55hfKDgvSouX1ymhJblG13NJbjLuFNszK/9Y0ee11W3kblZdC7fIxL4Wo8sdLYlPEb2lQraYfn8DPs1SvKx3Bx4ws9yAk/I+t8ZLGa1vZrWBPurPT7CfY70mrrBvjj8DL8VTltxZIXO1mW3S47tca1NW/3rInlFanII/h67OeQZImoKn2CiUuguB79UpVele+p2ZbdOmz2kfrS2//aAWhdxLso19heXuQ1viEZbfKn21FPD6qmtaI24hz0r7+H1a3gav3ZmdtHpooizT6Pn7wPclrYwrDDdL+rhV+3at2WExWqO8XDPS/KyZzYl2Syb8l+Mj9NcCK4xRu51RUsfieVOOxUeodc7nz8YjSXZPff01rlTdVCNXtH0qcGoyye4IHJwU4k9lKHMvSe3uhKe/OB5/mOZGPj0s92Mootl2xp2ic2gTfVPwUTynzKhCubhDdS+W7KYYm9k9yQqUy1WSfoFHpWY55pe2GTV6T6PtP/TYvBuT8YTLC+EVAtbJGdXTMgLPPBp2NUkLm9mT9RKOpD+Y2Yvlvjrl9ppM7z6ezmtxbW1OZkSema2R29cSrTOxF/eZpIM7XphnSMqt3VlYcXfHrWN34b4wuVHh/0sv/eJ4Lc9Iea46+rmPjwW+gw8uwJ/1xzEycOhGVQ3W3Aj1X0l6jZmdmbn9HMxsRnlZPr17SKbsf3Al4Vt123bIPSXpaUlTGzxfO/mdpI/QwPIr6WPm1TUOp7t1Pmcw+KSZmaTi+li8QZ8/02DbgoVx/+aFGF2X+lFq6gab2V4Aks7BBzP3p+UV8cCibIZGISuQhwrvjiscv2F0qoJu7NixfHBuW4Uylh7ce+BKxrLA+/D8PmPSbqn9W0n5bCTtihde/RpeUqRK7incz+YsecqL3YHzJX3OzL7doAv/wV9Yj+L5raZUbSzpL3gUyvH41NeDVdv34H14Tbb1JN2Hv0RyrSkXSPoknqZjW9w6cUaNTEGbQrnLVHyXVaQ7sRTwBCPTDpBbimNu1iazjqakr+EW5846mDkK2bvw5JezJf2HZorRnXgKitMZ/RKoioTbJm3TTxmi/WlYxF3Sy83s972mLaqU5vSSnCXp0/iU/ZwC0JJ+UmfdTywuac3COiRpDdx5vBJJX8bP7T/w+3ErM7s3o70yh+HVL1aQ9CWSn2CmbD/38WIdg+yfSfpojcyDkjazDv+2pJDmFpDfD/ik3D3mSZpd053ci5eoqkWeyuUgRupggjfc0/pa4l/ADfLajOV7KctCzkg91veV1hmev7IXRbBW9sCgC40Luc/pXItC7jZSu/aYYhCdZnGWMLNHM3ezSqGMJR7A8y9mM0xTlp/HQ09vwR8wZ2VYiur2WenMlx5quwB/xkdop+DhyG1Gy236txI+Onw9HnJ7Ap7Pq9aJMCliO+DK2Or4i+goS5FeNbIvT+1uhufDOt7Mam8+Sav1mkpVw7QSacQ0ySoc8rvITAL2pkH0TUn2J8Dz8SlaY6RQ7vXQXVmQ9H1caft00Uayon4Oz3a9b27f21KyGCn9/RvwiU7LWQ/Z2/AM2XX5tAaK2jltP4hfw8cC5zWxynXsZyEaFHFPg5gD1V8067W4v8zqwJn4NfY8M6stAC1pO1yxuTP1eTU8Z1tl7T55FOpxZnZ7XRs1+1mPkRq1v7eGfo4t7+Ov4c+7Ih/Yrvjg5xvQ3XojaTP8+XgMI4P06XhqhN3M7PIm/W5Kh7VoEl6Z4e6qaemS7K14zsNO37Ucn8quEfU2RpH0qc3v4H6IuQXQe+1nW0YGoedYTSH3QVjJJR2Ll2t6Ck9ptRRwqJlVGjmS7LfxAW85X+Qd1qAW9TApZE/jo6wn0qrih1WmGEgm9zfh6SfOMrMb5WGsnwQWtQo/mPQS+CNuej4jjXDvzBm5qEcahdTfp6vmrJP8Bbhp9QQ84eaom7PGpPwTvF7fmbgydWNdfzvkn8YVkT+k3zDqd/QafRU3TPr/p2b21tJ3WakJ0pTSgcCLU7t/wH25ah9OSX5hYL0ke1vutFgvJaGgm7KQXjY/whXXa9PqDfGR4ztzFOe0n74iS9sid3LfJbefSWZtPBHlWvg18tEcJb8k/0LcN/GmJi/3dF3sjA8U1sbvieMsL3FzsY8puNW0uLYuwoM+xjTiWSO+WB/Diyofrma+rIvg1zR4xvpaBbqYVkr/72Kl6FdJXzazrESraUaiOF4XW14S3b7uY3X31yuwXs9feUTl+/BnH7jl99u5lvo0mGobVVpWjGbjyliWwqKUBiZn2w65nfB76YY6Bb2L7ItwRX8t3LXkHbn3o6T98PtwRfz9dJyZzWzSftpPoyCqQaDkJyiPEt8YdyW4upf+0EW+Vb7IOfJDpJC1SjEg6Ri8ivwVuA/CX/GR0wHmvlJVbU5mxBfrFXg02itx02WltadHf5X68om60bGkuxlRhLqNBqqciZ9mxHzdeCTRa9RV0Gv0pdEOvK2CGpLp/UJGRxxtbWavzJDdAfcz/BP+W9fArQm/qRTsE7kTcuE0fJNVOB/3kG8ckabBZPk+GVcgz2W071rP6Q5JF+FT5xfiSSG3MLPKKKSS7GfxcktX4/fiVywj2q/Lfp6DW653w6dnj7eKpJAluRPwqeji2toDr8W5S43cunj0bqEU3YKXmsmpPIE8Z9sheDTcDDO7q+78dshvydypGCqjSsv3X5d7MXdw9Fn8OJ+M30874ZFwtQOFfu7jfpGnwFjVzG5rKNc6qrQf5BG8k3EXhfJ92PMelieEfh7u5/oK3GDwhQZtXoVXjiju43ea2asb9ns1/B7cDS/fdByunNXeF2oRRFWSfT4j9+LNlukbnWRvwq2Xx+LK+gXKDFQZCDYPammN5wcfgX2n4vsbcZM5uA/UI7SodYYX130jcBI+d3xsA9mNcHP73bhS9/7xPm4tj/UU3KLS6/truv3fbbnqfHVZl1X3DLgVmFZaXouaGnj0WSg3yQp4Ky3rOpLqlDK6Ntu1NTLnlT6Pdiz/PrPdt3f71Mhc27GcXQOWPuqzdtnXEvh01LV41GGOzM056zq+3wJ3Rv8cPo29U/r/r8Dmme22LgAN/BR/6X4Xr7l6ODWF2LtcSzN7fVezj9uAKaXlRXGrc45s4/sYV4TAI0vn+mS2OyP1+660/MIG9/E1XY5dXb3SGxhxbSh/mhQ1P6/Lp/Iext9rRUHwxXArT5P7Z6C1ofF33EzgqQbX1jNLy8+su7bwouDn49P3p+BBUH9Kx2upzHY/iJeHOpMRF4CsepTpOrydEb/qx/Acd9nHaeic+gHkma73wEdvd1Ht/PykmT0NHs2Sphyzpr/KmE8TnAycLGkp5nba7+zjOrhlbXdG8hfJ+gtRXgv/3btZ89Ipi+O+aLtbk8zCbiV8Nf47XoVP8/SK0lpanvdnUvq/sJwIv5lyOEfSbrgpHHyaKtcc/5iNTs9xJ6Md9btROA9XZj6voVVdR42U0GockVa+jpL1sfF1ZWY/TlO866RVtT5VtKxzmuinPmsx5TgDvxa3xANXDgAqfU9KXKNSfdo0bVPnG/lZ/J45v7TuVHnKkwPx4vSVmFes+GBp+S48OCeH6XhkV9OpDuvxf7flXvwVH4QVU7qL4C+zHNrcxy/DLSYzunxn5AW5HIRPg50PYGbXygMhcmgTVVqkPBAezV7rF9hJy3fCk+bBW5jZE2m6tQnl5/Ncy5YR4S33x9wet5C9Aj/mB2W23yaI6gv4/fry4p2eniFfBb6El1GqxMwOwwdHBffIq1/k8HVa5ossGKYpy24KzkfMrHIqU9ITjOQAEiM5gbJ8uSr2+2cz6xlhkaYNLwL2LpSEXP+zjv08B3ce3AN3Ov8Knmqgtm5ietnukGRfjSsJvzSz2shDeR6kPfAHzBV4Buc1ixdqD5mjq/ZpKXy4pt2iBEnxIJxEafrVqqsjfA8f8ZyAP1SLgIzfJeGqCgOL4/49xY0+GVik6veWZFvlayrJrYWnI9gSd2a+C3iL5ScRblU6SB7x92PccltMp7/dKtJeqGWd0yT7CO3rsx6LuwtcgDt7/9oa+n5JugV36C8SSq6Kj9Rn08MPVdIfzWydzvXpu9ssr6rBXXRPD5Dji3oi8EEbHd1Vi6SnGKkRuCgjvrfCrV7PyNjHqfig4rd4/7fFnwX3pv5XTW23vo/7QS1KCckj7/ZUH9Un0n7a3odTceW+yEN2AT591zOVRc17reu13CFf9aw2qwhWkTvj746/Wy7H78fTzCy3EDtqF0R1Mx6ENLtj/UK49bU2qjVNw8+FmX0+Q7Z1vsiCYbKQ3YorOK8tKTg5yRG7naQ5vlx99KduRPIGfORwnqSz8Is2exQjaV/8ol8JVzD2xi/6npFoJdlXMWLROg/3+dk0RyFK8vfiL63v4UrvY5LuqlNOqvav0QlMq/bRT1qDKfh08svS8kP4y2gG9SPsc/EXfuHgviieQb62CDPt8zUVVqU/Aa9Ui4i0PjkYz2J+G8wZ9BwHdE2wCWBmW/fRXqdVuYlV8iw81cYThWWgBdu1kKk6F7kvoHIesSn4QGHZTNnl8HyLVzDav6guj+HkzP1XcUr6FJyfK9jPfSyPbv+6pbQgyZfrw2aWk3LjJkl7AJPlASgfxKd8q3hB6vPP5cW6i+oTO/VjDWnAUfgU5JvS8lvxihJVvpnZBa27kfsu6MEncB+sD1uplFBD/pQ+Baelv1XXzZOdyhiAmc2WlBspXr5np+AWztxz3DpfZMEwWch2whWcrfCH8/F4SoPsFBRdpjpPtmZ5ucr7qrSQlbYrkqvujk9p/QRPXXFOjdyTeIbqD1tKOZFrYStZ5/ZM0yONrHOSDsF9ZW7Eb7zT8BFII+texz6zjlfa9gXM7cTcJidXNuqSpbvbuh6yrUbW8ije43t9X2OBKIfZ79a5nyrZ0j7mshxkWBMqHfjnwXm6E7f0Hm0titenl/sqjL62qpyne50jAW8ys6rk0FX96JlZvmO7l3Vbby1yMZX2mX0v9kPb+1hdAoByrU9qUUpInnZid3oMmGuuj3Kffo6/X+bsp0q2tI/Wz55+kUfwvpG5z1OOxehg4Mg292EbKs6TgJ/lWMi67HMR4OycgWYPq2KlNbGTobGQ2dzZ4z8EPCtNU/VUcHpMdWb5cqlHJmL8Alg6s9+P40rNsellsAvwcdz6UsWKaduD5eHBJwC10wyJjfGX9O/SC+x4PIonCzP7ULI+bo0ft68DUyW9CTjTGqRJKJFlHZR0FD5i7UxWmvMgXwP3I1id0Q+XSmtC4nFJGxcPUEmb0FGuqkebk3Dl/mM0H1n/m/rExr0o+z613oekHzESCfcW6n2quvn3FOSep85EmLWRwyU2xK/tH6VjfxQeZVmb3FHSF4A98ZF5cV8bPlDqRVVC0qzEmB0v7Um4xSzr2dyP4lXVpayNPD3QF5j7POXke2p9H+PWrUUspfeQR03mlHqajE9lb4MrZbmshFuLux2XuuujnPD7b0B5qq1OtuDfKhW9TvdH5bNHo3NxFf02GpyjxGm4k/rVlKw+mdwC/DBNGR6NR1j2nGYtI2k6fo6KawuAmqnWzuPb+V0bFgNWztmwT6siMFwWsmPMbM+OdYWCs6v1KCCtPny51DL9wyBQKZGqvFTUrrhytDiugObmEdqSkdIp1yXZI2pk3l+2HEp6BiOO/a82syZlgYp95FoUbzaz9ZvuP8leBxyJRzjNmTLMeanJM3ofz0jh+mfj11WtstNtRJ/Z31Y+Jz32tVjdlHIXmUXwvE0vTqsuxGvojWmiWPWRCLNjPy/DBztL49HPX7CKmqvyRLjPtwYlmwaBpPNKi7Nxn71vWkVaBg2mVFSvfefei3fg02Y3WMMXSZ/38cdxxb+wSOyFR0p+PUP2XDwiM0sxSDKt7t9BIWlDfOakCHz6Jz67cd08aLvvgu/ytDB74e+Hi4Efmtl5NTK34YOdzmd11/RVg0Kj84NOxqt1fL5qpkyDKRXl+xoihaytw+RO9DnV2WO/jTLPt9h/19+bLH67VZmUJZ1jZq/qWDcJ95Harc7EWnWsJS1qZl1Hb6pOhruO5RU0PhI4uOV0VKsEiyX5Z+BO35AXcVjIfROfXm5U11HJAbl5T0ftYwtcCV3CzFZND/d3mdl7K2SWB5bvPMaSngc8aGa1pWYkrQB8GXiOmW0vaX08J9mRGbKtz1OyguyAvwBWx6Nkf44HCHzZejjgJ9mTgfdYg5Je8qLRPc9ppvV1niNp/15f4TVpa33YkiL5CkuBLg3bb30fJ/nt8OcVwG8tM/GppNPwFAzZpYQGoZClqdL98fxn+8r919Y1s1812MdSqa+5pXwKuRcDa5vZ0fIauktaclXJkD0CONwygsR6yE/G/bD2wl0BTsAHeI+b2W4VcnOSiDdoq293CY3ODzobT5lTl1N0hpmd0ctA08QwM0wKWet5/iTf2JdLA8g835Z+HhL9PmD6UH4rI15zRj/J6nE6boL+L+RFDSXZPfAs7ueQmWCxJFs8UFczs32aPFA1ElE2G08R0MiKIc3JEL6mmX1e0qp46aWcDOGX4z5rp1t+Utnjge9aRzSlvDD8e8xsj4x2f4NbMD5lZhumaYuZZvb8DNnGiTBLsnfigSpHmtklHd8dVvPinY5P0dxIpoO8Rny43oBbTYvp3d3xh3nPwKJk2V7dRqai9sfzp4HnMayy5l2HWxsuxjPk391r2x7yB1Z9b3nBQZviU5YXMPp49Zo2Ksu2vo+T/Gq4kvG7dG9OtoxglzYvTUmvKt4Dap9U9he4xfdt5tU2FgMusQo/sHQ9zOocxEjaG1eqDslo90B8CnxdM1tHHpV/omVGA8ojF6fhbhdNn7ffwi2Z5+L34xWl7yojkCW9Ar+HOpNSV0XCFxbTZ+HBVr9Py9vgx/q1XQW772slRtx4/lqllEn6EB4Yck2/RphhUsgew2tPdZ3nt4pw+y77qp3qTNvNUWw6lZSxNnPLIx17PviqHorppdWz+HndSELSbEbC5Ed9RYWiIWk984LoqOQDkpbn5H+qafsOXDFqbMqW9BU8QulPJdmsa6PNA3VQqI8M4YW1SQ1Sbki6ysym9/guawpD0pVmtmlHu7lBEN2mM3LP0xLWzocReZbuH9BuSnuuY1Z1HNP3xwE/L5R6+TTNEbjfynpm1rPYtqQN8JdO8Vkct8JejF+XY1qbMfXhHFLxakYfrxxlrp/7eB+8MsKyZrZWGhx9v+pZPQgkzcAjfxc2szXkZb4+n2MFLa6Fhvfh1Xhy4f91rF8Yr5mcoxRdi1sEr7HMNB8d8l0H0ZnnaS/gBOuS7kLSVKtO2/EzPNv+KB9Dy6sNew6enuf+tLwicIxVVBqQ9AngGZZmliT9GU8SvzDwYzP7SoXsN/F7cD38er4YV9AusYoSht0YGqd+vIhnttJVhXmo7hHpU7lpy+8GwWR8NN004R+4L8Jre8jmONbe0FLZPBYPKAB/eZStbN/tWO7FQ2Z2eou2wZXsNa2dj9BaZrarpN2hWbJFSS/ttr7TAlXBiyzlMUty/0wP5Rz+IvcTNPmU637Uh3FXhZbnBo48Lq9XWKT62Bx3Dq7FWiTCVMl/o9tpqbKMlXjCPDFkGxaXtKalsljyAJLFa2Q6LaxPmNnBSf6iKkHz+rM3kp5R8qmo3fBgpm9SE6Qj6QQze1P6/2tm9vHSd3O5NPTgOTnKeQ/6uY/fhyd3vRzAzG6X16msRX3kfKO/pLJPJutacY2uRb2T/EKdylhq98ncZw+eCsIkFe3WXZOdbd0jd3Mo6jNeZDW+axoJUrkOWLezq2Z2TZUylti0yoJWwyo2Oi/fA3hOwSp2YeQ3AvzdzDaST7legOf37IqZfQTmKMrTceVsL+AISY9YA1/JYVLIxoOl1X/m+bbcbxmhxz24J2ekMQaox//dlnsxU54E9Aya53q5EXfwzvYRKtHmgVpQjsSbgj/UryYvwgra5zEDeDdwKB4pdh8+Xfu+Gpk7JL3GzM4sr5S0PV7dIIcP41NSa0m6GHeO3TlHUC0SYZIZ0VjDRcmKejoNp0rxIITzk/VZeHTYu2pkpnQsly08lYEx6XrYCH/4b4Un/rwPL2Z/aUZ/1y79vy0e2V2wfIY8wJnl6byG9HMf/zcpJQDIp8NzB8D95Hz7n5nN6lAwcts9CPdRXkXSz/FztmeNzCRJK5jZA+WVcv/MXE6Q9AP8/bQP8A4guz6svFD4PowM0n8m6QgzO7xC7OCK73IjSy+RtL618zE8V9LZeM5E8IC339UJdVjyDk3rnkrP/RwWBZbC3/1T8QCwRr53w6SQlR8oJGvABsB91sBJtyEX4IVXi//LIf+51o+2tLGMDUIWepdGqmMQ5VoWxR/g5RF8brj80sCtkq6kQRLNxIE0f6AW+x+VCkLSKngx6VwOwxNwPkvSl0h5zDJlVTX11YMPAb+WpzEpokin43Ubs/wwzOxquZ/Quvj1lh0EQYtEmOZlniYDXytGrC0orL7lQIqsF4iZnZWmzoqixrdafTTqY5LWsVRsuZjekLQe9SW9HgNuBr4DHGCZTtrlLrf8rsx7gI/IcyI+STPfyH7u4wskfRIvy7Ut8F5csavF5o7UPSRNDXbN0N5Bm6SyRbvnFFOQ+HHaz8werhH7Bn4ffhgoBgWbpPVZSZPN7JvpGD2K34ufNbPcUmLgCcdfVCgrkr6GK/w9FTIz20YeJLaFmV3coK0ymwPXJotmI981M3t/Mo4UFq8jzOyUKhlgCUnPKJ5RZnYMuGsNrmT1RB748Dz8nrwcvyb+n7VIijtMPmTfx6NBbkoj7EvxkPll8Wzyx1XuYIIhd+y+v7iA5KHFr8GtX3U+YBukKY9i+Zm4NeLPlpfGYR/g/DRVIPwF+kY8XH/PXhYFjSTRFD5qKRJq9pVEMxe1TKKZHi474w6mxQP1sowHaq/9Cbgpx5Sd2t4c+AcjeczOtcwM4ZL+iJ+XX+CJjh/JlFsET2JZTEndhDuaZ5UjknQ9fn5/YV5pIBv1l4T3UjPbokl7gyJNDa/O6LxJP6nYfjtc2f4So1+4n8Rf2L+pkN0dV5A3wZ9zV+LPvEvNrLaepEaCoCbhgQhFwtLWSTTnFen+eSeuzAlP7vojy3iZqXvOt/dU+XKVZBsnlS3JnoG7bJzezaeqQm57vB7rBrjCehPw1apro0N+f/wezK0x2il/Az59+J+0PAW40vKCc2a2dG3py3etZXtfxoNy3m8pPVCa3v028Dcz61m1R15pZzl8EHkJfh/emHM9zrWvIVLIbrJUUFse9bC1me0kT5r6m7YXRka76+IOpsXI+BZcI//jWLRXavdCPHfa7ZKm4TXkfg6sD1xRcwH9Ch9V3yh3eLwGn/JZK/X9kJq2bwQ2MrP/pRHjh/GH1EbAgWb2kh5yfedtk6f1+B6wgrlz/QuA15nZF+tkk3zb6KxKB+0a2XJ+mknAC4G7zewtmfKtH2xJfjPcv2gn3KpyvJn9rFLI5T6Av5ybj/T8OO+aPk/jCuEJ5sXS62QvBT5qoxNhfjNH0ZIHQKyEW3HLaQ1yQt77SdXxU/z+uZaR3GlmNb5rcuf8j+EjbPAX7tfLA6aMthfDp8EL35WFrb6Gb2UeKMtLjF1E/65hZl9Ilt8VLS/6t9V9nKygN5nZelXbVcg3zvlWavd3Ocelh/zL8HthB1x5Ph74VaYy98wulr3cdg/ELc3/wO/BEzunQGvk9wfezkiJrJ1wB/lDMmRbpfspyZfTdSyPp+6ptQQn69jX8GjLYpBRablN5/dLuKJ/T5JZBU8Z9GmrT30h/B4ugmw2wI/5pWZWGdE8CjMbig8eUl/8/2vcUjPXdwNucwvgfuBzeMqMndL/f8WjY8by995Q+v8LwHfS/wuXv+she1Pp/08CP0n/Lwlcn9H2taX/j8VH88XyNQP4bYdXfHcB/vIpn+8bM/e7D/4w/FNaXhu3NuXIfhWPTF0Ft7oui0d55ci+vfR5M7BVw+PxTdwCqT6P63J4OpenMrf/Il6Q+AS8zmOr9tNxbtLuC3GH4Lvxh+NMYMNM2aO7fI7KlP0N/vK6Li0XRYlzZG/p9/y0OK6L49Opn059fzgdq28PsI1tK777Hj5lektaXga3nuTst5/7+DQ89cQ8O9ap3XOBqX3uYzLus3cC8GimzO34AGP7Pu7BF+AKx624YtlEdmN8evaD+EA8V+4xfDD2JD5l+liD33wgPg39x7T8HDy9S47sHcBzWx6nRfGi5s8HFm0hXyRpPxSP5n+kifww+ZA9Ii/lcR/u37M3zHH4zHXKa8pngd3N7PzSulMl/R6/oLYfo3ZhtJ/Hy3G/AsydXescvsu+PK8gOXmaFwnPcRZ/OlnW/pnkv1T6bhDHuipHzmJmdoVGO9bm5n5pHZ2F32TFPgoMqI3OspLlTyO1EpvwLjxFwGxJjfKYyZNJvh63kK2Fj3Q3y2nUzD4t6TO49XMv4NuSTsBzCtVOQ3ZYyZ7CLUE57V4LbKgWiTCtv/Ily5nZCfIQeMyLEucWKr8Rn/K4v27DAvWRVFYecbsK7uN3Me5IfZm1TPlRwdfwJKrd6Cf6t5/7eBncn+sKRltBc9JP7Icr6Y/hz72N8dmCnMCEfwE3SMpOKtvR9qK4n3G5rm0O6+BJcN8BHJ7uwWOs2SzMg3jOt7/jlqO6vi5lZo9KWhYfGN1d+m5Zy0jnYH0UkMefWRuRpvLN7K+Scvf3gDUs+q7uSWXXLq5Pq85/9kFGLGP/I6W8wF15Flin/nfh/hjPBj5kZkXtqlfgFrOxYK0OZQxwn6Tk6DeWXJ9MwvfhifuKxIVLZ8j+JU1H3Ys/GM5KsouSl9bgs/gU52TcJ+KmJP8y8qPwGiFpVfPproflEY5FxOHO5L8EW0dnWR+VGySdjwd/LIS/QB+UdIlVJA3taLufB9t1wKl4lGJO9F1n2ybpb/jDfDb+MjxJ0m/NrKeCJU9I+wx8ZL+LpXQQVUh6i5n9TB1Z5EsPxZyEo0fTPa1Bz6hijVTVaJ2qA7c+3pyUhNyAkcIxu2tS2Zr23o4/7CeZWa7S2IaqAKDG0b8Duo8/k7ldN95hZodKejXwTDxg5KfU1w4GDzjICTqYi6REbYY/a78NXGCZFQ7MTS+/BX4raRv8OnmvPDnwAVX3taT34lbf5fF7cR/Li1w8Fg/guZrR95PIHIiqv3Q//aTruEqeN/JU8iN4i8CrIqnsufhv3QZXrqpkV8eP7f/Z6HQbjRkahSyNFrbrsv5s3PlyLKjyPcp23GzJPnhOqdWBV9lIncL1qY/A2Rv4PD7q2tVGHL03Z6Q+XE/M7FfJ+rGkjfYvuooRS9KgORVXHt+PJ+9cT9J9eAbpSl8sjdTevEANo7MkvQjP9bQW/gJ8R9PRFz7N8aikd+LTwwfKnd6z6PPBtmZ6oDcmWRPehk+F/Qj36/qfPNDgdqotXm+zhtnMGcnb1U0Bzf0N5bxeU/CR9l9rZK7Ar63WqTrwtAaNsBRMIulgG+2feIakyjQeZnZ9kr1dXvLp6MwXbeNudq7QSN3gNtG/p9L+Pp6Cp3GZht+LR1rzzOiFgvka/F68ScrL6WX91SY+Ep9Naaw8p0HCW3Dl8QHgA/h1+kJcEagaLK6CGyiubdKmpaz2/QxEaZHuR9KXzesw95OuYyk8cXl2BG9hWZcnlV3fOpLKVjVmZvunbQ+WdGRf92HTOdL59YM7DBf/f63ju3PGqM0H8YdS5+dw3Gw6lr93qYrvWvtX4MkI67b5WOn/XTq++/IAftvMunX4y3vJzP1dk/5OwhXZE/Fi0/tQ45OBK5nbAovgOYvObvF7bgBWxEfhm6Z1tb56JfkzSp/f4lab39fIHFKSPb3zk9nu1/BSUeV1y6a/lT4awAr4S+g3aXl9PAglp925fOy6rcvc1yQ8Y3bW9YYPUp+HO+U+o02bLfp4C644F8trkPyyMmSXTNfxJcBleIBRz2dDi77N5RNaXocHM70PV7Bq/Xb6vI9/gVuH3oUrdoe2+D1Hp/vwdrwiwpLA1Zmyd+EzAKM+NTIvT3/f0O2T2e4fcavgyl2++3iG/IuBvdL/y+NBGLnHay4f227rMve1Ch7pnXW94c/dIsVHT1/GQX4677v0/Mi9F9+Juw9cjg8cpjZtf5iiLGfaPC5jpAFEDfbR9pzfKOlcK5UN6fz9XWT7qsHZ0Xbnse67hqekPS3lgSmtK1JmdMWqaxS27tMgfp+kXfAH6h/M7L2S1gS+YWZvbNmnVXCFq6e8pE1sJBfYXFheOaAz8ci32Wl5RTwybJMM2X5qWc51jNueQ3kU9K/NbFrFNv2UIfuDmb1YXrptrqkdy/Pz2w63wo5KKmuZBbNL+3kZPtW0ND7g+IL1qIep/FJlvzSzN3Ssa103uM/7+Ibi+knX0xUt7sUiyvlOM3sk+UitbMniWCP7zNLinKSyZtYzh5mkz5lbxLvNPJjllQLa18yO6Fj3VTM7IEP2QFrUskzWyMXwurBbM3KulwLOshZRrskSWZnuJ03DltsbhVX4rkn6mJl9XaOj2suytb5+kr6NByGVk8reYWYfqJMt7WNd3Od2d1xB+6GZnZcjOzRTlgwm0WGzBjMVLkmHNzmhmZQv2M5M03Um+PJ8/PM6vssx37fKuN/LvydhZrZ3+ueYLt//m5EkpU15gaRujuE5L82lNdrhc9SyZaRTMLMTKSXTNfenaqWMJe4FKvNE2Ug+uRea2aHl79JUZK1Chk9HnZj8e1bBrWu5SVcbO8hL2gL331i+w49sKWpKAZX2UShGha/L3+hIGt2F1mXIioGN9eHnZ+2SygJzwvV3wF8Aq+PO/T/Hk2KeiTuEdyOrVFmnMpZYKbXT7XgZ1Yl0+7mP5wQjpeupzT62wKPEH5f0FvwYHFojU7TZOKmsjaQ8+Lx1pGxQftmlnSQ9bmY/T3LfYe4qD71o6xz/LjxB9HPw81Uc7EdxH7ha1D3dT13Vi/VK7TX1XStcSVpX7bB2SWXnkO7H9dLnYdyHd39J7zKz3erkh0khW0zSRviJXzT9X+QgGasoy1wqRyMtsR7/d1uukm3yXb9t/6rLulXwsjN1L9y/92FxbFt7E+auwFBervRLKJD0dTyFxL9xp94X4A6gtbnAknybB1vB25n7hbNnl3VzYWY/lEfNnYq/7N9lZlmZyWnnIL8wrhgtxGg/skfJ9OVqqRi1LkOWRvQXFx8zu7vNfvAEr6vjv31DSVhFUtkSt+NWjG90nJuTevkeDoB+6gb3cx9vmAZWhXKwaGk5yxqJp+rYUF6f8cO4b+RPgK6W5DLqnlQ29x16MnMrwCfh572ONwKnyyPgt8NTKeyd2W4r5/g0iDtU0gesukxSFWXFaDZwnNVn7r+5j2f1WvKciz+35r6Fc0iD7MbBG5K+hb8bzsVdd4p8fF+TlOVPO0wK2d8YmXYo/18sDxvPSlYElf4nLdfVolta/dXgLD8Yi4diId9z5GZmJxf/p2m7T+IVAr6K+xtV0aYgeN/YiLPnZGsfzfYqM/tYOuZ34/4jFzISVVdH4webPJP7HsAakk4vfbUknrCwSrZsnRJemPdaYPM01VUb7Yin6WjkIJ+mUS+QO423zsgt6XWM1ME830YX8O4q0rYtPK/clri/y4HphXcprqBdYmaXZ/S3a1JZXFGo4wXWI9VFzRTNmh3XRadsTjmxNrS+j80sy0paw+ykoOyI52s7UlKuclOu0VgklX1T900deRms5wFTOyztS1Fj5UrTqQXvxAdGFwOfU2bqCbo7x/8oQw4AMztcnrx4/XJ/cwYL5uXMFmbESts0yKcpK+Ml6daTVxi4mJSCIvNYFekvGiWVLXE9nkS2W0BfVqqhofEhm58ZhF9Vl30eWPW9mX2uQrYyktL6y+VUSXpAfRo3o38DzwSfPZpRh79cr3Ud33/SzL7cts9pH3fio9yjrWEUjaQbzbOR/wg4KU1RXWcZ5Vq67GsZYJU6nxd5FOwawFfw0isFj+EBBT2PeT/XVsd+FqJUyxL3Rzu5WooifUKRvb78Eqi1ykj6KrApPm0H7sdxpXnkVi+ZOS+3ZAV5Ma4QXVzlD9VjX8vhOd8+hDtP1yoRkm7BI7uyH8a9/GQK6vxlJN2Ov+R7yfec0lYqKC5pv27T4Z3rKvbzBkaO9R9yp4YkHYxHWDaOZpN0AW6lfgc+LfUgngi41rexDUnx2wlPe1NWgB/DK2b0tDjL6ziWp9/LAwczs9rUE2k/21IqM2UNalmmZ8HWuEJ2Jp5b8w9mVmuxlrQ1nmvt7tT2KsDbrSI6XB3+w/JchGYZ1VRKMgvj1sst8SnqLXCrYk6pujuAGdYgkr7DcjoXTZ4hQ6OQqXtitznk+PqMFRqjoILxomPkNhe9RiOSTsRN9AfjmaqfypFLsn07mSar3KH4Dfo0bsn4P8vLkbUk/qLdC7csHoU/UGuTliYlYSd8ynIz3On6V2b2ojrZJH8+HXnM8FFfVh6zQZAUwUeaKA1d9vFnM1s1Y7tz8Ii6j+DRSm8HHjKzOl8w5OlEXmgpx1Py6ZhpGUWJJX0Wd9QunhU74Q7QPcv5pP1vhD/8t8ItXfcxUlcyJ3jiROCD1iCHkfoMKBrEM6nbQDN3v5K+i6evKDtP/8nM3tdbao7sO/H7cCE8cOQ4M8vKFycvpbcHrqRfJK8JvHWOxUd9JJWVtIW1yAM4FuTeh2nbG4AN8XtoQ3l5sZ+Z2bYZslcDe1hKfyMvl3Wc5QUFbYo/Y5fEn/WP4CmHcmotT8Wf8Vulv0vjbiu1hgZJF1tNwEMXmSqHfcsZSM7Z1xApZE/jJv9ri1Wlr80yolkG3J8iAeJcWv+A9n9Y1fdVI+SOKaluspVTUulY38tIZu2skZukuxkZ1Tca8aWH4YdwJ9P7SrKP4lEstY6mki7DS70UL4HdgA/kKkal/WRHs5VklgVmmdlTaVprSRtJXlzX3kwz2yi9iFaxlMcsU8nYHE/D8lzcR2sy8HiVCT4pJieY2a3yIuO/wf3WZuMP2N/l9LvLfv9iZrVVCiRdbWablH+jpCvNbNMM2evxF2xh8VoWn7bMOVa34SWaikLKi+IO4OtWyDyB1wf9Tmrnrl7bVuzjPPz4NkkqWyiDXzOz3ECLsuxc0ZMNZIvp8BcDF5W+WhJ4uspaXdrHrXiajMK3aRIegZdd1Fwto9nUvp7tdUkpeTU+UPg08NNOpbSH7BQ8/2On1bfneykpJX8pnhOS3ob7k90DHFQ1gK3pS9Z9mLa9wsw2S8rVNrgyekvmAHiuZ1SD59b1wPvM7KK0/GLgu1Wy8mTsz0t9vBxPA3OZNajFK+lQPEnzqeQnlS2u3y2s3keukmHyIXsD/oJ9AV7r7Li6l+QgkEeGrQRcaGYPyovkHoCbw1eBnlGD/fJuvFzLCXjiyyZ+MN/EFdff4BddUx+aw/Cb82JcuflDjuXEzFZv2E5ZdhBOpouZ2U9Lyz+T9NGeW5dQ+2g20kP/vbgv1r64Urku3YMcurGQPOXEm4BPZcoUfBu/L07Ezfhvq+prYle8Piq4dWoS7gO2Dj4F0UohIz/auYimu1/SDvj1XWmVLfEVYGZScoT7ktWmB0j8FX9ZFgWfF8GV/yr2xkfh7wT2knQlI9axOtmCgzK3G0VS7tsGDH1F0rNbvuwvwbPqL8dov6rHcD+aHO7A74fCV3CVtC4LtYxmk/tR7YtfT2vhz+7v4xVdaptNfxsnlcWrAdwKvBpPyv1mRqICe/EDPHk38gCNr+JJYV+Ip0nJTVrcSRMrzFXy6i8/xK3z/8Kv71zZHzHiK/tm8iMgnyqUMQAz+4OkOteWVfF79nb8vr0Xt6w1oXFS2dS/p+UpM/qzOg+LhawgWR92xF8qz8TzIOWE+Ldp6xt4eYlrcfP72fiD+SvAD4qR9hi1/Ux8emVX3HLxC9w/6ZEM2Q3xUeV2+E12HJ7sr4kPi/Cpw93xabhzgO9VWQgGNdcuaUtGItIK2Z5TDqUp1o/j9TePx2+yXYFlzOwTGW3eiU+XHmkdfh+SDquxSP4CP85vM/clWwyfcnxhXbtJvnUeM0lXmdn0DmtT5bSSRuf0OxlPrPyDtFyX4+4Guj/wBaxjZotk9Pm1uOVlFdy6txSuJFRWVSjJr4j7kYHnqqq0RGrEH2vVJPfbtLxtks+yJKXzuhk+fbkXsLCZrZYj2xZJ38OVihMZXV+xbkR/DfBKM/tHetkfz8jL/rmW4SPUsr9F/c6p+LG+Ii2/CD/WW2fsoxzNdqSNRLMh6bYai+a1pHq2pWt8Tn6zmnaPxo/1Gvg03mTcKpozBVdYua83sxdIegZwkZltXiEzx89UnuriITM7qPgdVc+PilkQ4e/E3AFOeZ+r40mHs5TuZF1/H25JBb+nv2sVKV1K74i34dkRjmPkWf0fS1nxK+SFW8mK2pIb4EFMl9pICpIxQV7K8FLgl03epaP2MYQK2WRc0dgNr9j+cWuYYLFBWzcDG5vZf+Q+Nn8BNrD2oe9t+7Ey/nv3x3/vT2tEyrJb4krVK5Nsz8irHvJLp7a/AHzSzHqWt9AA5trVIyKtRiEqO8d2a7fWOVbSEtaycHNJKSorOq2c+lu0fSF+bn+ERxvfD+xZ1bZ8avedeJmW24BNCkVb0q1V0xVpOqgnlhE9KWmrTtN/t3Ud37dW9tW/P9biuEJR+JFtij8LLjaz91fIDSKpbKuEo/287Ev7aByRph6Jiksdz/G52wufUp8rmk3SVKvwJ5N0uZm9qKQgLYRnh8+ZRusnqWwx9Xchbi3/G66AVrlp3Ij7Q86WT/Hua8khXilQqEJ2UIE5jYOo+mEQ74i0n5Xxe3FL3GjyTDNbumL7QSSVfQzP8Tkbt7I3idAEhmjKUtLLccVgM3xK5VAza50gLpP/FFYwM/unpNvHQRnbGFeotsWnILOTLsqj2TbCFdd7cWfxHLmyFXJ53Jy7iSWfuV6Y2Ta5fatgOg0j0qy/wuBzbtBusxM5NyrwpNwfqdjPWpT8EzL60E8es7fiI/n34/neVqE+Ke1+uG/c8sC3SsrYa4CZVYI5ClcGhzN3zqZu68qUp842wadGihNWmay0TuGqQtJM/JhejU/hH4z7rdQq7zaYpLJtI6Ina6So+ivwabyC3PfC12kYkZajcPWipHRfB6zbeT+a2TVVyljiAjWsZ1uidVJZ4Ig0aP8MHm25BBUJZRPHpf4+jN/7hT/VNGpy+uUqXL3QSBDVcqnf5SCqlWpke1nJi771VH77eUdI+iAjlrH/kVJe4MEBN9SIDyKpbOv7uGBoLGRyR/PrgT/gF8OoH5b54mza5iN4PqmCl5aXbexy+SDp87hP0y34dMNZlpk+QtI7cH+kKfiL9wQzy1LGkvzj+Dz98elv57HuOl0iD2FewcxuT8u7MJK092wzeyCj7TYRaa0jcPu1nqR9bIs7AK+PT+1uhVupzq+TTfLXmtkL5XnMXotbQi8cawtb6YXdRrZNMEGRqf9DwLdKXy0FvD7399ZNyXbZvvULRO4zegMwyRrmqdMAksqqR/WLDAvZp3BfqIfxqdqNzczSy/7HlhFppnYRaZ3WwDlfUW9dG4SFXbj1d04aCOBHOQM8uaP5hviA6Bjc6vwmM6tNKtuWdB+tiLsNPJ7WrQMsUWX1Lck3DiZIcq2DqEpWcgG/xq+zOVQN2iqmWgvZngFnkv4fI/n/st8PSfZDuPJ2TR/PvK6JmK0izcdc+xgihWxPqh+qrUfBFW32bX7vo+2n8WK3TxTNFV9505UvkafxgIDixuhUqOqiu47plBkt3v1ml0fBXGIpyEGe8+U3uFI228zeXdVukmkckdZjWqe2vyX5fqLZJuHOt+cCm+Pn5zIze7jBPhrnMetHySjto5/ca1fRJZjAKvz10v20NR6w8v3SV48BZxSKfEbbjfL+DWiatfGxkifc3LL0aZNUtmztnIKXyvlr5hRLvy/7VhFp/aA+otnSfXyTtajDmOSvMbON5VHI95knla3zqewroj3to5+8ayfiwQR7UAomMLP9MuX7CaJqcy/2PdXa5njJ/b+2xINE2iaVLVtap+CzdVfnTrPCEClk8xuq8XkZwP5bv0TGS5FM0zsbF6NRjfapmlPwvGYfXfs+lspvavdSM9uipexVZja9j7Yb5zEbkJLRT+61xsEE5b4X/VOL/GdNXwKDoJ9jVdpH46SyXfYxCQ/+2LJmu5eb2e/T/2tYKRhH0htylKoeA53aAU6S7ZoHy2rcHpJsIwtoh+xpeKqb2na6yDZOKjsgBaOfvGszrWEwQZIbSMqNcboX+zlerZPKdtnXKsAhlhF8NUdmWBQyjUTvdKXO6tOyzcn41N9K+JThjfIIsU8Ci7Z9aMzvtB31qSOaSdIGZnZj+r/SSXUQpJHtXFhGHUO1jGZLsl/Fp4Z+0SGbnUdI/eUxK+ddWhRYyBpkvk77aJR7Te2CCVrnP9NoZ9zd8On0OWRajMrTaQsDz6BmmrXHfrKOlQaQVLbLPtcFfm1m02q2m/Oi7HxpzouXaLLgFkzBIxdvM7PnZci2jmZL1+VGuIW9fC/Wvh/UR1LZQaAWedfUIpggybWOwtXoAJuf48dsjsNfpvW11VR8xz7aHK/WSWW77Eu4RTZbmRsap348t9a85kjcofcK4DBJf8W16wPM7NSxbFj9+WL0O53V1nnxaZVyH5WUsZXwzPk90QAi0ig9gPGXwGupzwVU3v7vjHYOr81Pk9g1/S1nITcgt/RJ6zxmmjvv0spk5l1SH7nX8GCCSTQLJugn/1nZGTc7sKWMlZxy08N0R3yauZaWx+oxRpLKHmDtksoW94PS37/h6V1qRXv83225s82+I9I6rUrpJf7eOrnEu3A/ytmSmkazfSazjbkws7/J08CsnVY9DJySI5umgr+H+9BuIPc9fJ1VVIHokG+Vd412wQTgyXKLAeOuwBHmZc9OlqcOqaIcYNNZV7oywKZE+dk2Zyo+Qw5ofrw0d1LZS4D/Z82SypbvhyIiNyuV0xzMbCg+wDHj0OaNuDMv+EXzCB5eOy/afkYfsqtVfTLk39+y3bcAV+LBD0umz8vSureOw/lbBM8jNE/bbdHPX+C1HW9My4vh0V45stfi1p6ZpXU3ZMreiQ86tuzy3WEZ8osC6zb4neU+ngy8q7R8zYCO5eENt5+ZuV3jY4WP3A/DR+8X4i+ynYGV5sE1dU23/3OONR5ZCa40z/Xpo09Z12XLfU/Bp4K/jSt0C7XYxz7pWfWntLw2nr8xR/YC3N1gZmndjZmy38KT5v4A2Kzju9vG6HjdWBwj3AftpU37ndHGtg22nYT7c43J8cKnoq/CgzX2xTMPqOHvKd8Hbwa2anpMhslCVuukPAY8aalmnnkusjvN7O/zqO3LqU4DUMUPzexV9Zv15B34g60RZvYzeQj3F/HRCPiN/1kz+03ufuSJbV+SFi+0zESFXVgMtxjltNnYhC7pRXhG7bVwR9F3WIMUASXWMrNd5SVrMLMnkgUnh/+a2ZPF5vK8S7nTPC+wHukbrL549Qzcar0wsIakFwKft+qpof/KHd0fALbBa1kWLJbZ5zp6RgVqdDTuJNzanZvcufGxMrPjSGW8NDqp7FckZSeVlfQ6fJADPsDIqQCxpqTTcetS8T9puTJNjKUEvZYCpSQtkZaz8/R1uD1Mwp9lWRYQtYtm+zGeCuEivED2+nh6lya8j5RUNrV3u6RnZcouZmZXdNy2udF81wOfti5511J/eiKvPfll4Dlmtr2k9fGgiCNr2mydcqMBX8OTMOewNp7vLofGx8vMtkvP1CKp7IeBDSRlJ5U1sx8nH7TCGn5bZn/nMEwK2WKSNqKHud0aVFxvwHryUGhSu2ulZeE13Xr6ywyA3BdyN5YfWC8aYmZn4aORVsjDsfdhZKrw55KOsIxIoI6p2sn4caj1H0u0MaF/B1cqLsSLgx+Cl05pSj95zC5Qw7xLGkzutYPwh9/5SeZaSXX54PajZf6zATGj9P9s4G582rIn/R4rVSSVzelw8k/cFJ8eBdhP0pZm9ska0fLv6nT3yHL/SMrzT/HpcEl6CK9GcVOGeNntYTaeHuHknHaBcrmzOdFsVE+FrW9pmlTSkbibSVP6Gdw8nO7b4lrZGfer7IkGk3ftGNyxvSi59kfc4l6pkJnZlySdy0gUbnkq7gM1bebS8x3WxTWldiq+3+OVfuON8nRWs9Lntfj1VauQSdoaV/zvxn/bKpLeXjNQGL2PkeM8sUkn8Eq6n2SzBqGnDdrsNoIV7i/zCTN7TZfvB9X2vYyemx+FVedruZPR1odO2bqyK7MZSbcx6isqfDl6+ZyU2s1xvL4eH+EVYfqL4yOYnDQO5fM1G3jA2uecqY1m63SO7lxu0FbrPGapn3tTyrtkFdUUkszbq763vNxrl5nZ5hodSZtbWLh1/rOMfQ/UYb2fY6W5k8peQmZS2dI+rsezuT+dlifj02LZMwbyBNGY2UO5MknuErwMz3lpeWvgy1X3xFigjGi2QdyL8gTNj+ApXD6AD25uNrPa+rLycmdH4Ir3P/GURW+26mj4Kgf0rHeapCvNbNOO+/Bayy/b1jrlRsa+B30vtj5e6p1U9hJ8Kr3Sxznt42o8+Oi2tLwOHuFZW1qrYJgsZHeMhdJVRflmSta5PfD6kneRP9pry2TcQbONpWwqrvl3VV6pd1S/wdpFkA6icoIYKZlE+j/rGNhIKoXFcOXmSaDRS6hEjgl96Y5psFHLdYovzFGolgHewEges/0sM49ZepD8MH2Q9CpJvzWzbStkfqw+cq8lbpK0B54Rfm3gg/jDLYc/yp2njx6DF8Fc14o8eeau+IvyDNwC81LgT3iEZM9j3eexejstk8p2sDRerw/83q4lTc98FlcsJqVVs3Efu1yr8eJWilozs/PTAKmq3eXwqb9/4qlBvoG7H/wJ+LBVRO5WcC+egLiKDSU9ysj5X7S03HMQ2cHH8aSyN+B+aGfiUcS1mNmdwCvT8ZmED2h3YyQXZDeZbdRH3rXE4/K6x4VlbnOaTTneAvwwWQOPpkEKibaktp4yM0vK9ovw9/u1VXJ9Hq/V8Qj6/7OGSWVLPKNQxlJ//ihPM5KPjYFD4Hh8yHS+HXCb6+CmzFvxCgEfAO6ZR223dnLuR3asjjWwauZ2++Mm6YPS51rgQzUyr8PNyNfgWaPvAi7DzeBvz2z3MTxLdfH3j8Aba2SOrvgc1eDYXNXieL489fFfwM9wJ9WrcGvMGzL3cWkf53Mx4Eu41fqq9P+UTNkl8WnpS9J52hcvajyI62zPLutOwKf8TsWdr7+D18P9Ip7vbayP1Z24YrJ+C9nd8Zf6Mfh0yV3Arhly++P+O2uU1q2JZ67/v8y2T8Gj91ZPn08Dp9TInIP7NB2OR5h+FI+E24fMAJske1j6fBt/9v5sENdHRZuTgVtbyC0FfCL1c1tcAXx/Ok+nZe5jZh/93hi3vs5Kf/+I+zs23c+6wFfTtXYssE3Ftptn7vOXXdbtgw8u/pz+/yOecuM2vNbyWB+vg9vch0n2KFxB3zp9fkiD57yZDdWU5avM7JyM7U62Bonaavb1NO7suLelkZ3csT8rnUGfbc+0vCSby1hH6G6ubMU+P2lmX87Y7hNm9pWOdVvg+bwuNLMH5eHfBwAvMbNVMtvfGCiSyF5kZpX+RfISNbvg1oPz8AfSnXKH3HOtIrHjIJA02fqwgKhFHrM0HfZ/eL6m7XGl7ACrKHnSZR+tc6917KdxcteS7MvIy+nVNegiYWa2d0UbRSWEhYB7zezZpe+yisD3c6zUZ1JZSSvifmTgOaZq89Ol62Nb67D+penLc3KfLcDn8HvR8Gfh5zqfNx0y15nZhslCd4+ZrVr67lrLK2peniaeDdxtmRaRfqbg1CKpbJL5J34fvoKRQuz7WY3Fp7SP1nnXkvxCuEIlPMrwfw3lJ+MzKnvhU+wn4Of8ceueQqL1VKSkm9K+l8Stc6uZ2cNpVuNKG/s8df0klV0Et/7OeTcB3zWz/LrFw6KQ5dKvMtKxr53wB+lWuKP68XhdtDrn5UG0vWzVC7m03Vw3h0oJWWtkW2en79a2pG/gN/a1wDR8NP5O4CvADywVau+xr86Ixb1zH6od/hOdyWmzrwe1i2YrfPZaT8FJuqvLaqtS/Lsc+9vMbN2G7R7do92qyNJuyV03xKeWK5O7lvbRmdPrp4zk9Pqymc2V00ujSwgVrIIrpZPNrGc0rQaQJLXNseqxn1wFtLJPVhPEpIpEzFXfpe+n4OWtpuH34lG5L/lBHOu07ahotgbt9/PCbZxUtvy8Sdf1/fhsQG70LnL/6MVx5TMr75oGl2n/W3iwy7m4IntF6buuz5Q+FbLys3rUYKiBEaLx8eqyj8ZJZQfBMPmQ5TIwDdQ8+eupyS9gRzzPzbPSaPmUHItdH23nZnmfy2cmRxlLTKnfpFHbOwAbmacIWQaPJtvA8ooqd0Ysfov8iMVJqb1JeHLaZUp9m5SzA7WPZgNXSHYDfpR8HBpZQFoq+J3+awupof+atchOTffkrs8iL7lrwe24JfMbZlb2OztJvVMezPHZlDtQfxJXnr9KTUQZsLKkw/BroviftLxSRn/bHitvpF1S2XLyzU3waeHimjbqk28+2fI7mDuFxHPxZ18OrdNtFKiPaDYz+xF+HxYv3Osl5b5w2ySVnaMomlfZuLeJMpbk2iTi/gFeKYN0z3yVkUz7R+D57nJok3KjfF7nokqBxX37NsKfGwtrJHOCyHwftTxec1DzpLJ91w2es68F0EI2pmVB0st+F9yPozYb+ljT52ilr2NVNwJuaJ3qZzR9N14JoFcEbu0UswYQzZbksiwgadvWecx6WGwKsiw3vaYBayxk5RHuyfj01w/Scq61aQlrEGlYklsP92PaCPfJ+pllRGtqMFGljY9VSfZOXAE9skMBRdJhVp86o7HVX9JTjK5cMecr3NevpzNyh9VnIXyaNPdefFnV95ZRLkp9RrO1mILrtAgemXNdJdniOM8JJsAd+rOtNhWDkJ4KaNm6JOk7wENmdlBarp0a7scCK+l2fOajl2zPc6zqSEnMbJuq79M+2uSpK2TbWASL6H3h6VtGZVewjLrBBQuihaxNVGI25v4TR6TPgk7nse4cOa1RGi1bzcip0+IzarnK4mNmqzfocxVL0zCaDVpbQKCPPGaFxUb9+a+1yb3WOrmr+sjpJelE3FJ0MD5N+RSwVLGfKouyjSQ43cXMTuzY7y5VfS7RT6mX1gl4i80y2ynvt3Hh8hJlq8/sbueqot0LAOSJg39tGekEutA6mq3jhfvl0gv3a5J6JfLstAhmJ5Xt8zgXtMm7Nlkj6WNegQfGFOS89w+u+K7OAvuvHMW6646TwiVpSqclMblA5NDmeBW0SSpbzrbw3yYKWCdDpZDJs4FPwwt69rIk5NR5Gyb6UUAby0pavHQxn9jx9Y7p76J42ohz8BIX/87Y9QWMTtxZXs5J1VFYbI7EC8E3fRF8BZiZRnDCp8MOyJRtPAWXmGRmRSbrEyV9omGfAW5XyxQS5WlAAEnH4RFtVexH++Su/aRF2RS/Dj6CZ9kuX7tGXt3QTzD3Ndtt3Vy0OVb9KKDjzCBSSOwKHJKuzaPM7NYG7V8l6Ud4oAp4mZrca6fNFFzfSWXVRzCBmZWfeyjlXasR6yvTvvWXQqKbz2tTLmHuSjSXdlk3F22OlwaThPf/t3fu4ZJU1d1+fwx8giIMKigKyE0EQQRklJvITdRIQgQF8QMENaDRKKCJBvm8K+igRCAaUREQgjdQgxEkQUHuCjLAMPIwhoyIiUbEiSiiAuv7Y+86p7qmui57V3ed073f55lnui571+461VWr1l7rt6KZmClLuWDiw3GW8POBk61GAHM+09SNrobB/37f1YDDzOwCvzw0+F+uIPiGwG3m1Ks3wMWRHGVmTx3SZg2c/MFrcWnN4KYMzgFOtJbZP22RtB/OS7UL7iH7+fybdoP2rbPZfLvQKbiigO+p+eUqr2Cuj6gMvkJfz8R5NbZssG+QuKvi9c9aI+mluGmGQ3CZrBnr4B7GleVphvRZe65ipko1KLL8KlxCUb7tXDXmZpC0Di5o+mjcd8mC7B+oadc6my1yCq4LUdngZIKSvoRzOjyrZr9dmFXaz4S0twLWrvq+hT5CpsODEwokPQUXt3k+Ttczs4zWAf7JzLZuMxbfZ+35qpkqNasWlc1fCxcwOO7aBJuBvibIILsDWGSuzt8TcV6QRXXt5iuSvsSgG/0nZtbIje5vhG/CXfj/gtMjejPOs3CrmR1Y0RxJx+FKcfwYV6D7k7i6ZOcBH7Uhwnp+umBt4ITspuvHcirwoJkd12Ds/4HTproaJ3nRpExLsY91cQ+Cd+ESCz6DizdaxSCMvJFHVSZQB3Fghf4ax6/5/bPyJfL//xxXgaJW9FgRmaUKyO6N/Ds9Bxfs/H6cWGrGA8B3rULGIddH0LkKNUBjjLmukPQBnKf6+iEepyZ9PBE4Avcy9yPcC+bp1qAUWsvjxDxwo+PAcn21zt4r3EdWw12rK8zs8AbHi1LaV4CEhKQfAvuZ2f1+BuCLzCYUbGNmQxMK/HV9FK6ObN7r+Rvg3IYvoUHnK9QjGHNtrdLXBBlkxbeYm61FyYL5huICa6O0cSQtA/bwP7hNcOJ9u5vZzTXtlgNbFX/Y/qF0p5k9o8GxH4PzgL4AJzfyTJyX7uV1bX37J+I8qUfgYnwuwL1pP9vM9irZP/9jWyWbreZG3slDUxFxYAqQkOiCGM+cAjS9urgpeg/u6jhZgtaFgUMJMUBb9H2GmXVVe7DY99G462hXnPF6NU5f8BsN2h6Ie/BuiXuRO9ecLuFjceWINi1pE5XNFjEF1wlqmUyQaxejuxblmVOY5EZUQoHf7+AmL35D2sacr9YewRbjepHNhqCU7zNBBtlKXPAzuIvmBbnlulTbeUeMG12R2jglx24qnnnXMAOgalthv9Vx04YvxN3MnogzyI5t0PZrOAPuC8A5eU+epJvMbOea9iHu++gpuEhvU2wGX5D2WqGPtp65TjS92iIXaH4q8H/MbDO5mNT3N713hJ6rEAO0KSHTawHHeApuuvftwHrWQHZA0jm42LFVMt8k7WtmV5Ssj85mi3ngxnibFJC9V2gfpLuWaz82XS1JS3EZ6Q9LuhM4Jvs7q0bjLtfHU3DhLU81s5dKehbOmK6TsMnah+rURYnw1vRd+1ucpKD+4jTbqb2MYnxkgbXgblBtAmtjtXHyWk0AG+aXKx7yyyQdaWbn5VdKOhxXfqoJv8HFzH0cd1P5VZNG/u345mGetDpjLNut4Rjz/T4iafe27QrE6JgFZ/ApQnutxDPXNLM0SNPLT30/2cyW++VX4qaWwBVU/0WDbt6LC+y+0o9jiaSm2lgxOnVrAr9iMAusUaJKn8gF1j8Ll1F7NU7bqjZexl8bTy8zxgDKjDG/votstivkRIRDHrgxdR1DkgkAUITumm/fSler0DZEQiIqocDzef8vK9x+Fy6+s9Ygizxfx+LKij0sKUhUtmpotTtMkIdsnWEPKEmbWItyF5OOBjWIRMuYiNCpOLlEgItxP9JsenNnf/yXm9nPGoz9QJxn7Hk4AcvrcNMkpTfxQtsod3Sot6FLD0hTb5Mi49d8H8HaazGeOYXpn50FXGdm5/jlH+OqBKwFPGxmb2gw5hvMbBcNaqnd1vD7dqJT1zWj9JB5j/NTcTUpr8L9Du9u2PYKXE3V0MD20N/iWFXcFVlRwfcRrLvWgWfuktzijISE1YQAKDKhQNIPzGxR4bfYdLozSqduVEybh+xKfEqspCtsUJT16zRIl51PSNrHzL7jP29mXl7ALx9U9bC3SG2cYQaXP/bQa8obXM+XtA+Q1ST7VhNjKtfHN4BvyImAvhQXDPx3zHpDqmj9dlwwbIqewabZbFEekEBvU4yERJ6FBGivEaetFaLptQj3dpvxgPnYKUl1Uh0Zd0h6NU7D6RnAW3AGf1MWEqZTFywq26T7DvooJfM2S9oGp4/3Xbl4x6FlqnL8Frhd0r8x+JJSZajn7+GZonurbLYm06lVBHibYvS8MoJ114jwzPljhUhIDDyb8DIYftwH0cCLCvxOLt43k4XZhebetRidumBR2S6YJA9Z3pIe8ITEekbmIoqoCRdjzPl9rjGzPfznL5jZEU2PHYucbtFzgP/AxQheA9xoDaZcc2/Hj+C8dE0CVOdCNluQt0mR8WuSDsOVXBnQXjOzL1W0ifbMlfS5GnCNme1WsU+xRumMZIuax608FjdFsj/u+34b54Fscm21Ple5tvk6nDMGaMi5Kun7qMxr2DWSDsC9FOyJM0ZvwGU+n92gbenvquZlr4vEjbGquPttUckEks7GVRrJ664tqPEYR3vmhvTbREKii9qwzwVOB7YDluJ0DV9hZrc1aNv6fOXatvYIStrFzG5o0PfFZnZQ5T4TZJB1UrR2vhBjgMaeq8Kxg8shhSBpZ9xUUKj6/EhQRTZbrAdEgTpmvm1sgfhW2mujMGDVTNPrVuDFxfHJTZNfahVTh77ttf7fdfkXlJbjDNKpK+mniQFaek15zMxeF3LsNkg6k1n5maZVCfLt1wcws192PK6h2WyhU3C+7dHAl8u8TZLWtYrp15j7osJ01zqRYlCAhETks+k4nFc6MxifiXvBaROY3/p8VfS1MfAPZnZwxT6d2ReTNGW5gaQTcH+87DN+ef3+hjUybMjnsuUiGvK5bLnu2G22dcEy4O/l4gKP8VNLz7SajDY/lfpS3FRD1s+3LUC8dAhVgftBZXXUjZL7ErnyVG0kJIo3l3v9/0+V9NSqt2szO7cDz1yZplddhY3FwCWS3sZsRYCdcMk9i2va/l9gN+BFwHskPQ6XaZUZaDdWjDX4XFXwDJwUTRVl1/vGuLJRXZTrqcXM3iyX+fgs4L8krQWsbhXCrt7D8h6c7uFqftXDwBlm9v6OhvYRnLZi2Zj7UnEPTibwhsTH/b+mbfaO9cx58qEPD+Niser6i3k2bYT7e2yNS966Fmeg/Rez4QDVBw84XxXcC2zTQT+NmCQP2XuqtpvZ+8Y1lnGgWZmPosSHcBph61W0jfWQ3Y0TkV0N97DLHrzCCcNuEfSlGiAniHszcKSZbeenma6zimBP7yX5Dk7e4xY/zh2BpwB7h7zdlxyjjexIrQfE7xftbVKAhIQitNdyfYxMW6vimC8BTmQ2PnEpcIqZXdqynyfhslqPAzazipjLjs5VsACvb7857nvvCZyGm077Y5O2MUj6K1yNxCeY2Rb+5eifbDB+t9jmBNyL0TE2W1Zrc+BTODHv0zoYV2NvVMMpuC6mSkP0vKJ013wf0TMWaikhEfNsKhxzZ9yL0q7+38qav1MX5yvEI7iSnMRWyXEbS25NjEE2bchl2w3FKoq7xv5ghjzk88duLVvQFHm9sIJbvFIHTU7zaImZ/UNh/VuA55pZpeHTcFxtDLI2JYjGXkqocPygG7oiM0vVgf5ZU/w53hF3898d2AL4Gc5Ldn3Vb6nQz0in60uOtzVwEm7si3HVJrry+DY5/hLclN+Nud/iQCxfSZtbgBeZ2X2F9evjMvKiz1/VbzHkgevbjV1UVt3orkXpaqlEQgJ4jVXE3MU8m3J9rIszwnb3/y8Ebq96tnR0vlqLysoJnr9+2Pam9w+YrClLJO2Nc4Vn01I/As40syt7G9SIyP+RA2Ix8pptRb22Wv22URpcDfijnxrJpvK2AOpiA3Yxs6OKK83sdEldKbIPneoNnIID4nXMhsUaVXnIirsGHjo4s1QBml6KSyZ4ADeF/Y+4QPygGLKq49fR1gCV9BWcR+5juGnKR4B1suk0a1i/NpI/mKtjm41pderPwRpFYwzcvUvNMwdjCJmCw8welYuZC40Da51MYN3orsXqan0M2N8KEhK4a2/YuIOfTXLyNdvifpM34qYrP24Nypd1cb58yMWAR7BBs9+2MbqqmBiDTNLLgDNx9ejej7vwdgLOlvRmM/tWn+PrGu9qfzeuRlirWIzYi0ez8XnD+u9i7n4Y7wEuw4n9XYB7gzqqps3vK7Y92NG4PjFsg0Wm2hMQB5YjKH4tlkij/c8Y1PQ6FzfVXCWyGiPz8TrcW/jrgaMl/YBZ71itNl4sIQao399w4QJvY/CFwIDNRzHWAldJOhEnQfEi4K+BS2raVE2lVk6zqmE2G86bU0rgAzcjRlT2b3OfZ5IJaCZ7EUwH957WEhIxzyZgE1x95OU4L/W9wMrw4bejzCOoelHZ0Be4VY8/KVOWkq7E1WK8tbB+e9yFUOlGnW/ExGLEzrVrMF7vWODThfYjjdeT06fZBfeDuaHsjbuw/93MxrkNbKIm5m2Yh8lj1jCbLWYKLiQOrKKvJhl8eW/Tq3DFgfMHbiIqG+yZkxNZ3Svz8kh6Au6cBYmsqoUwtFxM4vNw05dH48ooPb1i/y7O1ZwUla3DX0uvY1Am5LNVxooGC3Xn9xOwppkNfdi3CQuo6GMvWk7B5dpGi8rm+mqSvZf/rhcAryZneFszgdUoXS2FSW5ExQl6g25b3G9wN5z0xf24F6ShseIdna/WorKSFgE/NZ9VLelI4GDgJ8B723irJ8kgu9PMtm67bb4SE4vRxVx7fhzjipvRqpmSP8L9wCvjZoYYNDPUxCWU3TBnstmsgQhmiQfkMOAHNR6QkdAkfk3dJBMEa2spUNNL0q64uLXvmStUvT3wTuAFZrZxTdvH4YrWZ3Fki4CfAtea2Zsr2nVxrloboBqRzlRbAsIlYo7VhUE2J1TcvdExjmSCYJkP3z5EcqOTOEFJG+F+i7vhirI/0cwWVuzfxflapTJH2brC9h8C+5nZ/d4A/iLOO7gDsI2ZvaLuuDN9TZBBdvOwH1XVtvmKKsQuq7aV7Bt1k+viJtnwONGZknIq4sH6ZQrMZov1gER6m6Iy+Gr6Hqq9VrJvo8zS3P5t9c8W427aS4Atcd6a1wMnA5+2CnFX/wDZGDeFlKXZ32CB2m9DjlGlUxciwNuJzlQI3pjIS1eAi2FrLF2hgELd6iCbLeSBm9svRlQ2KJmgCarQXSvZt9Yz18F4gp9NcolWmWfsT7jfYvbv9uweGjm+Kp26EI/gTFKZpH8Efmlm7/XLjco9ZUxMDBmwhVycTRExnniKcRMcizFP+RDwKSvPlDwZaJIpuVxO6f/zLR8ExWy2N9R55UpYSFgJIoiIA7P4GJIq2iQb1GprlXh92mh6vQzY0cwekrQezru1nZmtaDC21+A0j1aLMdhrGHquzOxCH3KRGaDvqDNAzWzvDsfWluPxXsTilJSk4+umpDwhhbp/SXUpoibcJFcUPf/AbRp/GBMHFpRM0JChumslNNLVigxriXk2bYqLlT3ezP67Zt9Qqs7XG3EewcyTfzXwyZr+Fkha3T8T9sVJwWS0srEmyUMWnWo7n9BggfCBTdTHYkTNtRd+rFsCWXHrLKai89iXminp2iK5fr/H4+J8jsa9pZ4NfNGGFKX3bfLZbF/GeQJmaBIfEDoFV9FfW2/TSCQkqryjIZ45RWh6FccSMpUuF2vY2mBv2Pcq5ypm2lHSOsCTzWy5X34ls/Vcv21mv4gc8lC6mpLybdoU6o4OjwiZgqvoq5W3SS31vFqMY+h5CfXMxYS1xDybcn209qA2peswG0nvwp2f+3BJCTuZmUnaEjjXzBq/uE6MQdYUSReN0l07H4id7sj9WId1EJKeXUnNTSfk4ftC4J9xnquv4moW/rhkvxXM3tAyAyPDzKyR97XtFFxNX210zEYWvzbK6eq2f9OS6aw9mdXas4bTWa0N9hbjKzPIYgzQs3CCyOf45R8Dl+KMsofN7A2xY644dlfhEgtw08xH46aMv4wzlH5nJYW61aAW4DhpEgeW23cvApMJGvRd9WLUWlerTf+jQtLrcddFGw9q077LfouxiW67ABviXkh+59dtBaxd5+DIM0lTlk2ZxOnLtpxoZtdHtP+Mme3f2Wiasa6kspuxgEZZTv4B8DLcD31TnNfrApw47reYfXudwcw2DRtu9BRcvp9gHTPCJCSaMlR7zR8rxjPX9k0x09ZbCzc9ejnOc1sleTJ4QFfy5zO4qbTMYD9N0lCDvQWrnKv8tKM3QNvEfS3CZThnPGA+Rk3SNcGjbEZ0uIQGC3V/2GYLdX9Ew7UBT5b0FAvIZot94Po+yrxNTR+2rfW8usDiZD56w8w+C3w250G9TVKlBzWSA/z/pR7BKiTtY2bf8Z83w8tgmJMIOYjm18hUGmTT5RIs5x9xGm2h9FEb9CrcDbyMpm+Zy3HThovN7Lrc+q8OC9iNmVZiMN5lFQ8IDTWIOogDW0h4/FoVQ7XXSjxzTbS1YrgOF2f4WiCTuNgYOIeGxmeIwd6CoefK0/a+tLoNTm8ckfu8sGVfbXmOpN9AuXRFwz5uA06ykkLduNisMj4N7AczAfanMJvNdhZQlc0W/MDNERMHFqLnFa27VuaZU72uVvG+t5akHWkR1tIF/ve4tf93H66W6AmSjh3iQQ0+XxYnKnsqs8/Tixh8tp5EAzHsmWNP4ZTl2N2vc43YOXQN1/UCmpfHCTx2cKakpLWtZeZc7PRurp/Ycx7kbQqJX1MH2msKyCxVhKaX97isDZzgPV1ZnNWpwINmdlyDMd+NO0+fKxjsSDq97PhdnCvfT6v7kqRbgRcXp77lspEvbeLx6YPIuLlOstlingGhcWAKy97rTeajq/teKAUP6udyHtShMcNdPdsDfosz9/bifb7tfX8aPWSV0yxTwmYqz0gFGqWPr4t74yw7l43K40TQOlMy/6CXVh1y1YPeustmiymrE+xtsoAMPgazOjNmtNeajRpo75nLeyBubnEccNfjVnmvkZn9RtIbgTtxhcLr2H6YwV5xjQSfq4IBupGk0xseE1y27yWS3oabggb3Zn6q3zZyFBZ4XZUlWec17iybLYRQb5MnJHuvC1p75vx+je57aiG50ZIQD2owkR5BG/K5bLl6HJPiIZO0jg0JvlVOqVvS/mZ2+XhHN7dQZDHUPr2MIYHXihDvVEfZbJFv5SHepk6EQxWuvdZpZmmh71U0vSTdZWalU4pV27L+qI4vqhWz9f20Olcx16Vv/xJ/vG39qqXAKWZ2aZPxxhIaeK3AQt2KyGZTTyruMagb3bXWnrmWY+z0WRDpQV1J4PmK8QjmjitceEM2BgF7mNl6FX0P9jVBBtnMhSHpCjPbt2xbIv58DHPDSloT+HMz+0rUAJuPo1GmpN93AfARMxs61TqkXXA2W8wUXKGfECX34Aw+376ovXa+tdReU4eZpYV+y7Kkvo6rMXheYf3hwCE1N+NYwyj6XNX031iAtw/UQroi16bVVE6uXVA2WxdTcApTcQ9OJoh9cfZ9dCbzMaT/oL9jRX8xhlH0+aqjzCOoDiW3JmnKMj8X9YSKbYmSoEa50jEHAa8ys5fVtJ8JIPaGzotxN+P9cT/4kRlkCgy8NrNHJLURMs2IyWaLmYLLczJwi79ZzXibqhpYRAafBrXXjsdpr62TTfdadTZbJ5mlAbwJuFjSa5k91zvjDOeXVzU0l4kWarAHn6sWrHLdduXVi0UtA69ztC7UrYhsto6m4EJEZWOSCX4ba0R4w+vj/t8o6NSjY2Z7h3pQ6eB8NWAVUdn8MRVZSmxSPWRFkcjkIStBLkD1ZTj3/YtxGSIXm9kllQ2ZeSt4Ne4G833cQ2NzM3twdCMmKPA6t/1TuFqHXyEnXGgVSQiSbjezZ+eWtzOzpf5zY82lKpp4QGK8TW2vf0Vor8V65hqOr0p3aR9mp/CWmdkVLfq93sx2bTmWFXSgU1dzjDKPYHQNzVgUEHid2966UPc47vE111aUtyngdxisuxbjmWt5nJE8W0M8bzHnq8UxVhmX3NvXu3EZv6vhruWHaVFKLGOSPGQbyFWZV+4zfrkPmYY5i6T9mfVofRc4D1cG5eiG7e/FSQt8Cni7mT0g6T9HbYx5QgKvM9YEfsVg4HBdEsKjymkf5Yyxp+FiM7qg1HPXl7fJIrTXYjxzLRjq8fYelO8E9rtELtmlscEec65iqDK4JG0ypmEEB15bmJSLhnwuWw6l6toatbepSLDuGpEyH+pAciOS1h5U4s5XU8rGcjzOSI8pJQZMlkH2GeDxJZ8BPjv+4cxpLsO93e2Ru4DqdJLyfBX4S+BQ4BFJ32DE+m6KyJTM7dPI4CzQZzZbsI6ZIjL4SgzBAVoYgqO6Jtpcq21obbB3eK6qKDUSJO2K8/h+z8z+R9L2uKnsF+AyPUdC7jvfCjyz+Hs0sx9aTXC/wgp1d5bN1vAYQHQcWEz2XrDumsXpaoHLAK31fI3QI3UscALwsKRGHlTidOpiOIJCKTEzu9vHr16OS/BpxMQYZGb2vmHbfHxUYpadcEHm/+6nAL9ICzkDMztO0vHAXjhP20dxSvqHAN8a5sGKpGkB4KFoiGaUVWQcmdn5ku4DPshgNtu7bcTZbJHeppj4tRhpgmCG/X2y45rX9DKfYNE1gQb7OM7VKgaopMU4L8gS4B2Svo0LaD4ZJ447Srr4ziGFujf3HkzlPuOXN2twzFBivE35c/VzBr1rtTIfOa/OocBZ5mrBXiRpSYsxzDsCPajB5yvSI7iGFeq6gosjUwOJkYFxTEoMGcxMI20I3GZmf5S0AU5/6Cgze2qvg5ujSNoNZ1QdjHvj/ZqZndWyjzWYDex/sZk9qfOBMhNA3DrwOtc+X8N0TVyw93818a6NkibxEiOM1eg0g09x4q5lNWZnNL3MbKOuxjnk+K0N9lEcb/aww0VlJS3DyT48JGk94KfAdma2ovuRlh4/NPB6WH+1hboVkc3W9IFbF4c0wt9hWfbeUpzczcOS7gSOyTyIdfGripT5UAeSGzGEeFAjz1eMLFFV3GGrfifGQybpOOBduPp1j5H0SVxGxHmMuF7YfMZcYPx1kt6Kc/ceinPvDkUFzTdzatXfBL4paZsRjjU0UzJrf1F+WdKFQGWmpMaTzTaqKbgmlGXwxWivBXvm8n8fDWp6nQJ8rk1fgeRFXmcM9qoGkecqRoD3ITN7CMDMfi1p+biMMX/MRyWdiZP66IJ7gcp7h8Vls/U9BVfHKtl7uFqXV3kP/e9xYSbI6a7V6b3FeOYAfkm1J3TUhHhQY85XDFkpsSKieSkx12BSPGT+jXEPM7vfB7XeBexuZjFyAxOJpMPN7Hz/eff8W66kN5vZmTXte9N8U0CmZEVfzwT+1cy2rNgnRlQ2qqxOjLepKWV/L0Vor7U4bqlnTiPW9GqD9wJdY2a7VezTyblSe1HZlQx6MPZkVpzSRu3B8GM4FbiedoHXWduyQt0rzOzwijbB2WyRHpBoUdkGxyj1kitQd63FcUtlPpp47cdJEw+q3y9Up24lPXoEMybGQ4Z7Y7wfwMzukUu7TsZYOScwq6VzBoNvjq8FKg0y6FXzLSRTEiBLtc+kCQz35viOqjY1BlddNltsCaKudMzaEqO91pQyz9w4NL3a8Axgg5p9os5ViQH6hoYG6IH+/7X8OC/HzQ78vkHbrggJvM4IKdQdk82WjzlbhZoHbqy3qQllyQTBumstKPPMkR1rDlHrQY08X317BIHJMsiKmWQb5pf7jhOaY8Smj48j26n8wGGB11nbkEDR4Gy22Cm4KmOwML6YOLCyv/fqBY/HEbnPCwOP04RFuOvn7cDbGBybAdGaXlWEGOxEnKtIA/Q64EO4F6h7/LqNgXNw19nICf09+bbnqlCou0GzmGy24Aeu9VfX8VRmX5YvYvDF+SS6qRk87H4/DgmJ4YMq96DWGaAx52scorK1TJJB9reF5eQdG06sQdWb5lts4LWkv8AZReDKD5V5sfL7R2WzRXhA2hAcV0d5/No4tNdWwXrS9ModP8TAiDlXMQboR4G1gc3M7AF/zHWYlWM5rvU3aUlI4HWu7V60L9Qdk83Wi4p702QCyrP3xqG7Nux+35eEREaIBzXmfM0Jj+DEGGR5b4Kktf26UcgvTAJby9VHFLCF/4xfbuKF6FPzrXXgdYakU3APwQv8qrdK2s3MqjwKLwN2tIBstj6n4JrGr1m5hMQ4tNdWuUFqPJpelbQ12Ik4V5EG6AHAVnnvnJn9RtIbgTsZg0FGWOB1xseA/a1QqJvqBKyqovZ1Be/H8cAte+jHJBP0NhNBz5IbgR7UmPPVq0cwY2IMMgB/M/p7XEkOJP0WJ5PwyV4HNveIzYQ83cx+3clIWmIBmZI5/gyXFv2ob3su7iFaZZDFZLP1OQUXHL9m49FeK/PM9aJ/lhFisMecq0gD1MoC6c1lIo8lU8vM/jy/nAVeN2y+RmaM+b7uauDlislm60vFPYZg3bVIzxzAAkmre2/+vsAxuW0jtxsCPagxOnV9ewSBycqyPAnYDXizmd3t122Ou/HfaGYf7HN8cwk5iZDrgB+GTJ9J+h9cIeFrfT/XmtldnQ6y+VhqMyVz+94G7JXdfCU9AecFqVLaXknP2Wx11GVEtc3gixxLVGZpn/jrI2+wLwBuqbo+Io/33YrNZhVCwJK+jstuPK+w/nDgkD6uS58FeYeZPavBvmfjpnTzhboXNA09CBjbD4H9zGXh74nLWM4euNuYWfQDV+UZyysJzN5TnO5aVLa7pHfhXmDvAzbBad6ZnITEuWYWEybR5Pg3A68uelDNbKgHNfJ83Wpmz/Gf/xH4pZm91y8vMbMdWn+JACbJQ3YE8JzMmwEzAZ+H4ARPk0E2y0a4N9mt5cqCZIbVdU3eFM1sA/8D2c3/e5ucLtANOOPso6MaeGDgdcbJwC3+QSicgfLOmjbB2WxjnIIr1TELjV9TnPZasGdOcZpeXbEQyH4D69btHHOumgaLD+FNwMWSXstsvOzOuPP18oh+GxMYeJ3xRtx3yM7P1bjpvVHRl4p7TDJBjO5aFGb2IUlXMCshkf87dyYkXUFrD2rk+erVI5gxSR6yO81s67bbphk/R78zzqja1f9b2eQNt9DPFri3qbcCTzOztWqa9IakDXHTUgDfz6YwKvZfg4psNnOiuMPaBntAfPsYJfd8/NqXcfFr+cZDDW9FaK8V+mmrrTVy/bOa8R6Gm6oYMNjN7EsVbWJ06qINUEn7MDtVuszMrqhr0xWF7/4wTkesE+X+rlF/Ku6V3uuatjG6ayuJ0NVSQULCvMyIXz7IAnQf2xDiQY08X716BGfGMUEG2RXAh4s3JH/D+n+Rb6MTiaR1cUbY7v7/hcDtViMtIVduKTPiNgbuxnnHbsBNg45kOix3/LaZksGeKkmn4bLZTrBVs9keNLPjWgy9FYooJSRpBbPGXOZRzDAzC4pfk7SJmd1Ts0+QuKukW/A3wmw5e5hJusbM9ggZcxvaGuw1fVWeq74N0C5QIfC66gXF7x9cqDuGmAdupEFWWYqppu0JwEtxxuOA7hpwmVXorklajssGL6Vq+s63z4t/D3z/2OnQJkh6DM6Dmv3mrwY+aWZ/qGgTfL78viMV4W3CJBlk2wLfwAV45134uwMHmtkdfY1truEfBNsCDwA34o0paxioL+lR3NTEabjalw+Oaqwlxy4GXh8G/MAqAq8Lnqrn4lKqMwOl0lPlb2wD2Wx+/QLgTjN7RkXbzqbgxhkH5o83VHvNzIZqr0V65m43s2fnlrezWRmJSi9GDLFTyxHnqncDNAaVBF4Dr7HqeoNPzz5SUqjbzH4ygqFmxx67irukRcBPLSCZwF8fA7prfv36/jtUxY0Ge+aK7Yt9xfY9KiLPV68ewYyJiSEzszskbYcra5G58L8HHGu5uLIE4N4QHwMsB36GU0Fe2aL9U5mNHztW0uo4A+164HrzSRUjonWmZN476m8mbbL1rGiM+ZVNstlOxcXmLffLJzPrAdkNqPWAlHibmsaBxXgFY7TXYjJLe9E/YzDGZxWDnYrszshz1ZcAb1e0lq7IG1yS/jBKAyxP8YHL+FTcY7L3YnTXYmU+epHciPSgxpyvcYjw1jIxBplmAy/P7nsscx0ze4mfb98WH5QPbCfpfpxB9Z6a9j/HXaAXA0h6LO7h8z5cenGTskAxLKRF4HWBtjeTZZKOtPJstjtr2saW1YnRMYuRkAjWXrM4ba1x6J+tQqTBHnyu6M8A7YoQ6Yq+6EvFPUbPK0Z3LVbmI0ZCIoYDcsdZxYNaQ8z5GocIby0TY5CRE+CTdL2Z7drzeOY0/s18qXfH/6//dwBO3LHSIMvFnmVesh1xXqBLcBmboyQkUzKGmGy2WA9IsLfJ4mImg7XXYjxzNh79szraGuwxOnW9GKAdcpOkzzIYeH1Txf7F62MtSTuSu65HGKvTl4p7TPZejO5arK7WgbnPpxa2FZc7I9KDGnO++hThnWGSYsiGznknBpH0FmaNqT/hJS/8v9uz6cCK9r/ET0/iDLAfmNnYihq3DbzWYHr+q3AaRDNYgzqnCshmk3Qr8OLi+LwH5NIa93sUMfFrJTEzjbXXFJlZ2jdtA5ZjzpVv/xLcdHveAD1ljAZoMIGB171cHzFB6pFxYL1k76lDXS2NWXIjd9yRJw/kjrWS2d/tC5j9TQvYw8zWG8s4JsgguxXYC5fu+h3/Of/mNZbSB/MBSR/Ha4+Z2X9X7LeeRSjyK67odbGvmJioTmQc2uKnNd+K824VPSCnm9kXatrHfOfgDD7NCixm2mtGTnstYvqmEsXpn3V13FYGe1/natJRx4W6Yx64ihSVDU0miEERMh9+n2AJichx5+95F+BiwkfuQVWEqGyn45ggg2wFLu6izP1sFpjmP83EvqF0+YajiEzJFsfozIDM9RnsAYnxJigig09x2msxnrm+DOcYLbGYc9WLARpLZOB102N06h2JeeDGeJuKyQQ2puy9WM+cIiUkIsbdu4e9L48gTJBBluie2KnfUbmcRzUlPU4X+ahRhISEIrTXYjxzNd+nVv9s1JQZ7JHnqhcDNBaNQbpilGEnbR+4Md6mmKnSWGI8c4qQkBgHI/Cg9uIRLDIxQf2SDjez8/3n3S2nGC3pzWZ2Zn+jm7fMVWt9ro5rgFgPSIy3ibgMvgMoaK+Z2W8kvRGXWXpcRdvYzNKhml44z1OflHkVgs9Vjedtk4hxjhQbj3RFp7/xsgeupKYP3AuBq+QSTn6Pi5XDe5v+t+7QQz6XLXdG0TNHO5kPiJOQGAcfATozyHBZ7HsAi4oeQUnHj8ojWGS1cRxkTJyQ+3xGYdtICtYmahlbuvAc5SZcZuawf3WcyqARcDLO4NkTJzFSRZbBt6ekx/t/LwS+Tn0Gn+UNjNzKR6h/UAZnlsppep2NC5j+V0kfxNUOvREXnzUXiTlXSNpV0iskbeCXt5f0z4w+W3nayD9wn+Bjxp4P7C7p+KqGZvYhXBzoObh4szZ1HfvK3stnQl5U2HZSg/YxEhLjoOtnyxHAYfkpZXN6mocDR3Z8rKFMjIeMnt5E5iOaTcOu3XVI+w9bhTJ+jk+0G1nFQAa9TRtJOj2/vaN4m06vkw48IMHeJouTkIjRXovxzMVoevVF8LlSnKhsbyhCukJxhbpjOILCFJyZ3e3/Tpfjql+UEult6kvPK/Z5GCMhMQ66NmbnhEdwkgyyOaEjMk/4PoPCiMPYd8j6LFC9kiyOqCPy+kZNvEshdGZAZkROwUXpmJnZZcBl7UYMxGmvxWhrxWh6jYOyB1nMuZqPBigMig7/HPh4brlOdHhGL7IKC6z/WEFfKu696HkR+Tw0s1GLe8815oRHcJIMsq0l3Ya7aW7hP+OXU4blII08QTZcKmSBf4CU9lPRLpimAc5DAq8/z/CbkJnZ6/yHc6IGuepYYj0gwd6mmPg1M/sZ8HwNaq99yxpor0V65vIeBIDNct4FsxpNrzGwisEec66Y+wZoKdZQdLjrwOtIelFxt1z25piz9/ryzEXRowd1TngEJybLMpf5U8qIAk/nJZLuZfCtdgAzG7rNt/8DrgbmnJMYKctcknRwya4b4+JKFpjZRiMayzJcunmQB0QROmbzMYNP/emfNTLYR3DclUSIys51hvwWVxJYqDtyLI8AvyvbBKxpZkO9ZDGZkn1l72mO6Gq1ZdSZp3OdifGQlRlckp4E/Kos6HbKWYBL1Q+NmVpm86gSgrnaccBM5syJuIffKcDnRnjoKA9IjLeprwy+yMzS66jQ9OpoiGV8s2TdjME+wuNm01mZAXo5OQN0Aii7v8QU6g4mcgouxtvUS/Zej565RAST5CHbBfeAvR/4APAF4Em4t5IjfTxNgvi3EM3h0lTDvpukrXHxHjviYpnOb5jYEDOWlfToAamKXzOzkUhIxHjmFKHp1RUFg/004HNmNpIYEkWIys4HhnjI5uy9Yxgx3ib1pOfVl2culr48qHOFifGQAWfibqTr4konvdTMbvAP4gsJC26eVGKzCVeJpfFTcivngDdyle8m6Ss4df+P4d5YHwHWcfeskZbVivKAxHib+srgi/TMxeifRVFisL9h1AY78FGcAbpZiQG6mBF+3x6JKdTdC5Hepr6y9+aErlYAvXhQ5wqT5CGbKWEh6Udmtk1u27x7Kxsl/sH439kbuKRn4tS2f2INSnlIejfwZTO7U67A8GXAc3BvYK82s38f3ehrx3ZUMThfrqxWdqEbg0bbyGLeYj0gkd6mqPi1GEI9c5LuMrOt2m7rYLx5g/3LOIN9hlEZ7JKWUzBA/foFwJ1mNie115oGXku62ArZkooo1N0XMd6mqtmIUcZL9eWZi2Xan9WT5CHLZ50VPRCTYXV2x/nA64DlcmrT1+MKuR4gaZGZ/X1N+0Nx08IAmdGwPrAVcC7QuUEWkylpZpt2PZ6GRHlAIr1NvWTwRXrmYvTPYliEu7bejkugGDDYGV2WtpV5lM3sEUlz+Z4VI13xaWA/ALlC3acwW6j7LKCyUHdPxHib+sremxO6WgHMOw9ql0yShyzLohFuiujBbBM1WTTThnJ1DiV9AHiCmb1J0v8BbrZcDcQh7WfeYiRdhHvj+rRfHlX9yuBMSQ0KWa6C1dR1C6ULD0iEt2klPcSvxXjm5OQ8Lsa9UK2i6WVOYmJikPR14OIhBughczVeJuY3rohC3X0xH71NfXnmYpmPHtQumRgPmTXMopG0npn9etTjmePkDYR98IKdZvZHSXVq6gB/kLQd8Atgb5xnIeOxnY0yh8VlSlbFJNQJWcYQ5QGJ9Db1lcEX7JmzOE2vYPoy2IkTle2Tol7cADWG5ALNVgrZFzgmt22uPo/mo7dpTuhqBTAfPaidMVd/AKPkCpqp1E8yt0k6FacltiXuYY2khQ3bHwd8FTdNeVrOjf9nzOpldU5o4LU1FLIcAbFTcDFK7n1JSESLu5orU/OdUQ2whF4M9r4M0A6ICbyOKdTdF3NCxb0NTR0Uc5AFOS/YocBZ/mX8IklL+hvWeJiYKcumTHvQIICktXCCoxsCZ5vZrX79bsAWViE42hcxgdc+buvJZrbcL78S54UA+LaZ/WJEY46agitOLbS5dtWThIR6EndNjI/Ye6icRNGGuOm+3/l1WwFrj9AbGYwiRGUT7ZC0FNjBzB6WdCdwjJl9L9tmZtv1O8LRMo0G2ZydPx8XktYxszJ3NpI2MbN7yrbl9vmH7IEu6a1m9onctnPM7Kgux+v7XUFgpqSks4DrsoB/ST8GLsUZDQ+b2Ru6Hm/h+HkPyLKmHpCYOLC+Mvg0D7W1+jLY5ytl2ZMt2g4U6s686375IGuQ5Z2YXCS9C5fxfx+wCS4e1bwH9Vwz273XAY6YZJBNIRosBXKFme1btq1h+1alRPrAB+XulBknhaSEa8xsj14HOIQYb5P6k5DoXdy1LX0b7PONmMDr+XbvSIyf+eZB7ZJpjCGLFUWdBPLn4AkV25q0H8v5jAy8Xr3gKToi93lhzLhGTEwcWF8SEr2Ju0awCDg2t/yA+QL1kq7pZ0hzmpjA6+BC3YnJp+hBxctgmNldkg4CkkE2H5D0WOBPVi92um9Z+ynDhnwuWy5jNR9kvlruc3YzHVUwaUzg9aOSnpK90ZvZUpiJ8WqSVdoXMTpmfWXwRWWW9sR8Ndj7IibwOvbek5hsTmU26e4iBhPwTsLF5E4sE2OQ4dTia8VOq9zpU8QGkk7AGVHZZ/zy+g3ar4t7yGdGWP6tZSQ31chMycXAJZLexmwW6E7MGjZzlWBvU48ZfH155mKYrwZ7X8RIV8QU6k5MPlPtQZ0kg2y9LCgXpx5/oZn9jbzYKVCnPj9NfAZ4fMlngM82aP9CM/tJ56OqICbw2szO92n2H2TWOFkKvNvMLh3hsGOJ9jbZ+CUk5qO21nw12PsiRrriwNznUwvbisuJ6WOqPagTE9Qv6TYz295/vhZYbGZf98sz6tAJkPRmMzszov3Yg2+nMfBa81TJHcIzS/tC0ktwcXl5g/2UOW6w90YXgddqX6g7MeHkMssFvIDZLHMBe5jZej0NbSxMkkF2PvBznNjpO3FxNw/KiZ1elQyyWWINqj603GIyJSWdQcXblZm9pevxdkGsjlkiMQpipCuk8ELdicknl1leSlVm+SQwSVOWf4UTO90U2N/MslqWzyK5wrvmaZJOH7ZxRAZOTOD1Td0PZ/T0GAc2VcxXg71HYgKvYwp1JyacvME1jR7UiTHIzOz3uPTr4vrr/FtZYpbtNbzOmZnZOjXt8x6bcREceG1m5w7bJmmTTkc5AnqIA5s25qXB3iMxgddHUCjUbWZ3+2n4y4FkkE0xZR5USVPjQZ0Yg8wrkB8CPA24zMyWSjoAFxeyFq7+YcJxe+SU46+qjJwRERV4LWlX3LXxPTP7H0nb46a2X4DT9kpMKfPdYO+BmMDr+VioOzE+ptqDOjEGGfA53IP1+8Dpkv4LF2/zziy4P1GPpDWsvrxNaUFdSXsAh5nZm7oeV0ympKTFOAmJJcA7JH0beD1wMk50NTHlJIO9FTHSFfOuUHdirEy1B3WSgvqXAtub2aOS1sQF+G9hZr/qeWhzDkknmtmHc8vCCau+GjjAzJ7coq8dfbtX4lSVLzazMzoechSSluESAh7yIrY/BbYzsxX9jiwxFygY7FsCeYP902b2UH+jm3vEBF4rFepOVKCKAuJV2yaFSfKQ/dHMHgXwD967kzFWTmaM+dT1VwN/iSuh9Cbg7XXtfXr7Yf7ffcCXcMZ9jHhr3TFjAq8fyh6qZvZrScuTMZbI8TJgx2SwNyMm8NrMRlXJIzEZTLUHdZI8ZA/iCi+De9vawi9ngerb9zW2uYakD+M8WvfgRB6/BtxkZo2UsiU9ihODfJ2Z/divu9vMNh/RkJH0mqrtNXFAK5nVswHYk1mtG5vLel6J0VOUgelD1mU+kaQrEqNi2j2ok+Qh26bvAcwjXg/cBXwKuMTM/tCyzuBBwKuA70q6DPgiIy5rERl4namDrwU8AxeL8GNctmgikY+DAtgsFyOVDPZVmerA68TomHYP6sR4yBLN8RmpL8JNOe4LfBfYD9jYXH26pv08DmfsHIaLQTsP+JqZXd75oKkOvDazoYHXPnvrQ7gA/nv86o2Bc4ATGyQxJCaYXExUZrAbOYN90sUo2+JFmgcCr/369XHK/cm7mEgEMDEGmaQHKI8xaqqtNZVIegwuoPkwXEbZFWb26oB+1sNNgx5qZvt2O8q4wGtJpwFrAyeY2QN+3To4yYwHzey4rsebmD8kg70d0x54nUiMiokxyPKkGJAwvJFyoJl9IaKPL5nZoR0OK+s3OFNS0nJgq4LSf+YpvNPMntH1eBPzh2Swt6Oq9FpsWbZEYpqZVIMs3RQCkXSPmQWLYca2r+g3OPBa0l1mtlXbbYnpIBns7Zj2wOtEYlRMUlB/ohvmapmpmMDrZZKONLPz8iu92OCdIxhrYn5hRWPMr3ykZbLLVDDtgdeJxKiYGINM0kG5xYWFZcysquBtYpbaB5CkYd5HAaN6O47JlHwTcLGk1zJbg3Nn39fLOx5nYv6RDPZEItE7EzNlKenzFZvNzFKJHE+FyKqA19QlQEj6btX2UQjEdhF4LWkfZssuLTOzK7oeZ2L+4QvUX4wz7lcx2M3sZ32NLZFITA8TY5A1RdJrqjStpoEYkdWWx3mRmf1bR32lwOvESEkGeyKR6JNpNMhSwH9DJJ1hZn8T0b6zc50CrxOJRCIxyazW9wB6YK4Grc9Fdo9s3+W5Hhp4TYO4t0QikUgk5jLTaJClh/f46PJcL5N0ZHFlCrxOJBKJxCQwMVmWLUgesvlJypRMJBKJxMQyUQaZpK1xtQ5vNLPf5ta/xMwu84vX9jK4+Ump8SppFzO7oUH7FV0NxGe6Pb8QeP2tFHidSCQSiUlgYoL6Jb0F50X5EbAD8FYz+4bflgL5A5B0lJmdU7I+nc9EIpFIJDpkkjxkfwU818x+K2lT4KuSNjWzT5CmKQfwmm3DLHEzs9f5D+eMbVCJRCKRSEwxk2SQrZZNU5rZCkl74Yyyp5MMsiLfLFm3MXA80KQsSrGM0QA1ZYwSiUQikUgUmCSD7BeSdjCzJQDeU3YAcDbw7F5HNscws4uyz5I2B04E9gROAT7XoItfAh8bzegSiUQikZg+JimGbCPgYTP7ecm23c0sBfPn8AkQJwE7AouB883s4YZtbzGzHUc5vkQikUgkpomJ8ZCZ2b0V25IxlkPSV4Dn4rxcxwOPAOtIbmbXzO6v6eI/RzrARCKRSCSmjInxkCWaI2kFs0H9xmCMnZnZ5jXtFwE/zbyRXrD1YOAnwHsbGHSJRCKRSCRyJIMs0RpJPwT2M7P7Je0JfBH4G5zcyDZm9oo+x5dIJBKJxHxjYqYsE82RVKkhZmY/rOliQc4Ldihwlk8UuEjSkg6GmEgkEonEVJEMsumkKkPSgH1q2i+QtLpPAtgXOCa3LV1TiUQikUi0JD08pxAz2zuyiwuBqyTdB/weuBpA0pbA/0b2nUgkEonE1JFiyKYQSesATzaz5X75lbgi3QDfNrNfNOhjF2BD4HIz+51ftxWwdoMpz0QikUgkEjlW63sAiV44Fdg9t3wysAgnDvu+usaS9jGzG8zsa8AG2XozuwvYtNuhJhKJRCIx+SQP2RQi6RZgJ/N//LzQq6RrzGyPmvYzxcWLhcZT4fFEIpFIJNqTPGTTyeo2aIkfkfu8sEF7DflctpxIJBKJRKKGZJBNJ49Kekq2YGZLASQ9DXi0QXsb8rlsOZFIJBKJRA0py3I6WQxcIultwC1+3U642LLFDdpvLulfcN6w7DN+ebOuB5tIJBKJxKSTYsimFEkvAU4EtvWrlgKnmNmlDdq+sGq7mV0VP8JEIpFIJKaHZJAlopC0PoCZ/bLvsSQSiUQiMV9JBtkUIukMKmK9zOwtNe0FvBtXv3I13FTlw8AZZvb+DoeaSCQSicRUkGLIppObItsfD+wBLDKz/wSQtDnwKUnHm9lpsQNMJBKJRGKaSB6yxACSNjGze2r2uQV4kZndV1i/Pk65f8dRjjGRSCQSiUkjyV5MKZJ2lfQKSRv45e0l/TNwbYPmaxSNMZiJI1uj46EmEolEIjHxJINsCpG0GDgbOBj4V0kfBC4HbgSe0aCLPwZuSyQSiUQiUUKaspxCJC3DlU56SNJ6wE+B7cxsRcP2jwC/K9sErGlmyUuWSCQSiUQLUlD/dPKQmT0EYGa/lrS8qTHm2ywY2cgSiUQikZhCkodsCpG0EvhebtWeflmAmdlf9DGuRCKRSCSmlWSQTSE5pf21cDFjBvwY+D0kpf1EIpFIJMZNMsimEElrAB8CXgtkEhcbA+cAJ5rZn3oaWiKRSCQSU0nKspxOPgqsB2xmZjuZ2U7AFsC6NCsunkgkEolEokOSh2wKkbQc2MoKf3xJC4A7zayJ9EUikUgkEomOSB6y6cSKxphf+QgVNS4TiUQikUiMhmSQTSfLJB1ZXCnpcODOHsaTSCQSicRUk6YspxBJTwMuxmVV3uxX74zLuny5mf2sr7ElEolEIjGNJINsipG0D7CtX1xmZlf0OZ5EIpFIJKaVZJAlEolEIpFI9EyKIUskEolEIpHomWSQJRKJRCKRSPRMMsgSiUQpkp4i6YuS/kPSzZK+JWmriv03lbR0nGMsGcNCSb+SJL+8qySTtJFfXlfS/ZJW899nof/317k+9pL0zQbHOkfSzyQ9xi8/SdKKBu2ulLSz/7xC0pMK2z8v6djCur+UdGnNWF5Rd+xEIjF3SQZZIpFYBW/QfA240sy2MLPnAn8PPLnfkVVjZiuB/wa28at2A27x/wPsAnzfzB41sz/z+y8E/powHsGVIOuSC4FXFda9yq9PJBITSjLIEolEGXsDfzKzf8pWmNmtZna1HIslLZV0u6RDi40lHSXpzNzyNyXt5T//1re/Q9K/S3qe9xrdLekvcu0vlnSZpOWSPurXL/DeoOzYx5eM/TpmDbDdgNMKy9f6vjLv1CnAFpKWSMpKh60t6auS7pR0QeZxK+EfgOMlrV74/gNeNklnSjpqSB9FrgC2lrShb/s4YD/g65LeLekH/vufVTauvNdN0s6Srsz6kXS2pO9LukXSgX79tn7dEkm3SUqVOhKJHkgGWSKRKGM7ZjXqihwE7AA8B2coLM6Mh4Y8DviOmW0LPAB8EHgR8HLg/bn9dgAOBZ4NHCppY7/uaWa2nZk9G/h8Sf/XMmuAbQ58Baezh19/XWH/dwL/YWY7mNnf+nU7AscBz/J97D7ku9wDXAMcUfmNW+ArZlwEHOJX/TnOU/kb4EwzW2Rm2+F0Aw9o0fW7cOf9eTiDe7E39t4AfMLMdsCdp3u7+SaJRKINySBLJBJt2QO40MweMbNfAFcBi1q0/yNwmf98O3CVmf3Jf940t98VZva/ZvYQsAx4OnA3sLmkMyS9BPhNSf/XAbtJ2gxY4dtL0trAc4EbG4zx+2Z2r5k9CiwpjKvIycDf0u39ND9tmZ+u3FvSjZJuB/I6gk3YH3inpCXAlcCawCbA9cCJkt4BPN3Mfh8//EQi0ZZkkCUSiTLuwBkvoTzM4P1lzdznP+VqqT4K/AHAGz/5qb8/5D4/AqxuZr/GeeauxHl2Pls8sJktx8WF/TnO2ADn7TsaZ6D9tsH4Vzn2sB398ZYw69GC6u/fhOuADSU9B+fV+1dJawKfBF7hvYOfGdJv/tj57QIO9p7AHcxsEzP7kZn9M/AXuMod3/KC0YlEYswkgyyRSJTxHeAxko7JVkjaXtILgKtxU4gLJK0P7Al8v9B+BbCDz2bcGHheF4PysVGrmdlFwEnATkN2vQF4K7MG2fW4KchrS/Z9AHh85NA+BLw9t/wT4FmSHiNpIbBvm868wfol4FzgUu/ly4yr+7y3b1hW5QpmjemDc+u/DfxNLgN1R///5sDdZnY68A1g+zZjTSQS3ZAMskQisQreIHg5sJ+c7MUduKm5n+OyL28DbsUZbn9nZj8vdHEt8J+4qcbTgR92NLSnAVf6abfzcZmfZVwLbAzc5Jevx8WCFePHMLNfAdf6QPnFxe1NMLM7yH1HM/sp8GVgqf//loBuL8R5Ay/0fa7EecWW4oyrHwxp9z7gE5Juwnn3Mj4ArAHc5v+eH/DrDwGW+nO6HXBewFgTiUQkqXRSIpFIJBKJRM8kD1kikUgkEolEzySDLJFIJBKJRKJnkkGWSCQSiUQi0TPJIEskEolEIpHomWSQJRKJRCKRSPRMMsgSiUQikUgkeiYZZIlEIpFIJBI98/8Bzgf+4HkaXE0AAAAASUVORK5CYII=\n",
              "removedWidgets": [],
              "addedWidgets": {},
              "metadata": {},
              "type": "image",
              "arguments": {}
            }
          },
          "data": {
            "image/png": "[encoded data removed]"
          }
        }
      ],
      "execution_count": null
    },
    {
      "cell_type": "code",
      "source": [
        "def read_joined_data():\n",
        "\n",
        "    blob_url = write_loc()\n",
        "    # Read in Joined Data\n",
        "    joined_df = spark.read.parquet(f\"{blob_url}/joined_data_final\")\n",
        "\n",
        "    dropped_cols = ('DEST_STATION_ID', 'ORIGIN_STATION_ID', 'DEST_LAT', 'DEST_LON', 'ORIGIN_LAT', 'ORIGIN_LON', 'ORIGIN_AIRPORT_ID', 'DEST_AIRPORT_ID', 'DEP_TIME', 'ORIGIN_NEIGHBOR_CALL', 'DEST_NEIGHBOR_CALL', 'ORIGIN_TIMEZONE', 'DEST_TIMEZONE', 'LONGITUDE', 'LATITUDE', 'STATION', 'DATE', 'WEATHER_UNIQUE_ID', 'WEATHER_TIMESTAMP', 'WEATHER_TIMEZONE','WEATHER_TIMESTAMP_UTC')\n",
        "\n",
        "    joined_df = joined_df.drop(*dropped_cols)\n",
        "\n",
        "    return joined_df"
      ],
      "metadata": {
        "application/vnd.databricks.v1+cell": {
          "showTitle": false,
          "cellMetadata": {},
          "nuid": "52a4c611-12dc-442e-ac64-cae333e0863d",
          "inputWidgets": {},
          "title": ""
        },
        "id": "vjTTzzCoP22I"
      },
      "outputs": [],
      "execution_count": null
    },
    {
      "cell_type": "code",
      "source": [
        "def convert_type(df,stats):\n",
        "    for colu in list(df.columns):\n",
        "        if dict(df.dtypes)[colu] == 'timestamp':\n",
        "            continue\n",
        "        elif stats[colu][1] == None:\n",
        "            df = df.withColumn(colu,col(colu).cast(StringType()))\n",
        "        else:\n",
        "            df = df.withColumn(colu,col(colu).cast(FloatType()))\n",
        "    return df\n"
      ],
      "metadata": {
        "application/vnd.databricks.v1+cell": {
          "showTitle": false,
          "cellMetadata": {},
          "nuid": "3a94fa00-132e-4352-a463-8fa632557647",
          "inputWidgets": {},
          "title": ""
        },
        "id": "ediWdv7NP22I"
      },
      "outputs": [],
      "execution_count": null
    },
    {
      "cell_type": "code",
      "source": [
        "def fill_numerical(converted_df):\n",
        "\n",
        "    for colu in weather_cols:\n",
        "        wind = (Window\n",
        "                  .partitionBy(month(converted_df.ORIGIN_LATEST_WEATHER_TIMESTAMP_UTC), dayofmonth(converted_df.ORIGIN_LATEST_WEATHER_TIMESTAMP_UTC))\n",
        "                  .orderBy(\"ORIGIN_LATEST_WEATHER_TIMESTAMP_UTC\")\n",
        "                  .rowsBetween(Window.unboundedPreceding, Window.currentRow)\n",
        "                  )\n",
        "\n",
        "        result = (converted_df\n",
        "                    .withColumn(f'{colu}',\n",
        "                                coalesce(F.col(f'{colu}'), avg(F.col(f'{colu}')).over(wind)))\n",
        "                    )\n",
        "    return result"
      ],
      "metadata": {
        "application/vnd.databricks.v1+cell": {
          "showTitle": false,
          "cellMetadata": {},
          "nuid": "ab7778dd-12ad-4fbb-989a-9d378d9dbe68",
          "inputWidgets": {},
          "title": ""
        },
        "id": "pbutMghyP22I"
      },
      "outputs": [],
      "execution_count": null
    },
    {
      "cell_type": "code",
      "source": [
        "def fill_cat(df):\n",
        "    categorical_columns =['2_HRS_BEFORE_DEP_TIMESTAMP_UTC', 'ARR_TIME', 'ARR_DELAY_NEW','AIR_TIME', 'DEP_TIMESTAMP_UTC', 'ORIGIN_LATEST_WEATHER_TIMESTAMP_UTC',\n",
        "       'DEST_LATEST_WEATHER_TIMESTAMP_UTC']\n",
        "\n",
        "    for col in categorical_columns:\n",
        "        df = df.na.fill('Empty',subset=[col])\n",
        "    return df"
      ],
      "metadata": {
        "application/vnd.databricks.v1+cell": {
          "showTitle": false,
          "cellMetadata": {},
          "nuid": "b64b3826-8f45-4aee-b82e-4aca2ea7a1c6",
          "inputWidgets": {},
          "title": ""
        },
        "id": "jEoxBfoAP22J"
      },
      "outputs": [],
      "execution_count": null
    },
    {
      "cell_type": "code",
      "source": [
        "def check_missing(df):\n",
        "\n",
        "    missing_3 = df.select(*[\n",
        "      (\n",
        "          F.count(F.when((F.isnan(c) | F.col(c).isNull()), c)) if t not in (\"timestamp\", \"date\")\n",
        "          else F.count(F.when(F.col(c).isNull(), c))\n",
        "      ).alias(c)\n",
        "      for c, t in df.dtypes if c in  df.columns\n",
        "  ]).toPandas()\n",
        "\n",
        "    return missing_3"
      ],
      "metadata": {
        "application/vnd.databricks.v1+cell": {
          "showTitle": false,
          "cellMetadata": {},
          "nuid": "b04aa1fa-0b86-4a1e-b59c-03d0f4cbc4b0",
          "inputWidgets": {},
          "title": ""
        },
        "id": "5fHy3LncP22J"
      },
      "outputs": [],
      "execution_count": null
    },
    {
      "cell_type": "code",
      "source": [
        "def cleaning_the_data(joined_df):\n",
        "\n",
        "    stats = joined_df.describe().toPandas()\n",
        "\n",
        "    #### Convert Data Types\n",
        "\n",
        "    converted_df = convert_type(joined_df,stats)\n",
        "\n",
        "    #### Filling the Nulls\n",
        "\n",
        "    converted_df = fill_numerical(converted_df)\n",
        "    converted_df = fill_cat(converted_df)\n",
        "\n",
        "    #### Remove Leftover Nulls\n",
        "\n",
        "    converted_df_notnull = converted_df.na.drop()\n",
        "\n",
        "    return converted_df_notnull"
      ],
      "metadata": {
        "application/vnd.databricks.v1+cell": {
          "showTitle": false,
          "cellMetadata": {},
          "nuid": "a8889283-b6db-4b4b-844c-1f5bed0eeb74",
          "inputWidgets": {},
          "title": ""
        },
        "id": "_joPm4pmP22J"
      },
      "outputs": [],
      "execution_count": null
    },
    {
      "cell_type": "markdown",
      "source": [
        "### Feature Engineering\n",
        "\n",
        "There are 4 families of features we leveraged in our models: raw weather numerical features, raw flight numerical features, engineered numerical features and engineered categorical features. Among the engineered feature families, we created various time and graph based features. For example, we engineered time based features to represent the time difference to the latest weather reading at the station nearest by to both the origin and destination airpots. We also engineered graph features to measure the in and out degree for each airport i.e. the number of arriving and departing flights for each airport. We leverage these engineered features in our modeling experiments in order to boost performance."
      ],
      "metadata": {
        "application/vnd.databricks.v1+cell": {
          "showTitle": false,
          "cellMetadata": {},
          "nuid": "b33cce8c-77fb-478f-81d4-7cc11eb721db",
          "inputWidgets": {},
          "title": ""
        },
        "id": "sk2qBOHTP22J"
      }
    },
    {
      "cell_type": "markdown",
      "source": [
        "#### Feature Table (Raw & Engineered)\n",
        "\n",
        "| Feature Families | Feature | Engineered vs Raw | Description | Data Type | % of Null Values in Original Data | Average\n",
        "| ----------- | ----------- | ----------- | ----------- | ----------- | ----------- | ----------- |\n",
        "| Raw Weather Numeric | Origin Hourly Wind Direction | Raw | Wind direction degree near the origin airport | Float | 5.9%  | 171.33  \n",
        "| Raw Weather Numeric | Dest Hourly Wind Direction | Raw | Wind direction degree near the destination airport | Float | 7.52%  | 172.65\n",
        "| Raw Weather Numeric | Origin Hourly Wet Bulb Temp | Raw | Wet bulb temp near the origin airport | Float | 2.46%  | 54.1  \n",
        "| Raw Weather Numeric | Dest Hourly Wet Bulb Temp | Raw | Wet bulb temp near the destination airport | Float | 4.12%  | 54.07\n",
        "| Raw Weather Numeric | Origin Hourly Station Pressure | Raw | Station pressure near the origin airport | Float |2.43% | 29.12  \n",
        "| Raw Weather Numeric | Dest Hourly Station Pressure | Raw | Station pressure near the destination airport | Float | 4.09%  | 29.11\n",
        "| Raw Weather Numeric | Origin Hourly Sea Level Pressure | Raw | Sea level pressure near the origin airport | Float | 2.69% | 30.02  \n",
        "| Raw Weather Numeric | Dest Hourly Sea Level Pressure | Raw | Sea level pressure near the destination airport | Float | 4.34%  | 30.02\n",
        "| Raw Weather Numeric | Origin Hourly Relative Humidity | Raw | Relative humidity near the origin airport | Float | 2.08% | 63.87  \n",
        "| Raw Weather Numeric | Dest Hourly Relative Humidity | Raw | Relative humidity near the destination airport | Float | 3.74%  | 63.7\n",
        "| Raw Weather Numeric | Origin Hourly Dry Bulb Temp | Raw | Dry bulb temp near the origin airport | Float | 2.08% | 61.71\n",
        "| Raw Weather Numeric | Dest Hourly Dry Bulb Temp | Raw | Dry bulb temp near the destination airport | Float | 3.74%  | 61.73\n",
        "| Raw Weather Numeric | Origin Hourly Dew Point Temp | Raw | Dew point temp near the origin airport | Float | 2.11%  | 47.17  \n",
        "| Raw Weather Numeric | Dest Hourly Dew Point Temp | Raw | Dew point temp near the destination airport | Float | 3.77% | 47.07  \n",
        "| Raw Weather Numeric | Origin Hourly Precipitation | Raw | Total rainfall near the origin airport | Float | 9.1% | 0.004\n",
        "| Raw Weather Numeric | Dest Hourly Precipitation | Raw | Total rainfall near the destination airport | Float | 10.6%  | 0.004  \n",
        "| Raw Weather Numeric | Origin Hourly Visibility | Raw | Total visibility in miles near the origin airport  | Float | 2.1% | 9.400\n",
        "| Raw Weather Numeric | Dest Hourly Visibility | Raw | Total visibility in miles near the destination airport | Float  | 3.8% |9.403\n",
        "| Raw Weather Numeric | Origin Hourly Wind Speed | Raw | Sustained wind gust speed near origin airport  | Float | 2.1% | 8.332\n",
        "| Raw Weather Numeric | Dest Hourly Wind Speed | Raw | Sustained wind gust speed near destination airport | Float | 3.8% | 8.344\n",
        "| Raw Weather Numeric | Origin Elevation | Raw | Elevation near origin airport | Float | 2.0% | NA\n",
        "| Raw Weather Numeric | Dest Elevation | Raw | Elevation near destination airport | Float | 3.7% | NA\n",
        "| Engineered Numeric | Time Diff to Latest Weather Reading at Origin | Engineered | Number of minutes since last weather reading at origin | Float |2.0% | 143.271\n",
        "| Engineered Numeric | Time Diff to Latest Weather Reading at Dest | Engineered | Number of minutes since last weather reading at dest | Float | 3.7% | 143.288\n",
        "| Engineered Numeric | Origin Airport Out Degree | Engineered | # of departed flights for the origin airport prior to flight's estimated departure | Float | 0% | 813K\n",
        "| Engineered Numeric | Dest Airport Out Degree | Engineered | # of departed flights for the destination airport prior to flight's estimated departure  | Float | 0% | 813K\n",
        "| Engineered Numeric| Origin Airport In Degree | Engineered | # of arrived flights for the origin airport prior to flight's estimated departure  | Float | 0% | 813K\n",
        "| Engineered Numeric | Dest Airport In Degree | Engineered | # of arrived flights for the destination airport prior to flight's estimated departure  | Float | 0% | 812K\n",
        "| Engineered Numeric | Plane Previously Delayed  | Engineered | # of minutes tail number from prior flight was delayed |Float | 0.02% | 10.77\n",
        "| Engineered Numeric | Time Diff to Plane's Prior Flight Arrival  | Engineered | # of minutes ago tail number from prior flight landed |Float | 0.02% | 313.71\n",
        "| Raw Flight Numeric | Distance | Raw | Distance from origin to destination airport | Float | 0% | 819.62\n",
        "| Raw Flight Numeric  | Air Time | Raw | Estimated air time for flight | Float | 0% | 113.25\n",
        "| Engineered Categorical | Departure Day of Week | Engineered | Day of week flight is departing on | String | 0% | -\n",
        "| Engineered Categorical | Departure Time of Day | Engineered | Time of day (morning, afternoon, evening) flight is departing at | String | 0% | -\n",
        "| Engineered Categorical | Holiday | Engineered | Indicator of whether flight is scheduled to take off on a bank holiday | Binary | 0% | -"
      ],
      "metadata": {
        "application/vnd.databricks.v1+cell": {
          "showTitle": false,
          "cellMetadata": {},
          "nuid": "0ee5e0f6-3b4c-4065-9e4a-01112503a219",
          "inputWidgets": {},
          "title": ""
        },
        "id": "K_VNtFhQP22P"
      }
    },
    {
      "cell_type": "code",
      "source": [
        "def create_target_variable(joined_df):\n",
        "\n",
        "    joined_df = joined_df.withColumn(\"ARR_DEL30\", when(joined_df.ARR_DELAY_NEW >= 30, 1).otherwise(0))\n",
        "\n",
        "    return joined_df"
      ],
      "metadata": {
        "application/vnd.databricks.v1+cell": {
          "showTitle": false,
          "cellMetadata": {},
          "nuid": "6c042788-1eeb-4362-b6e0-59d7c2f4a8fa",
          "inputWidgets": {},
          "title": ""
        },
        "id": "7KLbA2s2P22P"
      },
      "outputs": [],
      "execution_count": null
    },
    {
      "cell_type": "code",
      "source": [
        "def time_last_weather_reading(joined_df):\n",
        "\n",
        "    # Time Diff to Latest Weather Reading at Origin\n",
        "    joined_df = joined_df.withColumn(\"ORIGIN_Weather_Departure_Time_Diff_Sec\",col(\"2_HRS_BEFORE_DEP_TIMESTAMP_UTC\").cast(\"long\") - col(\"ORIGIN_LATEST_WEATHER_TIMESTAMP_UTC\").cast(\"long\")).withColumn(\"ORIGIN_Weather_Departure_Time_Diff_Min\",round(col(\"ORIGIN_Weather_Departure_Time_Diff_Sec\")/60))\n",
        "\n",
        "    # Time Diff to Latest Weather Reading at Dest\n",
        "    joined_df = joined_df.withColumn(\"DEST_Weather_Departure_Time_Diff_Sec\",col(\"2_HRS_BEFORE_DEP_TIMESTAMP_UTC\").cast(\"long\") - col(\"DEST_LATEST_WEATHER_TIMESTAMP_UTC\").cast(\"long\")).withColumn(\"DEST_Weather_Departure_Time_Diff_Min\",round(col(\"DEST_Weather_Departure_Time_Diff_Sec\")/60))\n",
        "\n",
        "    return joined_df"
      ],
      "metadata": {
        "application/vnd.databricks.v1+cell": {
          "showTitle": false,
          "cellMetadata": {},
          "nuid": "aca57db7-d3ac-4486-8767-7d29426277a0",
          "inputWidgets": {},
          "title": ""
        },
        "id": "hFdM8F_uP22Q"
      },
      "outputs": [],
      "execution_count": null
    },
    {
      "cell_type": "code",
      "source": [
        "def minutes_delayed(joined_df):\n",
        "\n",
        "    blob_url = write_loc()\n",
        "\n",
        "    joined_df = joined_df.withColumn(\"ARR_TIME\", joined_df.ARR_TIME.cast(StringType()))\n",
        "    joined_df = joined_df.withColumn(\"ARR_TIME_UPD\", when(F.length(\"ARR_TIME\")<4, lpad(joined_df.ARR_TIME, 4, '0')).otherwise(joined_df.ARR_TIME))\n",
        "\n",
        "    joined_df = joined_df\\\n",
        "      .withColumn(\"ARR_TIMESTAMP\", unix_timestamp(concat(joined_df.FL_DATE, joined_df.ARR_TIME_UPD), \"yyyy-MM-ddHHmm\")\\\n",
        "      .cast(\"timestamp\"))\n",
        "\n",
        "    tail_num = joined_df.select(\"TAIL_NUM\", \"ARR_TIMESTAMP\", \"DEST\").withColumnRenamed(\"ARR_TIMESTAMP\",\"TAIL_ARRIVAL_TIME\").withColumnRenamed(\"DEST\", \"TAIL_ARRIVAL_DEST\").withColumnRenamed(\"TAIL_NUM\", \"TAIL_NUM_ARRIVAL\")\n",
        "\n",
        "\n",
        "    tail_num_mapping_df = joined_df.join(\n",
        "        tail_num, joined_df.TAIL_NUM == tail_num.TAIL_NUM_ARRIVAL,\n",
        "        \"left\"\n",
        "    ).groupBy(\"TAIL_NUM\", \"DEP_TIMESTAMP\").agg(\n",
        "        F.max(\n",
        "            F.when(F.col(\"TAIL_ARRIVAL_TIME\") <= F.col(\"DEP_TIMESTAMP\"), F.col(\"TAIL_ARRIVAL_TIME\"))\n",
        "        ).alias(\"LATEST_ARRIVAL_TIME\"))\n",
        "\n",
        "\n",
        "    tail_num_mapping_df.write.mode(\"overwrite\").parquet(f\"{blob_url}/tailnum_mapping\")"
      ],
      "metadata": {
        "application/vnd.databricks.v1+cell": {
          "showTitle": false,
          "cellMetadata": {},
          "nuid": "fc687e7f-ab68-450b-a68d-3ba1a543e864",
          "inputWidgets": {},
          "title": ""
        },
        "id": "rK5ysXcNP22Q"
      },
      "outputs": [],
      "execution_count": null
    },
    {
      "cell_type": "code",
      "source": [
        "def read_minutes_delayed():\n",
        "\n",
        "    blob_url = write_loc()\n",
        "    tail_num_mapping = spark.read.parquet(f\"{blob_url}/tailnum_mapping\")\n",
        "\n",
        "    temp1 = joined_df.select('TAIL_NUM', 'ARR_TIMESTAMP', 'ARR_DELAY_NEW').withColumnRenamed(\"TAIL_NUM\", \"TAIL_NUM1\")\n",
        "    tail_num_mapping_df = tail_num_mapping.join(temp1, (tail_num_mapping.TAIL_NUM == temp1.TAIL_NUM1) & (tail_num_mapping.LATEST_ARRIVAL_TIME == temp1.ARR_TIMESTAMP))\n",
        "\n",
        "    tail_num_mapping_df = tail_num_mapping_df.withColumn(\"Tail_Previous_Arrival_Diff_Sec\", col(\"DEP_TIMESTAMP\").cast(\"long\") - col(\"LATEST_ARRIVAL_TIME\").cast(\"long\")).withColumn(\"Tail_Previous_Arrival_Diff_Mins\",round(col(\"Tail_Previous_Arrival_Diff_Sec\")/60))\n",
        "\n",
        "    temp2 = tail_num_mapping_df.select(\"TAIL_NUM\", \"DEP_TIMESTAMP\", \"Tail_Previous_Arrival_Diff_Mins\", \"ARR_DELAY_NEW\").withColumnRenamed(\"ARR_DELAY_NEW\", \"Tail_Previous_Arrival_Delay\")\n",
        "    joined_df = joined_df.join(temp2, [\"TAIL_NUM\",\"DEP_TIMESTAMP\"], \"left\")\n",
        "\n",
        "    joined_df = joined_df.distinct()\n",
        "\n",
        "    return joined_df"
      ],
      "metadata": {
        "application/vnd.databricks.v1+cell": {
          "showTitle": false,
          "cellMetadata": {},
          "nuid": "36c2a076-44c3-4582-8f2d-892744ae7b08",
          "inputWidgets": {},
          "title": ""
        },
        "id": "VQ1t8VArP22Q"
      },
      "outputs": [],
      "execution_count": null
    },
    {
      "cell_type": "code",
      "source": [
        "def departure_day_week(joined_df):\n",
        "    # Create feature for day of week for estimated departure time\n",
        "    joined_df = joined_df.withColumn(\"DEPARTURE_DAY_OF_WEEK\", dayofweek(col(\"DEP_TIMESTAMP\")))\n",
        "\n",
        "    # Create feature for time of day for estimated departure time\n",
        "    joined_df = joined_df.withColumn(\"DEPARTURE_HOUR\", hour(col(\"DEP_TIMESTAMP\")))\n",
        "    joined_df = joined_df.withColumn(\"DEPARTURE_TIME_OF_DAY\", F.when((F.col(\"DEPARTURE_HOUR\") >3) & (F.col(\"DEPARTURE_HOUR\") < 11), \"Morning\"). when((F.col(\"DEPARTURE_HOUR\")>=11) & (F.col(\"DEPARTURE_HOUR\")<17), \"Afternoon\").otherwise(\"Evening\"))\n",
        "\n",
        "    return joined_df\n"
      ],
      "metadata": {
        "application/vnd.databricks.v1+cell": {
          "showTitle": false,
          "cellMetadata": {},
          "nuid": "b700e579-3eec-4a93-beea-95ce18344c19",
          "inputWidgets": {},
          "title": ""
        },
        "id": "7EjStjasP22Q"
      },
      "outputs": [],
      "execution_count": null
    },
    {
      "cell_type": "code",
      "source": [
        "def in_degree_out_degree(joined_df):\n",
        "\n",
        "    # create feature of in and out degree per airport\n",
        "    origins = joined_df.select('ORIGIN').withColumnRenamed(\"ORIGIN\", \"id\").distinct()\n",
        "    dests = joined_df.select('DEST').withColumnRenamed(\"DEST\", \"id\").distinct()\n",
        "    airport_vertices = origins.union(dests)\n",
        "\n",
        "    degrees_out = joined_df.groupBy(\"ORIGIN\").count().withColumnRenamed(\"count\", \"OUT_DEGREE\").withColumnRenamed(\"ORIGIN\", \"AIRPORT_ID\")\n",
        "    degrees_in = joined_df.groupBy(\"DEST\").count().withColumnRenamed(\"count\", \"IN_DEGREE\").withColumnRenamed(\"DEST\", \"AIRPORT_ID\")\n",
        "\n",
        "    in_out_df = degrees_in.join(degrees_out, ['AIRPORT_ID'], \"outer\").na.fill(value=0)\n",
        "\n",
        "    in_out_df = in_out_df.distinct()\n",
        "\n",
        "    joined_df = joined_df.join(in_out_df, joined_df.ORIGIN == in_out_df.AIRPORT_ID, \"left\").withColumnRenamed(\"IN_DEGREE\", \"ORIGIN_IN_DEGREE\").withColumnRenamed(\"OUT_DEGREE\", \"ORIGIN_OUT_DEGREE\").drop(col(\"AIRPORT_ID\"))\n",
        "\n",
        "    joined_df = joined_df.join(in_out_df, joined_df.DEST == in_out_df.AIRPORT_ID, \"left\").withColumnRenamed(\"IN_DEGREE\", \"DEST_IN_DEGREE\").withColumnRenamed(\"OUT_DEGREE\", \"DEST_OUT_DEGREE\").drop(col(\"AIRPORT_ID\"))\n",
        "\n",
        "    joined_df = joined_df.distinct()\n",
        "\n",
        "    return joined_df"
      ],
      "metadata": {
        "application/vnd.databricks.v1+cell": {
          "showTitle": false,
          "cellMetadata": {},
          "nuid": "1e971eac-6588-4721-8d70-ffde190ff1a4",
          "inputWidgets": {},
          "title": ""
        },
        "id": "0ZuKTPa4P22Q"
      },
      "outputs": [],
      "execution_count": null
    },
    {
      "cell_type": "code",
      "source": [
        "def holiday_indicator(joined_df):\n",
        "\n",
        "    cal = USFederalHolidayCalendar()\n",
        "    holidays = cal.holidays(start='2015-01-01', end='2021-12-31').to_pydatetime()\n",
        "\n",
        "    holiday_df = spark.createDataFrame(data=holidays, schema = [\"holiday\"])\n",
        "\n",
        "    joined_df = joined_df.join(holiday_df, joined_df.DEP_TIMESTAMP_UTC == holiday_df.holiday, \"left\")\n",
        "    joined_df = joined_df.withColumn(\"holiday_indicator\", F.when(F.col(\"holiday\").isNull(), 0).otherwise(1))\n",
        "\n",
        "    return joined_df"
      ],
      "metadata": {
        "application/vnd.databricks.v1+cell": {
          "showTitle": false,
          "cellMetadata": {},
          "nuid": "8d0cdb97-4d6f-4f6d-910d-f70f1c00adcd",
          "inputWidgets": {},
          "title": ""
        },
        "id": "8lV5rMh3P22U"
      },
      "outputs": [],
      "execution_count": null
    },
    {
      "cell_type": "code",
      "source": [
        "def feature_engineering(joined_df):\n",
        "\n",
        "    #### Create Target Variable\n",
        "    joined_df = create_target_variable(joined_df)\n",
        "\n",
        "    ####  Time to Last Weather Reading\n",
        "    joined_df = time_last_weather_reading(joined_df)\n",
        "\n",
        "    #### Plane Previously Delayed and Time Difference to Plane's Prior Arrival Time\n",
        "    minutes_delayed(joined_df)\n",
        "\n",
        "    #### Read in Time difference df\n",
        "    joined_df = read_minutes_delayed()\n",
        "\n",
        "    #### Departure Time of Day and Departure Day of Week\n",
        "    joined_df = departure_day_week(joined_df)\n",
        "\n",
        "    #### In Degree and Out Degree per Airport\n",
        "    joined_df = in_degree_out_degree(joined_df)\n",
        "\n",
        "    #### Holiday Indicator\n",
        "    joined_df = holiday_indicator(joined_df)\n",
        "\n",
        "    return joined_df"
      ],
      "metadata": {
        "application/vnd.databricks.v1+cell": {
          "showTitle": false,
          "cellMetadata": {},
          "nuid": "5c4a7dac-80ce-4f8d-bb75-934abe5ccecb",
          "inputWidgets": {},
          "title": ""
        },
        "id": "CCq4EXMKP22U"
      },
      "outputs": [],
      "execution_count": null
    },
    {
      "cell_type": "code",
      "source": [
        "def final_preprocessing():\n",
        "\n",
        "    blob_url = write_loc()\n",
        "    joined_df = read_joined_data()\n",
        "    joined_df = feature_engineering(joined_df)\n",
        "    data = cleaning_the_data(joined_df)\n",
        "    data.write.mode(\"overwrite\").parquet(f\"{blob_url}/joined_data_cleaned\")\n",
        "\n",
        "#final_preprocessing()"
      ],
      "metadata": {
        "application/vnd.databricks.v1+cell": {
          "showTitle": false,
          "cellMetadata": {},
          "nuid": "2000d8b2-5113-4bef-812c-aee06ad5ea3a",
          "inputWidgets": {},
          "title": ""
        },
        "id": "syU2DK6wP22U"
      },
      "outputs": [],
      "execution_count": null
    },
    {
      "cell_type": "markdown",
      "source": [
        "#### Read In Cleaned Data\n",
        "The following data was cleaned by filling the nulls and adding new feature engineered columns."
      ],
      "metadata": {
        "application/vnd.databricks.v1+cell": {
          "showTitle": false,
          "cellMetadata": {},
          "nuid": "08627e93-c852-4f35-9fc4-af876a96e0ba",
          "inputWidgets": {},
          "title": ""
        },
        "id": "nxqSCzzMP22U"
      }
    },
    {
      "cell_type": "code",
      "source": [
        "blob_url = write_loc()\n",
        "data = spark.read.parquet(f\"{blob_url}/joined_data_cleaned\")"
      ],
      "metadata": {
        "application/vnd.databricks.v1+cell": {
          "showTitle": false,
          "cellMetadata": {},
          "nuid": "012ca9b3-4d5c-4682-8f42-4816bf313f3c",
          "inputWidgets": {},
          "title": ""
        },
        "id": "WwQDovspP22U"
      },
      "outputs": [],
      "execution_count": null
    },
    {
      "cell_type": "markdown",
      "source": [
        "### Exploratory Data Analysis\n",
        "\n",
        "We found that many of the numeric features were strongly linearly correlated with each other. For example, distance and air time had a strong positive correlation of 0.98 as expected. However, in general, none of the numeric features had a particularly strong linear relationship with arrival delay, our target variable. One of our engineered features, the plane previously delayed feature, had the strongest correlation with arrival delay of 0.25. All other remaining features had a correlation coefficient near 0.\n",
        "\n",
        "This correlation analysis has 3 primary implications for modeling:\n",
        "1. Adding our engineered features to the model, in particular the feature related to the plane previously being delayed, will likely boost performance.\n",
        "2. Given that none of our features seem to be strongly linearly related to arrival delay, we likely we need to leverage non-linear modeling techniques; logistic regression will likely not perform well here.\n",
        "3. PCA may be helpful for feature selection. We have a high volume of numeric features (>30), many of them appear to be linearly related to each other, and it's unclear which of them are most important for predicting arrival delay. Thus, using PCA may be helpful for reducing dimensionality while not losing information that may help with the predictive power of our models."
      ],
      "metadata": {
        "application/vnd.databricks.v1+cell": {
          "showTitle": false,
          "cellMetadata": {},
          "nuid": "b2f786c1-87e3-4bfc-b1e5-e505f9de4342",
          "inputWidgets": {},
          "title": ""
        },
        "id": "EHkoAtpEP22U"
      }
    },
    {
      "cell_type": "code",
      "source": [
        "def corr_matrix(data):\n",
        "\n",
        "    vector_col = \"corr_features\"\n",
        "    assembler = VectorAssembler(inputCols=data.columns, outputCol=vector_col)\n",
        "    df_vector = assembler.transform(data).select(vector_col)\n",
        "    matrix = Correlation.corr(df_vector, vector_col).collect()[0][0]\n",
        "\n",
        "    corr_matrix = matrix.toArray().tolist()\n",
        "    numeric_variables = data.columns\n",
        "\n",
        "    corr_matrix_df = pd.DataFrame(data = corr_matrix, columns = numeric_variables, index=numeric_variables)\n",
        "    return corr_matrix_df.style.background_gradient(cmap='coolwarm').set_precision(2)"
      ],
      "metadata": {
        "application/vnd.databricks.v1+cell": {
          "showTitle": false,
          "cellMetadata": {},
          "nuid": "b1128fb6-3744-41de-a24d-73165f225bf7",
          "inputWidgets": {},
          "title": ""
        },
        "id": "S0L7fvM8P22U"
      },
      "outputs": [],
      "execution_count": null
    },
    {
      "cell_type": "code",
      "source": [
        "corr_matrix(data.select('DISTANCE', 'AIR_TIME', 'ORIGIN_ELEVATION', 'ORIGIN_HourlyDewPointTemperature', 'ORIGIN_HourlyDryBulbTemperature', 'ORIGIN_HourlyPrecipitation', 'ORIGIN_HourlyRelativeHumidity', 'ORIGIN_HourlySeaLevelPressure', 'ORIGIN_HourlyStationPressure', 'ORIGIN_HourlyVisibility', 'ORIGIN_HourlyWetBulbTemperature', 'ORIGIN_HourlyWindDirection', 'ORIGIN_HourlyWindSpeed', 'DEST_ELEVATION', 'DEST_HourlyDewPointTemperature', 'DEST_HourlyDryBulbTemperature', 'DEST_HourlyPrecipitation', 'DEST_HourlyRelativeHumidity', 'DEST_HourlySeaLevelPressure', 'DEST_HourlyStationPressure', 'DEST_HourlyVisibility', 'DEST_HourlyWetBulbTemperature', 'DEST_HourlyWindDirection', 'DEST_HourlyWindSpeed', 'ARR_DELAY_NEW'))"
      ],
      "metadata": {
        "application/vnd.databricks.v1+cell": {
          "showTitle": true,
          "cellMetadata": {},
          "nuid": "ab692386-294e-40e6-b901-3c5bfe5089b8",
          "inputWidgets": {},
          "title": "Pearson Correlation Matrix - Raw Numeric Features"
        },
        "id": "61JhGLJyP22V",
        "outputId": "819c5904-1310-41ef-c620-fff8f7292b52"
      },
      "outputs": [
        {
          "output_type": "display_data",
          "metadata": {
            "application/vnd.databricks.v1+output": {
              "datasetInfos": [],
              "data": "<command-1215577238255373>:12: FutureWarning: this method is deprecated in favour of `Styler.format(precision=..)`\n  return corr_matrix_df.style.background_gradient(cmap='coolwarm').set_precision(2)\n",
              "removedWidgets": [],
              "addedWidgets": {},
              "metadata": {},
              "type": "ansi",
              "arguments": {}
            }
          },
          "data": {
            "text/plain": [
              "<command-1215577238255373>:12: FutureWarning: this method is deprecated in favour of `Styler.format(precision=..)`\n  return corr_matrix_df.style.background_gradient(cmap='coolwarm').set_precision(2)\n"
            ]
          }
        },
        {
          "output_type": "display_data",
          "metadata": {
            "application/vnd.databricks.v1+output": {
              "datasetInfos": [],
              "data": "<style type=\"text/css\">\n#T_999bd_row0_col0, #T_999bd_row1_col1, #T_999bd_row2_col2, #T_999bd_row3_col3, #T_999bd_row4_col4, #T_999bd_row5_col5, #T_999bd_row6_col6, #T_999bd_row7_col7, #T_999bd_row8_col8, #T_999bd_row9_col9, #T_999bd_row10_col10, #T_999bd_row11_col11, #T_999bd_row12_col12, #T_999bd_row13_col13, #T_999bd_row14_col14, #T_999bd_row15_col15, #T_999bd_row16_col16, #T_999bd_row17_col17, #T_999bd_row18_col18, #T_999bd_row19_col19, #T_999bd_row20_col20, #T_999bd_row21_col21, #T_999bd_row22_col22, #T_999bd_row23_col23, #T_999bd_row24_col24 {\n  background-color: #b40426;\n  color: #f1f1f1;\n}\n#T_999bd_row0_col1, #T_999bd_row1_col0 {\n  background-color: #b8122a;\n  color: #f1f1f1;\n}\n#T_999bd_row0_col2, #T_999bd_row0_col13, #T_999bd_row19_col18 {\n  background-color: #d3dbe7;\n  color: #000000;\n}\n#T_999bd_row0_col3, #T_999bd_row0_col7, #T_999bd_row0_col14, #T_999bd_row0_col18, #T_999bd_row1_col9, #T_999bd_row1_col20, #T_999bd_row2_col18, #T_999bd_row7_col17, #T_999bd_row7_col20, #T_999bd_row13_col7, #T_999bd_row18_col6, #T_999bd_row19_col9, #T_999bd_row20_col3, #T_999bd_row24_col16 {\n  background-color: #90b2fe;\n  color: #000000;\n}\n#T_999bd_row0_col4, #T_999bd_row1_col15, #T_999bd_row8_col17, #T_999bd_row9_col10, #T_999bd_row9_col21, #T_999bd_row10_col9, #T_999bd_row10_col20, #T_999bd_row18_col20, #T_999bd_row19_col6, #T_999bd_row20_col21, #T_999bd_row21_col9, #T_999bd_row21_col20, #T_999bd_row23_col20 {\n  background-color: #9ebeff;\n  color: #000000;\n}\n#T_999bd_row0_col5, #T_999bd_row0_col16, #T_999bd_row2_col17, #T_999bd_row6_col15, #T_999bd_row11_col16, #T_999bd_row15_col16, #T_999bd_row23_col21, #T_999bd_row24_col9 {\n  background-color: #84a7fc;\n  color: #f1f1f1;\n}\n#T_999bd_row0_col6, #T_999bd_row0_col20, #T_999bd_row1_col7, #T_999bd_row2_col15, #T_999bd_row2_col20, #T_999bd_row5_col18, #T_999bd_row8_col14, #T_999bd_row10_col17, #T_999bd_row13_col4, #T_999bd_row13_col9, #T_999bd_row16_col7, #T_999bd_row17_col10, #T_999bd_row19_col3, #T_999bd_row24_col3, #T_999bd_row24_col5, #T_999bd_row24_col14 {\n  background-color: #93b5fe;\n  color: #000000;\n}\n#T_999bd_row0_col8, #T_999bd_row0_col19 {\n  background-color: #e4d9d2;\n  color: #000000;\n}\n#T_999bd_row0_col9, #T_999bd_row0_col17, #T_999bd_row1_col17, #T_999bd_row5_col14, #T_999bd_row16_col3, #T_999bd_row18_col9 {\n  background-color: #92b4fe;\n  color: #000000;\n}\n#T_999bd_row0_col10, #T_999bd_row0_col21, #T_999bd_row2_col9, #T_999bd_row9_col18, #T_999bd_row20_col7 {\n  background-color: #98b9ff;\n  color: #000000;\n}\n#T_999bd_row0_col11, #T_999bd_row2_col11, #T_999bd_row2_col22 {\n  background-color: #5f7fe8;\n  color: #f1f1f1;\n}\n#T_999bd_row0_col12, #T_999bd_row4_col12, #T_999bd_row9_col11, #T_999bd_row12_col22, #T_999bd_row20_col22 {\n  background-color: #7699f6;\n  color: #f1f1f1;\n}\n#T_999bd_row0_col15, #T_999bd_row7_col9, #T_999bd_row12_col9, #T_999bd_row18_col17, #T_999bd_row20_col10, #T_999bd_row24_col4, #T_999bd_row24_col15 {\n  background-color: #9fbfff;\n  color: #000000;\n}\n#T_999bd_row0_col22, #T_999bd_row6_col4, #T_999bd_row7_col23, #T_999bd_row18_col12, #T_999bd_row19_col1, #T_999bd_row19_col23, #T_999bd_row21_col23 {\n  background-color: #6384eb;\n  color: #f1f1f1;\n}\n#T_999bd_row0_col23, #T_999bd_row1_col23, #T_999bd_row2_col14, #T_999bd_row13_col3, #T_999bd_row13_col15, #T_999bd_row13_col18 {\n  background-color: #7a9df8;\n  color: #f1f1f1;\n}\n#T_999bd_row0_col24, #T_999bd_row2_col6, #T_999bd_row17_col12, #T_999bd_row19_col24 {\n  background-color: #4a63d3;\n  color: #f1f1f1;\n}\n#T_999bd_row1_col2, #T_999bd_row12_col11, #T_999bd_row23_col22 {\n  background-color: #cfdaea;\n  color: #000000;\n}\n#T_999bd_row1_col3, #T_999bd_row8_col9, #T_999bd_row12_col5, #T_999bd_row12_col21, #T_999bd_row16_col9, #T_999bd_row19_col20, #T_999bd_row24_col7 {\n  background-color: #8db0fe;\n  color: #000000;\n}\n#T_999bd_row1_col4, #T_999bd_row24_col10, #T_999bd_row24_col21 {\n  background-color: #9abbff;\n  color: #000000;\n}\n#T_999bd_row1_col5, #T_999bd_row1_col16, #T_999bd_row2_col21, #T_999bd_row3_col9, #T_999bd_row13_col6, #T_999bd_row13_col10, #T_999bd_row14_col20, #T_999bd_row19_col5 {\n  background-color: #85a8fc;\n  color: #f1f1f1;\n}\n#T_999bd_row1_col6, #T_999bd_row3_col20, #T_999bd_row5_col17, #T_999bd_row6_col21, #T_999bd_row8_col21, #T_999bd_row11_col15, #T_999bd_row11_col20, #T_999bd_row12_col20, #T_999bd_row14_col9, #T_999bd_row19_col10, #T_999bd_row21_col6 {\n  background-color: #96b7ff;\n  color: #000000;\n}\n#T_999bd_row1_col8 {\n  background-color: #e7d7ce;\n  color: #000000;\n}\n#T_999bd_row1_col10, #T_999bd_row24_col6, #T_999bd_row24_col17 {\n  background-color: #94b6ff;\n  color: #000000;\n}\n#T_999bd_row1_col11, #T_999bd_row8_col0, #T_999bd_row13_col22, #T_999bd_row19_col0 {\n  background-color: #6180e9;\n  color: #f1f1f1;\n}\n#T_999bd_row1_col12, #T_999bd_row2_col4, #T_999bd_row4_col17, #T_999bd_row11_col10, #T_999bd_row13_col23, #T_999bd_row20_col6, #T_999bd_row22_col21 {\n  background-color: #799cf8;\n  color: #f1f1f1;\n}\n#T_999bd_row1_col13, #T_999bd_row3_col13, #T_999bd_row14_col2 {\n  background-color: #d4dbe6;\n  color: #000000;\n}\n#T_999bd_row1_col14, #T_999bd_row1_col18, #T_999bd_row8_col20, #T_999bd_row9_col14, #T_999bd_row10_col5, #T_999bd_row21_col16, #T_999bd_row23_col10, #T_999bd_row23_col16, #T_999bd_row24_col18 {\n  background-color: #8fb1fe;\n  color: #000000;\n}\n#T_999bd_row1_col19 {\n  background-color: #e3d9d3;\n  color: #000000;\n}\n#T_999bd_row1_col21, #T_999bd_row3_col5, #T_999bd_row5_col4, #T_999bd_row5_col21, #T_999bd_row6_col18, #T_999bd_row8_col15, #T_999bd_row13_col20, #T_999bd_row14_col16, #T_999bd_row16_col6, #T_999bd_row16_col10, #T_999bd_row16_col15, #T_999bd_row17_col7, #T_999bd_row19_col4, #T_999bd_row22_col4, #T_999bd_row22_col9, #T_999bd_row23_col9 {\n  background-color: #97b8ff;\n  color: #000000;\n}\n#T_999bd_row1_col22, #T_999bd_row14_col12, #T_999bd_row24_col11, #T_999bd_row24_col22 {\n  background-color: #6282ea;\n  color: #f1f1f1;\n}\n#T_999bd_row1_col24, #T_999bd_row5_col0, #T_999bd_row7_col1, #T_999bd_row7_col21, #T_999bd_row11_col0, #T_999bd_row17_col0, #T_999bd_row18_col10 {\n  background-color: #4e68d8;\n  color: #f1f1f1;\n}\n#T_999bd_row2_col0, #T_999bd_row2_col1, #T_999bd_row2_col3, #T_999bd_row2_col8, #T_999bd_row4_col7, #T_999bd_row6_col9, #T_999bd_row6_col11, #T_999bd_row6_col12, #T_999bd_row7_col4, #T_999bd_row7_col10, #T_999bd_row8_col2, #T_999bd_row9_col5, #T_999bd_row9_col6, #T_999bd_row9_col24, #T_999bd_row13_col0, #T_999bd_row13_col14, #T_999bd_row13_col19, #T_999bd_row15_col18, #T_999bd_row17_col20, #T_999bd_row17_col22, #T_999bd_row17_col23, #T_999bd_row18_col15, #T_999bd_row18_col21, #T_999bd_row19_col13, #T_999bd_row20_col16, #T_999bd_row20_col17 {\n  background-color: #3b4cc0;\n  color: #f1f1f1;\n}\n#T_999bd_row2_col5, #T_999bd_row11_col7, #T_999bd_row11_col14, #T_999bd_row12_col14, #T_999bd_row22_col18 {\n  background-color: #7da0f9;\n  color: #f1f1f1;\n}\n#T_999bd_row2_col7, #T_999bd_row4_col23, #T_999bd_row5_col12, #T_999bd_row11_col22, #T_999bd_row15_col6, #T_999bd_row15_col12, #T_999bd_row16_col23, #T_999bd_row22_col11 {\n  background-color: #7b9ff9;\n  color: #f1f1f1;\n}\n#T_999bd_row2_col10, #T_999bd_row3_col22, #T_999bd_row9_col1, #T_999bd_row13_col21 {\n  background-color: #536edd;\n  color: #f1f1f1;\n}\n#T_999bd_row2_col12, #T_999bd_row6_col20, #T_999bd_row9_col17, #T_999bd_row9_col23, #T_999bd_row17_col9, #T_999bd_row20_col12 {\n  background-color: #779af7;\n  color: #f1f1f1;\n}\n#T_999bd_row2_col13, #T_999bd_row13_col2, #T_999bd_row14_col17 {\n  background-color: #efcfbf;\n  color: #000000;\n}\n#T_999bd_row2_col16, #T_999bd_row4_col5, #T_999bd_row22_col5 {\n  background-color: #82a6fb;\n  color: #f1f1f1;\n}\n#T_999bd_row2_col19, #T_999bd_row8_col10, #T_999bd_row8_col13, #T_999bd_row13_col8, #T_999bd_row19_col2 {\n  background-color: #c5d6f2;\n  color: #000000;\n}\n#T_999bd_row2_col23, #T_999bd_row10_col23, #T_999bd_row23_col14 {\n  background-color: #6f92f3;\n  color: #f1f1f1;\n}\n#T_999bd_row2_col24 {\n  background-color: #465ecf;\n  color: #f1f1f1;\n}\n#T_999bd_row3_col0, #T_999bd_row5_col1, #T_999bd_row12_col0, #T_999bd_row16_col1, #T_999bd_row20_col1 {\n  background-color: #5470de;\n  color: #f1f1f1;\n}\n#T_999bd_row3_col1, #T_999bd_row3_col12, #T_999bd_row6_col1, #T_999bd_row10_col1, #T_999bd_row10_col22, #T_999bd_row23_col24 {\n  background-color: #5875e1;\n  color: #f1f1f1;\n}\n#T_999bd_row3_col2, #T_999bd_row9_col15, #T_999bd_row17_col16, #T_999bd_row20_col4, #T_999bd_row20_col9 {\n  background-color: #abc8fd;\n  color: #000000;\n}\n#T_999bd_row3_col4 {\n  background-color: #e67259;\n  color: #f1f1f1;\n}\n#T_999bd_row3_col6 {\n  background-color: #eed0c0;\n  color: #000000;\n}\n#T_999bd_row3_col7, #T_999bd_row3_col24, #T_999bd_row10_col24, #T_999bd_row14_col11, #T_999bd_row14_col18, #T_999bd_row14_col24, #T_999bd_row15_col24, #T_999bd_row21_col24, #T_999bd_row22_col0 {\n  background-color: #516ddb;\n  color: #f1f1f1;\n}\n#T_999bd_row3_col8, #T_999bd_row4_col14, #T_999bd_row6_col8, #T_999bd_row14_col19 {\n  background-color: #f5c0a7;\n  color: #000000;\n}\n#T_999bd_row3_col10, #T_999bd_row4_col10, #T_999bd_row10_col3, #T_999bd_row10_col4, #T_999bd_row14_col21, #T_999bd_row21_col14, #T_999bd_row21_col15 {\n  background-color: #c43032;\n  color: #f1f1f1;\n}\n#T_999bd_row3_col11, #T_999bd_row14_col22 {\n  background-color: #3e51c5;\n  color: #f1f1f1;\n}\n#T_999bd_row3_col14, #T_999bd_row14_col3, #T_999bd_row14_col4 {\n  background-color: #f7ba9f;\n  color: #000000;\n}\n#T_999bd_row3_col15 {\n  background-color: #f7b99e;\n  color: #000000;\n}\n#T_999bd_row3_col16, #T_999bd_row5_col20, #T_999bd_row12_col18, #T_999bd_row23_col7 {\n  background-color: #8caffe;\n  color: #000000;\n}\n#T_999bd_row3_col17, #T_999bd_row6_col5, #T_999bd_row9_col20, #T_999bd_row12_col23, #T_999bd_row14_col13, #T_999bd_row23_col12 {\n  background-color: #aac7fd;\n  color: #000000;\n}\n#T_999bd_row3_col18, #T_999bd_row4_col6, #T_999bd_row12_col1, #T_999bd_row14_col7, #T_999bd_row15_col17, #T_999bd_row21_col1, #T_999bd_row23_col17 {\n  background-color: #5b7ae5;\n  color: #f1f1f1;\n}\n#T_999bd_row3_col19, #T_999bd_row14_col8 {\n  background-color: #e0dbd8;\n  color: #000000;\n}\n#T_999bd_row3_col21, #T_999bd_row14_col10 {\n  background-color: #f7b396;\n  color: #000000;\n}\n#T_999bd_row3_col23, #T_999bd_row8_col12, #T_999bd_row10_col12, #T_999bd_row17_col15 {\n  background-color: #6485ec;\n  color: #f1f1f1;\n}\n#T_999bd_row4_col0, #T_999bd_row4_col1, #T_999bd_row4_col18, #T_999bd_row7_col15, #T_999bd_row10_col0, #T_999bd_row11_col1, #T_999bd_row14_col0, #T_999bd_row14_col23, #T_999bd_row15_col7, #T_999bd_row16_col24, #T_999bd_row17_col1, #T_999bd_row18_col4 {\n  background-color: #5572df;\n  color: #f1f1f1;\n}\n#T_999bd_row4_col2, #T_999bd_row15_col13, #T_999bd_row18_col13 {\n  background-color: #cbd8ee;\n  color: #000000;\n}\n#T_999bd_row4_col3 {\n  background-color: #e8765c;\n  color: #f1f1f1;\n}\n#T_999bd_row4_col8, #T_999bd_row15_col19 {\n  background-color: #e6d7cf;\n  color: #000000;\n}\n#T_999bd_row4_col9, #T_999bd_row15_col20, #T_999bd_row16_col17 {\n  background-color: #b5cdfa;\n  color: #000000;\n}\n#T_999bd_row4_col11, #T_999bd_row4_col24, #T_999bd_row7_col22, #T_999bd_row15_col22, #T_999bd_row18_col11, #T_999bd_row24_col0 {\n  background-color: #506bda;\n  color: #f1f1f1;\n}\n#T_999bd_row4_col13, #T_999bd_row5_col2, #T_999bd_row15_col2, #T_999bd_row16_col13, #T_999bd_row22_col19, #T_999bd_row22_col23 {\n  background-color: #d9dce1;\n  color: #000000;\n}\n#T_999bd_row4_col15, #T_999bd_row15_col4 {\n  background-color: #f59f80;\n  color: #000000;\n}\n#T_999bd_row4_col16, #T_999bd_row5_col7, #T_999bd_row8_col5, #T_999bd_row11_col21, #T_999bd_row12_col16, #T_999bd_row15_col5, #T_999bd_row16_col5, #T_999bd_row16_col18 {\n  background-color: #88abfd;\n  color: #000000;\n}\n#T_999bd_row4_col19, #T_999bd_row5_col13, #T_999bd_row9_col19, #T_999bd_row11_col13, #T_999bd_row11_col19, #T_999bd_row12_col13, #T_999bd_row15_col8, #T_999bd_row16_col2, #T_999bd_row17_col6, #T_999bd_row20_col8, #T_999bd_row22_col8, #T_999bd_row23_col2, #T_999bd_row24_col2 {\n  background-color: #dbdcde;\n  color: #000000;\n}\n#T_999bd_row4_col20, #T_999bd_row11_col9, #T_999bd_row15_col9, #T_999bd_row17_col3 {\n  background-color: #a5c3fe;\n  color: #000000;\n}\n#T_999bd_row4_col21 {\n  background-color: #f7a98b;\n  color: #000000;\n}\n#T_999bd_row4_col22, #T_999bd_row5_col22, #T_999bd_row8_col22, #T_999bd_row13_col11, #T_999bd_row16_col11, #T_999bd_row19_col11 {\n  background-color: #5e7de7;\n  color: #f1f1f1;\n}\n#T_999bd_row5_col3, #T_999bd_row5_col15, #T_999bd_row12_col4, #T_999bd_row16_col4, #T_999bd_row16_col14 {\n  background-color: #9dbdff;\n  color: #000000;\n}\n#T_999bd_row5_col6 {\n  background-color: #b6cefa;\n  color: #000000;\n}\n#T_999bd_row5_col8, #T_999bd_row10_col19, #T_999bd_row12_col2, #T_999bd_row16_col19, #T_999bd_row21_col8 {\n  background-color: #dedcdb;\n  color: #000000;\n}\n#T_999bd_row5_col9, #T_999bd_row8_col24, #T_999bd_row13_col17 {\n  background-color: #4961d2;\n  color: #f1f1f1;\n}\n#T_999bd_row5_col10, #T_999bd_row16_col21, #T_999bd_row23_col15 {\n  background-color: #9bbcff;\n  color: #000000;\n}\n#T_999bd_row5_col11, #T_999bd_row8_col11, #T_999bd_row15_col1, #T_999bd_row16_col22, #T_999bd_row19_col22 {\n  background-color: #5a78e4;\n  color: #f1f1f1;\n}\n#T_999bd_row5_col16, #T_999bd_row17_col5, #T_999bd_row19_col16, #T_999bd_row22_col10 {\n  background-color: #89acfd;\n  color: #000000;\n}\n#T_999bd_row5_col19, #T_999bd_row9_col13, #T_999bd_row16_col8, #T_999bd_row20_col2, #T_999bd_row24_col19 {\n  background-color: #dddcdc;\n  color: #000000;\n}\n#T_999bd_row5_col23, #T_999bd_row23_col11 {\n  background-color: #7597f6;\n  color: #f1f1f1;\n}\n#T_999bd_row5_col24, #T_999bd_row14_col1, #T_999bd_row24_col1 {\n  background-color: #5977e3;\n  color: #f1f1f1;\n}\n#T_999bd_row6_col0, #T_999bd_row9_col0, #T_999bd_row20_col0 {\n  background-color: #4f69d9;\n  color: #f1f1f1;\n}\n#T_999bd_row6_col2, #T_999bd_row8_col18, #T_999bd_row17_col13, #T_999bd_row19_col7, #T_999bd_row21_col17 {\n  background-color: #b1cbfc;\n  color: #000000;\n}\n#T_999bd_row6_col3 {\n  background-color: #ecd3c5;\n  color: #000000;\n}\n#T_999bd_row6_col7, #T_999bd_row6_col14, #T_999bd_row17_col18 {\n  background-color: #a7c5fe;\n  color: #000000;\n}\n#T_999bd_row6_col10, #T_999bd_row10_col6 {\n  background-color: #afcafc;\n  color: #000000;\n}\n#T_999bd_row6_col13, #T_999bd_row8_col6, #T_999bd_row17_col2, #T_999bd_row19_col17, #T_999bd_row23_col19 {\n  background-color: #d5dbe5;\n  color: #000000;\n}\n#T_999bd_row6_col16, #T_999bd_row10_col16, #T_999bd_row11_col4, #T_999bd_row11_col18, #T_999bd_row14_col5, #T_999bd_row21_col5, #T_999bd_row22_col7, #T_999bd_row22_col15 {\n  background-color: #8badfd;\n  color: #000000;\n}\n#T_999bd_row6_col17, #T_999bd_row9_col8, #T_999bd_row11_col8, #T_999bd_row20_col19, #T_999bd_row24_col13 {\n  background-color: #dadce0;\n  color: #000000;\n}\n#T_999bd_row6_col19, #T_999bd_row17_col8 {\n  background-color: #e2dad5;\n  color: #000000;\n}\n#T_999bd_row6_col22, #T_999bd_row6_col23, #T_999bd_row6_col24, #T_999bd_row7_col14, #T_999bd_row16_col0, #T_999bd_row17_col11, #T_999bd_row18_col3 {\n  background-color: #4c66d6;\n  color: #f1f1f1;\n}\n#T_999bd_row7_col0, #T_999bd_row18_col0 {\n  background-color: #445acc;\n  color: #f1f1f1;\n}\n#T_999bd_row7_col2 {\n  background-color: #ccd9ed;\n  color: #000000;\n}\n#T_999bd_row7_col3, #T_999bd_row7_col11, #T_999bd_row18_col22 {\n  background-color: #4055c8;\n  color: #f1f1f1;\n}\n#T_999bd_row7_col5, #T_999bd_row8_col23, #T_999bd_row12_col3, #T_999bd_row19_col12 {\n  background-color: #7295f4;\n  color: #f1f1f1;\n}\n#T_999bd_row7_col6, #T_999bd_row12_col15 {\n  background-color: #a1c0ff;\n  color: #000000;\n}\n#T_999bd_row7_col8, #T_999bd_row18_col19 {\n  background-color: #f4c5ad;\n  color: #000000;\n}\n#T_999bd_row7_col12, #T_999bd_row18_col23 {\n  background-color: #3f53c6;\n  color: #f1f1f1;\n}\n#T_999bd_row7_col13, #T_999bd_row11_col12, #T_999bd_row18_col2 {\n  background-color: #d8dce2;\n  color: #000000;\n}\n#T_999bd_row7_col16, #T_999bd_row9_col12, #T_999bd_row9_col16, #T_999bd_row11_col5, #T_999bd_row11_col17, #T_999bd_row20_col5, #T_999bd_row20_col23, #T_999bd_row22_col6, #T_999bd_row22_col16, #T_999bd_row24_col23 {\n  background-color: #80a3fa;\n  color: #f1f1f1;\n}\n#T_999bd_row7_col18, #T_999bd_row18_col7 {\n  background-color: #f6bea4;\n  color: #000000;\n}\n#T_999bd_row7_col19, #T_999bd_row18_col8 {\n  background-color: #e9d5cb;\n  color: #000000;\n}\n#T_999bd_row7_col24 {\n  background-color: #3c4ec2;\n  color: #f1f1f1;\n}\n#T_999bd_row8_col1, #T_999bd_row11_col6, #T_999bd_row13_col12, #T_999bd_row21_col12, #T_999bd_row22_col17, #T_999bd_row23_col6 {\n  background-color: #6e90f2;\n  color: #f1f1f1;\n}\n#T_999bd_row8_col3, #T_999bd_row8_col7, #T_999bd_row19_col14 {\n  background-color: #d2dbe8;\n  color: #000000;\n}\n#T_999bd_row8_col4, #T_999bd_row14_col6, #T_999bd_row19_col15 {\n  background-color: #adc9fd;\n  color: #000000;\n}\n#T_999bd_row8_col16, #T_999bd_row11_col23, #T_999bd_row12_col10, #T_999bd_row22_col12, #T_999bd_row23_col5, #T_999bd_row24_col20 {\n  background-color: #86a9fc;\n  color: #f1f1f1;\n}\n#T_999bd_row8_col19, #T_999bd_row19_col8 {\n  background-color: #f0cdbb;\n  color: #000000;\n}\n#T_999bd_row9_col2, #T_999bd_row20_col13, #T_999bd_row23_col13 {\n  background-color: #dfdbd9;\n  color: #000000;\n}\n#T_999bd_row9_col3, #T_999bd_row13_col16, #T_999bd_row18_col5, #T_999bd_row20_col14, #T_999bd_row22_col3, #T_999bd_row23_col3, #T_999bd_row24_col12 {\n  background-color: #7ea1fa;\n  color: #f1f1f1;\n}\n#T_999bd_row9_col4, #T_999bd_row20_col15 {\n  background-color: #bbd1f8;\n  color: #000000;\n}\n#T_999bd_row9_col7, #T_999bd_row20_col18 {\n  background-color: #a6c4fe;\n  color: #000000;\n}\n#T_999bd_row9_col22, #T_999bd_row20_col11 {\n  background-color: #6687ed;\n  color: #f1f1f1;\n}\n#T_999bd_row10_col2, #T_999bd_row21_col13 {\n  background-color: #b7cff9;\n  color: #000000;\n}\n#T_999bd_row10_col7, #T_999bd_row18_col14 {\n  background-color: #4257c9;\n  color: #f1f1f1;\n}\n#T_999bd_row10_col8, #T_999bd_row21_col19 {\n  background-color: #f2cbb7;\n  color: #000000;\n}\n#T_999bd_row10_col11, #T_999bd_row13_col24, #T_999bd_row21_col22 {\n  background-color: #455cce;\n  color: #f1f1f1;\n}\n#T_999bd_row10_col13, #T_999bd_row12_col8, #T_999bd_row21_col2 {\n  background-color: #d6dce4;\n  color: #000000;\n}\n#T_999bd_row10_col14, #T_999bd_row21_col3 {\n  background-color: #f7b599;\n  color: #000000;\n}\n#T_999bd_row10_col15, #T_999bd_row10_col21, #T_999bd_row21_col4, #T_999bd_row21_col10 {\n  background-color: #f6a586;\n  color: #000000;\n}\n#T_999bd_row10_col18, #T_999bd_row12_col24, #T_999bd_row15_col0, #T_999bd_row21_col0, #T_999bd_row21_col7, #T_999bd_row21_col11, #T_999bd_row22_col1, #T_999bd_row23_col0 {\n  background-color: #5673e0;\n  color: #f1f1f1;\n}\n#T_999bd_row11_col2, #T_999bd_row12_col19, #T_999bd_row22_col2, #T_999bd_row22_col13, #T_999bd_row23_col8, #T_999bd_row24_col8 {\n  background-color: #dcdddd;\n  color: #000000;\n}\n#T_999bd_row11_col3, #T_999bd_row12_col7, #T_999bd_row22_col14, #T_999bd_row23_col18 {\n  background-color: #6a8bef;\n  color: #f1f1f1;\n}\n#T_999bd_row11_col24, #T_999bd_row17_col24, #T_999bd_row22_col24 {\n  background-color: #4b64d5;\n  color: #f1f1f1;\n}\n#T_999bd_row12_col6, #T_999bd_row15_col11, #T_999bd_row23_col1 {\n  background-color: #5d7ce6;\n  color: #f1f1f1;\n}\n#T_999bd_row12_col17 {\n  background-color: #6c8ff1;\n  color: #f1f1f1;\n}\n#T_999bd_row13_col1, #T_999bd_row21_col18 {\n  background-color: #4358cb;\n  color: #f1f1f1;\n}\n#T_999bd_row13_col5, #T_999bd_row17_col4 {\n  background-color: #81a4fb;\n  color: #f1f1f1;\n}\n#T_999bd_row14_col15 {\n  background-color: #e7745b;\n  color: #f1f1f1;\n}\n#T_999bd_row15_col3, #T_999bd_row17_col19 {\n  background-color: #f6bfa6;\n  color: #000000;\n}\n#T_999bd_row15_col10 {\n  background-color: #f7a889;\n  color: #000000;\n}\n#T_999bd_row15_col14 {\n  background-color: #e9785d;\n  color: #f1f1f1;\n}\n#T_999bd_row15_col21 {\n  background-color: #c53334;\n  color: #f1f1f1;\n}\n#T_999bd_row15_col23, #T_999bd_row16_col12, #T_999bd_row18_col16 {\n  background-color: #7396f5;\n  color: #f1f1f1;\n}\n#T_999bd_row16_col20, #T_999bd_row18_col1 {\n  background-color: #485fd1;\n  color: #f1f1f1;\n}\n#T_999bd_row17_col14 {\n  background-color: #edd1c2;\n  color: #000000;\n}\n#T_999bd_row17_col21 {\n  background-color: #b2ccfb;\n  color: #000000;\n}\n#T_999bd_row18_col24, #T_999bd_row20_col24 {\n  background-color: #3d50c3;\n  color: #f1f1f1;\n}\n#T_999bd_row19_col21 {\n  background-color: #c4d5f3;\n  color: #000000;\n}\n#T_999bd_row22_col20 {\n  background-color: #a3c2fe;\n  color: #000000;\n}\n#T_999bd_row23_col4 {\n  background-color: #a2c1ff;\n  color: #000000;\n}\n</style>\n<table id=\"T_999bd_\">\n  <thead>\n    <tr>\n      <th class=\"blank level0\" >&nbsp;</th>\n      <th class=\"col_heading level0 col0\" >DISTANCE</th>\n      <th class=\"col_heading level0 col1\" >AIR_TIME</th>\n      <th class=\"col_heading level0 col2\" >ORIGIN_ELEVATION</th>\n      <th class=\"col_heading level0 col3\" >ORIGIN_HourlyDewPointTemperature</th>\n      <th class=\"col_heading level0 col4\" >ORIGIN_HourlyDryBulbTemperature</th>\n      <th class=\"col_heading level0 col5\" >ORIGIN_HourlyPrecipitation</th>\n      <th class=\"col_heading level0 col6\" >ORIGIN_HourlyRelativeHumidity</th>\n      <th class=\"col_heading level0 col7\" >ORIGIN_HourlySeaLevelPressure</th>\n      <th class=\"col_heading level0 col8\" >ORIGIN_HourlyStationPressure</th>\n      <th class=\"col_heading level0 col9\" >ORIGIN_HourlyVisibility</th>\n      <th class=\"col_heading level0 col10\" >ORIGIN_HourlyWetBulbTemperature</th>\n      <th class=\"col_heading level0 col11\" >ORIGIN_HourlyWindDirection</th>\n      <th class=\"col_heading level0 col12\" >ORIGIN_HourlyWindSpeed</th>\n      <th class=\"col_heading level0 col13\" >DEST_ELEVATION</th>\n      <th class=\"col_heading level0 col14\" >DEST_HourlyDewPointTemperature</th>\n      <th class=\"col_heading level0 col15\" >DEST_HourlyDryBulbTemperature</th>\n      <th class=\"col_heading level0 col16\" >DEST_HourlyPrecipitation</th>\n      <th class=\"col_heading level0 col17\" >DEST_HourlyRelativeHumidity</th>\n      <th class=\"col_heading level0 col18\" >DEST_HourlySeaLevelPressure</th>\n      <th class=\"col_heading level0 col19\" >DEST_HourlyStationPressure</th>\n      <th class=\"col_heading level0 col20\" >DEST_HourlyVisibility</th>\n      <th class=\"col_heading level0 col21\" >DEST_HourlyWetBulbTemperature</th>\n      <th class=\"col_heading level0 col22\" >DEST_HourlyWindDirection</th>\n      <th class=\"col_heading level0 col23\" >DEST_HourlyWindSpeed</th>\n      <th class=\"col_heading level0 col24\" >ARR_DELAY_NEW</th>\n    </tr>\n  </thead>\n  <tbody>\n    <tr>\n      <th id=\"T_999bd_level0_row0\" class=\"row_heading level0 row0\" >DISTANCE</th>\n      <td id=\"T_999bd_row0_col0\" class=\"data row0 col0\" >1.00</td>\n      <td id=\"T_999bd_row0_col1\" class=\"data row0 col1\" >0.98</td>\n      <td id=\"T_999bd_row0_col2\" class=\"data row0 col2\" >-0.07</td>\n      <td id=\"T_999bd_row0_col3\" class=\"data row0 col3\" >0.02</td>\n      <td id=\"T_999bd_row0_col4\" class=\"data row0 col4\" >0.02</td>\n      <td id=\"T_999bd_row0_col5\" class=\"data row0 col5\" >-0.00</td>\n      <td id=\"T_999bd_row0_col6\" class=\"data row0 col6\" >0.00</td>\n      <td id=\"T_999bd_row0_col7\" class=\"data row0 col7\" >-0.03</td>\n      <td id=\"T_999bd_row0_col8\" class=\"data row0 col8\" >0.06</td>\n      <td id=\"T_999bd_row0_col9\" class=\"data row0 col9\" >0.00</td>\n      <td id=\"T_999bd_row0_col10\" class=\"data row0 col10\" >0.03</td>\n      <td id=\"T_999bd_row0_col11\" class=\"data row0 col11\" >0.00</td>\n      <td id=\"T_999bd_row0_col12\" class=\"data row0 col12\" >0.02</td>\n      <td id=\"T_999bd_row0_col13\" class=\"data row0 col13\" >-0.07</td>\n      <td id=\"T_999bd_row0_col14\" class=\"data row0 col14\" >0.02</td>\n      <td id=\"T_999bd_row0_col15\" class=\"data row0 col15\" >0.03</td>\n      <td id=\"T_999bd_row0_col16\" class=\"data row0 col16\" >-0.00</td>\n      <td id=\"T_999bd_row0_col17\" class=\"data row0 col17\" >0.00</td>\n      <td id=\"T_999bd_row0_col18\" class=\"data row0 col18\" >-0.03</td>\n      <td id=\"T_999bd_row0_col19\" class=\"data row0 col19\" >0.06</td>\n      <td id=\"T_999bd_row0_col20\" class=\"data row0 col20\" >0.01</td>\n      <td id=\"T_999bd_row0_col21\" class=\"data row0 col21\" >0.03</td>\n      <td id=\"T_999bd_row0_col22\" class=\"data row0 col22\" >0.01</td>\n      <td id=\"T_999bd_row0_col23\" class=\"data row0 col23\" >0.03</td>\n      <td id=\"T_999bd_row0_col24\" class=\"data row0 col24\" >0.01</td>\n    </tr>\n    <tr>\n      <th id=\"T_999bd_level0_row1\" class=\"row_heading level0 row1\" >AIR_TIME</th>\n      <td id=\"T_999bd_row1_col0\" class=\"data row1 col0\" >0.98</td>\n      <td id=\"T_999bd_row1_col1\" class=\"data row1 col1\" >1.00</td>\n      <td id=\"T_999bd_row1_col2\" class=\"data row1 col2\" >-0.09</td>\n      <td id=\"T_999bd_row1_col3\" class=\"data row1 col3\" >0.01</td>\n      <td id=\"T_999bd_row1_col4\" class=\"data row1 col4\" >0.01</td>\n      <td id=\"T_999bd_row1_col5\" class=\"data row1 col5\" >0.00</td>\n      <td id=\"T_999bd_row1_col6\" class=\"data row1 col6\" >0.01</td>\n      <td id=\"T_999bd_row1_col7\" class=\"data row1 col7\" >-0.02</td>\n      <td id=\"T_999bd_row1_col8\" class=\"data row1 col8\" >0.09</td>\n      <td id=\"T_999bd_row1_col9\" class=\"data row1 col9\" >-0.00</td>\n      <td id=\"T_999bd_row1_col10\" class=\"data row1 col10\" >0.01</td>\n      <td id=\"T_999bd_row1_col11\" class=\"data row1 col11\" >0.01</td>\n      <td id=\"T_999bd_row1_col12\" class=\"data row1 col12\" >0.03</td>\n      <td id=\"T_999bd_row1_col13\" class=\"data row1 col13\" >-0.06</td>\n      <td id=\"T_999bd_row1_col14\" class=\"data row1 col14\" >0.02</td>\n      <td id=\"T_999bd_row1_col15\" class=\"data row1 col15\" >0.02</td>\n      <td id=\"T_999bd_row1_col16\" class=\"data row1 col16\" >0.00</td>\n      <td id=\"T_999bd_row1_col17\" class=\"data row1 col17\" >0.00</td>\n      <td id=\"T_999bd_row1_col18\" class=\"data row1 col18\" >-0.04</td>\n      <td id=\"T_999bd_row1_col19\" class=\"data row1 col19\" >0.05</td>\n      <td id=\"T_999bd_row1_col20\" class=\"data row1 col20\" >-0.00</td>\n      <td id=\"T_999bd_row1_col21\" class=\"data row1 col21\" >0.02</td>\n      <td id=\"T_999bd_row1_col22\" class=\"data row1 col22\" >0.01</td>\n      <td id=\"T_999bd_row1_col23\" class=\"data row1 col23\" >0.03</td>\n      <td id=\"T_999bd_row1_col24\" class=\"data row1 col24\" >0.02</td>\n    </tr>\n    <tr>\n      <th id=\"T_999bd_level0_row2\" class=\"row_heading level0 row2\" >ORIGIN_ELEVATION</th>\n      <td id=\"T_999bd_row2_col0\" class=\"data row2 col0\" >-0.07</td>\n      <td id=\"T_999bd_row2_col1\" class=\"data row2 col1\" >-0.09</td>\n      <td id=\"T_999bd_row2_col2\" class=\"data row2 col2\" >1.00</td>\n      <td id=\"T_999bd_row2_col3\" class=\"data row2 col3\" >-0.32</td>\n      <td id=\"T_999bd_row2_col4\" class=\"data row2 col4\" >-0.13</td>\n      <td id=\"T_999bd_row2_col5\" class=\"data row2 col5\" >-0.02</td>\n      <td id=\"T_999bd_row2_col6\" class=\"data row2 col6\" >-0.29</td>\n      <td id=\"T_999bd_row2_col7\" class=\"data row2 col7\" >-0.12</td>\n      <td id=\"T_999bd_row2_col8\" class=\"data row2 col8\" >-0.99</td>\n      <td id=\"T_999bd_row2_col9\" class=\"data row2 col9\" >0.03</td>\n      <td id=\"T_999bd_row2_col10\" class=\"data row2 col10\" >-0.25</td>\n      <td id=\"T_999bd_row2_col11\" class=\"data row2 col11\" >-0.00</td>\n      <td id=\"T_999bd_row2_col12\" class=\"data row2 col12\" >0.02</td>\n      <td id=\"T_999bd_row2_col13\" class=\"data row2 col13\" >0.16</td>\n      <td id=\"T_999bd_row2_col14\" class=\"data row2 col14\" >-0.06</td>\n      <td id=\"T_999bd_row2_col15\" class=\"data row2 col15\" >-0.02</td>\n      <td id=\"T_999bd_row2_col16\" class=\"data row2 col16\" >-0.01</td>\n      <td id=\"T_999bd_row2_col17\" class=\"data row2 col17\" >-0.05</td>\n      <td id=\"T_999bd_row2_col18\" class=\"data row2 col18\" >-0.03</td>\n      <td id=\"T_999bd_row2_col19\" class=\"data row2 col19\" >-0.17</td>\n      <td id=\"T_999bd_row2_col20\" class=\"data row2 col20\" >0.01</td>\n      <td id=\"T_999bd_row2_col21\" class=\"data row2 col21\" >-0.05</td>\n      <td id=\"T_999bd_row2_col22\" class=\"data row2 col22\" >-0.00</td>\n      <td id=\"T_999bd_row2_col23\" class=\"data row2 col23\" >-0.01</td>\n      <td id=\"T_999bd_row2_col24\" class=\"data row2 col24\" >-0.01</td>\n    </tr>\n    <tr>\n      <th id=\"T_999bd_level0_row3\" class=\"row_heading level0 row3\" >ORIGIN_HourlyDewPointTemperature</th>\n      <td id=\"T_999bd_row3_col0\" class=\"data row3 col0\" >0.02</td>\n      <td id=\"T_999bd_row3_col1\" class=\"data row3 col1\" >0.01</td>\n      <td id=\"T_999bd_row3_col2\" class=\"data row3 col2\" >-0.32</td>\n      <td id=\"T_999bd_row3_col3\" class=\"data row3 col3\" >1.00</td>\n      <td id=\"T_999bd_row3_col4\" class=\"data row3 col4\" >0.77</td>\n      <td id=\"T_999bd_row3_col5\" class=\"data row3 col5\" >0.07</td>\n      <td id=\"T_999bd_row3_col6\" class=\"data row3 col6\" >0.43</td>\n      <td id=\"T_999bd_row3_col7\" class=\"data row3 col7\" >-0.29</td>\n      <td id=\"T_999bd_row3_col8\" class=\"data row3 col8\" >0.28</td>\n      <td id=\"T_999bd_row3_col9\" class=\"data row3 col9\" >-0.05</td>\n      <td id=\"T_999bd_row3_col10\" class=\"data row3 col10\" >0.94</td>\n      <td id=\"T_999bd_row3_col11\" class=\"data row3 col11\" >-0.12</td>\n      <td id=\"T_999bd_row3_col12\" class=\"data row3 col12\" >-0.09</td>\n      <td id=\"T_999bd_row3_col13\" class=\"data row3 col13\" >-0.06</td>\n      <td id=\"T_999bd_row3_col14\" class=\"data row3 col14\" >0.55</td>\n      <td id=\"T_999bd_row3_col15\" class=\"data row3 col15\" >0.53</td>\n      <td id=\"T_999bd_row3_col16\" class=\"data row3 col16\" >0.03</td>\n      <td id=\"T_999bd_row3_col17\" class=\"data row3 col17\" >0.10</td>\n      <td id=\"T_999bd_row3_col18\" class=\"data row3 col18\" >-0.24</td>\n      <td id=\"T_999bd_row3_col19\" class=\"data row3 col19\" >0.03</td>\n      <td id=\"T_999bd_row3_col20\" class=\"data row3 col20\" >0.02</td>\n      <td id=\"T_999bd_row3_col21\" class=\"data row3 col21\" >0.57</td>\n      <td id=\"T_999bd_row3_col22\" class=\"data row3 col22\" >-0.05</td>\n      <td id=\"T_999bd_row3_col23\" class=\"data row3 col23\" >-0.05</td>\n      <td id=\"T_999bd_row3_col24\" class=\"data row3 col24\" >0.03</td>\n    </tr>\n    <tr>\n      <th id=\"T_999bd_level0_row4\" class=\"row_heading level0 row4\" >ORIGIN_HourlyDryBulbTemperature</th>\n      <td id=\"T_999bd_row4_col0\" class=\"data row4 col0\" >0.02</td>\n      <td id=\"T_999bd_row4_col1\" class=\"data row4 col1\" >0.01</td>\n      <td id=\"T_999bd_row4_col2\" class=\"data row4 col2\" >-0.13</td>\n      <td id=\"T_999bd_row4_col3\" class=\"data row4 col3\" >0.77</td>\n      <td id=\"T_999bd_row4_col4\" class=\"data row4 col4\" >1.00</td>\n      <td id=\"T_999bd_row4_col5\" class=\"data row4 col5\" >-0.00</td>\n      <td id=\"T_999bd_row4_col6\" class=\"data row4 col6\" >-0.21</td>\n      <td id=\"T_999bd_row4_col7\" class=\"data row4 col7\" >-0.40</td>\n      <td id=\"T_999bd_row4_col8\" class=\"data row4 col8\" >0.08</td>\n      <td id=\"T_999bd_row4_col9\" class=\"data row4 col9\" >0.14</td>\n      <td id=\"T_999bd_row4_col10\" class=\"data row4 col10\" >0.94</td>\n      <td id=\"T_999bd_row4_col11\" class=\"data row4 col11\" >-0.05</td>\n      <td id=\"T_999bd_row4_col12\" class=\"data row4 col12\" >0.02</td>\n      <td id=\"T_999bd_row4_col13\" class=\"data row4 col13\" >-0.02</td>\n      <td id=\"T_999bd_row4_col14\" class=\"data row4 col14\" >0.52</td>\n      <td id=\"T_999bd_row4_col15\" class=\"data row4 col15\" >0.63</td>\n      <td id=\"T_999bd_row4_col16\" class=\"data row4 col16\" >0.01</td>\n      <td id=\"T_999bd_row4_col17\" class=\"data row4 col17\" >-0.09</td>\n      <td id=\"T_999bd_row4_col18\" class=\"data row4 col18\" >-0.27</td>\n      <td id=\"T_999bd_row4_col19\" class=\"data row4 col19\" >-0.01</td>\n      <td id=\"T_999bd_row4_col20\" class=\"data row4 col20\" >0.08</td>\n      <td id=\"T_999bd_row4_col21\" class=\"data row4 col21\" >0.61</td>\n      <td id=\"T_999bd_row4_col22\" class=\"data row4 col22\" >-0.01</td>\n      <td id=\"T_999bd_row4_col23\" class=\"data row4 col23\" >0.04</td>\n      <td id=\"T_999bd_row4_col24\" class=\"data row4 col24\" >0.03</td>\n    </tr>\n    <tr>\n      <th id=\"T_999bd_level0_row5\" class=\"row_heading level0 row5\" >ORIGIN_HourlyPrecipitation</th>\n      <td id=\"T_999bd_row5_col0\" class=\"data row5 col0\" >-0.00</td>\n      <td id=\"T_999bd_row5_col1\" class=\"data row5 col1\" >0.00</td>\n      <td id=\"T_999bd_row5_col2\" class=\"data row5 col2\" >-0.02</td>\n      <td id=\"T_999bd_row5_col3\" class=\"data row5 col3\" >0.07</td>\n      <td id=\"T_999bd_row5_col4\" class=\"data row5 col4\" >-0.00</td>\n      <td id=\"T_999bd_row5_col5\" class=\"data row5 col5\" >1.00</td>\n      <td id=\"T_999bd_row5_col6\" class=\"data row5 col6\" >0.14</td>\n      <td id=\"T_999bd_row5_col7\" class=\"data row5 col7\" >-0.06</td>\n      <td id=\"T_999bd_row5_col8\" class=\"data row5 col8\" >0.01</td>\n      <td id=\"T_999bd_row5_col9\" class=\"data row5 col9\" >-0.29</td>\n      <td id=\"T_999bd_row5_col10\" class=\"data row5 col10\" >0.04</td>\n      <td id=\"T_999bd_row5_col11\" class=\"data row5 col11\" >-0.02</td>\n      <td id=\"T_999bd_row5_col12\" class=\"data row5 col12\" >0.04</td>\n      <td id=\"T_999bd_row5_col13\" class=\"data row5 col13\" >-0.01</td>\n      <td id=\"T_999bd_row5_col14\" class=\"data row5 col14\" >0.03</td>\n      <td id=\"T_999bd_row5_col15\" class=\"data row5 col15\" >0.02</td>\n      <td id=\"T_999bd_row5_col16\" class=\"data row5 col16\" >0.02</td>\n      <td id=\"T_999bd_row5_col17\" class=\"data row5 col17\" >0.02</td>\n      <td id=\"T_999bd_row5_col18\" class=\"data row5 col18\" >-0.02</td>\n      <td id=\"T_999bd_row5_col19\" class=\"data row5 col19\" >0.01</td>\n      <td id=\"T_999bd_row5_col20\" class=\"data row5 col20\" >-0.02</td>\n      <td id=\"T_999bd_row5_col21\" class=\"data row5 col21\" >0.02</td>\n      <td id=\"T_999bd_row5_col22\" class=\"data row5 col22\" >-0.00</td>\n      <td id=\"T_999bd_row5_col23\" class=\"data row5 col23\" >0.01</td>\n      <td id=\"T_999bd_row5_col24\" class=\"data row5 col24\" >0.05</td>\n    </tr>\n    <tr>\n      <th id=\"T_999bd_level0_row6\" class=\"row_heading level0 row6\" >ORIGIN_HourlyRelativeHumidity</th>\n      <td id=\"T_999bd_row6_col0\" class=\"data row6 col0\" >0.00</td>\n      <td id=\"T_999bd_row6_col1\" class=\"data row6 col1\" >0.01</td>\n      <td id=\"T_999bd_row6_col2\" class=\"data row6 col2\" >-0.29</td>\n      <td id=\"T_999bd_row6_col3\" class=\"data row6 col3\" >0.43</td>\n      <td id=\"T_999bd_row6_col4\" class=\"data row6 col4\" >-0.21</td>\n      <td id=\"T_999bd_row6_col5\" class=\"data row6 col5\" >0.14</td>\n      <td id=\"T_999bd_row6_col6\" class=\"data row6 col6\" >1.00</td>\n      <td id=\"T_999bd_row6_col7\" class=\"data row6 col7\" >0.06</td>\n      <td id=\"T_999bd_row6_col8\" class=\"data row6 col8\" >0.28</td>\n      <td id=\"T_999bd_row6_col9\" class=\"data row6 col9\" >-0.36</td>\n      <td id=\"T_999bd_row6_col10\" class=\"data row6 col10\" >0.12</td>\n      <td id=\"T_999bd_row6_col11\" class=\"data row6 col11\" >-0.14</td>\n      <td id=\"T_999bd_row6_col12\" class=\"data row6 col12\" >-0.21</td>\n      <td id=\"T_999bd_row6_col13\" class=\"data row6 col13\" >-0.05</td>\n      <td id=\"T_999bd_row6_col14\" class=\"data row6 col14\" >0.11</td>\n      <td id=\"T_999bd_row6_col15\" class=\"data row6 col15\" >-0.08</td>\n      <td id=\"T_999bd_row6_col16\" class=\"data row6 col16\" >0.02</td>\n      <td id=\"T_999bd_row6_col17\" class=\"data row6 col17\" >0.31</td>\n      <td id=\"T_999bd_row6_col18\" class=\"data row6 col18\" >-0.01</td>\n      <td id=\"T_999bd_row6_col19\" class=\"data row6 col19\" >0.05</td>\n      <td id=\"T_999bd_row6_col20\" class=\"data row6 col20\" >-0.10</td>\n      <td id=\"T_999bd_row6_col21\" class=\"data row6 col21\" >0.02</td>\n      <td id=\"T_999bd_row6_col22\" class=\"data row6 col22\" >-0.07</td>\n      <td id=\"T_999bd_row6_col23\" class=\"data row6 col23\" >-0.14</td>\n      <td id=\"T_999bd_row6_col24\" class=\"data row6 col24\" >0.01</td>\n    </tr>\n    <tr>\n      <th id=\"T_999bd_level0_row7\" class=\"row_heading level0 row7\" >ORIGIN_HourlySeaLevelPressure</th>\n      <td id=\"T_999bd_row7_col0\" class=\"data row7 col0\" >-0.03</td>\n      <td id=\"T_999bd_row7_col1\" class=\"data row7 col1\" >-0.02</td>\n      <td id=\"T_999bd_row7_col2\" class=\"data row7 col2\" >-0.12</td>\n      <td id=\"T_999bd_row7_col3\" class=\"data row7 col3\" >-0.29</td>\n      <td id=\"T_999bd_row7_col4\" class=\"data row7 col4\" >-0.40</td>\n      <td id=\"T_999bd_row7_col5\" class=\"data row7 col5\" >-0.06</td>\n      <td id=\"T_999bd_row7_col6\" class=\"data row7 col6\" >0.06</td>\n      <td id=\"T_999bd_row7_col7\" class=\"data row7 col7\" >1.00</td>\n      <td id=\"T_999bd_row7_col8\" class=\"data row7 col8\" >0.25</td>\n      <td id=\"T_999bd_row7_col9\" class=\"data row7 col9\" >0.05</td>\n      <td id=\"T_999bd_row7_col10\" class=\"data row7 col10\" >-0.36</td>\n      <td id=\"T_999bd_row7_col11\" class=\"data row7 col11\" >-0.11</td>\n      <td id=\"T_999bd_row7_col12\" class=\"data row7 col12\" >-0.19</td>\n      <td id=\"T_999bd_row7_col13\" class=\"data row7 col13\" >-0.03</td>\n      <td id=\"T_999bd_row7_col14\" class=\"data row7 col14\" >-0.24</td>\n      <td id=\"T_999bd_row7_col15\" class=\"data row7 col15\" >-0.27</td>\n      <td id=\"T_999bd_row7_col16\" class=\"data row7 col16\" >-0.02</td>\n      <td id=\"T_999bd_row7_col17\" class=\"data row7 col17\" >-0.00</td>\n      <td id=\"T_999bd_row7_col18\" class=\"data row7 col18\" >0.51</td>\n      <td id=\"T_999bd_row7_col19\" class=\"data row7 col19\" >0.10</td>\n      <td id=\"T_999bd_row7_col20\" class=\"data row7 col20\" >-0.00</td>\n      <td id=\"T_999bd_row7_col21\" class=\"data row7 col21\" >-0.27</td>\n      <td id=\"T_999bd_row7_col22\" class=\"data row7 col22\" >-0.06</td>\n      <td id=\"T_999bd_row7_col23\" class=\"data row7 col23\" >-0.05</td>\n      <td id=\"T_999bd_row7_col24\" class=\"data row7 col24\" >-0.04</td>\n    </tr>\n    <tr>\n      <th id=\"T_999bd_level0_row8\" class=\"row_heading level0 row8\" >ORIGIN_HourlyStationPressure</th>\n      <td id=\"T_999bd_row8_col0\" class=\"data row8 col0\" >0.06</td>\n      <td id=\"T_999bd_row8_col1\" class=\"data row8 col1\" >0.09</td>\n      <td id=\"T_999bd_row8_col2\" class=\"data row8 col2\" >-0.99</td>\n      <td id=\"T_999bd_row8_col3\" class=\"data row8 col3\" >0.28</td>\n      <td id=\"T_999bd_row8_col4\" class=\"data row8 col4\" >0.08</td>\n      <td id=\"T_999bd_row8_col5\" class=\"data row8 col5\" >0.01</td>\n      <td id=\"T_999bd_row8_col6\" class=\"data row8 col6\" >0.28</td>\n      <td id=\"T_999bd_row8_col7\" class=\"data row8 col7\" >0.25</td>\n      <td id=\"T_999bd_row8_col8\" class=\"data row8 col8\" >1.00</td>\n      <td id=\"T_999bd_row8_col9\" class=\"data row8 col9\" >-0.01</td>\n      <td id=\"T_999bd_row8_col10\" class=\"data row8 col10\" >0.21</td>\n      <td id=\"T_999bd_row8_col11\" class=\"data row8 col11\" >-0.02</td>\n      <td id=\"T_999bd_row8_col12\" class=\"data row8 col12\" >-0.04</td>\n      <td id=\"T_999bd_row8_col13\" class=\"data row8 col13\" >-0.17</td>\n      <td id=\"T_999bd_row8_col14\" class=\"data row8 col14\" >0.03</td>\n      <td id=\"T_999bd_row8_col15\" class=\"data row8 col15\" >-0.01</td>\n      <td id=\"T_999bd_row8_col16\" class=\"data row8 col16\" >0.01</td>\n      <td id=\"T_999bd_row8_col17\" class=\"data row8 col17\" >0.05</td>\n      <td id=\"T_999bd_row8_col18\" class=\"data row8 col18\" >0.10</td>\n      <td id=\"T_999bd_row8_col19\" class=\"data row8 col19\" >0.18</td>\n      <td id=\"T_999bd_row8_col20\" class=\"data row8 col20\" >-0.01</td>\n      <td id=\"T_999bd_row8_col21\" class=\"data row8 col21\" >0.02</td>\n      <td id=\"T_999bd_row8_col22\" class=\"data row8 col22\" >-0.01</td>\n      <td id=\"T_999bd_row8_col23\" class=\"data row8 col23\" >0.00</td>\n      <td id=\"T_999bd_row8_col24\" class=\"data row8 col24\" >0.00</td>\n    </tr>\n    <tr>\n      <th id=\"T_999bd_level0_row9\" class=\"row_heading level0 row9\" >ORIGIN_HourlyVisibility</th>\n      <td id=\"T_999bd_row9_col0\" class=\"data row9 col0\" >0.00</td>\n      <td id=\"T_999bd_row9_col1\" class=\"data row9 col1\" >-0.00</td>\n      <td id=\"T_999bd_row9_col2\" class=\"data row9 col2\" >0.03</td>\n      <td id=\"T_999bd_row9_col3\" class=\"data row9 col3\" >-0.05</td>\n      <td id=\"T_999bd_row9_col4\" class=\"data row9 col4\" >0.14</td>\n      <td id=\"T_999bd_row9_col5\" class=\"data row9 col5\" >-0.29</td>\n      <td id=\"T_999bd_row9_col6\" class=\"data row9 col6\" >-0.36</td>\n      <td id=\"T_999bd_row9_col7\" class=\"data row9 col7\" >0.05</td>\n      <td id=\"T_999bd_row9_col8\" class=\"data row9 col8\" >-0.01</td>\n      <td id=\"T_999bd_row9_col9\" class=\"data row9 col9\" >1.00</td>\n      <td id=\"T_999bd_row9_col10\" class=\"data row9 col10\" >0.05</td>\n      <td id=\"T_999bd_row9_col11\" class=\"data row9 col11\" >0.08</td>\n      <td id=\"T_999bd_row9_col12\" class=\"data row9 col12\" >0.05</td>\n      <td id=\"T_999bd_row9_col13\" class=\"data row9 col13\" >0.01</td>\n      <td id=\"T_999bd_row9_col14\" class=\"data row9 col14\" >0.02</td>\n      <td id=\"T_999bd_row9_col15\" class=\"data row9 col15\" >0.07</td>\n      <td id=\"T_999bd_row9_col16\" class=\"data row9 col16\" >-0.02</td>\n      <td id=\"T_999bd_row9_col17\" class=\"data row9 col17\" >-0.10</td>\n      <td id=\"T_999bd_row9_col18\" class=\"data row9 col18\" >-0.00</td>\n      <td id=\"T_999bd_row9_col19\" class=\"data row9 col19\" >-0.00</td>\n      <td id=\"T_999bd_row9_col20\" class=\"data row9 col20\" >0.10</td>\n      <td id=\"T_999bd_row9_col21\" class=\"data row9 col21\" >0.05</td>\n      <td id=\"T_999bd_row9_col22\" class=\"data row9 col22\" >0.02</td>\n      <td id=\"T_999bd_row9_col23\" class=\"data row9 col23\" >0.02</td>\n      <td id=\"T_999bd_row9_col24\" class=\"data row9 col24\" >-0.05</td>\n    </tr>\n    <tr>\n      <th id=\"T_999bd_level0_row10\" class=\"row_heading level0 row10\" >ORIGIN_HourlyWetBulbTemperature</th>\n      <td id=\"T_999bd_row10_col0\" class=\"data row10 col0\" >0.03</td>\n      <td id=\"T_999bd_row10_col1\" class=\"data row10 col1\" >0.01</td>\n      <td id=\"T_999bd_row10_col2\" class=\"data row10 col2\" >-0.25</td>\n      <td id=\"T_999bd_row10_col3\" class=\"data row10 col3\" >0.94</td>\n      <td id=\"T_999bd_row10_col4\" class=\"data row10 col4\" >0.94</td>\n      <td id=\"T_999bd_row10_col5\" class=\"data row10 col5\" >0.04</td>\n      <td id=\"T_999bd_row10_col6\" class=\"data row10 col6\" >0.12</td>\n      <td id=\"T_999bd_row10_col7\" class=\"data row10 col7\" >-0.36</td>\n      <td id=\"T_999bd_row10_col8\" class=\"data row10 col8\" >0.21</td>\n      <td id=\"T_999bd_row10_col9\" class=\"data row10 col9\" >0.05</td>\n      <td id=\"T_999bd_row10_col10\" class=\"data row10 col10\" >1.00</td>\n      <td id=\"T_999bd_row10_col11\" class=\"data row10 col11\" >-0.09</td>\n      <td id=\"T_999bd_row10_col12\" class=\"data row10 col12\" >-0.04</td>\n      <td id=\"T_999bd_row10_col13\" class=\"data row10 col13\" >-0.05</td>\n      <td id=\"T_999bd_row10_col14\" class=\"data row10 col14\" >0.57</td>\n      <td id=\"T_999bd_row10_col15\" class=\"data row10 col15\" >0.61</td>\n      <td id=\"T_999bd_row10_col16\" class=\"data row10 col16\" >0.02</td>\n      <td id=\"T_999bd_row10_col17\" class=\"data row10 col17\" >0.01</td>\n      <td id=\"T_999bd_row10_col18\" class=\"data row10 col18\" >-0.27</td>\n      <td id=\"T_999bd_row10_col19\" class=\"data row10 col19\" >0.02</td>\n      <td id=\"T_999bd_row10_col20\" class=\"data row10 col20\" >0.05</td>\n      <td id=\"T_999bd_row10_col21\" class=\"data row10 col21\" >0.62</td>\n      <td id=\"T_999bd_row10_col22\" class=\"data row10 col22\" >-0.03</td>\n      <td id=\"T_999bd_row10_col23\" class=\"data row10 col23\" >-0.01</td>\n      <td id=\"T_999bd_row10_col24\" class=\"data row10 col24\" >0.03</td>\n    </tr>\n    <tr>\n      <th id=\"T_999bd_level0_row11\" class=\"row_heading level0 row11\" >ORIGIN_HourlyWindDirection</th>\n      <td id=\"T_999bd_row11_col0\" class=\"data row11 col0\" >0.00</td>\n      <td id=\"T_999bd_row11_col1\" class=\"data row11 col1\" >0.01</td>\n      <td id=\"T_999bd_row11_col2\" class=\"data row11 col2\" >-0.00</td>\n      <td id=\"T_999bd_row11_col3\" class=\"data row11 col3\" >-0.12</td>\n      <td id=\"T_999bd_row11_col4\" class=\"data row11 col4\" >-0.05</td>\n      <td id=\"T_999bd_row11_col5\" class=\"data row11 col5\" >-0.02</td>\n      <td id=\"T_999bd_row11_col6\" class=\"data row11 col6\" >-0.14</td>\n      <td id=\"T_999bd_row11_col7\" class=\"data row11 col7\" >-0.11</td>\n      <td id=\"T_999bd_row11_col8\" class=\"data row11 col8\" >-0.02</td>\n      <td id=\"T_999bd_row11_col9\" class=\"data row11 col9\" >0.08</td>\n      <td id=\"T_999bd_row11_col10\" class=\"data row11 col10\" >-0.09</td>\n      <td id=\"T_999bd_row11_col11\" class=\"data row11 col11\" >1.00</td>\n      <td id=\"T_999bd_row11_col12\" class=\"data row11 col12\" >0.38</td>\n      <td id=\"T_999bd_row11_col13\" class=\"data row11 col13\" >-0.00</td>\n      <td id=\"T_999bd_row11_col14\" class=\"data row11 col14\" >-0.05</td>\n      <td id=\"T_999bd_row11_col15\" class=\"data row11 col15\" >-0.01</td>\n      <td id=\"T_999bd_row11_col16\" class=\"data row11 col16\" >-0.00</td>\n      <td id=\"T_999bd_row11_col17\" class=\"data row11 col17\" >-0.07</td>\n      <td id=\"T_999bd_row11_col18\" class=\"data row11 col18\" >-0.05</td>\n      <td id=\"T_999bd_row11_col19\" class=\"data row11 col19\" >-0.00</td>\n      <td id=\"T_999bd_row11_col20\" class=\"data row11 col20\" >0.02</td>\n      <td id=\"T_999bd_row11_col21\" class=\"data row11 col21\" >-0.03</td>\n      <td id=\"T_999bd_row11_col22\" class=\"data row11 col22\" >0.09</td>\n      <td id=\"T_999bd_row11_col23\" class=\"data row11 col23\" >0.07</td>\n      <td id=\"T_999bd_row11_col24\" class=\"data row11 col24\" >0.01</td>\n    </tr>\n    <tr>\n      <th id=\"T_999bd_level0_row12\" class=\"row_heading level0 row12\" >ORIGIN_HourlyWindSpeed</th>\n      <td id=\"T_999bd_row12_col0\" class=\"data row12 col0\" >0.02</td>\n      <td id=\"T_999bd_row12_col1\" class=\"data row12 col1\" >0.03</td>\n      <td id=\"T_999bd_row12_col2\" class=\"data row12 col2\" >0.02</td>\n      <td id=\"T_999bd_row12_col3\" class=\"data row12 col3\" >-0.09</td>\n      <td id=\"T_999bd_row12_col4\" class=\"data row12 col4\" >0.02</td>\n      <td id=\"T_999bd_row12_col5\" class=\"data row12 col5\" >0.04</td>\n      <td id=\"T_999bd_row12_col6\" class=\"data row12 col6\" >-0.21</td>\n      <td id=\"T_999bd_row12_col7\" class=\"data row12 col7\" >-0.19</td>\n      <td id=\"T_999bd_row12_col8\" class=\"data row12 col8\" >-0.04</td>\n      <td id=\"T_999bd_row12_col9\" class=\"data row12 col9\" >0.05</td>\n      <td id=\"T_999bd_row12_col10\" class=\"data row12 col10\" >-0.04</td>\n      <td id=\"T_999bd_row12_col11\" class=\"data row12 col11\" >0.38</td>\n      <td id=\"T_999bd_row12_col12\" class=\"data row12 col12\" >1.00</td>\n      <td id=\"T_999bd_row12_col13\" class=\"data row12 col13\" >-0.01</td>\n      <td id=\"T_999bd_row12_col14\" class=\"data row12 col14\" >-0.05</td>\n      <td id=\"T_999bd_row12_col15\" class=\"data row12 col15\" >0.03</td>\n      <td id=\"T_999bd_row12_col16\" class=\"data row12 col16\" >0.01</td>\n      <td id=\"T_999bd_row12_col17\" class=\"data row12 col17\" >-0.14</td>\n      <td id=\"T_999bd_row12_col18\" class=\"data row12 col18\" >-0.05</td>\n      <td id=\"T_999bd_row12_col19\" class=\"data row12 col19\" >0.00</td>\n      <td id=\"T_999bd_row12_col20\" class=\"data row12 col20\" >0.02</td>\n      <td id=\"T_999bd_row12_col21\" class=\"data row12 col21\" >-0.01</td>\n      <td id=\"T_999bd_row12_col22\" class=\"data row12 col22\" >0.08</td>\n      <td id=\"T_999bd_row12_col23\" class=\"data row12 col23\" >0.20</td>\n      <td id=\"T_999bd_row12_col24\" class=\"data row12 col24\" >0.05</td>\n    </tr>\n    <tr>\n      <th id=\"T_999bd_level0_row13\" class=\"row_heading level0 row13\" >DEST_ELEVATION</th>\n      <td id=\"T_999bd_row13_col0\" class=\"data row13 col0\" >-0.07</td>\n      <td id=\"T_999bd_row13_col1\" class=\"data row13 col1\" >-0.06</td>\n      <td id=\"T_999bd_row13_col2\" class=\"data row13 col2\" >0.16</td>\n      <td id=\"T_999bd_row13_col3\" class=\"data row13 col3\" >-0.06</td>\n      <td id=\"T_999bd_row13_col4\" class=\"data row13 col4\" >-0.02</td>\n      <td id=\"T_999bd_row13_col5\" class=\"data row13 col5\" >-0.01</td>\n      <td id=\"T_999bd_row13_col6\" class=\"data row13 col6\" >-0.05</td>\n      <td id=\"T_999bd_row13_col7\" class=\"data row13 col7\" >-0.03</td>\n      <td id=\"T_999bd_row13_col8\" class=\"data row13 col8\" >-0.17</td>\n      <td id=\"T_999bd_row13_col9\" class=\"data row13 col9\" >0.01</td>\n      <td id=\"T_999bd_row13_col10\" class=\"data row13 col10\" >-0.05</td>\n      <td id=\"T_999bd_row13_col11\" class=\"data row13 col11\" >-0.00</td>\n      <td id=\"T_999bd_row13_col12\" class=\"data row13 col12\" >-0.01</td>\n      <td id=\"T_999bd_row13_col13\" class=\"data row13 col13\" >1.00</td>\n      <td id=\"T_999bd_row13_col14\" class=\"data row13 col14\" >-0.32</td>\n      <td id=\"T_999bd_row13_col15\" class=\"data row13 col15\" >-0.12</td>\n      <td id=\"T_999bd_row13_col16\" class=\"data row13 col16\" >-0.02</td>\n      <td id=\"T_999bd_row13_col17\" class=\"data row13 col17\" >-0.29</td>\n      <td id=\"T_999bd_row13_col18\" class=\"data row13 col18\" >-0.12</td>\n      <td id=\"T_999bd_row13_col19\" class=\"data row13 col19\" >-0.99</td>\n      <td id=\"T_999bd_row13_col20\" class=\"data row13 col20\" >0.03</td>\n      <td id=\"T_999bd_row13_col21\" class=\"data row13 col21\" >-0.25</td>\n      <td id=\"T_999bd_row13_col22\" class=\"data row13 col22\" >0.00</td>\n      <td id=\"T_999bd_row13_col23\" class=\"data row13 col23\" >0.03</td>\n      <td id=\"T_999bd_row13_col24\" class=\"data row13 col24\" >-0.01</td>\n    </tr>\n    <tr>\n      <th id=\"T_999bd_level0_row14\" class=\"row_heading level0 row14\" >DEST_HourlyDewPointTemperature</th>\n      <td id=\"T_999bd_row14_col0\" class=\"data row14 col0\" >0.02</td>\n      <td id=\"T_999bd_row14_col1\" class=\"data row14 col1\" >0.02</td>\n      <td id=\"T_999bd_row14_col2\" class=\"data row14 col2\" >-0.06</td>\n      <td id=\"T_999bd_row14_col3\" class=\"data row14 col3\" >0.55</td>\n      <td id=\"T_999bd_row14_col4\" class=\"data row14 col4\" >0.52</td>\n      <td id=\"T_999bd_row14_col5\" class=\"data row14 col5\" >0.03</td>\n      <td id=\"T_999bd_row14_col6\" class=\"data row14 col6\" >0.11</td>\n      <td id=\"T_999bd_row14_col7\" class=\"data row14 col7\" >-0.24</td>\n      <td id=\"T_999bd_row14_col8\" class=\"data row14 col8\" >0.03</td>\n      <td id=\"T_999bd_row14_col9\" class=\"data row14 col9\" >0.02</td>\n      <td id=\"T_999bd_row14_col10\" class=\"data row14 col10\" >0.57</td>\n      <td id=\"T_999bd_row14_col11\" class=\"data row14 col11\" >-0.05</td>\n      <td id=\"T_999bd_row14_col12\" class=\"data row14 col12\" >-0.05</td>\n      <td id=\"T_999bd_row14_col13\" class=\"data row14 col13\" >-0.32</td>\n      <td id=\"T_999bd_row14_col14\" class=\"data row14 col14\" >1.00</td>\n      <td id=\"T_999bd_row14_col15\" class=\"data row14 col15\" >0.77</td>\n      <td id=\"T_999bd_row14_col16\" class=\"data row14 col16\" >0.07</td>\n      <td id=\"T_999bd_row14_col17\" class=\"data row14 col17\" >0.43</td>\n      <td id=\"T_999bd_row14_col18\" class=\"data row14 col18\" >-0.29</td>\n      <td id=\"T_999bd_row14_col19\" class=\"data row14 col19\" >0.28</td>\n      <td id=\"T_999bd_row14_col20\" class=\"data row14 col20\" >-0.04</td>\n      <td id=\"T_999bd_row14_col21\" class=\"data row14 col21\" >0.94</td>\n      <td id=\"T_999bd_row14_col22\" class=\"data row14 col22\" >-0.12</td>\n      <td id=\"T_999bd_row14_col23\" class=\"data row14 col23\" >-0.10</td>\n      <td id=\"T_999bd_row14_col24\" class=\"data row14 col24\" >0.03</td>\n    </tr>\n    <tr>\n      <th id=\"T_999bd_level0_row15\" class=\"row_heading level0 row15\" >DEST_HourlyDryBulbTemperature</th>\n      <td id=\"T_999bd_row15_col0\" class=\"data row15 col0\" >0.03</td>\n      <td id=\"T_999bd_row15_col1\" class=\"data row15 col1\" >0.02</td>\n      <td id=\"T_999bd_row15_col2\" class=\"data row15 col2\" >-0.02</td>\n      <td id=\"T_999bd_row15_col3\" class=\"data row15 col3\" >0.53</td>\n      <td id=\"T_999bd_row15_col4\" class=\"data row15 col4\" >0.63</td>\n      <td id=\"T_999bd_row15_col5\" class=\"data row15 col5\" >0.02</td>\n      <td id=\"T_999bd_row15_col6\" class=\"data row15 col6\" >-0.08</td>\n      <td id=\"T_999bd_row15_col7\" class=\"data row15 col7\" >-0.27</td>\n      <td id=\"T_999bd_row15_col8\" class=\"data row15 col8\" >-0.01</td>\n      <td id=\"T_999bd_row15_col9\" class=\"data row15 col9\" >0.07</td>\n      <td id=\"T_999bd_row15_col10\" class=\"data row15 col10\" >0.61</td>\n      <td id=\"T_999bd_row15_col11\" class=\"data row15 col11\" >-0.01</td>\n      <td id=\"T_999bd_row15_col12\" class=\"data row15 col12\" >0.03</td>\n      <td id=\"T_999bd_row15_col13\" class=\"data row15 col13\" >-0.12</td>\n      <td id=\"T_999bd_row15_col14\" class=\"data row15 col14\" >0.77</td>\n      <td id=\"T_999bd_row15_col15\" class=\"data row15 col15\" >1.00</td>\n      <td id=\"T_999bd_row15_col16\" class=\"data row15 col16\" >-0.01</td>\n      <td id=\"T_999bd_row15_col17\" class=\"data row15 col17\" >-0.21</td>\n      <td id=\"T_999bd_row15_col18\" class=\"data row15 col18\" >-0.40</td>\n      <td id=\"T_999bd_row15_col19\" class=\"data row15 col19\" >0.08</td>\n      <td id=\"T_999bd_row15_col20\" class=\"data row15 col20\" >0.14</td>\n      <td id=\"T_999bd_row15_col21\" class=\"data row15 col21\" >0.94</td>\n      <td id=\"T_999bd_row15_col22\" class=\"data row15 col22\" >-0.05</td>\n      <td id=\"T_999bd_row15_col23\" class=\"data row15 col23\" >0.01</td>\n      <td id=\"T_999bd_row15_col24\" class=\"data row15 col24\" >0.03</td>\n    </tr>\n    <tr>\n      <th id=\"T_999bd_level0_row16\" class=\"row_heading level0 row16\" >DEST_HourlyPrecipitation</th>\n      <td id=\"T_999bd_row16_col0\" class=\"data row16 col0\" >-0.00</td>\n      <td id=\"T_999bd_row16_col1\" class=\"data row16 col1\" >0.00</td>\n      <td id=\"T_999bd_row16_col2\" class=\"data row16 col2\" >-0.01</td>\n      <td id=\"T_999bd_row16_col3\" class=\"data row16 col3\" >0.03</td>\n      <td id=\"T_999bd_row16_col4\" class=\"data row16 col4\" >0.01</td>\n      <td id=\"T_999bd_row16_col5\" class=\"data row16 col5\" >0.02</td>\n      <td id=\"T_999bd_row16_col6\" class=\"data row16 col6\" >0.02</td>\n      <td id=\"T_999bd_row16_col7\" class=\"data row16 col7\" >-0.02</td>\n      <td id=\"T_999bd_row16_col8\" class=\"data row16 col8\" >0.01</td>\n      <td id=\"T_999bd_row16_col9\" class=\"data row16 col9\" >-0.02</td>\n      <td id=\"T_999bd_row16_col10\" class=\"data row16 col10\" >0.02</td>\n      <td id=\"T_999bd_row16_col11\" class=\"data row16 col11\" >-0.00</td>\n      <td id=\"T_999bd_row16_col12\" class=\"data row16 col12\" >0.01</td>\n      <td id=\"T_999bd_row16_col13\" class=\"data row16 col13\" >-0.02</td>\n      <td id=\"T_999bd_row16_col14\" class=\"data row16 col14\" >0.07</td>\n      <td id=\"T_999bd_row16_col15\" class=\"data row16 col15\" >-0.01</td>\n      <td id=\"T_999bd_row16_col16\" class=\"data row16 col16\" >1.00</td>\n      <td id=\"T_999bd_row16_col17\" class=\"data row16 col17\" >0.14</td>\n      <td id=\"T_999bd_row16_col18\" class=\"data row16 col18\" >-0.06</td>\n      <td id=\"T_999bd_row16_col19\" class=\"data row16 col19\" >0.01</td>\n      <td id=\"T_999bd_row16_col20\" class=\"data row16 col20\" >-0.29</td>\n      <td id=\"T_999bd_row16_col21\" class=\"data row16 col21\" >0.04</td>\n      <td id=\"T_999bd_row16_col22\" class=\"data row16 col22\" >-0.02</td>\n      <td id=\"T_999bd_row16_col23\" class=\"data row16 col23\" >0.04</td>\n      <td id=\"T_999bd_row16_col24\" class=\"data row16 col24\" >0.04</td>\n    </tr>\n    <tr>\n      <th id=\"T_999bd_level0_row17\" class=\"row_heading level0 row17\" >DEST_HourlyRelativeHumidity</th>\n      <td id=\"T_999bd_row17_col0\" class=\"data row17 col0\" >0.00</td>\n      <td id=\"T_999bd_row17_col1\" class=\"data row17 col1\" >0.00</td>\n      <td id=\"T_999bd_row17_col2\" class=\"data row17 col2\" >-0.05</td>\n      <td id=\"T_999bd_row17_col3\" class=\"data row17 col3\" >0.10</td>\n      <td id=\"T_999bd_row17_col4\" class=\"data row17 col4\" >-0.09</td>\n      <td id=\"T_999bd_row17_col5\" class=\"data row17 col5\" >0.02</td>\n      <td id=\"T_999bd_row17_col6\" class=\"data row17 col6\" >0.31</td>\n      <td id=\"T_999bd_row17_col7\" class=\"data row17 col7\" >-0.00</td>\n      <td id=\"T_999bd_row17_col8\" class=\"data row17 col8\" >0.05</td>\n      <td id=\"T_999bd_row17_col9\" class=\"data row17 col9\" >-0.10</td>\n      <td id=\"T_999bd_row17_col10\" class=\"data row17 col10\" >0.01</td>\n      <td id=\"T_999bd_row17_col11\" class=\"data row17 col11\" >-0.07</td>\n      <td id=\"T_999bd_row17_col12\" class=\"data row17 col12\" >-0.14</td>\n      <td id=\"T_999bd_row17_col13\" class=\"data row17 col13\" >-0.29</td>\n      <td id=\"T_999bd_row17_col14\" class=\"data row17 col14\" >0.43</td>\n      <td id=\"T_999bd_row17_col15\" class=\"data row17 col15\" >-0.21</td>\n      <td id=\"T_999bd_row17_col16\" class=\"data row17 col16\" >0.14</td>\n      <td id=\"T_999bd_row17_col17\" class=\"data row17 col17\" >1.00</td>\n      <td id=\"T_999bd_row17_col18\" class=\"data row17 col18\" >0.06</td>\n      <td id=\"T_999bd_row17_col19\" class=\"data row17 col19\" >0.29</td>\n      <td id=\"T_999bd_row17_col20\" class=\"data row17 col20\" >-0.35</td>\n      <td id=\"T_999bd_row17_col21\" class=\"data row17 col21\" >0.13</td>\n      <td id=\"T_999bd_row17_col22\" class=\"data row17 col22\" >-0.14</td>\n      <td id=\"T_999bd_row17_col23\" class=\"data row17 col23\" >-0.21</td>\n      <td id=\"T_999bd_row17_col24\" class=\"data row17 col24\" >0.01</td>\n    </tr>\n    <tr>\n      <th id=\"T_999bd_level0_row18\" class=\"row_heading level0 row18\" >DEST_HourlySeaLevelPressure</th>\n      <td id=\"T_999bd_row18_col0\" class=\"data row18 col0\" >-0.03</td>\n      <td id=\"T_999bd_row18_col1\" class=\"data row18 col1\" >-0.04</td>\n      <td id=\"T_999bd_row18_col2\" class=\"data row18 col2\" >-0.03</td>\n      <td id=\"T_999bd_row18_col3\" class=\"data row18 col3\" >-0.24</td>\n      <td id=\"T_999bd_row18_col4\" class=\"data row18 col4\" >-0.27</td>\n      <td id=\"T_999bd_row18_col5\" class=\"data row18 col5\" >-0.02</td>\n      <td id=\"T_999bd_row18_col6\" class=\"data row18 col6\" >-0.01</td>\n      <td id=\"T_999bd_row18_col7\" class=\"data row18 col7\" >0.51</td>\n      <td id=\"T_999bd_row18_col8\" class=\"data row18 col8\" >0.10</td>\n      <td id=\"T_999bd_row18_col9\" class=\"data row18 col9\" >-0.00</td>\n      <td id=\"T_999bd_row18_col10\" class=\"data row18 col10\" >-0.27</td>\n      <td id=\"T_999bd_row18_col11\" class=\"data row18 col11\" >-0.05</td>\n      <td id=\"T_999bd_row18_col12\" class=\"data row18 col12\" >-0.05</td>\n      <td id=\"T_999bd_row18_col13\" class=\"data row18 col13\" >-0.12</td>\n      <td id=\"T_999bd_row18_col14\" class=\"data row18 col14\" >-0.29</td>\n      <td id=\"T_999bd_row18_col15\" class=\"data row18 col15\" >-0.40</td>\n      <td id=\"T_999bd_row18_col16\" class=\"data row18 col16\" >-0.06</td>\n      <td id=\"T_999bd_row18_col17\" class=\"data row18 col17\" >0.06</td>\n      <td id=\"T_999bd_row18_col18\" class=\"data row18 col18\" >1.00</td>\n      <td id=\"T_999bd_row18_col19\" class=\"data row18 col19\" >0.25</td>\n      <td id=\"T_999bd_row18_col20\" class=\"data row18 col20\" >0.05</td>\n      <td id=\"T_999bd_row18_col21\" class=\"data row18 col21\" >-0.36</td>\n      <td id=\"T_999bd_row18_col22\" class=\"data row18 col22\" >-0.11</td>\n      <td id=\"T_999bd_row18_col23\" class=\"data row18 col23\" >-0.19</td>\n      <td id=\"T_999bd_row18_col24\" class=\"data row18 col24\" >-0.04</td>\n    </tr>\n    <tr>\n      <th id=\"T_999bd_level0_row19\" class=\"row_heading level0 row19\" >DEST_HourlyStationPressure</th>\n      <td id=\"T_999bd_row19_col0\" class=\"data row19 col0\" >0.06</td>\n      <td id=\"T_999bd_row19_col1\" class=\"data row19 col1\" >0.05</td>\n      <td id=\"T_999bd_row19_col2\" class=\"data row19 col2\" >-0.17</td>\n      <td id=\"T_999bd_row19_col3\" class=\"data row19 col3\" >0.03</td>\n      <td id=\"T_999bd_row19_col4\" class=\"data row19 col4\" >-0.01</td>\n      <td id=\"T_999bd_row19_col5\" class=\"data row19 col5\" >0.01</td>\n      <td id=\"T_999bd_row19_col6\" class=\"data row19 col6\" >0.05</td>\n      <td id=\"T_999bd_row19_col7\" class=\"data row19 col7\" >0.10</td>\n      <td id=\"T_999bd_row19_col8\" class=\"data row19 col8\" >0.18</td>\n      <td id=\"T_999bd_row19_col9\" class=\"data row19 col9\" >-0.00</td>\n      <td id=\"T_999bd_row19_col10\" class=\"data row19 col10\" >0.02</td>\n      <td id=\"T_999bd_row19_col11\" class=\"data row19 col11\" >-0.00</td>\n      <td id=\"T_999bd_row19_col12\" class=\"data row19 col12\" >0.00</td>\n      <td id=\"T_999bd_row19_col13\" class=\"data row19 col13\" >-0.99</td>\n      <td id=\"T_999bd_row19_col14\" class=\"data row19 col14\" >0.28</td>\n      <td id=\"T_999bd_row19_col15\" class=\"data row19 col15\" >0.08</td>\n      <td id=\"T_999bd_row19_col16\" class=\"data row19 col16\" >0.01</td>\n      <td id=\"T_999bd_row19_col17\" class=\"data row19 col17\" >0.29</td>\n      <td id=\"T_999bd_row19_col18\" class=\"data row19 col18\" >0.25</td>\n      <td id=\"T_999bd_row19_col19\" class=\"data row19 col19\" >1.00</td>\n      <td id=\"T_999bd_row19_col20\" class=\"data row19 col20\" >-0.01</td>\n      <td id=\"T_999bd_row19_col21\" class=\"data row19 col21\" >0.20</td>\n      <td id=\"T_999bd_row19_col22\" class=\"data row19 col22\" >-0.02</td>\n      <td id=\"T_999bd_row19_col23\" class=\"data row19 col23\" >-0.05</td>\n      <td id=\"T_999bd_row19_col24\" class=\"data row19 col24\" >0.01</td>\n    </tr>\n    <tr>\n      <th id=\"T_999bd_level0_row20\" class=\"row_heading level0 row20\" >DEST_HourlyVisibility</th>\n      <td id=\"T_999bd_row20_col0\" class=\"data row20 col0\" >0.01</td>\n      <td id=\"T_999bd_row20_col1\" class=\"data row20 col1\" >-0.00</td>\n      <td id=\"T_999bd_row20_col2\" class=\"data row20 col2\" >0.01</td>\n      <td id=\"T_999bd_row20_col3\" class=\"data row20 col3\" >0.02</td>\n      <td id=\"T_999bd_row20_col4\" class=\"data row20 col4\" >0.08</td>\n      <td id=\"T_999bd_row20_col5\" class=\"data row20 col5\" >-0.02</td>\n      <td id=\"T_999bd_row20_col6\" class=\"data row20 col6\" >-0.10</td>\n      <td id=\"T_999bd_row20_col7\" class=\"data row20 col7\" >-0.00</td>\n      <td id=\"T_999bd_row20_col8\" class=\"data row20 col8\" >-0.01</td>\n      <td id=\"T_999bd_row20_col9\" class=\"data row20 col9\" >0.10</td>\n      <td id=\"T_999bd_row20_col10\" class=\"data row20 col10\" >0.05</td>\n      <td id=\"T_999bd_row20_col11\" class=\"data row20 col11\" >0.02</td>\n      <td id=\"T_999bd_row20_col12\" class=\"data row20 col12\" >0.02</td>\n      <td id=\"T_999bd_row20_col13\" class=\"data row20 col13\" >0.03</td>\n      <td id=\"T_999bd_row20_col14\" class=\"data row20 col14\" >-0.04</td>\n      <td id=\"T_999bd_row20_col15\" class=\"data row20 col15\" >0.14</td>\n      <td id=\"T_999bd_row20_col16\" class=\"data row20 col16\" >-0.29</td>\n      <td id=\"T_999bd_row20_col17\" class=\"data row20 col17\" >-0.35</td>\n      <td id=\"T_999bd_row20_col18\" class=\"data row20 col18\" >0.05</td>\n      <td id=\"T_999bd_row20_col19\" class=\"data row20 col19\" >-0.01</td>\n      <td id=\"T_999bd_row20_col20\" class=\"data row20 col20\" >1.00</td>\n      <td id=\"T_999bd_row20_col21\" class=\"data row20 col21\" >0.05</td>\n      <td id=\"T_999bd_row20_col22\" class=\"data row20 col22\" >0.07</td>\n      <td id=\"T_999bd_row20_col23\" class=\"data row20 col23\" >0.05</td>\n      <td id=\"T_999bd_row20_col24\" class=\"data row20 col24\" >-0.04</td>\n    </tr>\n    <tr>\n      <th id=\"T_999bd_level0_row21\" class=\"row_heading level0 row21\" >DEST_HourlyWetBulbTemperature</th>\n      <td id=\"T_999bd_row21_col0\" class=\"data row21 col0\" >0.03</td>\n      <td id=\"T_999bd_row21_col1\" class=\"data row21 col1\" >0.02</td>\n      <td id=\"T_999bd_row21_col2\" class=\"data row21 col2\" >-0.05</td>\n      <td id=\"T_999bd_row21_col3\" class=\"data row21 col3\" >0.57</td>\n      <td id=\"T_999bd_row21_col4\" class=\"data row21 col4\" >0.61</td>\n      <td id=\"T_999bd_row21_col5\" class=\"data row21 col5\" >0.02</td>\n      <td id=\"T_999bd_row21_col6\" class=\"data row21 col6\" >0.02</td>\n      <td id=\"T_999bd_row21_col7\" class=\"data row21 col7\" >-0.27</td>\n      <td id=\"T_999bd_row21_col8\" class=\"data row21 col8\" >0.02</td>\n      <td id=\"T_999bd_row21_col9\" class=\"data row21 col9\" >0.05</td>\n      <td id=\"T_999bd_row21_col10\" class=\"data row21 col10\" >0.62</td>\n      <td id=\"T_999bd_row21_col11\" class=\"data row21 col11\" >-0.03</td>\n      <td id=\"T_999bd_row21_col12\" class=\"data row21 col12\" >-0.01</td>\n      <td id=\"T_999bd_row21_col13\" class=\"data row21 col13\" >-0.25</td>\n      <td id=\"T_999bd_row21_col14\" class=\"data row21 col14\" >0.94</td>\n      <td id=\"T_999bd_row21_col15\" class=\"data row21 col15\" >0.94</td>\n      <td id=\"T_999bd_row21_col16\" class=\"data row21 col16\" >0.04</td>\n      <td id=\"T_999bd_row21_col17\" class=\"data row21 col17\" >0.13</td>\n      <td id=\"T_999bd_row21_col18\" class=\"data row21 col18\" >-0.36</td>\n      <td id=\"T_999bd_row21_col19\" class=\"data row21 col19\" >0.20</td>\n      <td id=\"T_999bd_row21_col20\" class=\"data row21 col20\" >0.05</td>\n      <td id=\"T_999bd_row21_col21\" class=\"data row21 col21\" >1.00</td>\n      <td id=\"T_999bd_row21_col22\" class=\"data row21 col22\" >-0.10</td>\n      <td id=\"T_999bd_row21_col23\" class=\"data row21 col23\" >-0.05</td>\n      <td id=\"T_999bd_row21_col24\" class=\"data row21 col24\" >0.03</td>\n    </tr>\n    <tr>\n      <th id=\"T_999bd_level0_row22\" class=\"row_heading level0 row22\" >DEST_HourlyWindDirection</th>\n      <td id=\"T_999bd_row22_col0\" class=\"data row22 col0\" >0.01</td>\n      <td id=\"T_999bd_row22_col1\" class=\"data row22 col1\" >0.01</td>\n      <td id=\"T_999bd_row22_col2\" class=\"data row22 col2\" >-0.00</td>\n      <td id=\"T_999bd_row22_col3\" class=\"data row22 col3\" >-0.05</td>\n      <td id=\"T_999bd_row22_col4\" class=\"data row22 col4\" >-0.01</td>\n      <td id=\"T_999bd_row22_col5\" class=\"data row22 col5\" >-0.00</td>\n      <td id=\"T_999bd_row22_col6\" class=\"data row22 col6\" >-0.07</td>\n      <td id=\"T_999bd_row22_col7\" class=\"data row22 col7\" >-0.06</td>\n      <td id=\"T_999bd_row22_col8\" class=\"data row22 col8\" >-0.01</td>\n      <td id=\"T_999bd_row22_col9\" class=\"data row22 col9\" >0.02</td>\n      <td id=\"T_999bd_row22_col10\" class=\"data row22 col10\" >-0.03</td>\n      <td id=\"T_999bd_row22_col11\" class=\"data row22 col11\" >0.09</td>\n      <td id=\"T_999bd_row22_col12\" class=\"data row22 col12\" >0.08</td>\n      <td id=\"T_999bd_row22_col13\" class=\"data row22 col13\" >0.00</td>\n      <td id=\"T_999bd_row22_col14\" class=\"data row22 col14\" >-0.12</td>\n      <td id=\"T_999bd_row22_col15\" class=\"data row22 col15\" >-0.05</td>\n      <td id=\"T_999bd_row22_col16\" class=\"data row22 col16\" >-0.02</td>\n      <td id=\"T_999bd_row22_col17\" class=\"data row22 col17\" >-0.14</td>\n      <td id=\"T_999bd_row22_col18\" class=\"data row22 col18\" >-0.11</td>\n      <td id=\"T_999bd_row22_col19\" class=\"data row22 col19\" >-0.02</td>\n      <td id=\"T_999bd_row22_col20\" class=\"data row22 col20\" >0.07</td>\n      <td id=\"T_999bd_row22_col21\" class=\"data row22 col21\" >-0.10</td>\n      <td id=\"T_999bd_row22_col22\" class=\"data row22 col22\" >1.00</td>\n      <td id=\"T_999bd_row22_col23\" class=\"data row22 col23\" >0.38</td>\n      <td id=\"T_999bd_row22_col24\" class=\"data row22 col24\" >0.01</td>\n    </tr>\n    <tr>\n      <th id=\"T_999bd_level0_row23\" class=\"row_heading level0 row23\" >DEST_HourlyWindSpeed</th>\n      <td id=\"T_999bd_row23_col0\" class=\"data row23 col0\" >0.03</td>\n      <td id=\"T_999bd_row23_col1\" class=\"data row23 col1\" >0.03</td>\n      <td id=\"T_999bd_row23_col2\" class=\"data row23 col2\" >-0.01</td>\n      <td id=\"T_999bd_row23_col3\" class=\"data row23 col3\" >-0.05</td>\n      <td id=\"T_999bd_row23_col4\" class=\"data row23 col4\" >0.04</td>\n      <td id=\"T_999bd_row23_col5\" class=\"data row23 col5\" >0.01</td>\n      <td id=\"T_999bd_row23_col6\" class=\"data row23 col6\" >-0.14</td>\n      <td id=\"T_999bd_row23_col7\" class=\"data row23 col7\" >-0.05</td>\n      <td id=\"T_999bd_row23_col8\" class=\"data row23 col8\" >0.00</td>\n      <td id=\"T_999bd_row23_col9\" class=\"data row23 col9\" >0.02</td>\n      <td id=\"T_999bd_row23_col10\" class=\"data row23 col10\" >-0.01</td>\n      <td id=\"T_999bd_row23_col11\" class=\"data row23 col11\" >0.07</td>\n      <td id=\"T_999bd_row23_col12\" class=\"data row23 col12\" >0.20</td>\n      <td id=\"T_999bd_row23_col13\" class=\"data row23 col13\" >0.03</td>\n      <td id=\"T_999bd_row23_col14\" class=\"data row23 col14\" >-0.10</td>\n      <td id=\"T_999bd_row23_col15\" class=\"data row23 col15\" >0.01</td>\n      <td id=\"T_999bd_row23_col16\" class=\"data row23 col16\" >0.04</td>\n      <td id=\"T_999bd_row23_col17\" class=\"data row23 col17\" >-0.21</td>\n      <td id=\"T_999bd_row23_col18\" class=\"data row23 col18\" >-0.19</td>\n      <td id=\"T_999bd_row23_col19\" class=\"data row23 col19\" >-0.05</td>\n      <td id=\"T_999bd_row23_col20\" class=\"data row23 col20\" >0.05</td>\n      <td id=\"T_999bd_row23_col21\" class=\"data row23 col21\" >-0.05</td>\n      <td id=\"T_999bd_row23_col22\" class=\"data row23 col22\" >0.38</td>\n      <td id=\"T_999bd_row23_col23\" class=\"data row23 col23\" >1.00</td>\n      <td id=\"T_999bd_row23_col24\" class=\"data row23 col24\" >0.05</td>\n    </tr>\n    <tr>\n      <th id=\"T_999bd_level0_row24\" class=\"row_heading level0 row24\" >ARR_DELAY_NEW</th>\n      <td id=\"T_999bd_row24_col0\" class=\"data row24 col0\" >0.01</td>\n      <td id=\"T_999bd_row24_col1\" class=\"data row24 col1\" >0.02</td>\n      <td id=\"T_999bd_row24_col2\" class=\"data row24 col2\" >-0.01</td>\n      <td id=\"T_999bd_row24_col3\" class=\"data row24 col3\" >0.03</td>\n      <td id=\"T_999bd_row24_col4\" class=\"data row24 col4\" >0.03</td>\n      <td id=\"T_999bd_row24_col5\" class=\"data row24 col5\" >0.05</td>\n      <td id=\"T_999bd_row24_col6\" class=\"data row24 col6\" >0.01</td>\n      <td id=\"T_999bd_row24_col7\" class=\"data row24 col7\" >-0.04</td>\n      <td id=\"T_999bd_row24_col8\" class=\"data row24 col8\" >0.00</td>\n      <td id=\"T_999bd_row24_col9\" class=\"data row24 col9\" >-0.05</td>\n      <td id=\"T_999bd_row24_col10\" class=\"data row24 col10\" >0.03</td>\n      <td id=\"T_999bd_row24_col11\" class=\"data row24 col11\" >0.01</td>\n      <td id=\"T_999bd_row24_col12\" class=\"data row24 col12\" >0.05</td>\n      <td id=\"T_999bd_row24_col13\" class=\"data row24 col13\" >-0.01</td>\n      <td id=\"T_999bd_row24_col14\" class=\"data row24 col14\" >0.03</td>\n      <td id=\"T_999bd_row24_col15\" class=\"data row24 col15\" >0.03</td>\n      <td id=\"T_999bd_row24_col16\" class=\"data row24 col16\" >0.04</td>\n      <td id=\"T_999bd_row24_col17\" class=\"data row24 col17\" >0.01</td>\n      <td id=\"T_999bd_row24_col18\" class=\"data row24 col18\" >-0.04</td>\n      <td id=\"T_999bd_row24_col19\" class=\"data row24 col19\" >0.01</td>\n      <td id=\"T_999bd_row24_col20\" class=\"data row24 col20\" >-0.04</td>\n      <td id=\"T_999bd_row24_col21\" class=\"data row24 col21\" >0.03</td>\n      <td id=\"T_999bd_row24_col22\" class=\"data row24 col22\" >0.01</td>\n      <td id=\"T_999bd_row24_col23\" class=\"data row24 col23\" >0.05</td>\n      <td id=\"T_999bd_row24_col24\" class=\"data row24 col24\" >1.00</td>\n    </tr>\n  </tbody>\n</table>\n",
              "textData": null,
              "removedWidgets": [],
              "addedWidgets": {},
              "metadata": {},
              "type": "htmlSandbox",
              "arguments": {}
            }
          },
          "data": {
            "text/html": [
              "<style type=\"text/css\">\n#T_999bd_row0_col0, #T_999bd_row1_col1, #T_999bd_row2_col2, #T_999bd_row3_col3, #T_999bd_row4_col4, #T_999bd_row5_col5, #T_999bd_row6_col6, #T_999bd_row7_col7, #T_999bd_row8_col8, #T_999bd_row9_col9, #T_999bd_row10_col10, #T_999bd_row11_col11, #T_999bd_row12_col12, #T_999bd_row13_col13, #T_999bd_row14_col14, #T_999bd_row15_col15, #T_999bd_row16_col16, #T_999bd_row17_col17, #T_999bd_row18_col18, #T_999bd_row19_col19, #T_999bd_row20_col20, #T_999bd_row21_col21, #T_999bd_row22_col22, #T_999bd_row23_col23, #T_999bd_row24_col24 {\n  background-color: #b40426;\n  color: #f1f1f1;\n}\n#T_999bd_row0_col1, #T_999bd_row1_col0 {\n  background-color: #b8122a;\n  color: #f1f1f1;\n}\n#T_999bd_row0_col2, #T_999bd_row0_col13, #T_999bd_row19_col18 {\n  background-color: #d3dbe7;\n  color: #000000;\n}\n#T_999bd_row0_col3, #T_999bd_row0_col7, #T_999bd_row0_col14, #T_999bd_row0_col18, #T_999bd_row1_col9, #T_999bd_row1_col20, #T_999bd_row2_col18, #T_999bd_row7_col17, #T_999bd_row7_col20, #T_999bd_row13_col7, #T_999bd_row18_col6, #T_999bd_row19_col9, #T_999bd_row20_col3, #T_999bd_row24_col16 {\n  background-color: #90b2fe;\n  color: #000000;\n}\n#T_999bd_row0_col4, #T_999bd_row1_col15, #T_999bd_row8_col17, #T_999bd_row9_col10, #T_999bd_row9_col21, #T_999bd_row10_col9, #T_999bd_row10_col20, #T_999bd_row18_col20, #T_999bd_row19_col6, #T_999bd_row20_col21, #T_999bd_row21_col9, #T_999bd_row21_col20, #T_999bd_row23_col20 {\n  background-color: #9ebeff;\n  color: #000000;\n}\n#T_999bd_row0_col5, #T_999bd_row0_col16, #T_999bd_row2_col17, #T_999bd_row6_col15, #T_999bd_row11_col16, #T_999bd_row15_col16, #T_999bd_row23_col21, #T_999bd_row24_col9 {\n  background-color: #84a7fc;\n  color: #f1f1f1;\n}\n#T_999bd_row0_col6, #T_999bd_row0_col20, #T_999bd_row1_col7, #T_999bd_row2_col15, #T_999bd_row2_col20, #T_999bd_row5_col18, #T_999bd_row8_col14, #T_999bd_row10_col17, #T_999bd_row13_col4, #T_999bd_row13_col9, #T_999bd_row16_col7, #T_999bd_row17_col10, #T_999bd_row19_col3, #T_999bd_row24_col3, #T_999bd_row24_col5, #T_999bd_row24_col14 {\n  background-color: #93b5fe;\n  color: #000000;\n}\n#T_999bd_row0_col8, #T_999bd_row0_col19 {\n  background-color: #e4d9d2;\n  color: #000000;\n}\n#T_999bd_row0_col9, #T_999bd_row0_col17, #T_999bd_row1_col17, #T_999bd_row5_col14, #T_999bd_row16_col3, #T_999bd_row18_col9 {\n  background-color: #92b4fe;\n  color: #000000;\n}\n#T_999bd_row0_col10, #T_999bd_row0_col21, #T_999bd_row2_col9, #T_999bd_row9_col18, #T_999bd_row20_col7 {\n  background-color: #98b9ff;\n  color: #000000;\n}\n#T_999bd_row0_col11, #T_999bd_row2_col11, #T_999bd_row2_col22 {\n  background-color: #5f7fe8;\n  color: #f1f1f1;\n}\n#T_999bd_row0_col12, #T_999bd_row4_col12, #T_999bd_row9_col11, #T_999bd_row12_col22, #T_999bd_row20_col22 {\n  background-color: #7699f6;\n  color: #f1f1f1;\n}\n#T_999bd_row0_col15, #T_999bd_row7_col9, #T_999bd_row12_col9, #T_999bd_row18_col17, #T_999bd_row20_col10, #T_999bd_row24_col4, #T_999bd_row24_col15 {\n  background-color: #9fbfff;\n  color: #000000;\n}\n#T_999bd_row0_col22, #T_999bd_row6_col4, #T_999bd_row7_col23, #T_999bd_row18_col12, #T_999bd_row19_col1, #T_999bd_row19_col23, #T_999bd_row21_col23 {\n  background-color: #6384eb;\n  color: #f1f1f1;\n}\n#T_999bd_row0_col23, #T_999bd_row1_col23, #T_999bd_row2_col14, #T_999bd_row13_col3, #T_999bd_row13_col15, #T_999bd_row13_col18 {\n  background-color: #7a9df8;\n  color: #f1f1f1;\n}\n#T_999bd_row0_col24, #T_999bd_row2_col6, #T_999bd_row17_col12, #T_999bd_row19_col24 {\n  background-color: #4a63d3;\n  color: #f1f1f1;\n}\n#T_999bd_row1_col2, #T_999bd_row12_col11, #T_999bd_row23_col22 {\n  background-color: #cfdaea;\n  color: #000000;\n}\n#T_999bd_row1_col3, #T_999bd_row8_col9, #T_999bd_row12_col5, #T_999bd_row12_col21, #T_999bd_row16_col9, #T_999bd_row19_col20, #T_999bd_row24_col7 {\n  background-color: #8db0fe;\n  color: #000000;\n}\n#T_999bd_row1_col4, #T_999bd_row24_col10, #T_999bd_row24_col21 {\n  background-color: #9abbff;\n  color: #000000;\n}\n#T_999bd_row1_col5, #T_999bd_row1_col16, #T_999bd_row2_col21, #T_999bd_row3_col9, #T_999bd_row13_col6, #T_999bd_row13_col10, #T_999bd_row14_col20, #T_999bd_row19_col5 {\n  background-color: #85a8fc;\n  color: #f1f1f1;\n}\n#T_999bd_row1_col6, #T_999bd_row3_col20, #T_999bd_row5_col17, #T_999bd_row6_col21, #T_999bd_row8_col21, #T_999bd_row11_col15, #T_999bd_row11_col20, #T_999bd_row12_col20, #T_999bd_row14_col9, #T_999bd_row19_col10, #T_999bd_row21_col6 {\n  background-color: #96b7ff;\n  color: #000000;\n}\n#T_999bd_row1_col8 {\n  background-color: #e7d7ce;\n  color: #000000;\n}\n#T_999bd_row1_col10, #T_999bd_row24_col6, #T_999bd_row24_col17 {\n  background-color: #94b6ff;\n  color: #000000;\n}\n#T_999bd_row1_col11, #T_999bd_row8_col0, #T_999bd_row13_col22, #T_999bd_row19_col0 {\n  background-color: #6180e9;\n  color: #f1f1f1;\n}\n#T_999bd_row1_col12, #T_999bd_row2_col4, #T_999bd_row4_col17, #T_999bd_row11_col10, #T_999bd_row13_col23, #T_999bd_row20_col6, #T_999bd_row22_col21 {\n  background-color: #799cf8;\n  color: #f1f1f1;\n}\n#T_999bd_row1_col13, #T_999bd_row3_col13, #T_999bd_row14_col2 {\n  background-color: #d4dbe6;\n  color: #000000;\n}\n#T_999bd_row1_col14, #T_999bd_row1_col18, #T_999bd_row8_col20, #T_999bd_row9_col14, #T_999bd_row10_col5, #T_999bd_row21_col16, #T_999bd_row23_col10, #T_999bd_row23_col16, #T_999bd_row24_col18 {\n  background-color: #8fb1fe;\n  color: #000000;\n}\n#T_999bd_row1_col19 {\n  background-color: #e3d9d3;\n  color: #000000;\n}\n#T_999bd_row1_col21, #T_999bd_row3_col5, #T_999bd_row5_col4, #T_999bd_row5_col21, #T_999bd_row6_col18, #T_999bd_row8_col15, #T_999bd_row13_col20, #T_999bd_row14_col16, #T_999bd_row16_col6, #T_999bd_row16_col10, #T_999bd_row16_col15, #T_999bd_row17_col7, #T_999bd_row19_col4, #T_999bd_row22_col4, #T_999bd_row22_col9, #T_999bd_row23_col9 {\n  background-color: #97b8ff;\n  color: #000000;\n}\n#T_999bd_row1_col22, #T_999bd_row14_col12, #T_999bd_row24_col11, #T_999bd_row24_col22 {\n  background-color: #6282ea;\n  color: #f1f1f1;\n}\n#T_999bd_row1_col24, #T_999bd_row5_col0, #T_999bd_row7_col1, #T_999bd_row7_col21, #T_999bd_row11_col0, #T_999bd_row17_col0, #T_999bd_row18_col10 {\n  background-color: #4e68d8;\n  color: #f1f1f1;\n}\n#T_999bd_row2_col0, #T_999bd_row2_col1, #T_999bd_row2_col3, #T_999bd_row2_col8, #T_999bd_row4_col7, #T_999bd_row6_col9, #T_999bd_row6_col11, #T_999bd_row6_col12, #T_999bd_row7_col4, #T_999bd_row7_col10, #T_999bd_row8_col2, #T_999bd_row9_col5, #T_999bd_row9_col6, #T_999bd_row9_col24, #T_999bd_row13_col0, #T_999bd_row13_col14, #T_999bd_row13_col19, #T_999bd_row15_col18, #T_999bd_row17_col20, #T_999bd_row17_col22, #T_999bd_row17_col23, #T_999bd_row18_col15, #T_999bd_row18_col21, #T_999bd_row19_col13, #T_999bd_row20_col16, #T_999bd_row20_col17 {\n  background-color: #3b4cc0;\n  color: #f1f1f1;\n}\n#T_999bd_row2_col5, #T_999bd_row11_col7, #T_999bd_row11_col14, #T_999bd_row12_col14, #T_999bd_row22_col18 {\n  background-color: #7da0f9;\n  color: #f1f1f1;\n}\n#T_999bd_row2_col7, #T_999bd_row4_col23, #T_999bd_row5_col12, #T_999bd_row11_col22, #T_999bd_row15_col6, #T_999bd_row15_col12, #T_999bd_row16_col23, #T_999bd_row22_col11 {\n  background-color: #7b9ff9;\n  color: #f1f1f1;\n}\n#T_999bd_row2_col10, #T_999bd_row3_col22, #T_999bd_row9_col1, #T_999bd_row13_col21 {\n  background-color: #536edd;\n  color: #f1f1f1;\n}\n#T_999bd_row2_col12, #T_999bd_row6_col20, #T_999bd_row9_col17, #T_999bd_row9_col23, #T_999bd_row17_col9, #T_999bd_row20_col12 {\n  background-color: #779af7;\n  color: #f1f1f1;\n}\n#T_999bd_row2_col13, #T_999bd_row13_col2, #T_999bd_row14_col17 {\n  background-color: #efcfbf;\n  color: #000000;\n}\n#T_999bd_row2_col16, #T_999bd_row4_col5, #T_999bd_row22_col5 {\n  background-color: #82a6fb;\n  color: #f1f1f1;\n}\n#T_999bd_row2_col19, #T_999bd_row8_col10, #T_999bd_row8_col13, #T_999bd_row13_col8, #T_999bd_row19_col2 {\n  background-color: #c5d6f2;\n  color: #000000;\n}\n#T_999bd_row2_col23, #T_999bd_row10_col23, #T_999bd_row23_col14 {\n  background-color: #6f92f3;\n  color: #f1f1f1;\n}\n#T_999bd_row2_col24 {\n  background-color: #465ecf;\n  color: #f1f1f1;\n}\n#T_999bd_row3_col0, #T_999bd_row5_col1, #T_999bd_row12_col0, #T_999bd_row16_col1, #T_999bd_row20_col1 {\n  background-color: #5470de;\n  color: #f1f1f1;\n}\n#T_999bd_row3_col1, #T_999bd_row3_col12, #T_999bd_row6_col1, #T_999bd_row10_col1, #T_999bd_row10_col22, #T_999bd_row23_col24 {\n  background-color: #5875e1;\n  color: #f1f1f1;\n}\n#T_999bd_row3_col2, #T_999bd_row9_col15, #T_999bd_row17_col16, #T_999bd_row20_col4, #T_999bd_row20_col9 {\n  background-color: #abc8fd;\n  color: #000000;\n}\n#T_999bd_row3_col4 {\n  background-color: #e67259;\n  color: #f1f1f1;\n}\n#T_999bd_row3_col6 {\n  background-color: #eed0c0;\n  color: #000000;\n}\n#T_999bd_row3_col7, #T_999bd_row3_col24, #T_999bd_row10_col24, #T_999bd_row14_col11, #T_999bd_row14_col18, #T_999bd_row14_col24, #T_999bd_row15_col24, #T_999bd_row21_col24, #T_999bd_row22_col0 {\n  background-color: #516ddb;\n  color: #f1f1f1;\n}\n#T_999bd_row3_col8, #T_999bd_row4_col14, #T_999bd_row6_col8, #T_999bd_row14_col19 {\n  background-color: #f5c0a7;\n  color: #000000;\n}\n#T_999bd_row3_col10, #T_999bd_row4_col10, #T_999bd_row10_col3, #T_999bd_row10_col4, #T_999bd_row14_col21, #T_999bd_row21_col14, #T_999bd_row21_col15 {\n  background-color: #c43032;\n  color: #f1f1f1;\n}\n#T_999bd_row3_col11, #T_999bd_row14_col22 {\n  background-color: #3e51c5;\n  color: #f1f1f1;\n}\n#T_999bd_row3_col14, #T_999bd_row14_col3, #T_999bd_row14_col4 {\n  background-color: #f7ba9f;\n  color: #000000;\n}\n#T_999bd_row3_col15 {\n  background-color: #f7b99e;\n  color: #000000;\n}\n#T_999bd_row3_col16, #T_999bd_row5_col20, #T_999bd_row12_col18, #T_999bd_row23_col7 {\n  background-color: #8caffe;\n  color: #000000;\n}\n#T_999bd_row3_col17, #T_999bd_row6_col5, #T_999bd_row9_col20, #T_999bd_row12_col23, #T_999bd_row14_col13, #T_999bd_row23_col12 {\n  background-color: #aac7fd;\n  color: #000000;\n}\n#T_999bd_row3_col18, #T_999bd_row4_col6, #T_999bd_row12_col1, #T_999bd_row14_col7, #T_999bd_row15_col17, #T_999bd_row21_col1, #T_999bd_row23_col17 {\n  background-color: #5b7ae5;\n  color: #f1f1f1;\n}\n#T_999bd_row3_col19, #T_999bd_row14_col8 {\n  background-color: #e0dbd8;\n  color: #000000;\n}\n#T_999bd_row3_col21, #T_999bd_row14_col10 {\n  background-color: #f7b396;\n  color: #000000;\n}\n#T_999bd_row3_col23, #T_999bd_row8_col12, #T_999bd_row10_col12, #T_999bd_row17_col15 {\n  background-color: #6485ec;\n  color: #f1f1f1;\n}\n#T_999bd_row4_col0, #T_999bd_row4_col1, #T_999bd_row4_col18, #T_999bd_row7_col15, #T_999bd_row10_col0, #T_999bd_row11_col1, #T_999bd_row14_col0, #T_999bd_row14_col23, #T_999bd_row15_col7, #T_999bd_row16_col24, #T_999bd_row17_col1, #T_999bd_row18_col4 {\n  background-color: #5572df;\n  color: #f1f1f1;\n}\n#T_999bd_row4_col2, #T_999bd_row15_col13, #T_999bd_row18_col13 {\n  background-color: #cbd8ee;\n  color: #000000;\n}\n#T_999bd_row4_col3 {\n  background-color: #e8765c;\n  color: #f1f1f1;\n}\n#T_999bd_row4_col8, #T_999bd_row15_col19 {\n  background-color: #e6d7cf;\n  color: #000000;\n}\n#T_999bd_row4_col9, #T_999bd_row15_col20, #T_999bd_row16_col17 {\n  background-color: #b5cdfa;\n  color: #000000;\n}\n#T_999bd_row4_col11, #T_999bd_row4_col24, #T_999bd_row7_col22, #T_999bd_row15_col22, #T_999bd_row18_col11, #T_999bd_row24_col0 {\n  background-color: #506bda;\n  color: #f1f1f1;\n}\n#T_999bd_row4_col13, #T_999bd_row5_col2, #T_999bd_row15_col2, #T_999bd_row16_col13, #T_999bd_row22_col19, #T_999bd_row22_col23 {\n  background-color: #d9dce1;\n  color: #000000;\n}\n#T_999bd_row4_col15, #T_999bd_row15_col4 {\n  background-color: #f59f80;\n  color: #000000;\n}\n#T_999bd_row4_col16, #T_999bd_row5_col7, #T_999bd_row8_col5, #T_999bd_row11_col21, #T_999bd_row12_col16, #T_999bd_row15_col5, #T_999bd_row16_col5, #T_999bd_row16_col18 {\n  background-color: #88abfd;\n  color: #000000;\n}\n#T_999bd_row4_col19, #T_999bd_row5_col13, #T_999bd_row9_col19, #T_999bd_row11_col13, #T_999bd_row11_col19, #T_999bd_row12_col13, #T_999bd_row15_col8, #T_999bd_row16_col2, #T_999bd_row17_col6, #T_999bd_row20_col8, #T_999bd_row22_col8, #T_999bd_row23_col2, #T_999bd_row24_col2 {\n  background-color: #dbdcde;\n  color: #000000;\n}\n#T_999bd_row4_col20, #T_999bd_row11_col9, #T_999bd_row15_col9, #T_999bd_row17_col3 {\n  background-color: #a5c3fe;\n  color: #000000;\n}\n#T_999bd_row4_col21 {\n  background-color: #f7a98b;\n  color: #000000;\n}\n#T_999bd_row4_col22, #T_999bd_row5_col22, #T_999bd_row8_col22, #T_999bd_row13_col11, #T_999bd_row16_col11, #T_999bd_row19_col11 {\n  background-color: #5e7de7;\n  color: #f1f1f1;\n}\n#T_999bd_row5_col3, #T_999bd_row5_col15, #T_999bd_row12_col4, #T_999bd_row16_col4, #T_999bd_row16_col14 {\n  background-color: #9dbdff;\n  color: #000000;\n}\n#T_999bd_row5_col6 {\n  background-color: #b6cefa;\n  color: #000000;\n}\n#T_999bd_row5_col8, #T_999bd_row10_col19, #T_999bd_row12_col2, #T_999bd_row16_col19, #T_999bd_row21_col8 {\n  background-color: #dedcdb;\n  color: #000000;\n}\n#T_999bd_row5_col9, #T_999bd_row8_col24, #T_999bd_row13_col17 {\n  background-color: #4961d2;\n  color: #f1f1f1;\n}\n#T_999bd_row5_col10, #T_999bd_row16_col21, #T_999bd_row23_col15 {\n  background-color: #9bbcff;\n  color: #000000;\n}\n#T_999bd_row5_col11, #T_999bd_row8_col11, #T_999bd_row15_col1, #T_999bd_row16_col22, #T_999bd_row19_col22 {\n  background-color: #5a78e4;\n  color: #f1f1f1;\n}\n#T_999bd_row5_col16, #T_999bd_row17_col5, #T_999bd_row19_col16, #T_999bd_row22_col10 {\n  background-color: #89acfd;\n  color: #000000;\n}\n#T_999bd_row5_col19, #T_999bd_row9_col13, #T_999bd_row16_col8, #T_999bd_row20_col2, #T_999bd_row24_col19 {\n  background-color: #dddcdc;\n  color: #000000;\n}\n#T_999bd_row5_col23, #T_999bd_row23_col11 {\n  background-color: #7597f6;\n  color: #f1f1f1;\n}\n#T_999bd_row5_col24, #T_999bd_row14_col1, #T_999bd_row24_col1 {\n  background-color: #5977e3;\n  color: #f1f1f1;\n}\n#T_999bd_row6_col0, #T_999bd_row9_col0, #T_999bd_row20_col0 {\n  background-color: #4f69d9;\n  color: #f1f1f1;\n}\n#T_999bd_row6_col2, #T_999bd_row8_col18, #T_999bd_row17_col13, #T_999bd_row19_col7, #T_999bd_row21_col17 {\n  background-color: #b1cbfc;\n  color: #000000;\n}\n#T_999bd_row6_col3 {\n  background-color: #ecd3c5;\n  color: #000000;\n}\n#T_999bd_row6_col7, #T_999bd_row6_col14, #T_999bd_row17_col18 {\n  background-color: #a7c5fe;\n  color: #000000;\n}\n#T_999bd_row6_col10, #T_999bd_row10_col6 {\n  background-color: #afcafc;\n  color: #000000;\n}\n#T_999bd_row6_col13, #T_999bd_row8_col6, #T_999bd_row17_col2, #T_999bd_row19_col17, #T_999bd_row23_col19 {\n  background-color: #d5dbe5;\n  color: #000000;\n}\n#T_999bd_row6_col16, #T_999bd_row10_col16, #T_999bd_row11_col4, #T_999bd_row11_col18, #T_999bd_row14_col5, #T_999bd_row21_col5, #T_999bd_row22_col7, #T_999bd_row22_col15 {\n  background-color: #8badfd;\n  color: #000000;\n}\n#T_999bd_row6_col17, #T_999bd_row9_col8, #T_999bd_row11_col8, #T_999bd_row20_col19, #T_999bd_row24_col13 {\n  background-color: #dadce0;\n  color: #000000;\n}\n#T_999bd_row6_col19, #T_999bd_row17_col8 {\n  background-color: #e2dad5;\n  color: #000000;\n}\n#T_999bd_row6_col22, #T_999bd_row6_col23, #T_999bd_row6_col24, #T_999bd_row7_col14, #T_999bd_row16_col0, #T_999bd_row17_col11, #T_999bd_row18_col3 {\n  background-color: #4c66d6;\n  color: #f1f1f1;\n}\n#T_999bd_row7_col0, #T_999bd_row18_col0 {\n  background-color: #445acc;\n  color: #f1f1f1;\n}\n#T_999bd_row7_col2 {\n  background-color: #ccd9ed;\n  color: #000000;\n}\n#T_999bd_row7_col3, #T_999bd_row7_col11, #T_999bd_row18_col22 {\n  background-color: #4055c8;\n  color: #f1f1f1;\n}\n#T_999bd_row7_col5, #T_999bd_row8_col23, #T_999bd_row12_col3, #T_999bd_row19_col12 {\n  background-color: #7295f4;\n  color: #f1f1f1;\n}\n#T_999bd_row7_col6, #T_999bd_row12_col15 {\n  background-color: #a1c0ff;\n  color: #000000;\n}\n#T_999bd_row7_col8, #T_999bd_row18_col19 {\n  background-color: #f4c5ad;\n  color: #000000;\n}\n#T_999bd_row7_col12, #T_999bd_row18_col23 {\n  background-color: #3f53c6;\n  color: #f1f1f1;\n}\n#T_999bd_row7_col13, #T_999bd_row11_col12, #T_999bd_row18_col2 {\n  background-color: #d8dce2;\n  color: #000000;\n}\n#T_999bd_row7_col16, #T_999bd_row9_col12, #T_999bd_row9_col16, #T_999bd_row11_col5, #T_999bd_row11_col17, #T_999bd_row20_col5, #T_999bd_row20_col23, #T_999bd_row22_col6, #T_999bd_row22_col16, #T_999bd_row24_col23 {\n  background-color: #80a3fa;\n  color: #f1f1f1;\n}\n#T_999bd_row7_col18, #T_999bd_row18_col7 {\n  background-color: #f6bea4;\n  color: #000000;\n}\n#T_999bd_row7_col19, #T_999bd_row18_col8 {\n  background-color: #e9d5cb;\n  color: #000000;\n}\n#T_999bd_row7_col24 {\n  background-color: #3c4ec2;\n  color: #f1f1f1;\n}\n#T_999bd_row8_col1, #T_999bd_row11_col6, #T_999bd_row13_col12, #T_999bd_row21_col12, #T_999bd_row22_col17, #T_999bd_row23_col6 {\n  background-color: #6e90f2;\n  color: #f1f1f1;\n}\n#T_999bd_row8_col3, #T_999bd_row8_col7, #T_999bd_row19_col14 {\n  background-color: #d2dbe8;\n  color: #000000;\n}\n#T_999bd_row8_col4, #T_999bd_row14_col6, #T_999bd_row19_col15 {\n  background-color: #adc9fd;\n  color: #000000;\n}\n#T_999bd_row8_col16, #T_999bd_row11_col23, #T_999bd_row12_col10, #T_999bd_row22_col12, #T_999bd_row23_col5, #T_999bd_row24_col20 {\n  background-color: #86a9fc;\n  color: #f1f1f1;\n}\n#T_999bd_row8_col19, #T_999bd_row19_col8 {\n  background-color: #f0cdbb;\n  color: #000000;\n}\n#T_999bd_row9_col2, #T_999bd_row20_col13, #T_999bd_row23_col13 {\n  background-color: #dfdbd9;\n  color: #000000;\n}\n#T_999bd_row9_col3, #T_999bd_row13_col16, #T_999bd_row18_col5, #T_999bd_row20_col14, #T_999bd_row22_col3, #T_999bd_row23_col3, #T_999bd_row24_col12 {\n  background-color: #7ea1fa;\n  color: #f1f1f1;\n}\n#T_999bd_row9_col4, #T_999bd_row20_col15 {\n  background-color: #bbd1f8;\n  color: #000000;\n}\n#T_999bd_row9_col7, #T_999bd_row20_col18 {\n  background-color: #a6c4fe;\n  color: #000000;\n}\n#T_999bd_row9_col22, #T_999bd_row20_col11 {\n  background-color: #6687ed;\n  color: #f1f1f1;\n}\n#T_999bd_row10_col2, #T_999bd_row21_col13 {\n  background-color: #b7cff9;\n  color: #000000;\n}\n#T_999bd_row10_col7, #T_999bd_row18_col14 {\n  background-color: #4257c9;\n  color: #f1f1f1;\n}\n#T_999bd_row10_col8, #T_999bd_row21_col19 {\n  background-color: #f2cbb7;\n  color: #000000;\n}\n#T_999bd_row10_col11, #T_999bd_row13_col24, #T_999bd_row21_col22 {\n  background-color: #455cce;\n  color: #f1f1f1;\n}\n#T_999bd_row10_col13, #T_999bd_row12_col8, #T_999bd_row21_col2 {\n  background-color: #d6dce4;\n  color: #000000;\n}\n#T_999bd_row10_col14, #T_999bd_row21_col3 {\n  background-color: #f7b599;\n  color: #000000;\n}\n#T_999bd_row10_col15, #T_999bd_row10_col21, #T_999bd_row21_col4, #T_999bd_row21_col10 {\n  background-color: #f6a586;\n  color: #000000;\n}\n#T_999bd_row10_col18, #T_999bd_row12_col24, #T_999bd_row15_col0, #T_999bd_row21_col0, #T_999bd_row21_col7, #T_999bd_row21_col11, #T_999bd_row22_col1, #T_999bd_row23_col0 {\n  background-color: #5673e0;\n  color: #f1f1f1;\n}\n#T_999bd_row11_col2, #T_999bd_row12_col19, #T_999bd_row22_col2, #T_999bd_row22_col13, #T_999bd_row23_col8, #T_999bd_row24_col8 {\n  background-color: #dcdddd;\n  color: #000000;\n}\n#T_999bd_row11_col3, #T_999bd_row12_col7, #T_999bd_row22_col14, #T_999bd_row23_col18 {\n  background-color: #6a8bef;\n  color: #f1f1f1;\n}\n#T_999bd_row11_col24, #T_999bd_row17_col24, #T_999bd_row22_col24 {\n  background-color: #4b64d5;\n  color: #f1f1f1;\n}\n#T_999bd_row12_col6, #T_999bd_row15_col11, #T_999bd_row23_col1 {\n  background-color: #5d7ce6;\n  color: #f1f1f1;\n}\n#T_999bd_row12_col17 {\n  background-color: #6c8ff1;\n  color: #f1f1f1;\n}\n#T_999bd_row13_col1, #T_999bd_row21_col18 {\n  background-color: #4358cb;\n  color: #f1f1f1;\n}\n#T_999bd_row13_col5, #T_999bd_row17_col4 {\n  background-color: #81a4fb;\n  color: #f1f1f1;\n}\n#T_999bd_row14_col15 {\n  background-color: #e7745b;\n  color: #f1f1f1;\n}\n#T_999bd_row15_col3, #T_999bd_row17_col19 {\n  background-color: #f6bfa6;\n  color: #000000;\n}\n#T_999bd_row15_col10 {\n  background-color: #f7a889;\n  color: #000000;\n}\n#T_999bd_row15_col14 {\n  background-color: #e9785d;\n  color: #f1f1f1;\n}\n#T_999bd_row15_col21 {\n  background-color: #c53334;\n  color: #f1f1f1;\n}\n#T_999bd_row15_col23, #T_999bd_row16_col12, #T_999bd_row18_col16 {\n  background-color: #7396f5;\n  color: #f1f1f1;\n}\n#T_999bd_row16_col20, #T_999bd_row18_col1 {\n  background-color: #485fd1;\n  color: #f1f1f1;\n}\n#T_999bd_row17_col14 {\n  background-color: #edd1c2;\n  color: #000000;\n}\n#T_999bd_row17_col21 {\n  background-color: #b2ccfb;\n  color: #000000;\n}\n#T_999bd_row18_col24, #T_999bd_row20_col24 {\n  background-color: #3d50c3;\n  color: #f1f1f1;\n}\n#T_999bd_row19_col21 {\n  background-color: #c4d5f3;\n  color: #000000;\n}\n#T_999bd_row22_col20 {\n  background-color: #a3c2fe;\n  color: #000000;\n}\n#T_999bd_row23_col4 {\n  background-color: #a2c1ff;\n  color: #000000;\n}\n</style>\n<table id=\"T_999bd_\">\n  <thead>\n    <tr>\n      <th class=\"blank level0\" >&nbsp;</th>\n      <th class=\"col_heading level0 col0\" >DISTANCE</th>\n      <th class=\"col_heading level0 col1\" >AIR_TIME</th>\n      <th class=\"col_heading level0 col2\" >ORIGIN_ELEVATION</th>\n      <th class=\"col_heading level0 col3\" >ORIGIN_HourlyDewPointTemperature</th>\n      <th class=\"col_heading level0 col4\" >ORIGIN_HourlyDryBulbTemperature</th>\n      <th class=\"col_heading level0 col5\" >ORIGIN_HourlyPrecipitation</th>\n      <th class=\"col_heading level0 col6\" >ORIGIN_HourlyRelativeHumidity</th>\n      <th class=\"col_heading level0 col7\" >ORIGIN_HourlySeaLevelPressure</th>\n      <th class=\"col_heading level0 col8\" >ORIGIN_HourlyStationPressure</th>\n      <th class=\"col_heading level0 col9\" >ORIGIN_HourlyVisibility</th>\n      <th class=\"col_heading level0 col10\" >ORIGIN_HourlyWetBulbTemperature</th>\n      <th class=\"col_heading level0 col11\" >ORIGIN_HourlyWindDirection</th>\n      <th class=\"col_heading level0 col12\" >ORIGIN_HourlyWindSpeed</th>\n      <th class=\"col_heading level0 col13\" >DEST_ELEVATION</th>\n      <th class=\"col_heading level0 col14\" >DEST_HourlyDewPointTemperature</th>\n      <th class=\"col_heading level0 col15\" >DEST_HourlyDryBulbTemperature</th>\n      <th class=\"col_heading level0 col16\" >DEST_HourlyPrecipitation</th>\n      <th class=\"col_heading level0 col17\" >DEST_HourlyRelativeHumidity</th>\n      <th class=\"col_heading level0 col18\" >DEST_HourlySeaLevelPressure</th>\n      <th class=\"col_heading level0 col19\" >DEST_HourlyStationPressure</th>\n      <th class=\"col_heading level0 col20\" >DEST_HourlyVisibility</th>\n      <th class=\"col_heading level0 col21\" >DEST_HourlyWetBulbTemperature</th>\n      <th class=\"col_heading level0 col22\" >DEST_HourlyWindDirection</th>\n      <th class=\"col_heading level0 col23\" >DEST_HourlyWindSpeed</th>\n      <th class=\"col_heading level0 col24\" >ARR_DELAY_NEW</th>\n    </tr>\n  </thead>\n  <tbody>\n    <tr>\n      <th id=\"T_999bd_level0_row0\" class=\"row_heading level0 row0\" >DISTANCE</th>\n      <td id=\"T_999bd_row0_col0\" class=\"data row0 col0\" >1.00</td>\n      <td id=\"T_999bd_row0_col1\" class=\"data row0 col1\" >0.98</td>\n      <td id=\"T_999bd_row0_col2\" class=\"data row0 col2\" >-0.07</td>\n      <td id=\"T_999bd_row0_col3\" class=\"data row0 col3\" >0.02</td>\n      <td id=\"T_999bd_row0_col4\" class=\"data row0 col4\" >0.02</td>\n      <td id=\"T_999bd_row0_col5\" class=\"data row0 col5\" >-0.00</td>\n      <td id=\"T_999bd_row0_col6\" class=\"data row0 col6\" >0.00</td>\n      <td id=\"T_999bd_row0_col7\" class=\"data row0 col7\" >-0.03</td>\n      <td id=\"T_999bd_row0_col8\" class=\"data row0 col8\" >0.06</td>\n      <td id=\"T_999bd_row0_col9\" class=\"data row0 col9\" >0.00</td>\n      <td id=\"T_999bd_row0_col10\" class=\"data row0 col10\" >0.03</td>\n      <td id=\"T_999bd_row0_col11\" class=\"data row0 col11\" >0.00</td>\n      <td id=\"T_999bd_row0_col12\" class=\"data row0 col12\" >0.02</td>\n      <td id=\"T_999bd_row0_col13\" class=\"data row0 col13\" >-0.07</td>\n      <td id=\"T_999bd_row0_col14\" class=\"data row0 col14\" >0.02</td>\n      <td id=\"T_999bd_row0_col15\" class=\"data row0 col15\" >0.03</td>\n      <td id=\"T_999bd_row0_col16\" class=\"data row0 col16\" >-0.00</td>\n      <td id=\"T_999bd_row0_col17\" class=\"data row0 col17\" >0.00</td>\n      <td id=\"T_999bd_row0_col18\" class=\"data row0 col18\" >-0.03</td>\n      <td id=\"T_999bd_row0_col19\" class=\"data row0 col19\" >0.06</td>\n      <td id=\"T_999bd_row0_col20\" class=\"data row0 col20\" >0.01</td>\n      <td id=\"T_999bd_row0_col21\" class=\"data row0 col21\" >0.03</td>\n      <td id=\"T_999bd_row0_col22\" class=\"data row0 col22\" >0.01</td>\n      <td id=\"T_999bd_row0_col23\" class=\"data row0 col23\" >0.03</td>\n      <td id=\"T_999bd_row0_col24\" class=\"data row0 col24\" >0.01</td>\n    </tr>\n    <tr>\n      <th id=\"T_999bd_level0_row1\" class=\"row_heading level0 row1\" >AIR_TIME</th>\n      <td id=\"T_999bd_row1_col0\" class=\"data row1 col0\" >0.98</td>\n      <td id=\"T_999bd_row1_col1\" class=\"data row1 col1\" >1.00</td>\n      <td id=\"T_999bd_row1_col2\" class=\"data row1 col2\" >-0.09</td>\n      <td id=\"T_999bd_row1_col3\" class=\"data row1 col3\" >0.01</td>\n      <td id=\"T_999bd_row1_col4\" class=\"data row1 col4\" >0.01</td>\n      <td id=\"T_999bd_row1_col5\" class=\"data row1 col5\" >0.00</td>\n      <td id=\"T_999bd_row1_col6\" class=\"data row1 col6\" >0.01</td>\n      <td id=\"T_999bd_row1_col7\" class=\"data row1 col7\" >-0.02</td>\n      <td id=\"T_999bd_row1_col8\" class=\"data row1 col8\" >0.09</td>\n      <td id=\"T_999bd_row1_col9\" class=\"data row1 col9\" >-0.00</td>\n      <td id=\"T_999bd_row1_col10\" class=\"data row1 col10\" >0.01</td>\n      <td id=\"T_999bd_row1_col11\" class=\"data row1 col11\" >0.01</td>\n      <td id=\"T_999bd_row1_col12\" class=\"data row1 col12\" >0.03</td>\n      <td id=\"T_999bd_row1_col13\" class=\"data row1 col13\" >-0.06</td>\n      <td id=\"T_999bd_row1_col14\" class=\"data row1 col14\" >0.02</td>\n      <td id=\"T_999bd_row1_col15\" class=\"data row1 col15\" >0.02</td>\n      <td id=\"T_999bd_row1_col16\" class=\"data row1 col16\" >0.00</td>\n      <td id=\"T_999bd_row1_col17\" class=\"data row1 col17\" >0.00</td>\n      <td id=\"T_999bd_row1_col18\" class=\"data row1 col18\" >-0.04</td>\n      <td id=\"T_999bd_row1_col19\" class=\"data row1 col19\" >0.05</td>\n      <td id=\"T_999bd_row1_col20\" class=\"data row1 col20\" >-0.00</td>\n      <td id=\"T_999bd_row1_col21\" class=\"data row1 col21\" >0.02</td>\n      <td id=\"T_999bd_row1_col22\" class=\"data row1 col22\" >0.01</td>\n      <td id=\"T_999bd_row1_col23\" class=\"data row1 col23\" >0.03</td>\n      <td id=\"T_999bd_row1_col24\" class=\"data row1 col24\" >0.02</td>\n    </tr>\n    <tr>\n      <th id=\"T_999bd_level0_row2\" class=\"row_heading level0 row2\" >ORIGIN_ELEVATION</th>\n      <td id=\"T_999bd_row2_col0\" class=\"data row2 col0\" >-0.07</td>\n      <td id=\"T_999bd_row2_col1\" class=\"data row2 col1\" >-0.09</td>\n      <td id=\"T_999bd_row2_col2\" class=\"data row2 col2\" >1.00</td>\n      <td id=\"T_999bd_row2_col3\" class=\"data row2 col3\" >-0.32</td>\n      <td id=\"T_999bd_row2_col4\" class=\"data row2 col4\" >-0.13</td>\n      <td id=\"T_999bd_row2_col5\" class=\"data row2 col5\" >-0.02</td>\n      <td id=\"T_999bd_row2_col6\" class=\"data row2 col6\" >-0.29</td>\n      <td id=\"T_999bd_row2_col7\" class=\"data row2 col7\" >-0.12</td>\n      <td id=\"T_999bd_row2_col8\" class=\"data row2 col8\" >-0.99</td>\n      <td id=\"T_999bd_row2_col9\" class=\"data row2 col9\" >0.03</td>\n      <td id=\"T_999bd_row2_col10\" class=\"data row2 col10\" >-0.25</td>\n      <td id=\"T_999bd_row2_col11\" class=\"data row2 col11\" >-0.00</td>\n      <td id=\"T_999bd_row2_col12\" class=\"data row2 col12\" >0.02</td>\n      <td id=\"T_999bd_row2_col13\" class=\"data row2 col13\" >0.16</td>\n      <td id=\"T_999bd_row2_col14\" class=\"data row2 col14\" >-0.06</td>\n      <td id=\"T_999bd_row2_col15\" class=\"data row2 col15\" >-0.02</td>\n      <td id=\"T_999bd_row2_col16\" class=\"data row2 col16\" >-0.01</td>\n      <td id=\"T_999bd_row2_col17\" class=\"data row2 col17\" >-0.05</td>\n      <td id=\"T_999bd_row2_col18\" class=\"data row2 col18\" >-0.03</td>\n      <td id=\"T_999bd_row2_col19\" class=\"data row2 col19\" >-0.17</td>\n      <td id=\"T_999bd_row2_col20\" class=\"data row2 col20\" >0.01</td>\n      <td id=\"T_999bd_row2_col21\" class=\"data row2 col21\" >-0.05</td>\n      <td id=\"T_999bd_row2_col22\" class=\"data row2 col22\" >-0.00</td>\n      <td id=\"T_999bd_row2_col23\" class=\"data row2 col23\" >-0.01</td>\n      <td id=\"T_999bd_row2_col24\" class=\"data row2 col24\" >-0.01</td>\n    </tr>\n    <tr>\n      <th id=\"T_999bd_level0_row3\" class=\"row_heading level0 row3\" >ORIGIN_HourlyDewPointTemperature</th>\n      <td id=\"T_999bd_row3_col0\" class=\"data row3 col0\" >0.02</td>\n      <td id=\"T_999bd_row3_col1\" class=\"data row3 col1\" >0.01</td>\n      <td id=\"T_999bd_row3_col2\" class=\"data row3 col2\" >-0.32</td>\n      <td id=\"T_999bd_row3_col3\" class=\"data row3 col3\" >1.00</td>\n      <td id=\"T_999bd_row3_col4\" class=\"data row3 col4\" >0.77</td>\n      <td id=\"T_999bd_row3_col5\" class=\"data row3 col5\" >0.07</td>\n      <td id=\"T_999bd_row3_col6\" class=\"data row3 col6\" >0.43</td>\n      <td id=\"T_999bd_row3_col7\" class=\"data row3 col7\" >-0.29</td>\n      <td id=\"T_999bd_row3_col8\" class=\"data row3 col8\" >0.28</td>\n      <td id=\"T_999bd_row3_col9\" class=\"data row3 col9\" >-0.05</td>\n      <td id=\"T_999bd_row3_col10\" class=\"data row3 col10\" >0.94</td>\n      <td id=\"T_999bd_row3_col11\" class=\"data row3 col11\" >-0.12</td>\n      <td id=\"T_999bd_row3_col12\" class=\"data row3 col12\" >-0.09</td>\n      <td id=\"T_999bd_row3_col13\" class=\"data row3 col13\" >-0.06</td>\n      <td id=\"T_999bd_row3_col14\" class=\"data row3 col14\" >0.55</td>\n      <td id=\"T_999bd_row3_col15\" class=\"data row3 col15\" >0.53</td>\n      <td id=\"T_999bd_row3_col16\" class=\"data row3 col16\" >0.03</td>\n      <td id=\"T_999bd_row3_col17\" class=\"data row3 col17\" >0.10</td>\n      <td id=\"T_999bd_row3_col18\" class=\"data row3 col18\" >-0.24</td>\n      <td id=\"T_999bd_row3_col19\" class=\"data row3 col19\" >0.03</td>\n      <td id=\"T_999bd_row3_col20\" class=\"data row3 col20\" >0.02</td>\n      <td id=\"T_999bd_row3_col21\" class=\"data row3 col21\" >0.57</td>\n      <td id=\"T_999bd_row3_col22\" class=\"data row3 col22\" >-0.05</td>\n      <td id=\"T_999bd_row3_col23\" class=\"data row3 col23\" >-0.05</td>\n      <td id=\"T_999bd_row3_col24\" class=\"data row3 col24\" >0.03</td>\n    </tr>\n    <tr>\n      <th id=\"T_999bd_level0_row4\" class=\"row_heading level0 row4\" >ORIGIN_HourlyDryBulbTemperature</th>\n      <td id=\"T_999bd_row4_col0\" class=\"data row4 col0\" >0.02</td>\n      <td id=\"T_999bd_row4_col1\" class=\"data row4 col1\" >0.01</td>\n      <td id=\"T_999bd_row4_col2\" class=\"data row4 col2\" >-0.13</td>\n      <td id=\"T_999bd_row4_col3\" class=\"data row4 col3\" >0.77</td>\n      <td id=\"T_999bd_row4_col4\" class=\"data row4 col4\" >1.00</td>\n      <td id=\"T_999bd_row4_col5\" class=\"data row4 col5\" >-0.00</td>\n      <td id=\"T_999bd_row4_col6\" class=\"data row4 col6\" >-0.21</td>\n      <td id=\"T_999bd_row4_col7\" class=\"data row4 col7\" >-0.40</td>\n      <td id=\"T_999bd_row4_col8\" class=\"data row4 col8\" >0.08</td>\n      <td id=\"T_999bd_row4_col9\" class=\"data row4 col9\" >0.14</td>\n      <td id=\"T_999bd_row4_col10\" class=\"data row4 col10\" >0.94</td>\n      <td id=\"T_999bd_row4_col11\" class=\"data row4 col11\" >-0.05</td>\n      <td id=\"T_999bd_row4_col12\" class=\"data row4 col12\" >0.02</td>\n      <td id=\"T_999bd_row4_col13\" class=\"data row4 col13\" >-0.02</td>\n      <td id=\"T_999bd_row4_col14\" class=\"data row4 col14\" >0.52</td>\n      <td id=\"T_999bd_row4_col15\" class=\"data row4 col15\" >0.63</td>\n      <td id=\"T_999bd_row4_col16\" class=\"data row4 col16\" >0.01</td>\n      <td id=\"T_999bd_row4_col17\" class=\"data row4 col17\" >-0.09</td>\n      <td id=\"T_999bd_row4_col18\" class=\"data row4 col18\" >-0.27</td>\n      <td id=\"T_999bd_row4_col19\" class=\"data row4 col19\" >-0.01</td>\n      <td id=\"T_999bd_row4_col20\" class=\"data row4 col20\" >0.08</td>\n      <td id=\"T_999bd_row4_col21\" class=\"data row4 col21\" >0.61</td>\n      <td id=\"T_999bd_row4_col22\" class=\"data row4 col22\" >-0.01</td>\n      <td id=\"T_999bd_row4_col23\" class=\"data row4 col23\" >0.04</td>\n      <td id=\"T_999bd_row4_col24\" class=\"data row4 col24\" >0.03</td>\n    </tr>\n    <tr>\n      <th id=\"T_999bd_level0_row5\" class=\"row_heading level0 row5\" >ORIGIN_HourlyPrecipitation</th>\n      <td id=\"T_999bd_row5_col0\" class=\"data row5 col0\" >-0.00</td>\n      <td id=\"T_999bd_row5_col1\" class=\"data row5 col1\" >0.00</td>\n      <td id=\"T_999bd_row5_col2\" class=\"data row5 col2\" >-0.02</td>\n      <td id=\"T_999bd_row5_col3\" class=\"data row5 col3\" >0.07</td>\n      <td id=\"T_999bd_row5_col4\" class=\"data row5 col4\" >-0.00</td>\n      <td id=\"T_999bd_row5_col5\" class=\"data row5 col5\" >1.00</td>\n      <td id=\"T_999bd_row5_col6\" class=\"data row5 col6\" >0.14</td>\n      <td id=\"T_999bd_row5_col7\" class=\"data row5 col7\" >-0.06</td>\n      <td id=\"T_999bd_row5_col8\" class=\"data row5 col8\" >0.01</td>\n      <td id=\"T_999bd_row5_col9\" class=\"data row5 col9\" >-0.29</td>\n      <td id=\"T_999bd_row5_col10\" class=\"data row5 col10\" >0.04</td>\n      <td id=\"T_999bd_row5_col11\" class=\"data row5 col11\" >-0.02</td>\n      <td id=\"T_999bd_row5_col12\" class=\"data row5 col12\" >0.04</td>\n      <td id=\"T_999bd_row5_col13\" class=\"data row5 col13\" >-0.01</td>\n      <td id=\"T_999bd_row5_col14\" class=\"data row5 col14\" >0.03</td>\n      <td id=\"T_999bd_row5_col15\" class=\"data row5 col15\" >0.02</td>\n      <td id=\"T_999bd_row5_col16\" class=\"data row5 col16\" >0.02</td>\n      <td id=\"T_999bd_row5_col17\" class=\"data row5 col17\" >0.02</td>\n      <td id=\"T_999bd_row5_col18\" class=\"data row5 col18\" >-0.02</td>\n      <td id=\"T_999bd_row5_col19\" class=\"data row5 col19\" >0.01</td>\n      <td id=\"T_999bd_row5_col20\" class=\"data row5 col20\" >-0.02</td>\n      <td id=\"T_999bd_row5_col21\" class=\"data row5 col21\" >0.02</td>\n      <td id=\"T_999bd_row5_col22\" class=\"data row5 col22\" >-0.00</td>\n      <td id=\"T_999bd_row5_col23\" class=\"data row5 col23\" >0.01</td>\n      <td id=\"T_999bd_row5_col24\" class=\"data row5 col24\" >0.05</td>\n    </tr>\n    <tr>\n      <th id=\"T_999bd_level0_row6\" class=\"row_heading level0 row6\" >ORIGIN_HourlyRelativeHumidity</th>\n      <td id=\"T_999bd_row6_col0\" class=\"data row6 col0\" >0.00</td>\n      <td id=\"T_999bd_row6_col1\" class=\"data row6 col1\" >0.01</td>\n      <td id=\"T_999bd_row6_col2\" class=\"data row6 col2\" >-0.29</td>\n      <td id=\"T_999bd_row6_col3\" class=\"data row6 col3\" >0.43</td>\n      <td id=\"T_999bd_row6_col4\" class=\"data row6 col4\" >-0.21</td>\n      <td id=\"T_999bd_row6_col5\" class=\"data row6 col5\" >0.14</td>\n      <td id=\"T_999bd_row6_col6\" class=\"data row6 col6\" >1.00</td>\n      <td id=\"T_999bd_row6_col7\" class=\"data row6 col7\" >0.06</td>\n      <td id=\"T_999bd_row6_col8\" class=\"data row6 col8\" >0.28</td>\n      <td id=\"T_999bd_row6_col9\" class=\"data row6 col9\" >-0.36</td>\n      <td id=\"T_999bd_row6_col10\" class=\"data row6 col10\" >0.12</td>\n      <td id=\"T_999bd_row6_col11\" class=\"data row6 col11\" >-0.14</td>\n      <td id=\"T_999bd_row6_col12\" class=\"data row6 col12\" >-0.21</td>\n      <td id=\"T_999bd_row6_col13\" class=\"data row6 col13\" >-0.05</td>\n      <td id=\"T_999bd_row6_col14\" class=\"data row6 col14\" >0.11</td>\n      <td id=\"T_999bd_row6_col15\" class=\"data row6 col15\" >-0.08</td>\n      <td id=\"T_999bd_row6_col16\" class=\"data row6 col16\" >0.02</td>\n      <td id=\"T_999bd_row6_col17\" class=\"data row6 col17\" >0.31</td>\n      <td id=\"T_999bd_row6_col18\" class=\"data row6 col18\" >-0.01</td>\n      <td id=\"T_999bd_row6_col19\" class=\"data row6 col19\" >0.05</td>\n      <td id=\"T_999bd_row6_col20\" class=\"data row6 col20\" >-0.10</td>\n      <td id=\"T_999bd_row6_col21\" class=\"data row6 col21\" >0.02</td>\n      <td id=\"T_999bd_row6_col22\" class=\"data row6 col22\" >-0.07</td>\n      <td id=\"T_999bd_row6_col23\" class=\"data row6 col23\" >-0.14</td>\n      <td id=\"T_999bd_row6_col24\" class=\"data row6 col24\" >0.01</td>\n    </tr>\n    <tr>\n      <th id=\"T_999bd_level0_row7\" class=\"row_heading level0 row7\" >ORIGIN_HourlySeaLevelPressure</th>\n      <td id=\"T_999bd_row7_col0\" class=\"data row7 col0\" >-0.03</td>\n      <td id=\"T_999bd_row7_col1\" class=\"data row7 col1\" >-0.02</td>\n      <td id=\"T_999bd_row7_col2\" class=\"data row7 col2\" >-0.12</td>\n      <td id=\"T_999bd_row7_col3\" class=\"data row7 col3\" >-0.29</td>\n      <td id=\"T_999bd_row7_col4\" class=\"data row7 col4\" >-0.40</td>\n      <td id=\"T_999bd_row7_col5\" class=\"data row7 col5\" >-0.06</td>\n      <td id=\"T_999bd_row7_col6\" class=\"data row7 col6\" >0.06</td>\n      <td id=\"T_999bd_row7_col7\" class=\"data row7 col7\" >1.00</td>\n      <td id=\"T_999bd_row7_col8\" class=\"data row7 col8\" >0.25</td>\n      <td id=\"T_999bd_row7_col9\" class=\"data row7 col9\" >0.05</td>\n      <td id=\"T_999bd_row7_col10\" class=\"data row7 col10\" >-0.36</td>\n      <td id=\"T_999bd_row7_col11\" class=\"data row7 col11\" >-0.11</td>\n      <td id=\"T_999bd_row7_col12\" class=\"data row7 col12\" >-0.19</td>\n      <td id=\"T_999bd_row7_col13\" class=\"data row7 col13\" >-0.03</td>\n      <td id=\"T_999bd_row7_col14\" class=\"data row7 col14\" >-0.24</td>\n      <td id=\"T_999bd_row7_col15\" class=\"data row7 col15\" >-0.27</td>\n      <td id=\"T_999bd_row7_col16\" class=\"data row7 col16\" >-0.02</td>\n      <td id=\"T_999bd_row7_col17\" class=\"data row7 col17\" >-0.00</td>\n      <td id=\"T_999bd_row7_col18\" class=\"data row7 col18\" >0.51</td>\n      <td id=\"T_999bd_row7_col19\" class=\"data row7 col19\" >0.10</td>\n      <td id=\"T_999bd_row7_col20\" class=\"data row7 col20\" >-0.00</td>\n      <td id=\"T_999bd_row7_col21\" class=\"data row7 col21\" >-0.27</td>\n      <td id=\"T_999bd_row7_col22\" class=\"data row7 col22\" >-0.06</td>\n      <td id=\"T_999bd_row7_col23\" class=\"data row7 col23\" >-0.05</td>\n      <td id=\"T_999bd_row7_col24\" class=\"data row7 col24\" >-0.04</td>\n    </tr>\n    <tr>\n      <th id=\"T_999bd_level0_row8\" class=\"row_heading level0 row8\" >ORIGIN_HourlyStationPressure</th>\n      <td id=\"T_999bd_row8_col0\" class=\"data row8 col0\" >0.06</td>\n      <td id=\"T_999bd_row8_col1\" class=\"data row8 col1\" >0.09</td>\n      <td id=\"T_999bd_row8_col2\" class=\"data row8 col2\" >-0.99</td>\n      <td id=\"T_999bd_row8_col3\" class=\"data row8 col3\" >0.28</td>\n      <td id=\"T_999bd_row8_col4\" class=\"data row8 col4\" >0.08</td>\n      <td id=\"T_999bd_row8_col5\" class=\"data row8 col5\" >0.01</td>\n      <td id=\"T_999bd_row8_col6\" class=\"data row8 col6\" >0.28</td>\n      <td id=\"T_999bd_row8_col7\" class=\"data row8 col7\" >0.25</td>\n      <td id=\"T_999bd_row8_col8\" class=\"data row8 col8\" >1.00</td>\n      <td id=\"T_999bd_row8_col9\" class=\"data row8 col9\" >-0.01</td>\n      <td id=\"T_999bd_row8_col10\" class=\"data row8 col10\" >0.21</td>\n      <td id=\"T_999bd_row8_col11\" class=\"data row8 col11\" >-0.02</td>\n      <td id=\"T_999bd_row8_col12\" class=\"data row8 col12\" >-0.04</td>\n      <td id=\"T_999bd_row8_col13\" class=\"data row8 col13\" >-0.17</td>\n      <td id=\"T_999bd_row8_col14\" class=\"data row8 col14\" >0.03</td>\n      <td id=\"T_999bd_row8_col15\" class=\"data row8 col15\" >-0.01</td>\n      <td id=\"T_999bd_row8_col16\" class=\"data row8 col16\" >0.01</td>\n      <td id=\"T_999bd_row8_col17\" class=\"data row8 col17\" >0.05</td>\n      <td id=\"T_999bd_row8_col18\" class=\"data row8 col18\" >0.10</td>\n      <td id=\"T_999bd_row8_col19\" class=\"data row8 col19\" >0.18</td>\n      <td id=\"T_999bd_row8_col20\" class=\"data row8 col20\" >-0.01</td>\n      <td id=\"T_999bd_row8_col21\" class=\"data row8 col21\" >0.02</td>\n      <td id=\"T_999bd_row8_col22\" class=\"data row8 col22\" >-0.01</td>\n      <td id=\"T_999bd_row8_col23\" class=\"data row8 col23\" >0.00</td>\n      <td id=\"T_999bd_row8_col24\" class=\"data row8 col24\" >0.00</td>\n    </tr>\n    <tr>\n      <th id=\"T_999bd_level0_row9\" class=\"row_heading level0 row9\" >ORIGIN_HourlyVisibility</th>\n      <td id=\"T_999bd_row9_col0\" class=\"data row9 col0\" >0.00</td>\n      <td id=\"T_999bd_row9_col1\" class=\"data row9 col1\" >-0.00</td>\n      <td id=\"T_999bd_row9_col2\" class=\"data row9 col2\" >0.03</td>\n      <td id=\"T_999bd_row9_col3\" class=\"data row9 col3\" >-0.05</td>\n      <td id=\"T_999bd_row9_col4\" class=\"data row9 col4\" >0.14</td>\n      <td id=\"T_999bd_row9_col5\" class=\"data row9 col5\" >-0.29</td>\n      <td id=\"T_999bd_row9_col6\" class=\"data row9 col6\" >-0.36</td>\n      <td id=\"T_999bd_row9_col7\" class=\"data row9 col7\" >0.05</td>\n      <td id=\"T_999bd_row9_col8\" class=\"data row9 col8\" >-0.01</td>\n      <td id=\"T_999bd_row9_col9\" class=\"data row9 col9\" >1.00</td>\n      <td id=\"T_999bd_row9_col10\" class=\"data row9 col10\" >0.05</td>\n      <td id=\"T_999bd_row9_col11\" class=\"data row9 col11\" >0.08</td>\n      <td id=\"T_999bd_row9_col12\" class=\"data row9 col12\" >0.05</td>\n      <td id=\"T_999bd_row9_col13\" class=\"data row9 col13\" >0.01</td>\n      <td id=\"T_999bd_row9_col14\" class=\"data row9 col14\" >0.02</td>\n      <td id=\"T_999bd_row9_col15\" class=\"data row9 col15\" >0.07</td>\n      <td id=\"T_999bd_row9_col16\" class=\"data row9 col16\" >-0.02</td>\n      <td id=\"T_999bd_row9_col17\" class=\"data row9 col17\" >-0.10</td>\n      <td id=\"T_999bd_row9_col18\" class=\"data row9 col18\" >-0.00</td>\n      <td id=\"T_999bd_row9_col19\" class=\"data row9 col19\" >-0.00</td>\n      <td id=\"T_999bd_row9_col20\" class=\"data row9 col20\" >0.10</td>\n      <td id=\"T_999bd_row9_col21\" class=\"data row9 col21\" >0.05</td>\n      <td id=\"T_999bd_row9_col22\" class=\"data row9 col22\" >0.02</td>\n      <td id=\"T_999bd_row9_col23\" class=\"data row9 col23\" >0.02</td>\n      <td id=\"T_999bd_row9_col24\" class=\"data row9 col24\" >-0.05</td>\n    </tr>\n    <tr>\n      <th id=\"T_999bd_level0_row10\" class=\"row_heading level0 row10\" >ORIGIN_HourlyWetBulbTemperature</th>\n      <td id=\"T_999bd_row10_col0\" class=\"data row10 col0\" >0.03</td>\n      <td id=\"T_999bd_row10_col1\" class=\"data row10 col1\" >0.01</td>\n      <td id=\"T_999bd_row10_col2\" class=\"data row10 col2\" >-0.25</td>\n      <td id=\"T_999bd_row10_col3\" class=\"data row10 col3\" >0.94</td>\n      <td id=\"T_999bd_row10_col4\" class=\"data row10 col4\" >0.94</td>\n      <td id=\"T_999bd_row10_col5\" class=\"data row10 col5\" >0.04</td>\n      <td id=\"T_999bd_row10_col6\" class=\"data row10 col6\" >0.12</td>\n      <td id=\"T_999bd_row10_col7\" class=\"data row10 col7\" >-0.36</td>\n      <td id=\"T_999bd_row10_col8\" class=\"data row10 col8\" >0.21</td>\n      <td id=\"T_999bd_row10_col9\" class=\"data row10 col9\" >0.05</td>\n      <td id=\"T_999bd_row10_col10\" class=\"data row10 col10\" >1.00</td>\n      <td id=\"T_999bd_row10_col11\" class=\"data row10 col11\" >-0.09</td>\n      <td id=\"T_999bd_row10_col12\" class=\"data row10 col12\" >-0.04</td>\n      <td id=\"T_999bd_row10_col13\" class=\"data row10 col13\" >-0.05</td>\n      <td id=\"T_999bd_row10_col14\" class=\"data row10 col14\" >0.57</td>\n      <td id=\"T_999bd_row10_col15\" class=\"data row10 col15\" >0.61</td>\n      <td id=\"T_999bd_row10_col16\" class=\"data row10 col16\" >0.02</td>\n      <td id=\"T_999bd_row10_col17\" class=\"data row10 col17\" >0.01</td>\n      <td id=\"T_999bd_row10_col18\" class=\"data row10 col18\" >-0.27</td>\n      <td id=\"T_999bd_row10_col19\" class=\"data row10 col19\" >0.02</td>\n      <td id=\"T_999bd_row10_col20\" class=\"data row10 col20\" >0.05</td>\n      <td id=\"T_999bd_row10_col21\" class=\"data row10 col21\" >0.62</td>\n      <td id=\"T_999bd_row10_col22\" class=\"data row10 col22\" >-0.03</td>\n      <td id=\"T_999bd_row10_col23\" class=\"data row10 col23\" >-0.01</td>\n      <td id=\"T_999bd_row10_col24\" class=\"data row10 col24\" >0.03</td>\n    </tr>\n    <tr>\n      <th id=\"T_999bd_level0_row11\" class=\"row_heading level0 row11\" >ORIGIN_HourlyWindDirection</th>\n      <td id=\"T_999bd_row11_col0\" class=\"data row11 col0\" >0.00</td>\n      <td id=\"T_999bd_row11_col1\" class=\"data row11 col1\" >0.01</td>\n      <td id=\"T_999bd_row11_col2\" class=\"data row11 col2\" >-0.00</td>\n      <td id=\"T_999bd_row11_col3\" class=\"data row11 col3\" >-0.12</td>\n      <td id=\"T_999bd_row11_col4\" class=\"data row11 col4\" >-0.05</td>\n      <td id=\"T_999bd_row11_col5\" class=\"data row11 col5\" >-0.02</td>\n      <td id=\"T_999bd_row11_col6\" class=\"data row11 col6\" >-0.14</td>\n      <td id=\"T_999bd_row11_col7\" class=\"data row11 col7\" >-0.11</td>\n      <td id=\"T_999bd_row11_col8\" class=\"data row11 col8\" >-0.02</td>\n      <td id=\"T_999bd_row11_col9\" class=\"data row11 col9\" >0.08</td>\n      <td id=\"T_999bd_row11_col10\" class=\"data row11 col10\" >-0.09</td>\n      <td id=\"T_999bd_row11_col11\" class=\"data row11 col11\" >1.00</td>\n      <td id=\"T_999bd_row11_col12\" class=\"data row11 col12\" >0.38</td>\n      <td id=\"T_999bd_row11_col13\" class=\"data row11 col13\" >-0.00</td>\n      <td id=\"T_999bd_row11_col14\" class=\"data row11 col14\" >-0.05</td>\n      <td id=\"T_999bd_row11_col15\" class=\"data row11 col15\" >-0.01</td>\n      <td id=\"T_999bd_row11_col16\" class=\"data row11 col16\" >-0.00</td>\n      <td id=\"T_999bd_row11_col17\" class=\"data row11 col17\" >-0.07</td>\n      <td id=\"T_999bd_row11_col18\" class=\"data row11 col18\" >-0.05</td>\n      <td id=\"T_999bd_row11_col19\" class=\"data row11 col19\" >-0.00</td>\n      <td id=\"T_999bd_row11_col20\" class=\"data row11 col20\" >0.02</td>\n      <td id=\"T_999bd_row11_col21\" class=\"data row11 col21\" >-0.03</td>\n      <td id=\"T_999bd_row11_col22\" class=\"data row11 col22\" >0.09</td>\n      <td id=\"T_999bd_row11_col23\" class=\"data row11 col23\" >0.07</td>\n      <td id=\"T_999bd_row11_col24\" class=\"data row11 col24\" >0.01</td>\n    </tr>\n    <tr>\n      <th id=\"T_999bd_level0_row12\" class=\"row_heading level0 row12\" >ORIGIN_HourlyWindSpeed</th>\n      <td id=\"T_999bd_row12_col0\" class=\"data row12 col0\" >0.02</td>\n      <td id=\"T_999bd_row12_col1\" class=\"data row12 col1\" >0.03</td>\n      <td id=\"T_999bd_row12_col2\" class=\"data row12 col2\" >0.02</td>\n      <td id=\"T_999bd_row12_col3\" class=\"data row12 col3\" >-0.09</td>\n      <td id=\"T_999bd_row12_col4\" class=\"data row12 col4\" >0.02</td>\n      <td id=\"T_999bd_row12_col5\" class=\"data row12 col5\" >0.04</td>\n      <td id=\"T_999bd_row12_col6\" class=\"data row12 col6\" >-0.21</td>\n      <td id=\"T_999bd_row12_col7\" class=\"data row12 col7\" >-0.19</td>\n      <td id=\"T_999bd_row12_col8\" class=\"data row12 col8\" >-0.04</td>\n      <td id=\"T_999bd_row12_col9\" class=\"data row12 col9\" >0.05</td>\n      <td id=\"T_999bd_row12_col10\" class=\"data row12 col10\" >-0.04</td>\n      <td id=\"T_999bd_row12_col11\" class=\"data row12 col11\" >0.38</td>\n      <td id=\"T_999bd_row12_col12\" class=\"data row12 col12\" >1.00</td>\n      <td id=\"T_999bd_row12_col13\" class=\"data row12 col13\" >-0.01</td>\n      <td id=\"T_999bd_row12_col14\" class=\"data row12 col14\" >-0.05</td>\n      <td id=\"T_999bd_row12_col15\" class=\"data row12 col15\" >0.03</td>\n      <td id=\"T_999bd_row12_col16\" class=\"data row12 col16\" >0.01</td>\n      <td id=\"T_999bd_row12_col17\" class=\"data row12 col17\" >-0.14</td>\n      <td id=\"T_999bd_row12_col18\" class=\"data row12 col18\" >-0.05</td>\n      <td id=\"T_999bd_row12_col19\" class=\"data row12 col19\" >0.00</td>\n      <td id=\"T_999bd_row12_col20\" class=\"data row12 col20\" >0.02</td>\n      <td id=\"T_999bd_row12_col21\" class=\"data row12 col21\" >-0.01</td>\n      <td id=\"T_999bd_row12_col22\" class=\"data row12 col22\" >0.08</td>\n      <td id=\"T_999bd_row12_col23\" class=\"data row12 col23\" >0.20</td>\n      <td id=\"T_999bd_row12_col24\" class=\"data row12 col24\" >0.05</td>\n    </tr>\n    <tr>\n      <th id=\"T_999bd_level0_row13\" class=\"row_heading level0 row13\" >DEST_ELEVATION</th>\n      <td id=\"T_999bd_row13_col0\" class=\"data row13 col0\" >-0.07</td>\n      <td id=\"T_999bd_row13_col1\" class=\"data row13 col1\" >-0.06</td>\n      <td id=\"T_999bd_row13_col2\" class=\"data row13 col2\" >0.16</td>\n      <td id=\"T_999bd_row13_col3\" class=\"data row13 col3\" >-0.06</td>\n      <td id=\"T_999bd_row13_col4\" class=\"data row13 col4\" >-0.02</td>\n      <td id=\"T_999bd_row13_col5\" class=\"data row13 col5\" >-0.01</td>\n      <td id=\"T_999bd_row13_col6\" class=\"data row13 col6\" >-0.05</td>\n      <td id=\"T_999bd_row13_col7\" class=\"data row13 col7\" >-0.03</td>\n      <td id=\"T_999bd_row13_col8\" class=\"data row13 col8\" >-0.17</td>\n      <td id=\"T_999bd_row13_col9\" class=\"data row13 col9\" >0.01</td>\n      <td id=\"T_999bd_row13_col10\" class=\"data row13 col10\" >-0.05</td>\n      <td id=\"T_999bd_row13_col11\" class=\"data row13 col11\" >-0.00</td>\n      <td id=\"T_999bd_row13_col12\" class=\"data row13 col12\" >-0.01</td>\n      <td id=\"T_999bd_row13_col13\" class=\"data row13 col13\" >1.00</td>\n      <td id=\"T_999bd_row13_col14\" class=\"data row13 col14\" >-0.32</td>\n      <td id=\"T_999bd_row13_col15\" class=\"data row13 col15\" >-0.12</td>\n      <td id=\"T_999bd_row13_col16\" class=\"data row13 col16\" >-0.02</td>\n      <td id=\"T_999bd_row13_col17\" class=\"data row13 col17\" >-0.29</td>\n      <td id=\"T_999bd_row13_col18\" class=\"data row13 col18\" >-0.12</td>\n      <td id=\"T_999bd_row13_col19\" class=\"data row13 col19\" >-0.99</td>\n      <td id=\"T_999bd_row13_col20\" class=\"data row13 col20\" >0.03</td>\n      <td id=\"T_999bd_row13_col21\" class=\"data row13 col21\" >-0.25</td>\n      <td id=\"T_999bd_row13_col22\" class=\"data row13 col22\" >0.00</td>\n      <td id=\"T_999bd_row13_col23\" class=\"data row13 col23\" >0.03</td>\n      <td id=\"T_999bd_row13_col24\" class=\"data row13 col24\" >-0.01</td>\n    </tr>\n    <tr>\n      <th id=\"T_999bd_level0_row14\" class=\"row_heading level0 row14\" >DEST_HourlyDewPointTemperature</th>\n      <td id=\"T_999bd_row14_col0\" class=\"data row14 col0\" >0.02</td>\n      <td id=\"T_999bd_row14_col1\" class=\"data row14 col1\" >0.02</td>\n      <td id=\"T_999bd_row14_col2\" class=\"data row14 col2\" >-0.06</td>\n      <td id=\"T_999bd_row14_col3\" class=\"data row14 col3\" >0.55</td>\n      <td id=\"T_999bd_row14_col4\" class=\"data row14 col4\" >0.52</td>\n      <td id=\"T_999bd_row14_col5\" class=\"data row14 col5\" >0.03</td>\n      <td id=\"T_999bd_row14_col6\" class=\"data row14 col6\" >0.11</td>\n      <td id=\"T_999bd_row14_col7\" class=\"data row14 col7\" >-0.24</td>\n      <td id=\"T_999bd_row14_col8\" class=\"data row14 col8\" >0.03</td>\n      <td id=\"T_999bd_row14_col9\" class=\"data row14 col9\" >0.02</td>\n      <td id=\"T_999bd_row14_col10\" class=\"data row14 col10\" >0.57</td>\n      <td id=\"T_999bd_row14_col11\" class=\"data row14 col11\" >-0.05</td>\n      <td id=\"T_999bd_row14_col12\" class=\"data row14 col12\" >-0.05</td>\n      <td id=\"T_999bd_row14_col13\" class=\"data row14 col13\" >-0.32</td>\n      <td id=\"T_999bd_row14_col14\" class=\"data row14 col14\" >1.00</td>\n      <td id=\"T_999bd_row14_col15\" class=\"data row14 col15\" >0.77</td>\n      <td id=\"T_999bd_row14_col16\" class=\"data row14 col16\" >0.07</td>\n      <td id=\"T_999bd_row14_col17\" class=\"data row14 col17\" >0.43</td>\n      <td id=\"T_999bd_row14_col18\" class=\"data row14 col18\" >-0.29</td>\n      <td id=\"T_999bd_row14_col19\" class=\"data row14 col19\" >0.28</td>\n      <td id=\"T_999bd_row14_col20\" class=\"data row14 col20\" >-0.04</td>\n      <td id=\"T_999bd_row14_col21\" class=\"data row14 col21\" >0.94</td>\n      <td id=\"T_999bd_row14_col22\" class=\"data row14 col22\" >-0.12</td>\n      <td id=\"T_999bd_row14_col23\" class=\"data row14 col23\" >-0.10</td>\n      <td id=\"T_999bd_row14_col24\" class=\"data row14 col24\" >0.03</td>\n    </tr>\n    <tr>\n      <th id=\"T_999bd_level0_row15\" class=\"row_heading level0 row15\" >DEST_HourlyDryBulbTemperature</th>\n      <td id=\"T_999bd_row15_col0\" class=\"data row15 col0\" >0.03</td>\n      <td id=\"T_999bd_row15_col1\" class=\"data row15 col1\" >0.02</td>\n      <td id=\"T_999bd_row15_col2\" class=\"data row15 col2\" >-0.02</td>\n      <td id=\"T_999bd_row15_col3\" class=\"data row15 col3\" >0.53</td>\n      <td id=\"T_999bd_row15_col4\" class=\"data row15 col4\" >0.63</td>\n      <td id=\"T_999bd_row15_col5\" class=\"data row15 col5\" >0.02</td>\n      <td id=\"T_999bd_row15_col6\" class=\"data row15 col6\" >-0.08</td>\n      <td id=\"T_999bd_row15_col7\" class=\"data row15 col7\" >-0.27</td>\n      <td id=\"T_999bd_row15_col8\" class=\"data row15 col8\" >-0.01</td>\n      <td id=\"T_999bd_row15_col9\" class=\"data row15 col9\" >0.07</td>\n      <td id=\"T_999bd_row15_col10\" class=\"data row15 col10\" >0.61</td>\n      <td id=\"T_999bd_row15_col11\" class=\"data row15 col11\" >-0.01</td>\n      <td id=\"T_999bd_row15_col12\" class=\"data row15 col12\" >0.03</td>\n      <td id=\"T_999bd_row15_col13\" class=\"data row15 col13\" >-0.12</td>\n      <td id=\"T_999bd_row15_col14\" class=\"data row15 col14\" >0.77</td>\n      <td id=\"T_999bd_row15_col15\" class=\"data row15 col15\" >1.00</td>\n      <td id=\"T_999bd_row15_col16\" class=\"data row15 col16\" >-0.01</td>\n      <td id=\"T_999bd_row15_col17\" class=\"data row15 col17\" >-0.21</td>\n      <td id=\"T_999bd_row15_col18\" class=\"data row15 col18\" >-0.40</td>\n      <td id=\"T_999bd_row15_col19\" class=\"data row15 col19\" >0.08</td>\n      <td id=\"T_999bd_row15_col20\" class=\"data row15 col20\" >0.14</td>\n      <td id=\"T_999bd_row15_col21\" class=\"data row15 col21\" >0.94</td>\n      <td id=\"T_999bd_row15_col22\" class=\"data row15 col22\" >-0.05</td>\n      <td id=\"T_999bd_row15_col23\" class=\"data row15 col23\" >0.01</td>\n      <td id=\"T_999bd_row15_col24\" class=\"data row15 col24\" >0.03</td>\n    </tr>\n    <tr>\n      <th id=\"T_999bd_level0_row16\" class=\"row_heading level0 row16\" >DEST_HourlyPrecipitation</th>\n      <td id=\"T_999bd_row16_col0\" class=\"data row16 col0\" >-0.00</td>\n      <td id=\"T_999bd_row16_col1\" class=\"data row16 col1\" >0.00</td>\n      <td id=\"T_999bd_row16_col2\" class=\"data row16 col2\" >-0.01</td>\n      <td id=\"T_999bd_row16_col3\" class=\"data row16 col3\" >0.03</td>\n      <td id=\"T_999bd_row16_col4\" class=\"data row16 col4\" >0.01</td>\n      <td id=\"T_999bd_row16_col5\" class=\"data row16 col5\" >0.02</td>\n      <td id=\"T_999bd_row16_col6\" class=\"data row16 col6\" >0.02</td>\n      <td id=\"T_999bd_row16_col7\" class=\"data row16 col7\" >-0.02</td>\n      <td id=\"T_999bd_row16_col8\" class=\"data row16 col8\" >0.01</td>\n      <td id=\"T_999bd_row16_col9\" class=\"data row16 col9\" >-0.02</td>\n      <td id=\"T_999bd_row16_col10\" class=\"data row16 col10\" >0.02</td>\n      <td id=\"T_999bd_row16_col11\" class=\"data row16 col11\" >-0.00</td>\n      <td id=\"T_999bd_row16_col12\" class=\"data row16 col12\" >0.01</td>\n      <td id=\"T_999bd_row16_col13\" class=\"data row16 col13\" >-0.02</td>\n      <td id=\"T_999bd_row16_col14\" class=\"data row16 col14\" >0.07</td>\n      <td id=\"T_999bd_row16_col15\" class=\"data row16 col15\" >-0.01</td>\n      <td id=\"T_999bd_row16_col16\" class=\"data row16 col16\" >1.00</td>\n      <td id=\"T_999bd_row16_col17\" class=\"data row16 col17\" >0.14</td>\n      <td id=\"T_999bd_row16_col18\" class=\"data row16 col18\" >-0.06</td>\n      <td id=\"T_999bd_row16_col19\" class=\"data row16 col19\" >0.01</td>\n      <td id=\"T_999bd_row16_col20\" class=\"data row16 col20\" >-0.29</td>\n      <td id=\"T_999bd_row16_col21\" class=\"data row16 col21\" >0.04</td>\n      <td id=\"T_999bd_row16_col22\" class=\"data row16 col22\" >-0.02</td>\n      <td id=\"T_999bd_row16_col23\" class=\"data row16 col23\" >0.04</td>\n      <td id=\"T_999bd_row16_col24\" class=\"data row16 col24\" >0.04</td>\n    </tr>\n    <tr>\n      <th id=\"T_999bd_level0_row17\" class=\"row_heading level0 row17\" >DEST_HourlyRelativeHumidity</th>\n      <td id=\"T_999bd_row17_col0\" class=\"data row17 col0\" >0.00</td>\n      <td id=\"T_999bd_row17_col1\" class=\"data row17 col1\" >0.00</td>\n      <td id=\"T_999bd_row17_col2\" class=\"data row17 col2\" >-0.05</td>\n      <td id=\"T_999bd_row17_col3\" class=\"data row17 col3\" >0.10</td>\n      <td id=\"T_999bd_row17_col4\" class=\"data row17 col4\" >-0.09</td>\n      <td id=\"T_999bd_row17_col5\" class=\"data row17 col5\" >0.02</td>\n      <td id=\"T_999bd_row17_col6\" class=\"data row17 col6\" >0.31</td>\n      <td id=\"T_999bd_row17_col7\" class=\"data row17 col7\" >-0.00</td>\n      <td id=\"T_999bd_row17_col8\" class=\"data row17 col8\" >0.05</td>\n      <td id=\"T_999bd_row17_col9\" class=\"data row17 col9\" >-0.10</td>\n      <td id=\"T_999bd_row17_col10\" class=\"data row17 col10\" >0.01</td>\n      <td id=\"T_999bd_row17_col11\" class=\"data row17 col11\" >-0.07</td>\n      <td id=\"T_999bd_row17_col12\" class=\"data row17 col12\" >-0.14</td>\n      <td id=\"T_999bd_row17_col13\" class=\"data row17 col13\" >-0.29</td>\n      <td id=\"T_999bd_row17_col14\" class=\"data row17 col14\" >0.43</td>\n      <td id=\"T_999bd_row17_col15\" class=\"data row17 col15\" >-0.21</td>\n      <td id=\"T_999bd_row17_col16\" class=\"data row17 col16\" >0.14</td>\n      <td id=\"T_999bd_row17_col17\" class=\"data row17 col17\" >1.00</td>\n      <td id=\"T_999bd_row17_col18\" class=\"data row17 col18\" >0.06</td>\n      <td id=\"T_999bd_row17_col19\" class=\"data row17 col19\" >0.29</td>\n      <td id=\"T_999bd_row17_col20\" class=\"data row17 col20\" >-0.35</td>\n      <td id=\"T_999bd_row17_col21\" class=\"data row17 col21\" >0.13</td>\n      <td id=\"T_999bd_row17_col22\" class=\"data row17 col22\" >-0.14</td>\n      <td id=\"T_999bd_row17_col23\" class=\"data row17 col23\" >-0.21</td>\n      <td id=\"T_999bd_row17_col24\" class=\"data row17 col24\" >0.01</td>\n    </tr>\n    <tr>\n      <th id=\"T_999bd_level0_row18\" class=\"row_heading level0 row18\" >DEST_HourlySeaLevelPressure</th>\n      <td id=\"T_999bd_row18_col0\" class=\"data row18 col0\" >-0.03</td>\n      <td id=\"T_999bd_row18_col1\" class=\"data row18 col1\" >-0.04</td>\n      <td id=\"T_999bd_row18_col2\" class=\"data row18 col2\" >-0.03</td>\n      <td id=\"T_999bd_row18_col3\" class=\"data row18 col3\" >-0.24</td>\n      <td id=\"T_999bd_row18_col4\" class=\"data row18 col4\" >-0.27</td>\n      <td id=\"T_999bd_row18_col5\" class=\"data row18 col5\" >-0.02</td>\n      <td id=\"T_999bd_row18_col6\" class=\"data row18 col6\" >-0.01</td>\n      <td id=\"T_999bd_row18_col7\" class=\"data row18 col7\" >0.51</td>\n      <td id=\"T_999bd_row18_col8\" class=\"data row18 col8\" >0.10</td>\n      <td id=\"T_999bd_row18_col9\" class=\"data row18 col9\" >-0.00</td>\n      <td id=\"T_999bd_row18_col10\" class=\"data row18 col10\" >-0.27</td>\n      <td id=\"T_999bd_row18_col11\" class=\"data row18 col11\" >-0.05</td>\n      <td id=\"T_999bd_row18_col12\" class=\"data row18 col12\" >-0.05</td>\n      <td id=\"T_999bd_row18_col13\" class=\"data row18 col13\" >-0.12</td>\n      <td id=\"T_999bd_row18_col14\" class=\"data row18 col14\" >-0.29</td>\n      <td id=\"T_999bd_row18_col15\" class=\"data row18 col15\" >-0.40</td>\n      <td id=\"T_999bd_row18_col16\" class=\"data row18 col16\" >-0.06</td>\n      <td id=\"T_999bd_row18_col17\" class=\"data row18 col17\" >0.06</td>\n      <td id=\"T_999bd_row18_col18\" class=\"data row18 col18\" >1.00</td>\n      <td id=\"T_999bd_row18_col19\" class=\"data row18 col19\" >0.25</td>\n      <td id=\"T_999bd_row18_col20\" class=\"data row18 col20\" >0.05</td>\n      <td id=\"T_999bd_row18_col21\" class=\"data row18 col21\" >-0.36</td>\n      <td id=\"T_999bd_row18_col22\" class=\"data row18 col22\" >-0.11</td>\n      <td id=\"T_999bd_row18_col23\" class=\"data row18 col23\" >-0.19</td>\n      <td id=\"T_999bd_row18_col24\" class=\"data row18 col24\" >-0.04</td>\n    </tr>\n    <tr>\n      <th id=\"T_999bd_level0_row19\" class=\"row_heading level0 row19\" >DEST_HourlyStationPressure</th>\n      <td id=\"T_999bd_row19_col0\" class=\"data row19 col0\" >0.06</td>\n      <td id=\"T_999bd_row19_col1\" class=\"data row19 col1\" >0.05</td>\n      <td id=\"T_999bd_row19_col2\" class=\"data row19 col2\" >-0.17</td>\n      <td id=\"T_999bd_row19_col3\" class=\"data row19 col3\" >0.03</td>\n      <td id=\"T_999bd_row19_col4\" class=\"data row19 col4\" >-0.01</td>\n      <td id=\"T_999bd_row19_col5\" class=\"data row19 col5\" >0.01</td>\n      <td id=\"T_999bd_row19_col6\" class=\"data row19 col6\" >0.05</td>\n      <td id=\"T_999bd_row19_col7\" class=\"data row19 col7\" >0.10</td>\n      <td id=\"T_999bd_row19_col8\" class=\"data row19 col8\" >0.18</td>\n      <td id=\"T_999bd_row19_col9\" class=\"data row19 col9\" >-0.00</td>\n      <td id=\"T_999bd_row19_col10\" class=\"data row19 col10\" >0.02</td>\n      <td id=\"T_999bd_row19_col11\" class=\"data row19 col11\" >-0.00</td>\n      <td id=\"T_999bd_row19_col12\" class=\"data row19 col12\" >0.00</td>\n      <td id=\"T_999bd_row19_col13\" class=\"data row19 col13\" >-0.99</td>\n      <td id=\"T_999bd_row19_col14\" class=\"data row19 col14\" >0.28</td>\n      <td id=\"T_999bd_row19_col15\" class=\"data row19 col15\" >0.08</td>\n      <td id=\"T_999bd_row19_col16\" class=\"data row19 col16\" >0.01</td>\n      <td id=\"T_999bd_row19_col17\" class=\"data row19 col17\" >0.29</td>\n      <td id=\"T_999bd_row19_col18\" class=\"data row19 col18\" >0.25</td>\n      <td id=\"T_999bd_row19_col19\" class=\"data row19 col19\" >1.00</td>\n      <td id=\"T_999bd_row19_col20\" class=\"data row19 col20\" >-0.01</td>\n      <td id=\"T_999bd_row19_col21\" class=\"data row19 col21\" >0.20</td>\n      <td id=\"T_999bd_row19_col22\" class=\"data row19 col22\" >-0.02</td>\n      <td id=\"T_999bd_row19_col23\" class=\"data row19 col23\" >-0.05</td>\n      <td id=\"T_999bd_row19_col24\" class=\"data row19 col24\" >0.01</td>\n    </tr>\n    <tr>\n      <th id=\"T_999bd_level0_row20\" class=\"row_heading level0 row20\" >DEST_HourlyVisibility</th>\n      <td id=\"T_999bd_row20_col0\" class=\"data row20 col0\" >0.01</td>\n      <td id=\"T_999bd_row20_col1\" class=\"data row20 col1\" >-0.00</td>\n      <td id=\"T_999bd_row20_col2\" class=\"data row20 col2\" >0.01</td>\n      <td id=\"T_999bd_row20_col3\" class=\"data row20 col3\" >0.02</td>\n      <td id=\"T_999bd_row20_col4\" class=\"data row20 col4\" >0.08</td>\n      <td id=\"T_999bd_row20_col5\" class=\"data row20 col5\" >-0.02</td>\n      <td id=\"T_999bd_row20_col6\" class=\"data row20 col6\" >-0.10</td>\n      <td id=\"T_999bd_row20_col7\" class=\"data row20 col7\" >-0.00</td>\n      <td id=\"T_999bd_row20_col8\" class=\"data row20 col8\" >-0.01</td>\n      <td id=\"T_999bd_row20_col9\" class=\"data row20 col9\" >0.10</td>\n      <td id=\"T_999bd_row20_col10\" class=\"data row20 col10\" >0.05</td>\n      <td id=\"T_999bd_row20_col11\" class=\"data row20 col11\" >0.02</td>\n      <td id=\"T_999bd_row20_col12\" class=\"data row20 col12\" >0.02</td>\n      <td id=\"T_999bd_row20_col13\" class=\"data row20 col13\" >0.03</td>\n      <td id=\"T_999bd_row20_col14\" class=\"data row20 col14\" >-0.04</td>\n      <td id=\"T_999bd_row20_col15\" class=\"data row20 col15\" >0.14</td>\n      <td id=\"T_999bd_row20_col16\" class=\"data row20 col16\" >-0.29</td>\n      <td id=\"T_999bd_row20_col17\" class=\"data row20 col17\" >-0.35</td>\n      <td id=\"T_999bd_row20_col18\" class=\"data row20 col18\" >0.05</td>\n      <td id=\"T_999bd_row20_col19\" class=\"data row20 col19\" >-0.01</td>\n      <td id=\"T_999bd_row20_col20\" class=\"data row20 col20\" >1.00</td>\n      <td id=\"T_999bd_row20_col21\" class=\"data row20 col21\" >0.05</td>\n      <td id=\"T_999bd_row20_col22\" class=\"data row20 col22\" >0.07</td>\n      <td id=\"T_999bd_row20_col23\" class=\"data row20 col23\" >0.05</td>\n      <td id=\"T_999bd_row20_col24\" class=\"data row20 col24\" >-0.04</td>\n    </tr>\n    <tr>\n      <th id=\"T_999bd_level0_row21\" class=\"row_heading level0 row21\" >DEST_HourlyWetBulbTemperature</th>\n      <td id=\"T_999bd_row21_col0\" class=\"data row21 col0\" >0.03</td>\n      <td id=\"T_999bd_row21_col1\" class=\"data row21 col1\" >0.02</td>\n      <td id=\"T_999bd_row21_col2\" class=\"data row21 col2\" >-0.05</td>\n      <td id=\"T_999bd_row21_col3\" class=\"data row21 col3\" >0.57</td>\n      <td id=\"T_999bd_row21_col4\" class=\"data row21 col4\" >0.61</td>\n      <td id=\"T_999bd_row21_col5\" class=\"data row21 col5\" >0.02</td>\n      <td id=\"T_999bd_row21_col6\" class=\"data row21 col6\" >0.02</td>\n      <td id=\"T_999bd_row21_col7\" class=\"data row21 col7\" >-0.27</td>\n      <td id=\"T_999bd_row21_col8\" class=\"data row21 col8\" >0.02</td>\n      <td id=\"T_999bd_row21_col9\" class=\"data row21 col9\" >0.05</td>\n      <td id=\"T_999bd_row21_col10\" class=\"data row21 col10\" >0.62</td>\n      <td id=\"T_999bd_row21_col11\" class=\"data row21 col11\" >-0.03</td>\n      <td id=\"T_999bd_row21_col12\" class=\"data row21 col12\" >-0.01</td>\n      <td id=\"T_999bd_row21_col13\" class=\"data row21 col13\" >-0.25</td>\n      <td id=\"T_999bd_row21_col14\" class=\"data row21 col14\" >0.94</td>\n      <td id=\"T_999bd_row21_col15\" class=\"data row21 col15\" >0.94</td>\n      <td id=\"T_999bd_row21_col16\" class=\"data row21 col16\" >0.04</td>\n      <td id=\"T_999bd_row21_col17\" class=\"data row21 col17\" >0.13</td>\n      <td id=\"T_999bd_row21_col18\" class=\"data row21 col18\" >-0.36</td>\n      <td id=\"T_999bd_row21_col19\" class=\"data row21 col19\" >0.20</td>\n      <td id=\"T_999bd_row21_col20\" class=\"data row21 col20\" >0.05</td>\n      <td id=\"T_999bd_row21_col21\" class=\"data row21 col21\" >1.00</td>\n      <td id=\"T_999bd_row21_col22\" class=\"data row21 col22\" >-0.10</td>\n      <td id=\"T_999bd_row21_col23\" class=\"data row21 col23\" >-0.05</td>\n      <td id=\"T_999bd_row21_col24\" class=\"data row21 col24\" >0.03</td>\n    </tr>\n    <tr>\n      <th id=\"T_999bd_level0_row22\" class=\"row_heading level0 row22\" >DEST_HourlyWindDirection</th>\n      <td id=\"T_999bd_row22_col0\" class=\"data row22 col0\" >0.01</td>\n      <td id=\"T_999bd_row22_col1\" class=\"data row22 col1\" >0.01</td>\n      <td id=\"T_999bd_row22_col2\" class=\"data row22 col2\" >-0.00</td>\n      <td id=\"T_999bd_row22_col3\" class=\"data row22 col3\" >-0.05</td>\n      <td id=\"T_999bd_row22_col4\" class=\"data row22 col4\" >-0.01</td>\n      <td id=\"T_999bd_row22_col5\" class=\"data row22 col5\" >-0.00</td>\n      <td id=\"T_999bd_row22_col6\" class=\"data row22 col6\" >-0.07</td>\n      <td id=\"T_999bd_row22_col7\" class=\"data row22 col7\" >-0.06</td>\n      <td id=\"T_999bd_row22_col8\" class=\"data row22 col8\" >-0.01</td>\n      <td id=\"T_999bd_row22_col9\" class=\"data row22 col9\" >0.02</td>\n      <td id=\"T_999bd_row22_col10\" class=\"data row22 col10\" >-0.03</td>\n      <td id=\"T_999bd_row22_col11\" class=\"data row22 col11\" >0.09</td>\n      <td id=\"T_999bd_row22_col12\" class=\"data row22 col12\" >0.08</td>\n      <td id=\"T_999bd_row22_col13\" class=\"data row22 col13\" >0.00</td>\n      <td id=\"T_999bd_row22_col14\" class=\"data row22 col14\" >-0.12</td>\n      <td id=\"T_999bd_row22_col15\" class=\"data row22 col15\" >-0.05</td>\n      <td id=\"T_999bd_row22_col16\" class=\"data row22 col16\" >-0.02</td>\n      <td id=\"T_999bd_row22_col17\" class=\"data row22 col17\" >-0.14</td>\n      <td id=\"T_999bd_row22_col18\" class=\"data row22 col18\" >-0.11</td>\n      <td id=\"T_999bd_row22_col19\" class=\"data row22 col19\" >-0.02</td>\n      <td id=\"T_999bd_row22_col20\" class=\"data row22 col20\" >0.07</td>\n      <td id=\"T_999bd_row22_col21\" class=\"data row22 col21\" >-0.10</td>\n      <td id=\"T_999bd_row22_col22\" class=\"data row22 col22\" >1.00</td>\n      <td id=\"T_999bd_row22_col23\" class=\"data row22 col23\" >0.38</td>\n      <td id=\"T_999bd_row22_col24\" class=\"data row22 col24\" >0.01</td>\n    </tr>\n    <tr>\n      <th id=\"T_999bd_level0_row23\" class=\"row_heading level0 row23\" >DEST_HourlyWindSpeed</th>\n      <td id=\"T_999bd_row23_col0\" class=\"data row23 col0\" >0.03</td>\n      <td id=\"T_999bd_row23_col1\" class=\"data row23 col1\" >0.03</td>\n      <td id=\"T_999bd_row23_col2\" class=\"data row23 col2\" >-0.01</td>\n      <td id=\"T_999bd_row23_col3\" class=\"data row23 col3\" >-0.05</td>\n      <td id=\"T_999bd_row23_col4\" class=\"data row23 col4\" >0.04</td>\n      <td id=\"T_999bd_row23_col5\" class=\"data row23 col5\" >0.01</td>\n      <td id=\"T_999bd_row23_col6\" class=\"data row23 col6\" >-0.14</td>\n      <td id=\"T_999bd_row23_col7\" class=\"data row23 col7\" >-0.05</td>\n      <td id=\"T_999bd_row23_col8\" class=\"data row23 col8\" >0.00</td>\n      <td id=\"T_999bd_row23_col9\" class=\"data row23 col9\" >0.02</td>\n      <td id=\"T_999bd_row23_col10\" class=\"data row23 col10\" >-0.01</td>\n      <td id=\"T_999bd_row23_col11\" class=\"data row23 col11\" >0.07</td>\n      <td id=\"T_999bd_row23_col12\" class=\"data row23 col12\" >0.20</td>\n      <td id=\"T_999bd_row23_col13\" class=\"data row23 col13\" >0.03</td>\n      <td id=\"T_999bd_row23_col14\" class=\"data row23 col14\" >-0.10</td>\n      <td id=\"T_999bd_row23_col15\" class=\"data row23 col15\" >0.01</td>\n      <td id=\"T_999bd_row23_col16\" class=\"data row23 col16\" >0.04</td>\n      <td id=\"T_999bd_row23_col17\" class=\"data row23 col17\" >-0.21</td>\n      <td id=\"T_999bd_row23_col18\" class=\"data row23 col18\" >-0.19</td>\n      <td id=\"T_999bd_row23_col19\" class=\"data row23 col19\" >-0.05</td>\n      <td id=\"T_999bd_row23_col20\" class=\"data row23 col20\" >0.05</td>\n      <td id=\"T_999bd_row23_col21\" class=\"data row23 col21\" >-0.05</td>\n      <td id=\"T_999bd_row23_col22\" class=\"data row23 col22\" >0.38</td>\n      <td id=\"T_999bd_row23_col23\" class=\"data row23 col23\" >1.00</td>\n      <td id=\"T_999bd_row23_col24\" class=\"data row23 col24\" >0.05</td>\n    </tr>\n    <tr>\n      <th id=\"T_999bd_level0_row24\" class=\"row_heading level0 row24\" >ARR_DELAY_NEW</th>\n      <td id=\"T_999bd_row24_col0\" class=\"data row24 col0\" >0.01</td>\n      <td id=\"T_999bd_row24_col1\" class=\"data row24 col1\" >0.02</td>\n      <td id=\"T_999bd_row24_col2\" class=\"data row24 col2\" >-0.01</td>\n      <td id=\"T_999bd_row24_col3\" class=\"data row24 col3\" >0.03</td>\n      <td id=\"T_999bd_row24_col4\" class=\"data row24 col4\" >0.03</td>\n      <td id=\"T_999bd_row24_col5\" class=\"data row24 col5\" >0.05</td>\n      <td id=\"T_999bd_row24_col6\" class=\"data row24 col6\" >0.01</td>\n      <td id=\"T_999bd_row24_col7\" class=\"data row24 col7\" >-0.04</td>\n      <td id=\"T_999bd_row24_col8\" class=\"data row24 col8\" >0.00</td>\n      <td id=\"T_999bd_row24_col9\" class=\"data row24 col9\" >-0.05</td>\n      <td id=\"T_999bd_row24_col10\" class=\"data row24 col10\" >0.03</td>\n      <td id=\"T_999bd_row24_col11\" class=\"data row24 col11\" >0.01</td>\n      <td id=\"T_999bd_row24_col12\" class=\"data row24 col12\" >0.05</td>\n      <td id=\"T_999bd_row24_col13\" class=\"data row24 col13\" >-0.01</td>\n      <td id=\"T_999bd_row24_col14\" class=\"data row24 col14\" >0.03</td>\n      <td id=\"T_999bd_row24_col15\" class=\"data row24 col15\" >0.03</td>\n      <td id=\"T_999bd_row24_col16\" class=\"data row24 col16\" >0.04</td>\n      <td id=\"T_999bd_row24_col17\" class=\"data row24 col17\" >0.01</td>\n      <td id=\"T_999bd_row24_col18\" class=\"data row24 col18\" >-0.04</td>\n      <td id=\"T_999bd_row24_col19\" class=\"data row24 col19\" >0.01</td>\n      <td id=\"T_999bd_row24_col20\" class=\"data row24 col20\" >-0.04</td>\n      <td id=\"T_999bd_row24_col21\" class=\"data row24 col21\" >0.03</td>\n      <td id=\"T_999bd_row24_col22\" class=\"data row24 col22\" >0.01</td>\n      <td id=\"T_999bd_row24_col23\" class=\"data row24 col23\" >0.05</td>\n      <td id=\"T_999bd_row24_col24\" class=\"data row24 col24\" >1.00</td>\n    </tr>\n  </tbody>\n</table>\n"
            ]
          }
        }
      ],
      "execution_count": null
    },
    {
      "cell_type": "code",
      "source": [
        "corr_matrix(data.select('ORIGIN_Weather_Departure_Time_Diff_Min', 'DEST_Weather_Departure_Time_Diff_Min', 'Tail_Previous_Arrival_Diff_Mins', 'Tail_Previous_Arrival_Delay', 'ORIGIN_IN_DEGREE', 'ORIGIN_OUT_DEGREE', 'ARR_DELAY_NEW'))"
      ],
      "metadata": {
        "application/vnd.databricks.v1+cell": {
          "showTitle": true,
          "cellMetadata": {},
          "nuid": "11219185-b256-42c3-9cc5-0b0988d95893",
          "inputWidgets": {},
          "title": "Pearson Correlation Matrix - Engineered Numeric Features"
        },
        "id": "YMM5GNDwP22V",
        "outputId": "aac4734a-5c35-4e3e-ec3d-f292027112bb"
      },
      "outputs": [
        {
          "output_type": "display_data",
          "metadata": {
            "application/vnd.databricks.v1+output": {
              "datasetInfos": [],
              "data": "<command-1215577238255373>:12: FutureWarning: this method is deprecated in favour of `Styler.format(precision=..)`\n  return corr_matrix_df.style.background_gradient(cmap='coolwarm').set_precision(2)\n",
              "removedWidgets": [],
              "addedWidgets": {},
              "metadata": {},
              "type": "ansi",
              "arguments": {}
            }
          },
          "data": {
            "text/plain": [
              "<command-1215577238255373>:12: FutureWarning: this method is deprecated in favour of `Styler.format(precision=..)`\n  return corr_matrix_df.style.background_gradient(cmap='coolwarm').set_precision(2)\n"
            ]
          }
        },
        {
          "output_type": "display_data",
          "metadata": {
            "application/vnd.databricks.v1+output": {
              "datasetInfos": [],
              "data": "<style type=\"text/css\">\n#T_2e7b1_row0_col0, #T_2e7b1_row0_col1, #T_2e7b1_row1_col0, #T_2e7b1_row1_col1, #T_2e7b1_row2_col2, #T_2e7b1_row3_col3, #T_2e7b1_row4_col4, #T_2e7b1_row4_col5, #T_2e7b1_row5_col4, #T_2e7b1_row5_col5, #T_2e7b1_row6_col6 {\n  background-color: #b40426;\n  color: #f1f1f1;\n}\n#T_2e7b1_row0_col2, #T_2e7b1_row0_col3, #T_2e7b1_row0_col6, #T_2e7b1_row1_col2, #T_2e7b1_row1_col3, #T_2e7b1_row1_col6, #T_2e7b1_row3_col0, #T_2e7b1_row3_col1, #T_2e7b1_row3_col4, #T_2e7b1_row3_col5, #T_2e7b1_row4_col2, #T_2e7b1_row5_col2, #T_2e7b1_row6_col4, #T_2e7b1_row6_col5 {\n  background-color: #3b4cc0;\n  color: #f1f1f1;\n}\n#T_2e7b1_row0_col4, #T_2e7b1_row0_col5, #T_2e7b1_row1_col4, #T_2e7b1_row1_col5, #T_2e7b1_row6_col0, #T_2e7b1_row6_col1 {\n  background-color: #3f53c6;\n  color: #f1f1f1;\n}\n#T_2e7b1_row2_col0, #T_2e7b1_row2_col1 {\n  background-color: #455cce;\n  color: #f1f1f1;\n}\n#T_2e7b1_row2_col3, #T_2e7b1_row4_col0, #T_2e7b1_row4_col1, #T_2e7b1_row5_col0, #T_2e7b1_row5_col1 {\n  background-color: #485fd1;\n  color: #f1f1f1;\n}\n#T_2e7b1_row2_col4, #T_2e7b1_row2_col5, #T_2e7b1_row6_col2 {\n  background-color: #3c4ec2;\n  color: #f1f1f1;\n}\n#T_2e7b1_row2_col6 {\n  background-color: #4055c8;\n  color: #f1f1f1;\n}\n#T_2e7b1_row3_col2 {\n  background-color: #3d50c3;\n  color: #f1f1f1;\n}\n#T_2e7b1_row3_col6 {\n  background-color: #92b4fe;\n  color: #000000;\n}\n#T_2e7b1_row4_col3, #T_2e7b1_row5_col3 {\n  background-color: #445acc;\n  color: #f1f1f1;\n}\n#T_2e7b1_row4_col6, #T_2e7b1_row5_col6 {\n  background-color: #3e51c5;\n  color: #f1f1f1;\n}\n#T_2e7b1_row6_col3 {\n  background-color: #97b8ff;\n  color: #000000;\n}\n</style>\n<table id=\"T_2e7b1_\">\n  <thead>\n    <tr>\n      <th class=\"blank level0\" >&nbsp;</th>\n      <th class=\"col_heading level0 col0\" >ORIGIN_Weather_Departure_Time_Diff_Min</th>\n      <th class=\"col_heading level0 col1\" >DEST_Weather_Departure_Time_Diff_Min</th>\n      <th class=\"col_heading level0 col2\" >Tail_Previous_Arrival_Diff_Mins</th>\n      <th class=\"col_heading level0 col3\" >Tail_Previous_Arrival_Delay</th>\n      <th class=\"col_heading level0 col4\" >ORIGIN_IN_DEGREE</th>\n      <th class=\"col_heading level0 col5\" >ORIGIN_OUT_DEGREE</th>\n      <th class=\"col_heading level0 col6\" >ARR_DELAY_NEW</th>\n    </tr>\n  </thead>\n  <tbody>\n    <tr>\n      <th id=\"T_2e7b1_level0_row0\" class=\"row_heading level0 row0\" >ORIGIN_Weather_Departure_Time_Diff_Min</th>\n      <td id=\"T_2e7b1_row0_col0\" class=\"data row0 col0\" >1.00</td>\n      <td id=\"T_2e7b1_row0_col1\" class=\"data row0 col1\" >1.00</td>\n      <td id=\"T_2e7b1_row0_col2\" class=\"data row0 col2\" >0.00</td>\n      <td id=\"T_2e7b1_row0_col3\" class=\"data row0 col3\" >-0.03</td>\n      <td id=\"T_2e7b1_row0_col4\" class=\"data row0 col4\" >0.01</td>\n      <td id=\"T_2e7b1_row0_col5\" class=\"data row0 col5\" >0.01</td>\n      <td id=\"T_2e7b1_row0_col6\" class=\"data row0 col6\" >-0.01</td>\n    </tr>\n    <tr>\n      <th id=\"T_2e7b1_level0_row1\" class=\"row_heading level0 row1\" >DEST_Weather_Departure_Time_Diff_Min</th>\n      <td id=\"T_2e7b1_row1_col0\" class=\"data row1 col0\" >1.00</td>\n      <td id=\"T_2e7b1_row1_col1\" class=\"data row1 col1\" >1.00</td>\n      <td id=\"T_2e7b1_row1_col2\" class=\"data row1 col2\" >0.00</td>\n      <td id=\"T_2e7b1_row1_col3\" class=\"data row1 col3\" >-0.03</td>\n      <td id=\"T_2e7b1_row1_col4\" class=\"data row1 col4\" >0.01</td>\n      <td id=\"T_2e7b1_row1_col5\" class=\"data row1 col5\" >0.01</td>\n      <td id=\"T_2e7b1_row1_col6\" class=\"data row1 col6\" >-0.01</td>\n    </tr>\n    <tr>\n      <th id=\"T_2e7b1_level0_row2\" class=\"row_heading level0 row2\" >Tail_Previous_Arrival_Diff_Mins</th>\n      <td id=\"T_2e7b1_row2_col0\" class=\"data row2 col0\" >0.00</td>\n      <td id=\"T_2e7b1_row2_col1\" class=\"data row2 col1\" >0.00</td>\n      <td id=\"T_2e7b1_row2_col2\" class=\"data row2 col2\" >1.00</td>\n      <td id=\"T_2e7b1_row2_col3\" class=\"data row2 col3\" >0.01</td>\n      <td id=\"T_2e7b1_row2_col4\" class=\"data row2 col4\" >0.00</td>\n      <td id=\"T_2e7b1_row2_col5\" class=\"data row2 col5\" >0.00</td>\n      <td id=\"T_2e7b1_row2_col6\" class=\"data row2 col6\" >0.01</td>\n    </tr>\n    <tr>\n      <th id=\"T_2e7b1_level0_row3\" class=\"row_heading level0 row3\" >Tail_Previous_Arrival_Delay</th>\n      <td id=\"T_2e7b1_row3_col0\" class=\"data row3 col0\" >-0.03</td>\n      <td id=\"T_2e7b1_row3_col1\" class=\"data row3 col1\" >-0.03</td>\n      <td id=\"T_2e7b1_row3_col2\" class=\"data row3 col2\" >0.01</td>\n      <td id=\"T_2e7b1_row3_col3\" class=\"data row3 col3\" >1.00</td>\n      <td id=\"T_2e7b1_row3_col4\" class=\"data row3 col4\" >0.00</td>\n      <td id=\"T_2e7b1_row3_col5\" class=\"data row3 col5\" >0.00</td>\n      <td id=\"T_2e7b1_row3_col6\" class=\"data row3 col6\" >0.25</td>\n    </tr>\n    <tr>\n      <th id=\"T_2e7b1_level0_row4\" class=\"row_heading level0 row4\" >ORIGIN_IN_DEGREE</th>\n      <td id=\"T_2e7b1_row4_col0\" class=\"data row4 col0\" >0.01</td>\n      <td id=\"T_2e7b1_row4_col1\" class=\"data row4 col1\" >0.01</td>\n      <td id=\"T_2e7b1_row4_col2\" class=\"data row4 col2\" >0.00</td>\n      <td id=\"T_2e7b1_row4_col3\" class=\"data row4 col3\" >0.00</td>\n      <td id=\"T_2e7b1_row4_col4\" class=\"data row4 col4\" >1.00</td>\n      <td id=\"T_2e7b1_row4_col5\" class=\"data row4 col5\" >1.00</td>\n      <td id=\"T_2e7b1_row4_col6\" class=\"data row4 col6\" >-0.00</td>\n    </tr>\n    <tr>\n      <th id=\"T_2e7b1_level0_row5\" class=\"row_heading level0 row5\" >ORIGIN_OUT_DEGREE</th>\n      <td id=\"T_2e7b1_row5_col0\" class=\"data row5 col0\" >0.01</td>\n      <td id=\"T_2e7b1_row5_col1\" class=\"data row5 col1\" >0.01</td>\n      <td id=\"T_2e7b1_row5_col2\" class=\"data row5 col2\" >0.00</td>\n      <td id=\"T_2e7b1_row5_col3\" class=\"data row5 col3\" >0.00</td>\n      <td id=\"T_2e7b1_row5_col4\" class=\"data row5 col4\" >1.00</td>\n      <td id=\"T_2e7b1_row5_col5\" class=\"data row5 col5\" >1.00</td>\n      <td id=\"T_2e7b1_row5_col6\" class=\"data row5 col6\" >-0.00</td>\n    </tr>\n    <tr>\n      <th id=\"T_2e7b1_level0_row6\" class=\"row_heading level0 row6\" >ARR_DELAY_NEW</th>\n      <td id=\"T_2e7b1_row6_col0\" class=\"data row6 col0\" >-0.01</td>\n      <td id=\"T_2e7b1_row6_col1\" class=\"data row6 col1\" >-0.01</td>\n      <td id=\"T_2e7b1_row6_col2\" class=\"data row6 col2\" >0.01</td>\n      <td id=\"T_2e7b1_row6_col3\" class=\"data row6 col3\" >0.25</td>\n      <td id=\"T_2e7b1_row6_col4\" class=\"data row6 col4\" >-0.00</td>\n      <td id=\"T_2e7b1_row6_col5\" class=\"data row6 col5\" >-0.00</td>\n      <td id=\"T_2e7b1_row6_col6\" class=\"data row6 col6\" >1.00</td>\n    </tr>\n  </tbody>\n</table>\n",
              "textData": null,
              "removedWidgets": [],
              "addedWidgets": {},
              "metadata": {},
              "type": "htmlSandbox",
              "arguments": {}
            }
          },
          "data": {
            "text/html": [
              "<style type=\"text/css\">\n#T_2e7b1_row0_col0, #T_2e7b1_row0_col1, #T_2e7b1_row1_col0, #T_2e7b1_row1_col1, #T_2e7b1_row2_col2, #T_2e7b1_row3_col3, #T_2e7b1_row4_col4, #T_2e7b1_row4_col5, #T_2e7b1_row5_col4, #T_2e7b1_row5_col5, #T_2e7b1_row6_col6 {\n  background-color: #b40426;\n  color: #f1f1f1;\n}\n#T_2e7b1_row0_col2, #T_2e7b1_row0_col3, #T_2e7b1_row0_col6, #T_2e7b1_row1_col2, #T_2e7b1_row1_col3, #T_2e7b1_row1_col6, #T_2e7b1_row3_col0, #T_2e7b1_row3_col1, #T_2e7b1_row3_col4, #T_2e7b1_row3_col5, #T_2e7b1_row4_col2, #T_2e7b1_row5_col2, #T_2e7b1_row6_col4, #T_2e7b1_row6_col5 {\n  background-color: #3b4cc0;\n  color: #f1f1f1;\n}\n#T_2e7b1_row0_col4, #T_2e7b1_row0_col5, #T_2e7b1_row1_col4, #T_2e7b1_row1_col5, #T_2e7b1_row6_col0, #T_2e7b1_row6_col1 {\n  background-color: #3f53c6;\n  color: #f1f1f1;\n}\n#T_2e7b1_row2_col0, #T_2e7b1_row2_col1 {\n  background-color: #455cce;\n  color: #f1f1f1;\n}\n#T_2e7b1_row2_col3, #T_2e7b1_row4_col0, #T_2e7b1_row4_col1, #T_2e7b1_row5_col0, #T_2e7b1_row5_col1 {\n  background-color: #485fd1;\n  color: #f1f1f1;\n}\n#T_2e7b1_row2_col4, #T_2e7b1_row2_col5, #T_2e7b1_row6_col2 {\n  background-color: #3c4ec2;\n  color: #f1f1f1;\n}\n#T_2e7b1_row2_col6 {\n  background-color: #4055c8;\n  color: #f1f1f1;\n}\n#T_2e7b1_row3_col2 {\n  background-color: #3d50c3;\n  color: #f1f1f1;\n}\n#T_2e7b1_row3_col6 {\n  background-color: #92b4fe;\n  color: #000000;\n}\n#T_2e7b1_row4_col3, #T_2e7b1_row5_col3 {\n  background-color: #445acc;\n  color: #f1f1f1;\n}\n#T_2e7b1_row4_col6, #T_2e7b1_row5_col6 {\n  background-color: #3e51c5;\n  color: #f1f1f1;\n}\n#T_2e7b1_row6_col3 {\n  background-color: #97b8ff;\n  color: #000000;\n}\n</style>\n<table id=\"T_2e7b1_\">\n  <thead>\n    <tr>\n      <th class=\"blank level0\" >&nbsp;</th>\n      <th class=\"col_heading level0 col0\" >ORIGIN_Weather_Departure_Time_Diff_Min</th>\n      <th class=\"col_heading level0 col1\" >DEST_Weather_Departure_Time_Diff_Min</th>\n      <th class=\"col_heading level0 col2\" >Tail_Previous_Arrival_Diff_Mins</th>\n      <th class=\"col_heading level0 col3\" >Tail_Previous_Arrival_Delay</th>\n      <th class=\"col_heading level0 col4\" >ORIGIN_IN_DEGREE</th>\n      <th class=\"col_heading level0 col5\" >ORIGIN_OUT_DEGREE</th>\n      <th class=\"col_heading level0 col6\" >ARR_DELAY_NEW</th>\n    </tr>\n  </thead>\n  <tbody>\n    <tr>\n      <th id=\"T_2e7b1_level0_row0\" class=\"row_heading level0 row0\" >ORIGIN_Weather_Departure_Time_Diff_Min</th>\n      <td id=\"T_2e7b1_row0_col0\" class=\"data row0 col0\" >1.00</td>\n      <td id=\"T_2e7b1_row0_col1\" class=\"data row0 col1\" >1.00</td>\n      <td id=\"T_2e7b1_row0_col2\" class=\"data row0 col2\" >0.00</td>\n      <td id=\"T_2e7b1_row0_col3\" class=\"data row0 col3\" >-0.03</td>\n      <td id=\"T_2e7b1_row0_col4\" class=\"data row0 col4\" >0.01</td>\n      <td id=\"T_2e7b1_row0_col5\" class=\"data row0 col5\" >0.01</td>\n      <td id=\"T_2e7b1_row0_col6\" class=\"data row0 col6\" >-0.01</td>\n    </tr>\n    <tr>\n      <th id=\"T_2e7b1_level0_row1\" class=\"row_heading level0 row1\" >DEST_Weather_Departure_Time_Diff_Min</th>\n      <td id=\"T_2e7b1_row1_col0\" class=\"data row1 col0\" >1.00</td>\n      <td id=\"T_2e7b1_row1_col1\" class=\"data row1 col1\" >1.00</td>\n      <td id=\"T_2e7b1_row1_col2\" class=\"data row1 col2\" >0.00</td>\n      <td id=\"T_2e7b1_row1_col3\" class=\"data row1 col3\" >-0.03</td>\n      <td id=\"T_2e7b1_row1_col4\" class=\"data row1 col4\" >0.01</td>\n      <td id=\"T_2e7b1_row1_col5\" class=\"data row1 col5\" >0.01</td>\n      <td id=\"T_2e7b1_row1_col6\" class=\"data row1 col6\" >-0.01</td>\n    </tr>\n    <tr>\n      <th id=\"T_2e7b1_level0_row2\" class=\"row_heading level0 row2\" >Tail_Previous_Arrival_Diff_Mins</th>\n      <td id=\"T_2e7b1_row2_col0\" class=\"data row2 col0\" >0.00</td>\n      <td id=\"T_2e7b1_row2_col1\" class=\"data row2 col1\" >0.00</td>\n      <td id=\"T_2e7b1_row2_col2\" class=\"data row2 col2\" >1.00</td>\n      <td id=\"T_2e7b1_row2_col3\" class=\"data row2 col3\" >0.01</td>\n      <td id=\"T_2e7b1_row2_col4\" class=\"data row2 col4\" >0.00</td>\n      <td id=\"T_2e7b1_row2_col5\" class=\"data row2 col5\" >0.00</td>\n      <td id=\"T_2e7b1_row2_col6\" class=\"data row2 col6\" >0.01</td>\n    </tr>\n    <tr>\n      <th id=\"T_2e7b1_level0_row3\" class=\"row_heading level0 row3\" >Tail_Previous_Arrival_Delay</th>\n      <td id=\"T_2e7b1_row3_col0\" class=\"data row3 col0\" >-0.03</td>\n      <td id=\"T_2e7b1_row3_col1\" class=\"data row3 col1\" >-0.03</td>\n      <td id=\"T_2e7b1_row3_col2\" class=\"data row3 col2\" >0.01</td>\n      <td id=\"T_2e7b1_row3_col3\" class=\"data row3 col3\" >1.00</td>\n      <td id=\"T_2e7b1_row3_col4\" class=\"data row3 col4\" >0.00</td>\n      <td id=\"T_2e7b1_row3_col5\" class=\"data row3 col5\" >0.00</td>\n      <td id=\"T_2e7b1_row3_col6\" class=\"data row3 col6\" >0.25</td>\n    </tr>\n    <tr>\n      <th id=\"T_2e7b1_level0_row4\" class=\"row_heading level0 row4\" >ORIGIN_IN_DEGREE</th>\n      <td id=\"T_2e7b1_row4_col0\" class=\"data row4 col0\" >0.01</td>\n      <td id=\"T_2e7b1_row4_col1\" class=\"data row4 col1\" >0.01</td>\n      <td id=\"T_2e7b1_row4_col2\" class=\"data row4 col2\" >0.00</td>\n      <td id=\"T_2e7b1_row4_col3\" class=\"data row4 col3\" >0.00</td>\n      <td id=\"T_2e7b1_row4_col4\" class=\"data row4 col4\" >1.00</td>\n      <td id=\"T_2e7b1_row4_col5\" class=\"data row4 col5\" >1.00</td>\n      <td id=\"T_2e7b1_row4_col6\" class=\"data row4 col6\" >-0.00</td>\n    </tr>\n    <tr>\n      <th id=\"T_2e7b1_level0_row5\" class=\"row_heading level0 row5\" >ORIGIN_OUT_DEGREE</th>\n      <td id=\"T_2e7b1_row5_col0\" class=\"data row5 col0\" >0.01</td>\n      <td id=\"T_2e7b1_row5_col1\" class=\"data row5 col1\" >0.01</td>\n      <td id=\"T_2e7b1_row5_col2\" class=\"data row5 col2\" >0.00</td>\n      <td id=\"T_2e7b1_row5_col3\" class=\"data row5 col3\" >0.00</td>\n      <td id=\"T_2e7b1_row5_col4\" class=\"data row5 col4\" >1.00</td>\n      <td id=\"T_2e7b1_row5_col5\" class=\"data row5 col5\" >1.00</td>\n      <td id=\"T_2e7b1_row5_col6\" class=\"data row5 col6\" >-0.00</td>\n    </tr>\n    <tr>\n      <th id=\"T_2e7b1_level0_row6\" class=\"row_heading level0 row6\" >ARR_DELAY_NEW</th>\n      <td id=\"T_2e7b1_row6_col0\" class=\"data row6 col0\" >-0.01</td>\n      <td id=\"T_2e7b1_row6_col1\" class=\"data row6 col1\" >-0.01</td>\n      <td id=\"T_2e7b1_row6_col2\" class=\"data row6 col2\" >0.01</td>\n      <td id=\"T_2e7b1_row6_col3\" class=\"data row6 col3\" >0.25</td>\n      <td id=\"T_2e7b1_row6_col4\" class=\"data row6 col4\" >-0.00</td>\n      <td id=\"T_2e7b1_row6_col5\" class=\"data row6 col5\" >-0.00</td>\n      <td id=\"T_2e7b1_row6_col6\" class=\"data row6 col6\" >1.00</td>\n    </tr>\n  </tbody>\n</table>\n"
            ]
          }
        }
      ],
      "execution_count": null
    },
    {
      "cell_type": "markdown",
      "source": [
        "When looking at the distribution of flight delays by year, we see that there are slightly fewer overall flights in 2020 and a smaller portion of them that were delayed likely driven by the pandemic. In 2021, the volume of flights seemed to rebound to prior levels and we saw a similar proportion of flights be delayed as we had in prior years (~10%)."
      ],
      "metadata": {
        "application/vnd.databricks.v1+cell": {
          "showTitle": false,
          "cellMetadata": {},
          "nuid": "61ff09c1-9fd4-4cff-af3d-8ce4f42f4408",
          "inputWidgets": {},
          "title": ""
        },
        "id": "kAEHwn1JP22V"
      }
    },
    {
      "cell_type": "code",
      "source": [
        "data = data.withColumn(\"YEAR\", year(data.DEP_TIMESTAMP))\n",
        "counts_v1 = data.groupby(\"YEAR\", \"ARR_DEL30\").count().orderBy(\"YEAR\", \"ARR_DEL30\")\n",
        "display(counts_v1)"
      ],
      "metadata": {
        "application/vnd.databricks.v1+cell": {
          "showTitle": true,
          "cellMetadata": {},
          "nuid": "8defb189-d570-4da4-be8b-def886819eee",
          "inputWidgets": {},
          "title": "Number of Delayed Flights by Year"
        },
        "id": "BHw-y1T0P22V",
        "outputId": "6301d32a-a680-45f9-d0cf-b77c32abf26b"
      },
      "outputs": [
        {
          "output_type": "display_data",
          "metadata": {
            "application/vnd.databricks.v1+output": {
              "overflow": false,
              "datasetInfos": [],
              "data": [
                [
                  2015,
                  0,
                  3840524
                ],
                [
                  2015,
                  1,
                  459341
                ],
                [
                  2016,
                  0,
                  3741986
                ],
                [
                  2016,
                  1,
                  423828
                ],
                [
                  2017,
                  0,
                  3744420
                ],
                [
                  2017,
                  1,
                  460842
                ],
                [
                  2018,
                  0,
                  4653094
                ],
                [
                  2018,
                  1,
                  593259
                ],
                [
                  2019,
                  0,
                  4641082
                ],
                [
                  2019,
                  1,
                  608246
                ],
                [
                  2020,
                  0,
                  3344716
                ],
                [
                  2020,
                  1,
                  186723
                ],
                [
                  2021,
                  0,
                  4240321
                ],
                [
                  2021,
                  1,
                  493998
                ]
              ],
              "plotOptions": {
                "displayType": "table",
                "customPlotOptions": {},
                "pivotColumns": null,
                "pivotAggregation": null,
                "xColumns": null,
                "yColumns": null
              },
              "columnCustomDisplayInfos": {},
              "aggType": "",
              "isJsonSchema": true,
              "removedWidgets": [],
              "aggSchema": [],
              "schema": [
                {
                  "name": "YEAR",
                  "type": "\"integer\"",
                  "metadata": "{}"
                },
                {
                  "name": "ARR_DEL30",
                  "type": "\"float\"",
                  "metadata": "{}"
                },
                {
                  "name": "count",
                  "type": "\"long\"",
                  "metadata": "{}"
                }
              ],
              "aggError": "",
              "aggData": [],
              "addedWidgets": {},
              "metadata": {},
              "dbfsResultPath": null,
              "type": "table",
              "aggOverflow": false,
              "aggSeriesLimitReached": false,
              "arguments": {}
            }
          },
          "data": {
            "text/html": [
              "<style scoped>\n  .table-result-container {\n    max-height: 300px;\n    overflow: auto;\n  }\n  table, th, td {\n    border: 1px solid black;\n    border-collapse: collapse;\n  }\n  th, td {\n    padding: 5px;\n  }\n  th {\n    text-align: left;\n  }\n</style><div class='table-result-container'><table class='table-result'><thead style='background-color: white'><tr><th>YEAR</th><th>ARR_DEL30</th><th>count</th></tr></thead><tbody><tr><td>2015</td><td>0.0</td><td>3840524</td></tr><tr><td>2015</td><td>1.0</td><td>459341</td></tr><tr><td>2016</td><td>0.0</td><td>3741986</td></tr><tr><td>2016</td><td>1.0</td><td>423828</td></tr><tr><td>2017</td><td>0.0</td><td>3744420</td></tr><tr><td>2017</td><td>1.0</td><td>460842</td></tr><tr><td>2018</td><td>0.0</td><td>4653094</td></tr><tr><td>2018</td><td>1.0</td><td>593259</td></tr><tr><td>2019</td><td>0.0</td><td>4641082</td></tr><tr><td>2019</td><td>1.0</td><td>608246</td></tr><tr><td>2020</td><td>0.0</td><td>3344716</td></tr><tr><td>2020</td><td>1.0</td><td>186723</td></tr><tr><td>2021</td><td>0.0</td><td>4240321</td></tr><tr><td>2021</td><td>1.0</td><td>493998</td></tr></tbody></table></div>"
            ]
          }
        },
        {
          "output_type": "display_data",
          "metadata": {
            "application/vnd.databricks.v1.subcommand+json": {
              "resultDbfsErrorMessage": null,
              "diffInserts": [],
              "isLockedInExamMode": false,
              "tableResultIndex": 0,
              "startTime": 0,
              "resultDbfsStatus": "INLINED_IN_TREE",
              "state": "input",
              "subtype": "tableResultSubCmd.visualization",
              "commentThread": [],
              "guid": "88afbe45-e195-45a6-87bc-99d6c9a03248",
              "bindings": {},
              "useConsistentColors": false,
              "displayType": "redashChart",
              "customPlotOptions": {
                "redashChart": [
                  {
                    "key": "type",
                    "value": "CHART"
                  },
                  {
                    "key": "options",
                    "value": {
                      "isAggregationOn": true,
                      "series": {
                        "stacking": "stack",
                        "error_y": {
                          "type": "data",
                          "visible": true
                        },
                        "percentValues": false
                      },
                      "coefficient": 1,
                      "yAxis": [
                        {
                          "type": "-",
                          "title": {
                            "text": "Number of Flights"
                          }
                        },
                        {
                          "type": "-",
                          "opposite": true
                        }
                      ],
                      "columnConfigurationMap": {
                        "x": {
                          "column": "YEAR",
                          "id": "column_174742411"
                        },
                        "y": [
                          {
                            "id": "column_174742414",
                            "column": "count",
                            "transform": "SUM"
                          }
                        ],
                        "series": {
                          "column": "ARR_DEL30",
                          "id": "column_174742412"
                        }
                      },
                      "alignYAxesAtZero": true,
                      "direction": {
                        "type": "counterclockwise"
                      },
                      "swappedAxes": false,
                      "percentFormat": "0[.]00%",
                      "textFormat": "",
                      "legend": {
                        "traceorder": "normal"
                      },
                      "globalSeriesType": "column",
                      "version": 2,
                      "sizemode": "diameter",
                      "seriesOptions": {
                        "0": {
                          "name": "Not Delayed"
                        },
                        "1": {
                          "name": "Delayed"
                        },
                        "column_174742414": {
                          "yAxis": 0,
                          "type": "column"
                        }
                      },
                      "error_y": {
                        "type": "data",
                        "visible": true
                      },
                      "sortX": true,
                      "showDataLabels": true,
                      "missingValuesAsZero": true,
                      "useAggregationsUi": true,
                      "numberFormat": "0,0[.]00000",
                      "dateTimeFormat": "DD/MM/YYYY HH:mm",
                      "sortY": true,
                      "valuesOptions": {},
                      "xAxis": {
                        "type": "-",
                        "labels": {
                          "enabled": true
                        }
                      }
                    }
                  }
                ]
              },
              "collapsed": false,
              "errorSummary": null,
              "iPythonMetadata": null,
              "commandType": "auto",
              "height": "auto",
              "command": "%python\n__backend_agg_display_orig = display\n__backend_agg_dfs = []\ndef __backend_agg_display_new(df):\n    __backend_agg_df_modules = [\"pandas.core.frame\", \"databricks.koalas.frame\", \"pyspark.sql.dataframe\", \"pyspark.pandas.frame\"]\n    if (type(df).__module__ in __backend_agg_df_modules and type(df).__name__ == 'DataFrame') or isinstance(df, list):\n        __backend_agg_dfs.append(df)\n\ndisplay = __backend_agg_display_new\n\ndef __backend_agg_user_code_fn():\n    import base64\n    exec(base64.standard_b64decode(\"ZGF0YSA9IGRhdGEud2l0aENvbHVtbigiWUVBUiIsIHllYXIoZGF0YS5ERVBfVElNRVNUQU1QKSkKY291bnRzX3YxID0gZGF0YS5ncm91cGJ5KCJZRUFSIiwgIkFSUl9ERUwzMCIpLmNvdW50KCkub3JkZXJCeSgiWUVBUiIsICJBUlJfREVMMzAiKQpkaXNwbGF5KGNvdW50c192MSk=\").decode())\n\ntry:\n    # run user code\n    __backend_agg_user_code_fn()\n\n    #reset display function\n    display = __backend_agg_display_orig\n\n    if len(__backend_agg_dfs) > 0:\n        # create a temp view\n        if hasattr(__backend_agg_dfs[0], \"to_spark\"):\n            # koalas dataframe\n            __backend_agg_dfs[0].to_spark().createOrReplaceTempView(\"DatabricksView33f4fc4\")\n        elif type(__backend_agg_dfs[0]).__module__ == \"pandas.core.frame\" or isinstance(__backend_agg_dfs[0], list):\n            # pandas dataframe\n            spark.createDataFrame(__backend_agg_dfs[0]).createOrReplaceTempView(\"DatabricksView33f4fc4\")\n        else:\n            __backend_agg_dfs[0].createOrReplaceTempView(\"DatabricksView33f4fc4\")\n        #run backend agg\n        display(spark.sql(\"\"\"WITH q AS (select * from DatabricksView33f4fc4) SELECT `YEAR`,SUM(`count`) `column_174742414`,`ARR_DEL30` FROM q GROUP BY `ARR_DEL30`,`YEAR`\"\"\"))\n    else:\n        displayHTML(\"dataframe no longer exists. If you're using dataframe.display(), use display(dataframe) instead.\")\n\n\nfinally:\n    spark.sql(\"drop view if exists DatabricksView33f4fc4\")\n    display = __backend_agg_display_orig\n    del __backend_agg_display_new\n    del __backend_agg_display_orig\n    del __backend_agg_dfs\n    del __backend_agg_user_code_fn\n\n",
              "pivotColumns": null,
              "showCommandTitle": false,
              "datasetPreviewNameToCmdIdMap": {},
              "pivotAggregation": null,
              "version": "CommandV1",
              "nuid": "41f15fd9-9647-4fc7-83e2-33e699aed906",
              "subcommandOptions": {
                "queryPlan": {
                  "selects": [
                    {
                      "column": "YEAR",
                      "type": "column"
                    },
                    {
                      "function": "SUM",
                      "args": [
                        {
                          "column": "count",
                          "type": "column"
                        }
                      ],
                      "alias": "column_174742414",
                      "type": "function"
                    },
                    {
                      "column": "ARR_DEL30",
                      "type": "column"
                    }
                  ],
                  "groups": [
                    {
                      "column": "YEAR",
                      "type": "column"
                    },
                    {
                      "column": "ARR_DEL30",
                      "type": "column"
                    }
                  ]
                }
              },
              "xColumns": null,
              "results": null,
              "streamStates": {},
              "commandVersion": 0,
              "contentSha256Hex": null,
              "hideCommandResult": false,
              "error": null,
              "workflows": [],
              "inputWidgets": {},
              "finishTime": 0,
              "commandTitle": "Visualization 1",
              "origId": 1215577238255786,
              "metadata": {},
              "submitTime": 0,
              "position": 10.968749999970896,
              "errorTraceType": null,
              "listResultMetadata": null,
              "latestUserId": null,
              "yColumns": null,
              "hideCommandCode": false,
              "latestUser": "a user",
              "commentsVisible": false,
              "parentHierarchy": [
                "f021c31e-10d1-4a89-9040-3787482122f4"
              ],
              "width": "auto",
              "globalVars": {},
              "diffDeletes": []
            }
          },
          "data": {
            "text/plain": [
              "Output can only be rendered in Databricks"
            ]
          }
        }
      ],
      "execution_count": null
    },
    {
      "cell_type": "markdown",
      "source": [
        "# Modeling\n",
        "\n",
        "In order to conduct our modeling, we leveraged data from years 2015 - 2020 as our training set and 2021 as our test set. We used time sensitive cross validation, in which each fold included the additional subsequent with year. Our overall modeling journey involved developing a simple logistic regression baseline to ground ourselves in a benchmark. We immediately saw from our baseline model that there was room for improvement. We explored two different feature selection approaches in order to improve upon the baseline: PCA and selection based on pearson correlations. We then leveraged these refined features in decision tree, random forest and neural network models. Each model seemed to have strengths and weaknesses. The decision tree had higher recall (0.42) and was therefore able to identify more delayed flights. The random forest model had higher precision (0.86) and therefore more of the flights it flagged as delayed were actually delayed. The neural network performed worse than both the decision tree and random forest models but still demonstrated some predictive power (AUC of 0.6). In order to combine the predictive power of each model, we ensembled the decision tree, random forest and neural network models together. We took the maximum prediction from each in order to try to maximize our ability to identify delayed flights. The final ensemble model performed the best on the whole as it was able to exceed our overall predictive power target with an AUC score of 0.64 while balancing recall (0.59) and precision (0.62).\n",
        "\n",
        "**Modeling process:**<br><br>\n",
        "\n",
        "1. Baseline Model\n",
        "2. PCA - Feature Selection\n",
        "3. Decision Tree\n",
        "4. Random Forest\n",
        "5. Neural Network\n",
        "6. Ensemble"
      ],
      "metadata": {
        "application/vnd.databricks.v1+cell": {
          "showTitle": false,
          "cellMetadata": {},
          "nuid": "fef84e51-10f6-45f3-a155-401175befa0e",
          "inputWidgets": {},
          "title": ""
        },
        "id": "vY8Nm-s0P22V"
      }
    },
    {
      "cell_type": "markdown",
      "source": [
        "## Modeling Overview and Results\n",
        "\n",
        "**Train:** Years 2015 - 2020 \\\n",
        "\\\n",
        "**Validation:** Time Sensitive cross fold validation \\\n",
        "Fold 1: train on 2015, test on 2016 \\\n",
        "Fold 2: train on 2015-2016, test on 2017 \\\n",
        "Fold 3: train on 2015 - 2017, test on 2018 \\\n",
        "Fold 4: train on 2015 - 2018, test on 2019 \\\n",
        "Fold 5: train on 2015 - 2019, test on 2020 \\\n",
        "\\\n",
        "**Test:** Year 2021\n",
        "\n",
        "**Cluster Size:**\n",
        "Standard 16GB 4 cores\n",
        "\n",
        "**Feature Families:**\n",
        "| Family | Description | Count of Features\n",
        "| ----------- | ----------- | ----------- |\n",
        "| Raw Flight Numerical | Raw numerical flight variables that were most highly correlated with arrival delay and not correlated with each other (distance and air time were the only 2 and they were highly correlated with each other so distance was selected)  | 1\n",
        "| Raw Weather Numerical | Raw numerical weather variables that were most highly correlated with arrival delay and not correlated with each other | 14\n",
        "| Engineered Numerical  | Engineered numerical features | 6\n",
        "| Engineered Categorical | Engineered categorical features | 3\n",
        "| PCA Features | Principal components from PCA analysis | 24\n",
        "\n",
        "**Experiment Table**\n",
        "\n",
        "| Model | Experiment | Feature Families  | Train AUC | Test AUC | Train Recall | Test Recall | Train Precision | Test Precision | Training Time | Hyperparameters\n",
        "| ----------- | ----------- | ----------- | ----------- | ----------- | ----------- |----------- | ----------- |----------- | ----------- | ----------- |\n",
        "| Logistic Regression | Baseline | Raw Weather Numerical + Raw Flight Numerical |  0.55 | 0.54 | - | - | - | - | ~34 min | -\n",
        "| Random Forest | Experiment #2.1 | Raw Flight Numerical + Raw Weather Numerical| 0.85 | 0.86 | 0.0007 | 0.003 | 0.81 | 0.81 | ~9 min | Max Depth = 10, Num Trees = 15\n",
        "| Random Forest | Experiment #2.2 | Raw Flight Numerical + Raw Weather Numerical + Engineered Numerical| 0.85 | 0.85 | 0.002 | 0.02 | 0.8 | 0.81 | ~6 min | Max Depth = 10, Num Trees = 15\n",
        "| Random Forest | Experiment #2.3 | Raw Flight Numerical + Raw Weather Numerical + Engineered Numerical with undersampling | 0.7 | 0.74| 0.12 | 0.37 | 0.85 | 0.85 | ~2 min | Max Depth = 10, Num Trees = 15\n",
        "| Random Forest | Experiment #2.4 | Raw Flight Numerical + Raw Weather Numerical + Engineered Numerical with oversampling|  0.69 | 0.74| 0.06 | 0.38 | 0.83 | 0.86 | ~13 min | Max Depth = 10, Num Trees = 15\n",
        "| Decision Tree | Experiment #3.1 | Raw Flight Numerical + Raw Weather Numerical| 0.68 | 0.55 | 0.0003 | 0.000005 | 0.46 | 0.2 | ~10 min | Max Depth = 5\n",
        "| Decision Tree | Experiment #3.2 | Raw Flight Numerical + Raw Weather Numerical + Engineered Numerical| 0.76 | 0.83 | 0.002 | 0.035 | 0.62 | 0.77 | ~5 min | Max Depth = 5\n",
        "| Decision Tree | Experiment #3.3 | Raw Flight Numerical + Raw Weather Numerical + Engineered Numerical with undersampling|  0.74 | 0.72| 0.002 | 0.06 | 0.58 | 0.72 | ~11 min | Max Depth = 5\n",
        "| Decision Tree | Experiment #3.4 | Raw Flight Numerical + Raw Weather Numerical + Engineered Numerical with oversampling|  0.67 | 0.72| 0.17 | 0.42 | 0.78 | 0.81 | ~11 min | Max Depth = 5\n",
        "| Neural Network | Experiment #4.1 | Raw Flight Numerical + Raw Weather Numerical + Engineered Numerical with undersampling | 0.59 | 0.6| 0.04 | 0.14 | 0.29 | 0.30 | ~3 min | MLP - Relu - 2 Softmax, Hidden Layers: [4, 5]\n",
        "| Neural Network | Experiment #4.2 | Raw Flight Numerical + Raw Weather Numerical + Engineered Numerical with undersampling | 0.62 | 0.61| 0.12 | 0.18 | 0.35 | 0.32 | ~3 min | MLP - Relu - 2 Softmax, Hidden Layers: [10, 10]\n",
        "| Ensemble | Final Model | Raw Flight Numerical + Raw Weather Numerical + Engineered Numerical with undersampling | 0.58 | 0.64| 0.26 | 0.59 | 0.57 | 0.62 | ~1 hr | Random Forest: Max Depth = 10, Num Trees = 15, Decision Tree: Max Depth = 5, MLP - Relu - 2 Softmax, Hidden Layers: [10, 10]"
      ],
      "metadata": {
        "application/vnd.databricks.v1+cell": {
          "showTitle": false,
          "cellMetadata": {},
          "nuid": "038df099-f83b-427f-a4c1-07432ea2fc32",
          "inputWidgets": {},
          "title": ""
        },
        "id": "d3Jm44E1P22V"
      }
    },
    {
      "cell_type": "markdown",
      "source": [
        "### Feature Selection - PCA\n",
        "\n",
        "In order to perform feature selection, we first leveraged PCA. From our EDA we saw that there are a large volume of numerical features and many of them are linearly correlated with each other. PCA would allow us to reduce dimensionality while maintaining the most important, predictive components of the various features. However, after completing PCA we found that ~25 out of the ~30 features were required in order to explain the majority of the variance. Given that PCA would not allow us to reduce dimensionality in a meaningful way and would also lead to less interpretable results, we instead decided to select features based on our correlation matrix and use the features themselves in our modeling. We removed ~10 features based on their high collinearity with another feature and low correlation with our target variable. This left us with ~25 features for modeling."
      ],
      "metadata": {
        "application/vnd.databricks.v1+cell": {
          "showTitle": false,
          "cellMetadata": {},
          "nuid": "e5b79a80-f4f8-4453-aeaf-3e5ded5c76a8",
          "inputWidgets": {},
          "title": ""
        },
        "id": "FzIG2LNqP22V"
      }
    },
    {
      "cell_type": "code",
      "source": [
        "def pca_function(data):\n",
        "\n",
        "    w = Window().orderBy(lit('A'))\n",
        "    data = data.withColumn(\"uniqueID\", row_number().over(w))\n",
        "\n",
        "    # Train / Test Split\n",
        "    train_pca = data.filter(F.year(data.DEP_TIMESTAMP) <= 2020)\n",
        "    test_pca =  data.filter(F.year(data.DEP_TIMESTAMP) > 2020)\n",
        "\n",
        "    # define numeric columns\n",
        "    numericCols=['uniqueID', 'DISTANCE', 'AIR_TIME', 'ORIGIN_ELEVATION', 'ORIGIN_HourlyDewPointTemperature', 'ORIGIN_HourlyDryBulbTemperature', 'ORIGIN_HourlyPrecipitation', 'ORIGIN_HourlyRelativeHumidity', 'ORIGIN_HourlySeaLevelPressure', 'ORIGIN_HourlyStationPressure', 'ORIGIN_HourlyVisibility', 'ORIGIN_HourlyWetBulbTemperature', 'ORIGIN_HourlyWindDirection', 'ORIGIN_HourlyWindSpeed', 'DEST_ELEVATION', 'DEST_HourlyDewPointTemperature', 'DEST_HourlyDryBulbTemperature', 'DEST_HourlyPrecipitation', 'DEST_HourlyRelativeHumidity', 'DEST_HourlySeaLevelPressure', 'DEST_HourlyStationPressure', 'DEST_HourlyVisibility', 'DEST_HourlyWetBulbTemperature', 'DEST_HourlyWindDirection', 'DEST_HourlyWindSpeed', 'ORIGIN_Weather_Departure_Time_Diff_Min', 'DEST_Weather_Departure_Time_Diff_Min', 'Tail_Previous_Arrival_Diff_Mins', 'Tail_Previous_Arrival_Delay', 'ORIGIN_IN_DEGREE', 'ORIGIN_OUT_DEGREE', 'DEST_IN_DEGREE', 'DEST_OUT_DEGREE']\n",
        "\n",
        "\n",
        "    # create df with only numeric columns\n",
        "    df_numeric=data.select(*numericCols)\n",
        "    df_numeric_train=train_pca.select(*numericCols)\n",
        "    df_numeric_test=test_pca.select(*numericCols)\n",
        "\n",
        "    assembler = VectorAssembler(inputCols=numericCols, outputCol='features')\n",
        "\n",
        "    # standardize the full df\n",
        "    df_numeric = assembler.transform(df_numeric)\n",
        "    ss = StandardScaler(inputCol = 'features', outputCol = 'scaledFeatures', withMean = True, withStd = True).fit(df_numeric)\n",
        "    df_numeric_scaled=ss.transform(df_numeric)\n",
        "\n",
        "    # standardize the train df\n",
        "    #assember_train=VectorAssembler(inputCols=numericCols, outputCol='features')\n",
        "    df_numeric_train=assembler.transform(df_numeric_train)\n",
        "    ss_train = StandardScaler(inputCol = 'features', outputCol = 'scaledFeatures', withMean = True, withStd = True).fit(df_numeric_train)\n",
        "    df_numeric_train_scaled=ss_train.transform(df_numeric_train)\n",
        "\n",
        "    # standardize the test df\n",
        "    #assember_test=VectorAssembler(inputCols=numericCols, outputCol='features')\n",
        "    df_numeric_test=assembler.transform(df_numeric_test)\n",
        "    ss_test = StandardScaler(inputCol = 'features', outputCol = 'scaledFeatures', withMean = True, withStd = True).fit(df_numeric_test)\n",
        "    df_numeric_test_scaled=ss.transform(df_numeric_test)\n",
        "\n",
        "    # run PCA with \"30\" to see the explained variance of all the generated components, before deciding what is the right number\n",
        "    pca = PCA(k=30, inputCol=\"scaledFeatures\", outputCol=\"pcaScaledFeatures\")\n",
        "    pcaModel=pca.fit(df_numeric_scaled) # fit with full df\n",
        "    cumValues = pcaModel.explainedVariance.cumsum() # get the cumulative values\n",
        "\n",
        "    return cumValues"
      ],
      "metadata": {
        "application/vnd.databricks.v1+cell": {
          "showTitle": false,
          "cellMetadata": {},
          "nuid": "639c9825-2bb6-4393-87e1-269fe30ba874",
          "inputWidgets": {},
          "title": ""
        },
        "id": "olRF5ZEWP22V"
      },
      "outputs": [],
      "execution_count": null
    },
    {
      "cell_type": "code",
      "source": [
        "cumValues = pca_function(data)\n",
        "# plot the graph\n",
        "plt.figure(figsize=(15,6))\n",
        "p = plt.subplot(1, 2, 1)\n",
        "p.plot(range(1,31), cumValues, marker = 'o', linestyle='--')\n",
        "plt.title('variance by components')\n",
        "plt.xlabel('num of components')\n",
        "plt.ylabel('cumulative explained variance')"
      ],
      "metadata": {
        "application/vnd.databricks.v1+cell": {
          "showTitle": false,
          "cellMetadata": {},
          "nuid": "af8faddd-de09-46bb-a3ce-ed67d6afb9d3",
          "inputWidgets": {},
          "title": ""
        },
        "id": "iDdQ0t0dP22V",
        "outputId": "af86d527-8ec5-4e0e-fa30-1db72cba95ea"
      },
      "outputs": [
        {
          "output_type": "display_data",
          "metadata": {
            "application/vnd.databricks.v1+output": {
              "datasetInfos": [],
              "data": "Out[118]: Text(0, 0.5, 'cumulative explained variance')",
              "removedWidgets": [],
              "addedWidgets": {},
              "metadata": {},
              "type": "ansi",
              "arguments": {}
            }
          },
          "data": {
            "text/plain": [
              "Out[118]: Text(0, 0.5, 'cumulative explained variance')"
            ]
          }
        },
        {
          "output_type": "display_data",
          "metadata": {
            "application/vnd.databricks.v1+output": {
              "datasetInfos": [],
              "data": "data:image/png;base64,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\n",
              "removedWidgets": [],
              "addedWidgets": {},
              "metadata": {},
              "type": "image",
              "arguments": {}
            }
          },
          "data": {
            "image/png": "[encoded data removed]"
          }
        }
      ],
      "execution_count": null
    },
    {
      "cell_type": "markdown",
      "source": [
        "### Models\n",
        "\n",
        "## Baseline Logistic Regression\n",
        "\n",
        "Our baseline model was logistic regression. We chose logistic regression with no regularization. The loss function for logistic regression is Log Loss: \\\\( L(Y,Y')= \\sum^N_{i=1} log( 1+ exp(-y_i, yhat_i))\\\\). We chose it mainly for its easy implementation. We ran 3 experiments on the joined data. For the baseline models, we only used the weather and flight data to map out our pipeline and get a working baseline model. For our weather family, we use two features: hourly precipitation and origin elevation. For our flight data, we also use two features: flight distance and airtime of flight. We used these features for their uniqueness and ability to clean and investigate while parallel exploratory data analysis was ongoing. Our response variable is Arrival Delay. We classify a flight as delayed if it is more than 30 minutes later than expected. We used this threshold because it gave us a wider distribution of quantity of classes in our data, but because the transportation adminstration uses this metric for it. After running logistic regression, we found the performance to be poor, so after consideration we stopped expanding on it. The performance was poor because the feature variables had issues of multicollinearity.\n",
        "\n",
        "## Decision Tree\n",
        "\n",
        "From logistic regression, we moved to decision trees as a classfier model. We chose this because of our analysis on the features with multicollinearity. Also a linear model was not the most appropriate given our data analysis. Considering these ideas, we chose decision trees because it was a robust classifier to fit a non linear boundary to predict whether flights were delayed. We had to consider overfitting with decision trees since they are more susceptible to overfitting, and we thought we would counteract this with pruning and setting max depth to avoid specific pathways.\n",
        "\n",
        "Decision trees are not differentiable, and they do not use gradient descent, so they do not have a loss function.\n",
        "Decision trees typically use gini impurity, entropy and information gain to select the best way to branch from each node in the tree given the training data. Gini Impurity is the probability of incorrectly classifying a randomly chosen element in the dataset if it were randomly labeled according to the class distribution in the dataset. When training a decision tree, the best split is chosen by maximizing the Gini Gain, which is calculated by subtracting the weighted impurities of the branches from the original impurity. Gini impuruty and entropy are both impurities used for classification. Gini Impurity is \\\\(  \\sum^C_{i=1} f_i( 1 - f_i)\\\\) and entropy is \\\\(  \\sum^C_{i=1} -f_i log(f_i)\\\\) where f is the frequency of label i at a node and C is the number of unique labels. The information gain is the difference between the parent node impurity and the weighted sum of the two child node impurities.\n",
        "\n",
        "In our model, we use all the numerical and categorical features for our decision tree classifier and used grid search for the max depth of trees to prevent overfitting. Otherwise it will use another stopping rule where there is no information gain or no child node can be produced.\n",
        "\n",
        "## Random Forest\n",
        "\n",
        "Our next model was a random forest. We chose this model as it was a natural progression from decision trees since random forests are ensembles of decision trees. They combine many decision trees and average the results to avoid overfiting. Like decision trees, we chose them because of their ability to fit non linear models and handle categorical and numerical features well. Here we use it for binary classification with the same output variable as decision trees and logistic regression (delay of flight is 30 minutes past estimated arrival).\n",
        "\n",
        "Here we used hyperparameters for number of trees and maximum depth for trees and used grid search to find the optimal parameters in our experiments with both numerical and categorical features. Random forests incorporate randomness by subsampling the original dataset natively and considers random splits along the way. Apart from these differences, the process is the same as decision trees.\n",
        "\n",
        "## Neural Network\n",
        "\n",
        "From random forests, we turned to neural networks, specifically multilayer perceptron classifier. The multilayer perceptron classifier (MLPC) is a classifier based on the feedforward artificial neural network that consists of multiple layers of nodes. Each layer is fully connected to the next layer in the network. Nodes in the input layer represent the input data. These inputs are passed to hidden layers with a linear combination of the inputs with the node’s weights and biases along with an activation function. This is proprogated further till the output until the error is propogated back. We use softmax for our output layer to classify our binary classifcation of flight delays \\\\( f(z_i)=e^{z_i}/(∑^N_{k=1}e^{z_k}) \\\\). Our activation function is rectified linear unit which is advantageous over sigmoid or tan functions because it has a reduced likelihood of vanishing gradient which results in faster training. We used two hidden layers with 10 nodes in each layer for one experiment and one experiment with 4 and 5 layers.\n",
        "\n",
        "\n",
        "\n",
        "## Ensemble\n",
        "\n",
        "Once we had our decision tree, random forest and neural network models, we combined them into one ensemble by simply using the max of the prediction values to predict our final output decision. We did this because our original models tended to underpredict the positive class, so we wanted to use an ensemble to improve recall and precision."
      ],
      "metadata": {
        "application/vnd.databricks.v1+cell": {
          "showTitle": false,
          "cellMetadata": {},
          "nuid": "68bea40e-de9f-4a56-9dd2-6954a0bff74b",
          "inputWidgets": {},
          "title": ""
        },
        "id": "bHcD5HpNP22V"
      }
    },
    {
      "cell_type": "code",
      "source": [
        "%run \"/Shared/custom_cv\""
      ],
      "metadata": {
        "application/vnd.databricks.v1+cell": {
          "showTitle": false,
          "cellMetadata": {},
          "nuid": "3b4e5f05-54dd-43b2-8732-b00749a1c64e",
          "inputWidgets": {},
          "title": ""
        },
        "id": "aA5-wfOLP22W"
      },
      "outputs": [],
      "execution_count": null
    },
    {
      "cell_type": "code",
      "source": [
        "def one_hot_encoding_pipeline(model_type):\n",
        "\n",
        "    categoricals = ['DEPARTURE_DAY_OF_WEEK', 'DEPARTURE_TIME_OF_DAY', 'holiday_indicator']\n",
        "\n",
        "    numerics = ['DISTANCE', 'ORIGIN_ELEVATION', 'ORIGIN_HourlyDryBulbTemperature', 'ORIGIN_HourlyPrecipitation', 'ORIGIN_HourlySeaLevelPressure', 'ORIGIN_HourlyVisibility', 'ORIGIN_HourlyWindDirection', 'ORIGIN_HourlyWindSpeed', 'DEST_ELEVATION', 'DEST_HourlyDryBulbTemperature', 'DEST_HourlyPrecipitation', 'DEST_HourlySeaLevelPressure', 'DEST_HourlyVisibility', 'DEST_HourlyWindDirection', 'DEST_HourlyWindSpeed', 'ORIGIN_Weather_Departure_Time_Diff_Min','DEST_Weather_Departure_Time_Diff_Min', 'Tail_Previous_Arrival_Diff_Mins', 'Tail_Previous_Arrival_Delay', 'ORIGIN_IN_DEGREE', 'ORIGIN_OUT_DEGREE', 'DEST_IN_DEGREE','DEST_OUT_DEGREE']\n",
        "\n",
        "    # One Hot Encoding of categorical variables\n",
        "    indexers = map(lambda c: StringIndexer(inputCol=c, outputCol=c+\"_idx\", handleInvalid = 'skip'), categoricals)\n",
        "    ohes = map(lambda c: OneHotEncoder(inputCol=c + \"_idx\", outputCol=c+\"_class\"),categoricals)\n",
        "\n",
        "    # Create features list\n",
        "    featureCols = list(map(lambda c: c+\"_class\", categoricals)) + numerics\n",
        "\n",
        "    model_matrix_stages = list(indexers) + list(ohes) + \\\n",
        "                         [VectorAssembler(inputCols=featureCols, outputCol=\"features\"), StringIndexer(inputCol=\"ARR_DEL30\", outputCol=\"label\")]\n",
        "\n",
        "    if model_type == 'random':\n",
        "        trainer = RandomForestClassifier(labelCol='label', featuresCol='features')\n",
        "\n",
        "        pipeline = Pipeline(stages=model_matrix_stages+[trainer])\n",
        "\n",
        "        # Build the parameter grid for model tuning\n",
        "        paramGrid = ParamGridBuilder() \\\n",
        "                      .addGrid(trainer.maxDepth, [5, 10]) \\\n",
        "                      .addGrid(trainer.numTrees, [10, 15]) \\\n",
        "                      .build()\n",
        "    elif model_type == 'decision':\n",
        "        trainer = DecisionTreeClassifier(labelCol=\"label\", featuresCol=\"features\")\n",
        "\n",
        "\n",
        "        pipeline = Pipeline(stages=model_matrix_stages+[trainer])\n",
        "\n",
        "        # Build the parameter grid for model tuning\n",
        "        paramGrid = ParamGridBuilder()\\\n",
        "                        .addGrid(trainer.maxDepth, [5, 10, 15, 20])\\\n",
        "                        .build()\n",
        "    else:\n",
        "        featureCols = numerics\n",
        "\n",
        "        model_matrix_stages = [VectorAssembler(inputCols=featureCols, outputCol=\"features\"), StringIndexer(inputCol=\"ARR_DEL30\", outputCol=\"label\")]\n",
        "\n",
        "\n",
        "        # Apply StandardScaler to create scaledFeatures\n",
        "        scaler = StandardScaler(inputCol=\"features\",\n",
        "                                outputCol=\"scaledFeatures\",\n",
        "                                withStd=True,\n",
        "                                withMean=True)\n",
        "\n",
        "        layers = [len(featureCols), 10, 10, 2]\n",
        "\n",
        "        trainer = MultilayerPerceptronClassifier(labelCol='label',\n",
        "                                                    featuresCol='scaledFeatures',\n",
        "                                                    maxIter=100,\n",
        "                                                    layers=layers,\n",
        "                                                    blockSize=128,\n",
        "                                                    seed=1234)\n",
        "\n",
        "        # Build our ML pipeline\n",
        "        pipeline = Pipeline(stages=model_matrix_stages+[scaler]+[trainer])\n",
        "\n",
        "        # Build the parameter grid for model tuning\n",
        "        paramGrid = ParamGridBuilder() \\\n",
        "                      .addGrid(trainer.maxIter, [10]) \\\n",
        "                      .addGrid(trainer.stepSize, [0.3]) \\\n",
        "                      .build()\n",
        "\n",
        "    return pipeline, paramGrid"
      ],
      "metadata": {
        "application/vnd.databricks.v1+cell": {
          "showTitle": false,
          "cellMetadata": {},
          "nuid": "7a3bdd08-da9c-447b-81bd-7cb299bb5415",
          "inputWidgets": {},
          "title": ""
        },
        "id": "-EoZwMAvP22W"
      },
      "outputs": [],
      "execution_count": null
    },
    {
      "cell_type": "code",
      "source": [
        "def model(data, model_type):\n",
        "\n",
        "    evaluator = BinaryClassificationEvaluator()\n",
        "\n",
        "    pipeline, paramGrid = one_hot_encoding_pipeline(model_type)\n",
        "    dt = pipeline\n",
        "    grid = paramGrid\n",
        "\n",
        "    major_df = data.filter(col(\"ARR_DEL30\") == 0)\n",
        "    minor_df = data.filter(col(\"ARR_DEL30\") == 1)\n",
        "    ratio = int(major_df.count()/minor_df.count())\n",
        "    sampled_majority_df = major_df.sample(False, 1/ratio)\n",
        "    undersampled_data = sampled_majority_df.unionAll(minor_df)\n",
        "\n",
        "    dt_input = undersampled_data\n",
        "\n",
        "    dt_input = dt_input.withColumn(\"YEAR\", year(dt_input.DEP_TIMESTAMP))\n",
        "    dt_input.select(\"DEP_TIMESTAMP\", \"YEAR\").show(5)\n",
        "    dt_input_val = dt_input.filter(F.year(dt_input.DEP_TIMESTAMP) <= 2020)\n",
        "    # create dictionary of dataframes for custom cv fn to loop through\n",
        "    # assign train and test based on time series split\n",
        "    # train: month 1, months 1 & 2, test: month 2, month 3\n",
        "    d = {}\n",
        "\n",
        "    d['df1'] = dt_input_val.filter(dt_input_val.YEAR <= 2016)\\\n",
        "                       .withColumn('cv', F.when(dt_input_val.YEAR == 2015, 'train')\n",
        "                                             .otherwise('test'))\n",
        "\n",
        "    d['df2'] = dt_input_val.filter(dt_input_val.YEAR <= 2017)\\\n",
        "                       .withColumn('cv', F.when(dt_input_val.YEAR <= 2016, 'train')\n",
        "                                             .otherwise('test'))\n",
        "\n",
        "    d['df3'] = dt_input_val.filter(dt_input_val.YEAR <= 2018)\\\n",
        "                       .withColumn('cv', F.when(dt_input_val.YEAR <= 2017, 'train')\n",
        "                                             .otherwise('test'))\n",
        "\n",
        "    d['df4'] = dt_input_val.filter(dt_input_val.YEAR <= 2019)\\\n",
        "                       .withColumn('cv', F.when(dt_input_val.YEAR <= 2018, 'train')\n",
        "                                             .otherwise('test'))\n",
        "\n",
        "    d['df5'] = dt_input_val.filter(dt_input_val.YEAR <= 2020)\\\n",
        "                       .withColumn('cv', F.when(dt_input_val.YEAR <= 2019, 'train')\n",
        "                                             .otherwise('test'))\n",
        "    # run cross validation & return the crossvalidation F0.5 score for 'test' set\n",
        "    cv = CustomCrossValidator(estimator=dt, estimatorParamMaps=grid, evaluator=evaluator,\n",
        "         splitWord = ('train', 'test'), cvCol = 'cv', parallelism=4)\n",
        "\n",
        "    cvModel = cv.fit(d)\n",
        "\n",
        "    train = dt_input.filter(F.year(dt_input.DEP_TIMESTAMP) <= 2020)\n",
        "\n",
        "    test =  dt_input.filter(F.year(dt_input.DEP_TIMESTAMP) > 2020)\n",
        "\n",
        "    train_predictions = cvModel.transform(train)\n",
        "    train_confusion_matrix = train_predictions.groupby('label', 'prediction').count()\n",
        "    TP = train_confusion_matrix.select('count').filter((train_confusion_matrix.label==1) & (train_confusion_matrix.prediction==1)).collect()[0][0]\n",
        "    FP = train_confusion_matrix.select('count').filter((train_confusion_matrix.label==0) & (train_confusion_matrix.prediction==1)).collect()[0][0]\n",
        "    FN = train_confusion_matrix.select('count').filter((train_confusion_matrix.label==1) & (train_confusion_matrix.prediction==0)).collect()[0][0]\n",
        "\n",
        "    # cvModel uses the best model found from the Cross Validation\n",
        "    # Evaluate best model\n",
        "    print('Train AUC:', BinaryClassificationMetrics(train_predictions['label','prediction'].rdd).areaUnderROC)\n",
        "    print('Train Precision: ', float(TP / (TP + FP)))\n",
        "    print('Train Recall: ', float(TP / (TP + FN)))\n",
        "\n",
        "    test_predictions = cvModel.transform(test)\n",
        "    test_confusion_matrix = test_predictions.groupby('label', 'prediction').count()\n",
        "    TP = test_confusion_matrix.select('count').filter((test_confusion_matrix.label==1) & (test_confusion_matrix.prediction==1)).collect()[0][0]\n",
        "    FP = test_confusion_matrix.select('count').filter((test_confusion_matrix.label==0) & (test_confusion_matrix.prediction==1)).collect()[0][0]\n",
        "    FN = test_confusion_matrix.select('count').filter((test_confusion_matrix.label==1) & (test_confusion_matrix.prediction==0)).collect()[0][0]\n",
        "\n",
        "    # cvModel uses the best model found from the Cross Validation\n",
        "    # Evaluate best model\n",
        "    print('Test AUC:', BinaryClassificationMetrics(test_predictions['label','prediction'].rdd).areaUnderROC)\n",
        "    print('Test Precision: ', float(TP / (TP + FP)))\n",
        "    print('Test Recall: ', float(TP / (TP + FN)))\n",
        "\n",
        "#     print('maxDepth - ', cvModel.bestModel.getOrDefault('maxDepth'))\n",
        "\n",
        "    return train_predictions, test_predictions"
      ],
      "metadata": {
        "application/vnd.databricks.v1+cell": {
          "showTitle": false,
          "cellMetadata": {},
          "nuid": "5d4e1fb1-ecc0-4ec8-bbaa-7a2a2cacf7b3",
          "inputWidgets": {},
          "title": ""
        },
        "id": "twNNAUuuP22W"
      },
      "outputs": [],
      "execution_count": null
    },
    {
      "cell_type": "code",
      "source": [
        "def ensemble():\n",
        "\n",
        "    train_predictions_random, test_predictions_random = model(data, 'random')\n",
        "    train_predictions_decision, test_predictions_decision = model(data, 'decision')\n",
        "    train_predictions_neural, test_predictions_neural = model(data, 'neural')\n",
        "\n",
        "    train_predictions_random = train_predictions_random.withColumnRenamed(\"prediction\", \"prediction_random\")\n",
        "    train_predictions_decision = train_predictions_decision.withColumnRenamed(\"prediction\", \"prediction_decision\").drop(\"label\")\n",
        "    train_predictions_neural = train_predictions_neural.withColumnRenamed(\"prediction\", \"prediction_neural\").drop(\"label\")\n",
        "\n",
        "    w = Window().orderBy(lit('A'))\n",
        "    train_predictions_random = train_predictions_random.withColumn(\"index\", row_number().over(w))\n",
        "    train_predictions_decision = train_predictions_decision.withColumn(\"index\", row_number().over(w))\n",
        "    train_predictions_neural = train_predictions_neural.withColumn(\"index\", row_number().over(w))\n",
        "\n",
        "    ensemble_preds = train_predictions_random.join(train_predictions_decision, [\"index\"], \"inner\").join(train_predictions_neural, [\"index\"], \"inner\")\n",
        "\n",
        "    minf = lit(float(\"-inf\"))\n",
        "    rowmax = greatest(*[coalesce(col(x), minf) for x in ['prediction_random','prediction_decision','prediction_neural']])\n",
        "    ensemble_preds = ensemble_preds.withColumn(\"rowmax\", rowmax)\n",
        "\n",
        "    train_confusion_matrix = ensemble_preds.groupby('label', 'rowmax').count()\n",
        "    TP = train_confusion_matrix.select('count').filter((train_confusion_matrix.label==1) & (train_confusion_matrix.rowmax==1)).collect()[0][0]\n",
        "    FP = train_confusion_matrix.select('count').filter((train_confusion_matrix.label==0) & (train_confusion_matrix.rowmax==1)).collect()[0][0]\n",
        "    FN = train_confusion_matrix.select('count').filter((train_confusion_matrix.label==1) & (train_confusion_matrix.rowmax==0)).collect()[0][0]\n",
        "\n",
        "    # cvModel uses the best model found from the Cross Validation\n",
        "    # Evaluate best model\n",
        "    print('Train AUC:', BinaryClassificationMetrics(ensemble_preds['label','rowmax'].rdd).areaUnderROC)\n",
        "    print('Train Precision: ', float(TP / (TP + FP)))\n",
        "    print('Train Recall: ', float(TP / (TP + FN)))\n",
        "\n",
        "\n",
        "    test_predictions_random = test_predictions_random.withColumnRenamed(\"prediction\", \"prediction_random\")\n",
        "    test_predictions_decision = test_predictions_decision.withColumnRenamed(\"prediction\", \"prediction_decision\").drop(\"label\")\n",
        "    test_predictions_neural = test_predictions_neural.withColumnRenamed(\"prediction\", \"prediction_neural\").drop(\"label\")\n",
        "\n",
        "    test_predictions_random = test_predictions_random.withColumn(\"index\", row_number().over(w))\n",
        "    test_predictions_decision = test_predictions_decision.withColumn(\"index\", row_number().over(w))\n",
        "    test_predictions_neural = test_predictions_neural.withColumn(\"index\", row_number().over(w))\n",
        "\n",
        "    ensemble_preds = test_predictions_random.join(test_predictions_decision, [\"index\"], \"inner\").join(test_predictions_neural, [\"index\"], \"inner\")\n",
        "\n",
        "    minf = lit(float(\"-inf\"))\n",
        "    rowmax = greatest(*[coalesce(col(x), minf) for x in ['prediction_random','prediction_decision','prediction_neural']])\n",
        "    ensemble_preds = ensemble_preds.withColumn(\"rowmax\", rowmax)\n",
        "\n",
        "    test_confusion_matrix = ensemble_preds.groupby('label', 'rowmax').count()\n",
        "    TP = test_confusion_matrix.select('count').filter((test_confusion_matrix.label==1) & (test_confusion_matrix.rowmax==1)).collect()[0][0]\n",
        "    FP = test_confusion_matrix.select('count').filter((test_confusion_matrix.label==0) & (test_confusion_matrix.rowmax==1)).collect()[0][0]\n",
        "    FN = test_confusion_matrix.select('count').filter((test_confusion_matrix.label==1) & (test_confusion_matrix.rowmax==0)).collect()[0][0]\n",
        "\n",
        "    # cvModel uses the best model found from the Cross Validation\n",
        "    # Evaluate best model\n",
        "    print('Test AUC:', BinaryClassificationMetrics(ensemble_preds['label','rowmax'].rdd).areaUnderROC)\n",
        "    print('Test Precision: ', float(TP / (TP + FP)))\n",
        "    print('Test Recall: ', float(TP / (TP + FN)))\n",
        "\n",
        "    return ensemble_preds"
      ],
      "metadata": {
        "application/vnd.databricks.v1+cell": {
          "showTitle": false,
          "cellMetadata": {},
          "nuid": "587eb6ad-2cf9-42f3-a74d-19587dd73132",
          "inputWidgets": {},
          "title": ""
        },
        "id": "9Sj2tmcJP22W"
      },
      "outputs": [],
      "execution_count": null
    },
    {
      "cell_type": "code",
      "source": [
        "ensemble()"
      ],
      "metadata": {
        "application/vnd.databricks.v1+cell": {
          "showTitle": false,
          "cellMetadata": {},
          "nuid": "2d998a97-7536-4a15-b819-19abc23774e1",
          "inputWidgets": {},
          "title": ""
        },
        "id": "8ApUG7xOP22W",
        "outputId": "a1f08ce3-ae1f-4760-9be8-8442bd65faac"
      },
      "outputs": [
        {
          "output_type": "display_data",
          "metadata": {
            "application/vnd.databricks.v1+output": {
              "datasetInfos": [],
              "data": "+-------------------+----+\n|      DEP_TIMESTAMP|YEAR|\n+-------------------+----+\n|2015-02-07 21:40:00|2015|\n|2015-02-07 19:55:00|2015|\n|2015-02-07 21:55:00|2015|\n|2015-02-07 21:55:00|2015|\n|2015-02-07 22:00:00|2015|\n+-------------------+----+\nonly showing top 5 rows\n\nfold 1 start...\nfold 1 end\nfold 2 start...\nfold 2 end\nfold 3 start...\nfold 3 end\nfold 4 start...\nfold 4 end\nfold 5 start...\nfold 5 end\nBest Model:  {Param(parent='RandomForestClassifier_6511ceae839c', name='maxDepth', doc='Maximum depth of the tree. (>= 0) E.g., depth 0 means 1 leaf node; depth 1 means 1 internal node + 2 leaf nodes. Must be in range [0, 30].'): 10, Param(parent='RandomForestClassifier_6511ceae839c', name='numTrees', doc='Number of trees to train (>= 1).'): 15} Detailed Score [0.8067543201422374, 0.8066673598619243, 0.8074317639350823, 0.8060405275069715, 0.7544992619975015] Avg Score 0.7962786466887434\nTrain AUC: 0.7003367575633116\nTrain Precision:  0.8529066972531226\nTrain Recall:  0.11104079840745996\nTest AUC: 0.7386297717626226\nTest Precision:  0.8591521238597776\nTest Recall:  0.3754144753622484\n+-------------------+----+\n|      DEP_TIMESTAMP|YEAR|\n+-------------------+----+\n|2015-02-07 21:04:00|2015|\n|2015-02-07 21:40:00|2015|\n|2015-02-07 21:55:00|2015|\n|2015-02-07 22:30:00|2015|\n|2015-02-07 21:55:00|2015|\n+-------------------+----+\nonly showing top 5 rows\n\nfold 1 start...\nfold 1 end\nfold 2 start...\nfold 2 end\nfold 3 start...\nfold 3 end\nfold 4 start...\nfold 4 end\nfold 5 start...\nfold 5 end\nBest Model:  {Param(parent='DecisionTreeClassifier_280f17014e2b', name='maxDepth', doc='Maximum depth of the tree. (>= 0) E.g., depth 0 means 1 leaf node; depth 1 means 1 internal node + 2 leaf nodes. Must be in range [0, 30].'): 5} Detailed Score [0.5367446320179474, 0.5369680410715668, 0.6763288265546188, 0.6787035022065784, 0.2997282821893038] Avg Score 0.545694656808003\nTrain AUC: 0.6779852576214983\nTrain Precision:  0.8003427020474446\nTrain Recall:  0.15368457883808848\nTest AUC: 0.7326985125658548\nTest Precision:  0.8451901208953437\nTest Recall:  0.3859266636707031\n+-------------------+----+\n|      DEP_TIMESTAMP|YEAR|\n+-------------------+----+\n|2015-02-07 21:04:00|2015|\n|2015-02-07 19:55:00|2015|\n|2015-02-07 21:55:00|2015|\n|2015-02-07 21:30:00|2015|\n|2015-02-07 22:15:00|2015|\n+-------------------+----+\nonly showing top 5 rows\n\nfold 1 start...\nfold 1 end\nfold 2 start...\nfold 2 end\nfold 3 start...\nfold 3 end\nfold 4 start...\nfold 4 end\nfold 5 start...\nfold 5 end\nBest Model:  {Param(parent='MultilayerPerceptronClassifier_12478d4e33b3', name='maxIter', doc='max number of iterations (>= 0).'): 10, Param(parent='MultilayerPerceptronClassifier_12478d4e33b3', name='stepSize', doc='Step size to be used for each iteration of optimization (>= 0).'): 0.3} Detailed Score [0.7054045426328759, 0.7063777433143996, 0.7012853796898542, 0.7094527041847901, 0.6392231718692417] Avg Score 0.6923487083382323\nTrain AUC: 0.6751345463794618\nTrain Precision:  0.799728772427576\nTrain Recall:  0.131227173025493\nTest AUC: 0.6661231363660388\nTest Precision:  0.7707664541325798\nTest Recall:  0.2109381009639715\nTrain AUC: 0.5769824432105272\nTrain Precision:  0.5720769010271255\nTrain Recall:  0.2560973936314813\nTest AUC: 0.6434658730859951\nTest Precision:  0.6195194839277702\nTest Recall:  0.5861898401344129\nOut[43]: DataFrame[index: int, ORIGIN_LATEST_WEATHER_TIMESTAMP_UTC: timestamp, DEP_TIMESTAMP: timestamp, DEST: string, ORIGIN: string, OP_UNIQUE_CARRIER: string, ORIGIN_CITY_NAME: string, DEST_CITY_NAME: string, DISTANCE: float, AIR_TIME: float, ORIGIN_ELEVATION: float, ORIGIN_HourlyDewPointTemperature: float, ORIGIN_HourlyDryBulbTemperature: float, ORIGIN_HourlyPrecipitation: float, ORIGIN_HourlyRelativeHumidity: float, ORIGIN_HourlySeaLevelPressure: float, ORIGIN_HourlyStationPressure: float, ORIGIN_HourlyVisibility: float, ORIGIN_HourlyWetBulbTemperature: float, ORIGIN_HourlyWindDirection: float, ORIGIN_HourlyWindSpeed: float, DEST_ELEVATION: float, DEST_HourlyDewPointTemperature: float, DEST_HourlyDryBulbTemperature: float, DEST_HourlyPrecipitation: float, DEST_HourlyRelativeHumidity: float, DEST_HourlySeaLevelPressure: float, DEST_HourlyStationPressure: float, DEST_HourlyVisibility: float, DEST_HourlyWetBulbTemperature: float, DEST_HourlyWindDirection: float, DEST_HourlyWindSpeed: double, ORIGIN_Weather_Departure_Time_Diff_Min: float, DEST_Weather_Departure_Time_Diff_Min: float, Tail_Previous_Arrival_Diff_Mins: float, Tail_Previous_Arrival_Delay: float, DEPARTURE_DAY_OF_WEEK: float, DEPARTURE_HOUR: float, DEPARTURE_TIME_OF_DAY: string, ORIGIN_IN_DEGREE: float, ORIGIN_OUT_DEGREE: float, DEST_IN_DEGREE: float, DEST_OUT_DEGREE: float, ARR_DEL30: float, ARR_DELAY_NEW: float, holiday_indicator: float, YEAR: int, DEPARTURE_DAY_OF_WEEK_idx: double, DEPARTURE_TIME_OF_DAY_idx: double, holiday_indicator_idx: double, DEPARTURE_DAY_OF_WEEK_class: vector, DEPARTURE_TIME_OF_DAY_class: vector, holiday_indicator_class: vector, features: vector, label: double, rawPrediction: vector, probability: vector, prediction_random: double, ORIGIN_LATEST_WEATHER_TIMESTAMP_UTC: timestamp, DEP_TIMESTAMP: timestamp, DEST: string, ORIGIN: string, OP_UNIQUE_CARRIER: string, ORIGIN_CITY_NAME: string, DEST_CITY_NAME: string, DISTANCE: float, AIR_TIME: float, ORIGIN_ELEVATION: float, ORIGIN_HourlyDewPointTemperature: float, ORIGIN_HourlyDryBulbTemperature: float, ORIGIN_HourlyPrecipitation: float, ORIGIN_HourlyRelativeHumidity: float, ORIGIN_HourlySeaLevelPressure: float, ORIGIN_HourlyStationPressure: float, ORIGIN_HourlyVisibility: float, ORIGIN_HourlyWetBulbTemperature: float, ORIGIN_HourlyWindDirection: float, ORIGIN_HourlyWindSpeed: float, DEST_ELEVATION: float, DEST_HourlyDewPointTemperature: float, DEST_HourlyDryBulbTemperature: float, DEST_HourlyPrecipitation: float, DEST_HourlyRelativeHumidity: float, DEST_HourlySeaLevelPressure: float, DEST_HourlyStationPressure: float, DEST_HourlyVisibility: float, DEST_HourlyWetBulbTemperature: float, DEST_HourlyWindDirection: float, DEST_HourlyWindSpeed: double, ORIGIN_Weather_Departure_Time_Diff_Min: float, DEST_Weather_Departure_Time_Diff_Min: float, Tail_Previous_Arrival_Diff_Mins: float, Tail_Previous_Arrival_Delay: float, DEPARTURE_DAY_OF_WEEK: float, DEPARTURE_HOUR: float, DEPARTURE_TIME_OF_DAY: string, ORIGIN_IN_DEGREE: float, ORIGIN_OUT_DEGREE: float, DEST_IN_DEGREE: float, DEST_OUT_DEGREE: float, ARR_DEL30: float, ARR_DELAY_NEW: float, holiday_indicator: float, YEAR: int, DEPARTURE_DAY_OF_WEEK_idx: double, DEPARTURE_TIME_OF_DAY_idx: double, holiday_indicator_idx: double, DEPARTURE_DAY_OF_WEEK_class: vector, DEPARTURE_TIME_OF_DAY_class: vector, holiday_indicator_class: vector, features: vector, rawPrediction: vector, probability: vector, prediction_decision: double, ORIGIN_LATEST_WEATHER_TIMESTAMP_UTC: timestamp, DEP_TIMESTAMP: timestamp, DEST: string, ORIGIN: string, OP_UNIQUE_CARRIER: string, ORIGIN_CITY_NAME: string, DEST_CITY_NAME: string, DISTANCE: float, AIR_TIME: float, ORIGIN_ELEVATION: float, ORIGIN_HourlyDewPointTemperature: float, ORIGIN_HourlyDryBulbTemperature: float, ORIGIN_HourlyPrecipitation: float, ORIGIN_HourlyRelativeHumidity: float, ORIGIN_HourlySeaLevelPressure: float, ORIGIN_HourlyStationPressure: float, ORIGIN_HourlyVisibility: float, ORIGIN_HourlyWetBulbTemperature: float, ORIGIN_HourlyWindDirection: float, ORIGIN_HourlyWindSpeed: float, DEST_ELEVATION: float, DEST_HourlyDewPointTemperature: float, DEST_HourlyDryBulbTemperature: float, DEST_HourlyPrecipitation: float, DEST_HourlyRelativeHumidity: float, DEST_HourlySeaLevelPressure: float, DEST_HourlyStationPressure: float, DEST_HourlyVisibility: float, DEST_HourlyWetBulbTemperature: float, DEST_HourlyWindDirection: float, DEST_HourlyWindSpeed: double, ORIGIN_Weather_Departure_Time_Diff_Min: float, DEST_Weather_Departure_Time_Diff_Min: float, Tail_Previous_Arrival_Diff_Mins: float, Tail_Previous_Arrival_Delay: float, DEPARTURE_DAY_OF_WEEK: float, DEPARTURE_HOUR: float, DEPARTURE_TIME_OF_DAY: string, ORIGIN_IN_DEGREE: float, ORIGIN_OUT_DEGREE: float, DEST_IN_DEGREE: float, DEST_OUT_DEGREE: float, ARR_DEL30: float, ARR_DELAY_NEW: float, holiday_indicator: float, YEAR: int, features: vector, scaledFeatures: vector, rawPrediction: vector, probability: vector, prediction_neural: double, rowmax: double]",
              "removedWidgets": [],
              "addedWidgets": {},
              "metadata": {},
              "type": "ansi",
              "arguments": {}
            }
          },
          "data": {
            "text/plain": [
              "+-------------------+----+\n|      DEP_TIMESTAMP|YEAR|\n+-------------------+----+\n|2015-02-07 21:40:00|2015|\n|2015-02-07 19:55:00|2015|\n|2015-02-07 21:55:00|2015|\n|2015-02-07 21:55:00|2015|\n|2015-02-07 22:00:00|2015|\n+-------------------+----+\nonly showing top 5 rows\n\nfold 1 start...\nfold 1 end\nfold 2 start...\nfold 2 end\nfold 3 start...\nfold 3 end\nfold 4 start...\nfold 4 end\nfold 5 start...\nfold 5 end\nBest Model:  {Param(parent='RandomForestClassifier_6511ceae839c', name='maxDepth', doc='Maximum depth of the tree. (>= 0) E.g., depth 0 means 1 leaf node; depth 1 means 1 internal node + 2 leaf nodes. Must be in range [0, 30].'): 10, Param(parent='RandomForestClassifier_6511ceae839c', name='numTrees', doc='Number of trees to train (>= 1).'): 15} Detailed Score [0.8067543201422374, 0.8066673598619243, 0.8074317639350823, 0.8060405275069715, 0.7544992619975015] Avg Score 0.7962786466887434\nTrain AUC: 0.7003367575633116\nTrain Precision:  0.8529066972531226\nTrain Recall:  0.11104079840745996\nTest AUC: 0.7386297717626226\nTest Precision:  0.8591521238597776\nTest Recall:  0.3754144753622484\n+-------------------+----+\n|      DEP_TIMESTAMP|YEAR|\n+-------------------+----+\n|2015-02-07 21:04:00|2015|\n|2015-02-07 21:40:00|2015|\n|2015-02-07 21:55:00|2015|\n|2015-02-07 22:30:00|2015|\n|2015-02-07 21:55:00|2015|\n+-------------------+----+\nonly showing top 5 rows\n\nfold 1 start...\nfold 1 end\nfold 2 start...\nfold 2 end\nfold 3 start...\nfold 3 end\nfold 4 start...\nfold 4 end\nfold 5 start...\nfold 5 end\nBest Model:  {Param(parent='DecisionTreeClassifier_280f17014e2b', name='maxDepth', doc='Maximum depth of the tree. (>= 0) E.g., depth 0 means 1 leaf node; depth 1 means 1 internal node + 2 leaf nodes. Must be in range [0, 30].'): 5} Detailed Score [0.5367446320179474, 0.5369680410715668, 0.6763288265546188, 0.6787035022065784, 0.2997282821893038] Avg Score 0.545694656808003\nTrain AUC: 0.6779852576214983\nTrain Precision:  0.8003427020474446\nTrain Recall:  0.15368457883808848\nTest AUC: 0.7326985125658548\nTest Precision:  0.8451901208953437\nTest Recall:  0.3859266636707031\n+-------------------+----+\n|      DEP_TIMESTAMP|YEAR|\n+-------------------+----+\n|2015-02-07 21:04:00|2015|\n|2015-02-07 19:55:00|2015|\n|2015-02-07 21:55:00|2015|\n|2015-02-07 21:30:00|2015|\n|2015-02-07 22:15:00|2015|\n+-------------------+----+\nonly showing top 5 rows\n\nfold 1 start...\nfold 1 end\nfold 2 start...\nfold 2 end\nfold 3 start...\nfold 3 end\nfold 4 start...\nfold 4 end\nfold 5 start...\nfold 5 end\nBest Model:  {Param(parent='MultilayerPerceptronClassifier_12478d4e33b3', name='maxIter', doc='max number of iterations (>= 0).'): 10, Param(parent='MultilayerPerceptronClassifier_12478d4e33b3', name='stepSize', doc='Step size to be used for each iteration of optimization (>= 0).'): 0.3} Detailed Score [0.7054045426328759, 0.7063777433143996, 0.7012853796898542, 0.7094527041847901, 0.6392231718692417] Avg Score 0.6923487083382323\nTrain AUC: 0.6751345463794618\nTrain Precision:  0.799728772427576\nTrain Recall:  0.131227173025493\nTest AUC: 0.6661231363660388\nTest Precision:  0.7707664541325798\nTest Recall:  0.2109381009639715\nTrain AUC: 0.5769824432105272\nTrain Precision:  0.5720769010271255\nTrain Recall:  0.2560973936314813\nTest AUC: 0.6434658730859951\nTest Precision:  0.6195194839277702\nTest Recall:  0.5861898401344129\nOut[43]: DataFrame[index: int, ORIGIN_LATEST_WEATHER_TIMESTAMP_UTC: timestamp, DEP_TIMESTAMP: timestamp, DEST: string, ORIGIN: string, OP_UNIQUE_CARRIER: string, ORIGIN_CITY_NAME: string, DEST_CITY_NAME: string, DISTANCE: float, AIR_TIME: float, ORIGIN_ELEVATION: float, ORIGIN_HourlyDewPointTemperature: float, ORIGIN_HourlyDryBulbTemperature: float, ORIGIN_HourlyPrecipitation: float, ORIGIN_HourlyRelativeHumidity: float, ORIGIN_HourlySeaLevelPressure: float, ORIGIN_HourlyStationPressure: float, ORIGIN_HourlyVisibility: float, ORIGIN_HourlyWetBulbTemperature: float, ORIGIN_HourlyWindDirection: float, ORIGIN_HourlyWindSpeed: float, DEST_ELEVATION: float, DEST_HourlyDewPointTemperature: float, DEST_HourlyDryBulbTemperature: float, DEST_HourlyPrecipitation: float, DEST_HourlyRelativeHumidity: float, DEST_HourlySeaLevelPressure: float, DEST_HourlyStationPressure: float, DEST_HourlyVisibility: float, DEST_HourlyWetBulbTemperature: float, DEST_HourlyWindDirection: float, DEST_HourlyWindSpeed: double, ORIGIN_Weather_Departure_Time_Diff_Min: float, DEST_Weather_Departure_Time_Diff_Min: float, Tail_Previous_Arrival_Diff_Mins: float, Tail_Previous_Arrival_Delay: float, DEPARTURE_DAY_OF_WEEK: float, DEPARTURE_HOUR: float, DEPARTURE_TIME_OF_DAY: string, ORIGIN_IN_DEGREE: float, ORIGIN_OUT_DEGREE: float, DEST_IN_DEGREE: float, DEST_OUT_DEGREE: float, ARR_DEL30: float, ARR_DELAY_NEW: float, holiday_indicator: float, YEAR: int, DEPARTURE_DAY_OF_WEEK_idx: double, DEPARTURE_TIME_OF_DAY_idx: double, holiday_indicator_idx: double, DEPARTURE_DAY_OF_WEEK_class: vector, DEPARTURE_TIME_OF_DAY_class: vector, holiday_indicator_class: vector, features: vector, label: double, rawPrediction: vector, probability: vector, prediction_random: double, ORIGIN_LATEST_WEATHER_TIMESTAMP_UTC: timestamp, DEP_TIMESTAMP: timestamp, DEST: string, ORIGIN: string, OP_UNIQUE_CARRIER: string, ORIGIN_CITY_NAME: string, DEST_CITY_NAME: string, DISTANCE: float, AIR_TIME: float, ORIGIN_ELEVATION: float, ORIGIN_HourlyDewPointTemperature: float, ORIGIN_HourlyDryBulbTemperature: float, ORIGIN_HourlyPrecipitation: float, ORIGIN_HourlyRelativeHumidity: float, ORIGIN_HourlySeaLevelPressure: float, ORIGIN_HourlyStationPressure: float, ORIGIN_HourlyVisibility: float, ORIGIN_HourlyWetBulbTemperature: float, ORIGIN_HourlyWindDirection: float, ORIGIN_HourlyWindSpeed: float, DEST_ELEVATION: float, DEST_HourlyDewPointTemperature: float, DEST_HourlyDryBulbTemperature: float, DEST_HourlyPrecipitation: float, DEST_HourlyRelativeHumidity: float, DEST_HourlySeaLevelPressure: float, DEST_HourlyStationPressure: float, DEST_HourlyVisibility: float, DEST_HourlyWetBulbTemperature: float, DEST_HourlyWindDirection: float, DEST_HourlyWindSpeed: double, ORIGIN_Weather_Departure_Time_Diff_Min: float, DEST_Weather_Departure_Time_Diff_Min: float, Tail_Previous_Arrival_Diff_Mins: float, Tail_Previous_Arrival_Delay: float, DEPARTURE_DAY_OF_WEEK: float, DEPARTURE_HOUR: float, DEPARTURE_TIME_OF_DAY: string, ORIGIN_IN_DEGREE: float, ORIGIN_OUT_DEGREE: float, DEST_IN_DEGREE: float, DEST_OUT_DEGREE: float, ARR_DEL30: float, ARR_DELAY_NEW: float, holiday_indicator: float, YEAR: int, DEPARTURE_DAY_OF_WEEK_idx: double, DEPARTURE_TIME_OF_DAY_idx: double, holiday_indicator_idx: double, DEPARTURE_DAY_OF_WEEK_class: vector, DEPARTURE_TIME_OF_DAY_class: vector, holiday_indicator_class: vector, features: vector, rawPrediction: vector, probability: vector, prediction_decision: double, ORIGIN_LATEST_WEATHER_TIMESTAMP_UTC: timestamp, DEP_TIMESTAMP: timestamp, DEST: string, ORIGIN: string, OP_UNIQUE_CARRIER: string, ORIGIN_CITY_NAME: string, DEST_CITY_NAME: string, DISTANCE: float, AIR_TIME: float, ORIGIN_ELEVATION: float, ORIGIN_HourlyDewPointTemperature: float, ORIGIN_HourlyDryBulbTemperature: float, ORIGIN_HourlyPrecipitation: float, ORIGIN_HourlyRelativeHumidity: float, ORIGIN_HourlySeaLevelPressure: float, ORIGIN_HourlyStationPressure: float, ORIGIN_HourlyVisibility: float, ORIGIN_HourlyWetBulbTemperature: float, ORIGIN_HourlyWindDirection: float, ORIGIN_HourlyWindSpeed: float, DEST_ELEVATION: float, DEST_HourlyDewPointTemperature: float, DEST_HourlyDryBulbTemperature: float, DEST_HourlyPrecipitation: float, DEST_HourlyRelativeHumidity: float, DEST_HourlySeaLevelPressure: float, DEST_HourlyStationPressure: float, DEST_HourlyVisibility: float, DEST_HourlyWetBulbTemperature: float, DEST_HourlyWindDirection: float, DEST_HourlyWindSpeed: double, ORIGIN_Weather_Departure_Time_Diff_Min: float, DEST_Weather_Departure_Time_Diff_Min: float, Tail_Previous_Arrival_Diff_Mins: float, Tail_Previous_Arrival_Delay: float, DEPARTURE_DAY_OF_WEEK: float, DEPARTURE_HOUR: float, DEPARTURE_TIME_OF_DAY: string, ORIGIN_IN_DEGREE: float, ORIGIN_OUT_DEGREE: float, DEST_IN_DEGREE: float, DEST_OUT_DEGREE: float, ARR_DEL30: float, ARR_DELAY_NEW: float, holiday_indicator: float, YEAR: int, features: vector, scaledFeatures: vector, rawPrediction: vector, probability: vector, prediction_neural: double, rowmax: double]"
            ]
          }
        }
      ],
      "execution_count": null
    },
    {
      "cell_type": "markdown",
      "source": [
        "### Testing on 2018 - 2020\n",
        "\n",
        "Despite meeting our overall goals, our model did not have as high predictive power and thus we went back and tried testing on the years 2018 - 2020 as opposed to 2021 in order to see how the performance compared. We used our best performing Random Forest model for these experiments as opposed to the ensemble in order to optimize for efficiency and obtain quick insights. We found that our model performed much better when tested on years 2018 - 2020 with a test AUC of ~0.74, recall of 0.8 and precision of 0.7. From our EDA, we know that there is not a large difference in the distribution or volume of delayed flights in 2021. Thus, this suggests that 2021 introduced a new volatility regime; the features that were able to predict flight delays in 2015 - 2020 are no longer as strong in predicting delays in 2021.\n",
        "\n",
        "**Experiment Table**\n",
        "\n",
        "| Model | Experiment |Feature Families | Train / Test Split | Train AUC | Test AUC | Train Recall | Test Recall | Train Precision | Test Precision | Training Time | Hyperparameters\n",
        "| ----------- | ----------- | ----------- | ----------- | ----------- | ----------- |----------- | ----------- |----------- | ----------- | ----------- | ----------- |\n",
        "| Random Forest | Experiment #5.1 | Raw Flight Numerical + Raw Weather Numerical + Engineered Numerical with undersampling | Train: 2015 - 2019, Test: 2020| 0.74 | 0.67| 0.79 | 0.78 | 0.72 | 0.80 | ~14 min | Max Depth = 10, Num Trees = 15\n",
        "| Random Forest | Experiment #5.2 | Raw Flight Numerical + Raw Weather Numerical + Engineered Numerical with undersampling | Train: 2015 - 2018, Test: 2019| 0.74 | 0.74 | 0.80 | 0.80 | 0.72 | 0.70 | ~13 min | Max Depth = 10, Num Trees = 15\n",
        "| Random Forest | Experiment #5.3 | Raw Flight Numerical + Raw Weather Numerical + Engineered Numerical with undersampling | Train: 2015 - 2017, Test: 2018| 0.74 | 0.74| 0.68 | 0.67 | 0.77 | 0.78 | ~3 min | Max Depth = 10, Num Trees = 15"
      ],
      "metadata": {
        "application/vnd.databricks.v1+cell": {
          "showTitle": false,
          "cellMetadata": {},
          "nuid": "26a9e537-b3e7-4452-8b45-5760e4771e0d",
          "inputWidgets": {},
          "title": ""
        },
        "id": "1B1p_TRcP22W"
      }
    },
    {
      "cell_type": "markdown",
      "source": [
        "#Results & Findings\n",
        "\n",
        "### Discussion of Results & Gap Analysis\n",
        "We were able to meet our objective of building a relatively predictive model (AUC > 0.60) that balances both recall and precision and thus the ability to identify the majority of delayed flights as delayed while also not overflagging delayed flights that are not truly delayed. Our final model was an ensemble of a random forest, decision tree and neural network, taking the maximum prediction across these 3 models. When testing on flights in 2021, this final model had a test AUC of 0.64 suggesting that there is a 64% chance our model can distinguish between delayed and not delayed flights. When making this distinction, our model is able to identify ~59% of flights that are delayed as delayed. When it flags a flight as delayed, there is a 62% chance the flight is actually delayed.\n",
        "\n",
        "Amongst the features explored for our models, we found that a plane's previous flight arrival delay is important in predicting whether or not it is delayed on its next leg. This was supported by linear correlation with arrival delay that was 20% higher than any of the other features explored. In addition, when adding this variable and the other engineered numerical variables to our random forest models, we saw a boost in recall from 0.003 to 0.02 from experiments 2.1 to 2.2. Similarly, when adding this variable and the other engineered numerical variables to our decision tree we saw a boost in performance across AUC, recall and precision from experiments 3.1 to 3.2.\n",
        "\n",
        "When looking at other team's models who also evaluated performance leveraging AUC, recall or precision, we see that another team, Accufly, received very similar performance metrics (AUC = 0.61, Recall = 0.58, Precision = 0.58). This group also created an ensemble of 3 models but ensembled with a logistic regression, xgboost and random forest as opposed to random forest, decision tree and neural network. The team had a similar amount of train and test samples, suggesting they had a similar join approach and included a similar number of features. Another team, section 5 group 1, was able to achieve a much higher AUC and recall (AUC = 0.9, recall = 0.94) by ensembling a gradient boosted tree, decision tree, logistic regression, and random forest. This team leveraged similar hyperparamaters but included a much wider set of features (~60 features as opposed to ~25 in our models). Their most predictive features appeared to be engineered features related to the airport and airline carrier's typical delay behavior. Based on observing these team's performances, it seems that ensembling more models (i.e. 4 as opposed to 3) as well as potentially engineering additional features related to the typical delay behavior of the airport or airline may help boost performance moving forwards.\n",
        "\n",
        "In addition to observing other team's models, we also tested our model on years prior to 2021 to understand whether there was a performance difference. We found that our model performed much better on years prior to 2021 (AUC = 0.74, recall = 0.8, precision = 0.7). This suggests that 2021 introduced a volatility regime that impacts our model's ability to predict delayed flights. 2021 was the first full year after the start of the pandemic and thus a year of extreme uncertainty and unpredictability. There are likely other features that impacted flight delays during this time that were not explored as part of this project. For example, we know that airline staffing shortages were a large problem at this time given many flight attendants or pilots needed to take time off due to illness or taking care of family members. In order to predict flight delays in 2021, we would likely need additional features such as flight staffing information.\n",
        "\n",
        "### Conclusion\n",
        "In this project, we aimed to predict 2 hours prior to a flight's scheduled departure time, whether or not it will arrive at it's destination >30 minutes late. This is important for passengers as a flight being more than 30 minutes delayed will impact their schedule and potential connecting flights. We hypothesize that features related to the origin and destination airports (such as how busy the airports tend to be), features related to the flight (such as how far the flight is supposed to travel), and features related to the weather at both the origin and destination airports (such as wind speed) will be able to accurately predict flight delays greater than 30 minutes. Our most predictive features were those we engineered related to whether the plane was previously delayed and how long ago it landed. Our best model was an ensemble of a random forest (max depth = 10, num trees =15), decision tree (max depth = 5), and neural network (MLP - Relu - 2 Softmax, hidden layers: [10,10]) that took the maximum prediction across the outputs from each. This final model had an AUC score of 0.64, recall of 0.59 and precision of 0.6. This model did not have as high performance as other teams that ensembled more than 3 models together and engineered features related to typical airport and airline delay behavior. This model also performed worse when tested on 2021 compared to prior years. Moving forward, it will be worthwhile to experiment with ensembling more models together and obtain additional features related to typical airline and airport delay behavior as well as flight staffing shortages in order to maximize predictive power and ensure steady performance in the post Covid world."
      ],
      "metadata": {
        "application/vnd.databricks.v1+cell": {
          "showTitle": false,
          "cellMetadata": {},
          "nuid": "0e59230b-6653-4dc8-9b18-dcdccae21e04",
          "inputWidgets": {},
          "title": ""
        },
        "id": "w3mSjtQiP22W"
      }
    },
    {
      "cell_type": "code",
      "source": [
        "# Main function to run entire code\n",
        "def main():\n",
        "\n",
        "    join()\n",
        "    final_preprocessing()\n",
        "    ensemble()"
      ],
      "metadata": {
        "application/vnd.databricks.v1+cell": {
          "showTitle": false,
          "cellMetadata": {},
          "nuid": "61c355ba-5e99-416e-971e-f7d18bf49cab",
          "inputWidgets": {},
          "title": ""
        },
        "id": "BVEs5AfTP22W",
        "outputId": "510878a6-968a-46f1-ad3b-d42cb082853a"
      },
      "outputs": [
        {
          "output_type": "display_data",
          "metadata": {
            "application/vnd.databricks.v1+output": {
              "data": "",
              "errorSummary": "Cancelled",
              "metadata": {},
              "errorTraceType": "html",
              "type": "ipynbError",
              "arguments": {}
            }
          },
          "data": {
            "text/html": [
              "<style scoped>\n  .ansiout {\n    display: block;\n    unicode-bidi: embed;\n    white-space: pre-wrap;\n    word-wrap: break-word;\n    word-break: break-all;\n    font-family: \"Source Code Pro\", \"Menlo\", monospace;;\n    font-size: 13px;\n    color: #555;\n    margin-left: 4px;\n    line-height: 19px;\n  }\n</style>"
            ]
          }
        }
      ],
      "execution_count": null
    }
  ],
  "metadata": {
    "application/vnd.databricks.v1+notebook": {
      "notebookName": "Final_Submission_E2E_Pipeline",
      "dashboards": [],
      "notebookMetadata": {
        "pythonIndentUnit": 4
      },
      "language": "python",
      "widgets": {},
      "notebookOrigID": 632558266976773
    },
    "colab": {
      "provenance": []
    }
  },
  "nbformat": 4,
  "nbformat_minor": 0
}